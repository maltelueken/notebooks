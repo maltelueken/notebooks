{
 "cells": [
  {
   "cell_type": "markdown",
   "id": "e70f722d",
   "metadata": {},
   "source": [
    "# Scrape Stories from Zusammen Gegen Corona\n",
    "\n",
    "Scrape German Corona stories from Zusammen Gegen Corona (together against Corona) by the German Ministry of Health: https://www.zusammengegencorona.de/informieren/ichhattecorona/.\n",
    "\n",
    "The stories contain highlighted quotes which are stored separately from the main text.\n",
    "\n",
    "The stories are stored in dictionaries with the following fields:\n",
    "\n",
    "- `link`: The link of the story page (string)\n",
    "- `title`: The title of the story page (string; is the same for all stories)\n",
    "- `author`: The author of the story (string)\n",
    "- `headline`: The title of the story (string; same as author)\n",
    "- `intro_text`: The introductory text giving some background info on story (string)\n",
    "- `quote_text`: A list with the highlighted quotes from the story (strings)\n",
    "- `story_text`: A list with main text in between the quotes (strings)"
   ]
  },
  {
   "cell_type": "code",
   "execution_count": 1,
   "id": "649de37b",
   "metadata": {},
   "outputs": [],
   "source": [
    "from urllib.request import Request, urlopen\n",
    "from bs4 import BeautifulSoup\n",
    "from string import capwords"
   ]
  },
  {
   "cell_type": "code",
   "execution_count": 2,
   "id": "a5a90676",
   "metadata": {},
   "outputs": [],
   "source": [
    "# Set URL of the main page containing the links to the story pages\n",
    "\n",
    "URL = \"https://www.zusammengegencorona.de/informieren/ichhattecorona\"\n",
    "\n",
    "# PAGES = [\"\", \"page=2\", \"page=3\"] # This variable serves to loop over the subsequent pages of the main page\n",
    "\n",
    "main_page = BeautifulSoup(urlopen(Request(\"https://www.zusammengegencorona.de/informieren/ichhattecorona/?page=3\", headers = {\"User-Agent\": \"Mozilla/5.0\"})).read(), \"html.parser\")"
   ]
  },
  {
   "cell_type": "code",
   "execution_count": 3,
   "id": "57ead002",
   "metadata": {},
   "outputs": [],
   "source": [
    "# Function to extract links to the story pages from main page\n",
    "\n",
    "def extract_hrefs_from_url(URL, PAGES):\n",
    "    hrefs = []\n",
    "    \n",
    "    for PAGE in PAGES:\n",
    "        main_page = BeautifulSoup(urlopen(Request(URL + \"/?\" + PAGE, headers = {\"User-Agent\": \"Mozilla/5.0\"})).read(), \"html.parser\")\n",
    "\n",
    "        for instance in main_page.find_all(\"a\", attrs = {\"class\": \"o-button link o-button--tertiary o-button--reverse\"}):\n",
    "            new_link = instance.get(\"href\")\n",
    "            hrefs.append(\"https://www.zusammengegencorona.de\" + new_link)\n",
    "            print(\"Extracted link: {}\".format(hrefs[-1]))\n",
    "    \n",
    "    print(\"Done\")\n",
    "    \n",
    "    return hrefs"
   ]
  },
  {
   "cell_type": "code",
   "execution_count": 4,
   "id": "c5a4356e",
   "metadata": {},
   "outputs": [],
   "source": [
    "# Function to extract text from story pages\n",
    "\n",
    "def extract_text_from_url(URL):\n",
    "    new_req = Request(URL, headers = {\"User-Agent\": \"Mozilla/5.0\"})\n",
    "    new_page = BeautifulSoup(urlopen(new_req).read(), \"html.parser\")\n",
    "    new_title = new_page.find(\"a\", attrs = {\"class\": \"o-breadcrumbs__link\", \"href\": \"/informieren/ichhattecorona/\"})\n",
    "    new_headline = new_page.find(\"h1\", attrs = {\"class\": \"o-headline o-headline--1 o-intro__headline\"})\n",
    "    new_intro_text = new_page.find(\"div\", attrs = {\"class\": \"o-copy o-intro__copy o-copy--intro o-copy--html\"})\n",
    "    new_quote_text = [text.string for text in new_page.find_all(\"h2\", attrs = {\"class\": \"o-headline o-headline--2\"})]\n",
    "    new_inline_text = new_page.find_all(\"p\", attrs = {\"class\": \"o-copy o-copy--article\"})\n",
    "    new_stripped_text = [text.string for text in new_inline_text]\n",
    "    new_story_text = [text.replace(\"\\xa0\", \"\") for text in new_stripped_text if text is not None]\n",
    "    new_doc = {\n",
    "        \"link\": URL,\n",
    "        \"title\": new_title.string if new_title is not None else \"\",\n",
    "        \"author\": new_headline.string if new_headline is not None else \"\",\n",
    "        \"headline\": new_headline.string if new_headline is not None else \"\",\n",
    "        \"intro_text\": new_intro_text.string if new_intro_text is not None else \"\",\n",
    "        \"quote_text\": new_quote_text,\n",
    "        \"story_text\": new_story_text\n",
    "    }\n",
    "    print(\"Extracted text from: {}\".format(URL))\n",
    "    \n",
    "    return new_doc"
   ]
  },
  {
   "cell_type": "code",
   "execution_count": 5,
   "id": "75f90ff1",
   "metadata": {},
   "outputs": [],
   "source": [
    "# Wrapper to for list of story pages\n",
    "\n",
    "def extract_texts_from_url_list(URL_list):\n",
    "    docs = []\n",
    "    for URL in URL_list:\n",
    "        docs.append(extract_text_from_url(URL))\n",
    "    \n",
    "    print(\"Done\")\n",
    "    \n",
    "    return docs"
   ]
  },
  {
   "cell_type": "code",
   "execution_count": 6,
   "id": "256d168b",
   "metadata": {},
   "outputs": [],
   "source": [
    "# Function to print doc\n",
    "\n",
    "def print_doc(doc):\n",
    "    for field in doc.keys():\n",
    "        if isinstance(doc[field], list):\n",
    "            print(field + \": \" + doc[field][0] + \"\\n\")\n",
    "        else:\n",
    "            print(field + \": \" + doc[field] + \"\\n\")\n",
    "        \n",
    "    return"
   ]
  },
  {
   "cell_type": "code",
   "execution_count": 7,
   "id": "653b9472",
   "metadata": {},
   "outputs": [
    {
     "name": "stdout",
     "output_type": "stream",
     "text": [
      "Extracted link: https://www.zusammengegencorona.de/informieren/ichhattecorona/siegfried-94-aus-lueneburg/\n",
      "Extracted link: https://www.zusammengegencorona.de/informieren/ichhattecorona/daniela-52-aus-stuttgart/\n",
      "Extracted link: https://www.zusammengegencorona.de/informieren/ichhattecorona/lasse-36-aus-braunschweig/\n",
      "Extracted link: https://www.zusammengegencorona.de/informieren/ichhattecorona/daniela-39-aus-dem-muensterland/\n",
      "Extracted link: https://www.zusammengegencorona.de/informieren/ichhattecorona/hans-juergen-61-aus-koeln/\n",
      "Extracted link: https://www.zusammengegencorona.de/informieren/ichhattecorona/sigmar-und-gabriele-beide-79-berlin/\n",
      "Extracted link: https://www.zusammengegencorona.de/informieren/ichhattecorona/eren-18-aus-meerbusch/\n",
      "Extracted link: https://www.zusammengegencorona.de/informieren/ichhattecorona/revan-29-aus-duesseldorf/\n",
      "Extracted link: https://www.zusammengegencorona.de/informieren/ichhattecorona/carsten-53-aus-buckenhof-in-bayern/\n",
      "Done\n"
     ]
    }
   ],
   "source": [
    "# Extract links from main page\n",
    "\n",
    "hrefs = extract_hrefs_from_url(URL, [\"\"])"
   ]
  },
  {
   "cell_type": "code",
   "execution_count": 8,
   "id": "2984ae6a",
   "metadata": {},
   "outputs": [
    {
     "name": "stdout",
     "output_type": "stream",
     "text": [
      "Extracted text from: https://www.zusammengegencorona.de/informieren/ichhattecorona/siegfried-94-aus-lueneburg/\n",
      "Extracted text from: https://www.zusammengegencorona.de/informieren/ichhattecorona/daniela-52-aus-stuttgart/\n",
      "Extracted text from: https://www.zusammengegencorona.de/informieren/ichhattecorona/lasse-36-aus-braunschweig/\n",
      "Extracted text from: https://www.zusammengegencorona.de/informieren/ichhattecorona/daniela-39-aus-dem-muensterland/\n",
      "Extracted text from: https://www.zusammengegencorona.de/informieren/ichhattecorona/hans-juergen-61-aus-koeln/\n",
      "Extracted text from: https://www.zusammengegencorona.de/informieren/ichhattecorona/sigmar-und-gabriele-beide-79-berlin/\n",
      "Extracted text from: https://www.zusammengegencorona.de/informieren/ichhattecorona/eren-18-aus-meerbusch/\n",
      "Extracted text from: https://www.zusammengegencorona.de/informieren/ichhattecorona/revan-29-aus-duesseldorf/\n",
      "Extracted text from: https://www.zusammengegencorona.de/informieren/ichhattecorona/carsten-53-aus-buckenhof-in-bayern/\n",
      "Done\n"
     ]
    }
   ],
   "source": [
    "# Extract texts from links\n",
    "\n",
    "docs = extract_texts_from_url_list(hrefs)"
   ]
  },
  {
   "cell_type": "code",
   "execution_count": 9,
   "id": "159f65c9",
   "metadata": {},
   "outputs": [
    {
     "name": "stdout",
     "output_type": "stream",
     "text": [
      "link: https://www.zusammengegencorona.de/informieren/ichhattecorona/siegfried-94-aus-lueneburg/\n",
      "\n",
      "title: Ich hatte Corona\n",
      "\n",
      "author: Siegfried, 94, aus Lüneburg\n",
      "\n",
      "headline: Siegfried, 94, aus Lüneburg\n",
      "\n",
      "intro_text: Im November bricht in seinem Altenheim das Coronavirus aus. Das Haus wird abgeriegelt, die Bewohner müssen in ihren Zimmern bleiben. Den Rentner erwischt es trotzdem.\n",
      "\n",
      "quote_text: „Ich nehme es hin, wie es ist“\n",
      "\n",
      "story_text: Wie es mir heute geht? Dreiviertel gut würde ich sagen. Bloß: Dass ich nicht mehr ganz fit bin, Wehwehchen, auch einmal Atemnot habe, ist wohl ganz normal mit 94 Jahren. Unmöglich zu sagen, ob das nun an meiner Corona-Infektion liegt oder nicht. Ich nehme es hin, wie es ist. Diese Haltung hat mich immer gut durchs Leben getragen – und durchs vergangene Jahr.\n",
      "\n"
     ]
    }
   ],
   "source": [
    "# Show example doc\n",
    "\n",
    "print_doc(docs[0])"
   ]
  },
  {
   "cell_type": "markdown",
   "id": "db4c674d",
   "metadata": {},
   "source": [
    "## Missing\n",
    "\n",
    "Cannot access new links from page 2 and 3 yet because the html code for these pages seems to contain the same links as in page 1."
   ]
  }
 ],
 "metadata": {
  "kernelspec": {
   "display_name": "navigating-stories",
   "language": "python",
   "name": "navigating-stories"
  },
  "language_info": {
   "codemirror_mode": {
    "name": "ipython",
    "version": 3
   },
   "file_extension": ".py",
   "mimetype": "text/x-python",
   "name": "python",
   "nbconvert_exporter": "python",
   "pygments_lexer": "ipython3",
   "version": "3.9.7"
  }
 },
 "nbformat": 4,
 "nbformat_minor": 5
}

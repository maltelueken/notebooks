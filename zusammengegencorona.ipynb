{
 "cells": [
  {
   "cell_type": "markdown",
   "id": "e70f722d",
   "metadata": {},
   "source": [
    "# Scrape Stories from Zusammen Gegen Corona\n",
    "\n",
    "Scrape German Corona stories from Zusammen Gegen Corona (together against Corona) by the German Ministry of Health: https://www.zusammengegencorona.de/informieren/ichhattecorona/.\n",
    "\n",
    "The stories contain highlighted quotes which are stored separately from the main text.\n",
    "\n",
    "The stories are stored in dictionaries with the following fields:\n",
    "\n",
    "- `link`: The link of the story page (string)\n",
    "- `title`: The title of the story page (string; is the same for all stories)\n",
    "- `author`: The author of the story (string)\n",
    "- `headline`: The title of the story (string; same as author)\n",
    "- `intro_text`: The introductory text giving some background info on story (string)\n",
    "- `quote_text`: A list with the highlighted quotes from the story (strings)\n",
    "- `story_text`: A list with main text in between the quotes (strings)\n",
    "\n",
    "The web pages containing the stories are stored as `.html`. The notebook requires a folder at `DATA_DIR`."
   ]
  },
  {
   "cell_type": "code",
   "execution_count": 1,
   "id": "649de37b",
   "metadata": {},
   "outputs": [],
   "source": [
    "from urllib.request import Request, urlopen\n",
    "from bs4 import BeautifulSoup\n",
    "from string import capwords\n",
    "import os"
   ]
  },
  {
   "cell_type": "code",
   "execution_count": 2,
   "id": "a5a90676",
   "metadata": {},
   "outputs": [],
   "source": [
    "# Set URL of the main page containing the links to the story pages\n",
    "\n",
    "URL = \"https://www.zusammengegencorona.de/informieren/ichhattecorona\"\n",
    "\n",
    "# Pages 2 and 3 cannot easily be reached by web scraper, so their story links are hand coded\n",
    "\n",
    "HREFS_PAGE_2 = [\"vanessa-41-aus-wetter\", \"nora-23-aus-brand-erbisdorf\", \"thomas-53-aus-hamburg\", \n",
    "                \"markus-49-aus-bad-harzburg\", \"joachim-56-aus-homburg\", \"anton-11-aus-crawinkel\", \n",
    "                \"laura-38-aus-hamburg\", \"eine-familie-aus-baden-wuerttemberg\", \"iris-54-aus-lueneburg\"]\n",
    "HREFS_PAGE_3 = [\"monika-54-aus-oberbayern\", \"peter-und-martina-63-und-62-jahre-alt-aus-brieselang\", \"peggy-46-aus-appenweier\", \n",
    "                \"bianca-34-aus-berlin\", \"mateo-24-aus-durmersheim\", \"julia-26-aus-amberg\", \"dieter-61-aus-braunschweig\"]\n",
    "\n",
    "# Set directory for storing web pages\n",
    "\n",
    "DATA_DIR = \"../zusammengegencorona.de/scraped/\""
   ]
  },
  {
   "cell_type": "code",
   "execution_count": 3,
   "id": "3eb105cf-0abe-41f4-a99c-f8840306990a",
   "metadata": {},
   "outputs": [],
   "source": [
    "# Function to check if directory for saving web page exists\n",
    "\n",
    "def check_dir(DATA_DIR):\n",
    "    if not os.path.isdir(DATA_DIR):\n",
    "        os.makedirs(DATA_DIR)\n",
    "        print(f\"Created saving directory at {DATA_DIR}\")"
   ]
  },
  {
   "cell_type": "code",
   "execution_count": 4,
   "id": "7c34444c-b34d-4fec-86cd-ad8a42a67a07",
   "metadata": {},
   "outputs": [],
   "source": [
    "# Function to check if web page can be loaded from disk; otherwise fetch website and save as .html to disk\n",
    "\n",
    "def load_web_page(URL, file_name, DATA_DIR):\n",
    "    check_dir(DATA_DIR)\n",
    "    if os.path.exists(file_name):\n",
    "        page = open(file_name, \"r\", encoding=\"utf-8\").read()\n",
    "        print(f\"Loaded web page from {file_name}\")\n",
    "    else:\n",
    "        req = Request(URL, headers = {\"User-Agent\": \"Mozilla/5.0\"})\n",
    "        page = urlopen(req).read()\n",
    "        with open(file_name, \"w\", encoding=\"utf-8\") as file:\n",
    "            file.write(page.decode())\n",
    "        print(f\"Saved web page to {file_name}\")\n",
    "    return page"
   ]
  },
  {
   "cell_type": "code",
   "execution_count": 5,
   "id": "57ead002",
   "metadata": {},
   "outputs": [],
   "source": [
    "# Function to extract links to the story pages from main page\n",
    "\n",
    "def extract_hrefs_from_url(URL):\n",
    "    hrefs = []\n",
    "    \n",
    "    main_page = BeautifulSoup(urlopen(Request(URL + \"/?\", headers = {\"User-Agent\": \"Mozilla/5.0\"})).read(), \"html.parser\")\n",
    "\n",
    "    for instance in main_page.find_all(\"a\", attrs = {\"class\": \"o-button link o-button--tertiary o-button--reverse\"}):\n",
    "        new_link = instance.get(\"href\")\n",
    "        hrefs.append(\"https://www.zusammengegencorona.de\" + new_link)\n",
    "        print(\"Extracted link: {}\".format(hrefs[-1]))\n",
    "    \n",
    "    print(\"Done\")\n",
    "    \n",
    "    return hrefs"
   ]
  },
  {
   "cell_type": "code",
   "execution_count": 6,
   "id": "53436880-8abb-4fe0-a8cf-3ac64a47613e",
   "metadata": {},
   "outputs": [],
   "source": [
    "# Function to add hand coded links\n",
    "\n",
    "def add_extra_links(hrefs, page_list, URL):\n",
    "    for page in page_list:\n",
    "        for link in page:\n",
    "            hrefs.append(URL + \"/\" + link + \"/\")\n",
    "            print(\"Added extra link: {}\".format(hrefs[-1])) \n",
    "    \n",
    "    print(\"Done\")\n",
    "    \n",
    "    return hrefs\n",
    "            "
   ]
  },
  {
   "cell_type": "code",
   "execution_count": 7,
   "id": "c5a4356e",
   "metadata": {},
   "outputs": [],
   "source": [
    "# Function to extract text from story pages\n",
    "\n",
    "def extract_text_from_url(URL):\n",
    "    new_file_name = DATA_DIR + URL.split(\"/\")[-2] + \".html\"\n",
    "    new_page = BeautifulSoup(load_web_page(URL, new_file_name, DATA_DIR), \"html.parser\")\n",
    "    new_title = new_page.find(\"a\", attrs = {\"class\": \"o-breadcrumbs__link\", \"href\": \"/informieren/ichhattecorona/\"})\n",
    "    new_headline = new_page.find(\"h1\", attrs = {\"class\": \"o-headline o-headline--1 o-intro__headline\"})\n",
    "    new_intro_text = new_page.find(\"div\", attrs = {\"class\": \"o-copy o-intro__copy o-copy--intro o-copy--html\"})\n",
    "    new_quote_text = [text.string for text in new_page.find_all(\"h2\", attrs = {\"class\": \"o-headline o-headline--2\"})]\n",
    "    new_inline_text = new_page.find_all(\"p\", attrs = {\"class\": \"o-copy o-copy--article\"})\n",
    "    new_stripped_text = [text.string for text in new_inline_text]\n",
    "    new_story_text = [text.replace(\"\\xa0\", \" \") for text in new_stripped_text if text is not None]\n",
    "    new_doc = {\n",
    "        \"link\": URL,\n",
    "        \"title\": new_title.string if new_title is not None else \"\",\n",
    "        \"author\": new_headline.string if new_headline is not None else \"\",\n",
    "        \"headline\": new_headline.string if new_headline is not None else \"\",\n",
    "        \"intro_text\": new_intro_text.string if new_intro_text is not None else \"\",\n",
    "        \"quote_text\": new_quote_text,\n",
    "        \"story_text\": new_story_text\n",
    "    }\n",
    "    print(\"Extracted text from: {}\".format(URL))\n",
    "    \n",
    "    return new_doc"
   ]
  },
  {
   "cell_type": "code",
   "execution_count": 8,
   "id": "75f90ff1",
   "metadata": {},
   "outputs": [],
   "source": [
    "# Wrapper to for list of story pages\n",
    "\n",
    "def extract_texts_from_url_list(URL_list):\n",
    "    docs = []\n",
    "    for URL in URL_list:\n",
    "        docs.append(extract_text_from_url(URL))\n",
    "    \n",
    "    print(\"Done\")\n",
    "    \n",
    "    return docs"
   ]
  },
  {
   "cell_type": "code",
   "execution_count": 9,
   "id": "256d168b",
   "metadata": {},
   "outputs": [],
   "source": [
    "# Function to print doc\n",
    "\n",
    "def print_doc(doc):\n",
    "    for field in doc.keys():\n",
    "        if isinstance(doc[field], list):\n",
    "            print(field + \": \" + \"\".join([s + \"\\n\" + \"\\t\" for s in doc[field]]) + \"\\n\")\n",
    "        else:\n",
    "            print(field + \": \" + doc[field] + \"\\n\")\n",
    "        \n",
    "    return"
   ]
  },
  {
   "cell_type": "code",
   "execution_count": 10,
   "id": "653b9472",
   "metadata": {},
   "outputs": [
    {
     "name": "stdout",
     "output_type": "stream",
     "text": [
      "Extracted link: https://www.zusammengegencorona.de/informieren/ichhattecorona/siegfried-94-aus-lueneburg/\n",
      "Extracted link: https://www.zusammengegencorona.de/informieren/ichhattecorona/daniela-52-aus-stuttgart/\n",
      "Extracted link: https://www.zusammengegencorona.de/informieren/ichhattecorona/lasse-36-aus-braunschweig/\n",
      "Extracted link: https://www.zusammengegencorona.de/informieren/ichhattecorona/daniela-39-aus-dem-muensterland/\n",
      "Extracted link: https://www.zusammengegencorona.de/informieren/ichhattecorona/hans-juergen-61-aus-koeln/\n",
      "Extracted link: https://www.zusammengegencorona.de/informieren/ichhattecorona/sigmar-und-gabriele-beide-79-berlin/\n",
      "Extracted link: https://www.zusammengegencorona.de/informieren/ichhattecorona/eren-18-aus-meerbusch/\n",
      "Extracted link: https://www.zusammengegencorona.de/informieren/ichhattecorona/revan-29-aus-duesseldorf/\n",
      "Extracted link: https://www.zusammengegencorona.de/informieren/ichhattecorona/carsten-53-aus-buckenhof-in-bayern/\n",
      "Done\n",
      "Added extra link: https://www.zusammengegencorona.de/informieren/ichhattecorona/vanessa-41-aus-wetter/\n",
      "Added extra link: https://www.zusammengegencorona.de/informieren/ichhattecorona/nora-23-aus-brand-erbisdorf/\n",
      "Added extra link: https://www.zusammengegencorona.de/informieren/ichhattecorona/thomas-53-aus-hamburg/\n",
      "Added extra link: https://www.zusammengegencorona.de/informieren/ichhattecorona/markus-49-aus-bad-harzburg/\n",
      "Added extra link: https://www.zusammengegencorona.de/informieren/ichhattecorona/joachim-56-aus-homburg/\n",
      "Added extra link: https://www.zusammengegencorona.de/informieren/ichhattecorona/anton-11-aus-crawinkel/\n",
      "Added extra link: https://www.zusammengegencorona.de/informieren/ichhattecorona/laura-38-aus-hamburg/\n",
      "Added extra link: https://www.zusammengegencorona.de/informieren/ichhattecorona/eine-familie-aus-baden-wuerttemberg/\n",
      "Added extra link: https://www.zusammengegencorona.de/informieren/ichhattecorona/iris-54-aus-lueneburg/\n",
      "Added extra link: https://www.zusammengegencorona.de/informieren/ichhattecorona/monika-54-aus-oberbayern/\n",
      "Added extra link: https://www.zusammengegencorona.de/informieren/ichhattecorona/peter-und-martina-63-und-62-jahre-alt-aus-brieselang/\n",
      "Added extra link: https://www.zusammengegencorona.de/informieren/ichhattecorona/peggy-46-aus-appenweier/\n",
      "Added extra link: https://www.zusammengegencorona.de/informieren/ichhattecorona/bianca-34-aus-berlin/\n",
      "Added extra link: https://www.zusammengegencorona.de/informieren/ichhattecorona/mateo-24-aus-durmersheim/\n",
      "Added extra link: https://www.zusammengegencorona.de/informieren/ichhattecorona/julia-26-aus-amberg/\n",
      "Added extra link: https://www.zusammengegencorona.de/informieren/ichhattecorona/dieter-61-aus-braunschweig/\n",
      "Done\n"
     ]
    }
   ],
   "source": [
    "# Extract links from main page\n",
    "\n",
    "hrefs = add_extra_links(extract_hrefs_from_url(URL), [HREFS_PAGE_2, HREFS_PAGE_3], URL)"
   ]
  },
  {
   "cell_type": "code",
   "execution_count": 11,
   "id": "2984ae6a",
   "metadata": {},
   "outputs": [
    {
     "name": "stdout",
     "output_type": "stream",
     "text": [
      "Created saving directory at ../zusammengegencorona.de/scraped/\n",
      "Saved web page to ../zusammengegencorona.de/scraped/siegfried-94-aus-lueneburg.html\n",
      "Extracted text from: https://www.zusammengegencorona.de/informieren/ichhattecorona/siegfried-94-aus-lueneburg/\n",
      "Saved web page to ../zusammengegencorona.de/scraped/daniela-52-aus-stuttgart.html\n",
      "Extracted text from: https://www.zusammengegencorona.de/informieren/ichhattecorona/daniela-52-aus-stuttgart/\n",
      "Saved web page to ../zusammengegencorona.de/scraped/lasse-36-aus-braunschweig.html\n",
      "Extracted text from: https://www.zusammengegencorona.de/informieren/ichhattecorona/lasse-36-aus-braunschweig/\n",
      "Saved web page to ../zusammengegencorona.de/scraped/daniela-39-aus-dem-muensterland.html\n",
      "Extracted text from: https://www.zusammengegencorona.de/informieren/ichhattecorona/daniela-39-aus-dem-muensterland/\n",
      "Saved web page to ../zusammengegencorona.de/scraped/hans-juergen-61-aus-koeln.html\n",
      "Extracted text from: https://www.zusammengegencorona.de/informieren/ichhattecorona/hans-juergen-61-aus-koeln/\n",
      "Saved web page to ../zusammengegencorona.de/scraped/sigmar-und-gabriele-beide-79-berlin.html\n",
      "Extracted text from: https://www.zusammengegencorona.de/informieren/ichhattecorona/sigmar-und-gabriele-beide-79-berlin/\n",
      "Saved web page to ../zusammengegencorona.de/scraped/eren-18-aus-meerbusch.html\n",
      "Extracted text from: https://www.zusammengegencorona.de/informieren/ichhattecorona/eren-18-aus-meerbusch/\n",
      "Saved web page to ../zusammengegencorona.de/scraped/revan-29-aus-duesseldorf.html\n",
      "Extracted text from: https://www.zusammengegencorona.de/informieren/ichhattecorona/revan-29-aus-duesseldorf/\n",
      "Saved web page to ../zusammengegencorona.de/scraped/carsten-53-aus-buckenhof-in-bayern.html\n",
      "Extracted text from: https://www.zusammengegencorona.de/informieren/ichhattecorona/carsten-53-aus-buckenhof-in-bayern/\n",
      "Saved web page to ../zusammengegencorona.de/scraped/vanessa-41-aus-wetter.html\n",
      "Extracted text from: https://www.zusammengegencorona.de/informieren/ichhattecorona/vanessa-41-aus-wetter/\n",
      "Saved web page to ../zusammengegencorona.de/scraped/nora-23-aus-brand-erbisdorf.html\n",
      "Extracted text from: https://www.zusammengegencorona.de/informieren/ichhattecorona/nora-23-aus-brand-erbisdorf/\n",
      "Saved web page to ../zusammengegencorona.de/scraped/thomas-53-aus-hamburg.html\n",
      "Extracted text from: https://www.zusammengegencorona.de/informieren/ichhattecorona/thomas-53-aus-hamburg/\n",
      "Saved web page to ../zusammengegencorona.de/scraped/markus-49-aus-bad-harzburg.html\n",
      "Extracted text from: https://www.zusammengegencorona.de/informieren/ichhattecorona/markus-49-aus-bad-harzburg/\n",
      "Saved web page to ../zusammengegencorona.de/scraped/joachim-56-aus-homburg.html\n",
      "Extracted text from: https://www.zusammengegencorona.de/informieren/ichhattecorona/joachim-56-aus-homburg/\n",
      "Saved web page to ../zusammengegencorona.de/scraped/anton-11-aus-crawinkel.html\n",
      "Extracted text from: https://www.zusammengegencorona.de/informieren/ichhattecorona/anton-11-aus-crawinkel/\n",
      "Saved web page to ../zusammengegencorona.de/scraped/laura-38-aus-hamburg.html\n",
      "Extracted text from: https://www.zusammengegencorona.de/informieren/ichhattecorona/laura-38-aus-hamburg/\n",
      "Saved web page to ../zusammengegencorona.de/scraped/eine-familie-aus-baden-wuerttemberg.html\n",
      "Extracted text from: https://www.zusammengegencorona.de/informieren/ichhattecorona/eine-familie-aus-baden-wuerttemberg/\n",
      "Saved web page to ../zusammengegencorona.de/scraped/iris-54-aus-lueneburg.html\n",
      "Extracted text from: https://www.zusammengegencorona.de/informieren/ichhattecorona/iris-54-aus-lueneburg/\n",
      "Saved web page to ../zusammengegencorona.de/scraped/monika-54-aus-oberbayern.html\n",
      "Extracted text from: https://www.zusammengegencorona.de/informieren/ichhattecorona/monika-54-aus-oberbayern/\n",
      "Saved web page to ../zusammengegencorona.de/scraped/peter-und-martina-63-und-62-jahre-alt-aus-brieselang.html\n",
      "Extracted text from: https://www.zusammengegencorona.de/informieren/ichhattecorona/peter-und-martina-63-und-62-jahre-alt-aus-brieselang/\n",
      "Saved web page to ../zusammengegencorona.de/scraped/peggy-46-aus-appenweier.html\n",
      "Extracted text from: https://www.zusammengegencorona.de/informieren/ichhattecorona/peggy-46-aus-appenweier/\n",
      "Saved web page to ../zusammengegencorona.de/scraped/bianca-34-aus-berlin.html\n",
      "Extracted text from: https://www.zusammengegencorona.de/informieren/ichhattecorona/bianca-34-aus-berlin/\n",
      "Saved web page to ../zusammengegencorona.de/scraped/mateo-24-aus-durmersheim.html\n",
      "Extracted text from: https://www.zusammengegencorona.de/informieren/ichhattecorona/mateo-24-aus-durmersheim/\n",
      "Saved web page to ../zusammengegencorona.de/scraped/julia-26-aus-amberg.html\n",
      "Extracted text from: https://www.zusammengegencorona.de/informieren/ichhattecorona/julia-26-aus-amberg/\n",
      "Saved web page to ../zusammengegencorona.de/scraped/dieter-61-aus-braunschweig.html\n",
      "Extracted text from: https://www.zusammengegencorona.de/informieren/ichhattecorona/dieter-61-aus-braunschweig/\n",
      "Done\n"
     ]
    }
   ],
   "source": [
    "# Extract texts from links\n",
    "\n",
    "docs = extract_texts_from_url_list(hrefs)"
   ]
  },
  {
   "cell_type": "code",
   "execution_count": 12,
   "id": "159f65c9",
   "metadata": {},
   "outputs": [
    {
     "name": "stdout",
     "output_type": "stream",
     "text": [
      "link: https://www.zusammengegencorona.de/informieren/ichhattecorona/siegfried-94-aus-lueneburg/\n",
      "\n",
      "title: Ich hatte Corona\n",
      "\n",
      "author: Siegfried, 94, aus Lüneburg\n",
      "\n",
      "headline: Siegfried, 94, aus Lüneburg\n",
      "\n",
      "intro_text: Im November bricht in seinem Altenheim das Coronavirus aus. Das Haus wird abgeriegelt, die Bewohner müssen in ihren Zimmern bleiben. Den Rentner erwischt es trotzdem.\n",
      "\n",
      "quote_text: „Ich nehme es hin, wie es ist“\n",
      "\t„Wir haben hier alle schon eine Menge durchgestanden. Das hilft jetzt”\n",
      "\t„Der Wald ist 30 Schritte entfernt – und doch zurzeit unerreichbar“\n",
      "\t\n",
      "\n",
      "story_text: Wie es mir heute geht? Dreiviertel gut würde ich sagen. Bloß: Dass ich nicht mehr ganz fit bin, Wehwehchen, auch einmal Atemnot habe, ist wohl ganz normal mit 94 Jahren. Unmöglich zu sagen, ob das nun an meiner Corona-Infektion liegt oder nicht. Ich nehme es hin, wie es ist. Diese Haltung hat mich immer gut durchs Leben getragen – und durchs vergangene Jahr.\n",
      "\tCorona hat mich von Anfang an interessiert: Dass ein winziges Virus unsere Welt stilllegen kann, das hätte ich nicht für möglich gehalten. Ab Mai habe ich Buch geführt: Jeden Tag habe ich die Infektionszahlen in Niedersachsen, Deutschland, Frankreich, England und in den USA notiert, habe die Zahl der aktiven Fälle berechnet. Ich wollte den Überblick behalten – und ein bisschen Gehirnjogging war es auch.\n",
      "\tDie erste Welle ist zum Glück an unserem Heim vorbeigezogen. Im Spätherbst hat es uns dann doch erwischt. Dutzende Bewohner wurden krank, einige starben. Um die Sache in den Griff zu bekommen, wurde das Haus unter Quarantäne gestellt. Als es nicht besser wurde, beschloss die Leitung, dass wir eine Zeitlang unsere Zimmer nicht verlassen durften.\n",
      "\tSchön ist das nicht: Gymnastik, Gedächtnistraining, meine geschätzte Skatrunde, Spaziergänge – alles, was den Alltag hier aus- und lebenswert macht, ist plötzlich weg. Doch die meisten Bewohner schluckten es trocken runter. Irgendetwas musste die Heimleitung ja tun, man konnte die Sache doch nicht schlurren lassen.\n",
      "\tIch habe die Konsequenz hier im Heim geschätzt. Die Politik dagegen hat – für meine Begriffe – zuletzt viel zu viele unausgegorene Schritte gemacht.\n",
      "\tAngst, nein, die habe ich nie verspürt. Wissen Sie, mit unseren 80, 90 Jahren haben wir alle hier schon eine Menge erlebt, auch durchgestanden. Das hilft, die jetzige Situation anzunehmen. Ich habe nur noch einmal mit meinem Betreuer besprochen, dass ich im Fall der Fälle möglichst nicht mehr ins Krankenhaus und an Apparate angeschlossen werden möchte. Nein, das wollte ich nicht.\n",
      "\tDann trat der Fall der Fälle ein. Zum Glück bin ich glimpflich davongekommen. Ich habe keine große Erinnerung an die Krankheitstage. Ich weiß nur: Irgendwann zwischen Weihnachten und Neujahr bin ich aus meinem Dämmerdasein wieder aufgewacht. Eine Pflegerin war da. Sie sagte nur: Sie waren krank, sie haben Glück gehabt.\n",
      "\tAus unseren Zimmern dürfen wir längst wieder raus, auch wieder stundenweise Besucher empfangen. Mal wieder das Heim verlassen zu können, das wäre natürlich auch schön. Wir leben am Stadtrand. Der Wald mit den Teichen, an denen ich so gern den Enten zuschaue, liegt nur 30 Schritte entfernt – und ist zurzeit doch unerreichbar. Aber ich weiß: Auch das wird irgendwann wieder anders sein.\n",
      "\t\n",
      "\n"
     ]
    }
   ],
   "source": [
    "# Show example doc\n",
    "\n",
    "print_doc(docs[0])"
   ]
  }
 ],
 "metadata": {
  "kernelspec": {
   "display_name": "navigating-stories",
   "language": "python",
   "name": "navigating-stories"
  },
  "language_info": {
   "codemirror_mode": {
    "name": "ipython",
    "version": 3
   },
   "file_extension": ".py",
   "mimetype": "text/x-python",
   "name": "python",
   "nbconvert_exporter": "python",
   "pygments_lexer": "ipython3",
   "version": "3.9.7"
  }
 },
 "nbformat": 4,
 "nbformat_minor": 5
}

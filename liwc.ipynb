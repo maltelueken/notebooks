{
 "cells": [
  {
   "cell_type": "markdown",
   "metadata": {},
   "source": [
    "# LIWC\n",
    "\n",
    "Analyze letters with LIWC (Linguistic Inquiry and Word Count) (Pennebaker et al., 2007)."
   ]
  },
  {
   "cell_type": "code",
   "execution_count": 1,
   "metadata": {},
   "outputs": [],
   "source": [
    "import os\n",
    "import re\n",
    "import sys\n",
    "\n",
    "from IPython.display import clear_output"
   ]
  },
  {
   "cell_type": "code",
   "execution_count": 2,
   "metadata": {},
   "outputs": [],
   "source": [
    "def squeal(text=None):\n",
    "    clear_output(wait=True)\n",
    "    if not text is None: print(text)"
   ]
  },
  {
   "cell_type": "markdown",
   "metadata": {},
   "source": [
    "## 1. Read files"
   ]
  },
  {
   "cell_type": "code",
   "execution_count": 3,
   "metadata": {},
   "outputs": [],
   "source": [
    "FILE_DIR = \"../letters/\"\n",
    "\n",
    "def read_file(in_file_id):\n",
    "    try:\n",
    "        in_file = open(f\"{FILE_DIR}{in_file_id}.txt\", \"r\")\n",
    "    except:\n",
    "        sys.exit(f\"cannot open {FILE_DIR}{in_file_id}.txt\")\n",
    "    text = \"\"\n",
    "    for line in in_file:\n",
    "        text += line.strip() + \" \"\n",
    "    in_file.close()\n",
    "    return text.strip()"
   ]
  },
  {
   "cell_type": "code",
   "execution_count": 4,
   "metadata": {},
   "outputs": [],
   "source": [
    "def read_all_texts(file_dir):\n",
    "    file_names = sorted(os.listdir(file_dir))\n",
    "    texts = []\n",
    "    for file_name in file_names:\n",
    "        if re.search(r\"\\.txt$\", file_name):\n",
    "            letter_id = re.sub(r\"\\.txt$\", \"\", file_name)\n",
    "            squeal(letter_id)\n",
    "            text = read_file(letter_id)\n",
    "            texts.append(text)\n",
    "    return texts"
   ]
  },
  {
   "cell_type": "code",
   "execution_count": 5,
   "metadata": {},
   "outputs": [
    {
     "name": "stdout",
     "output_type": "stream",
     "text": [
      "21\n"
     ]
    }
   ],
   "source": [
    "texts = read_all_texts(FILE_DIR)"
   ]
  },
  {
   "cell_type": "markdown",
   "metadata": {},
   "source": [
    "## 2. LIWC"
   ]
  },
  {
   "cell_type": "code",
   "execution_count": 6,
   "metadata": {},
   "outputs": [],
   "source": [
    "import matplotlib.pyplot as plt\n",
    "sys.path.append(\"/home/erikt/projects/e-mental-health/data-processing/\")\n",
    "import tactus2liwc_nl as liwc"
   ]
  },
  {
   "cell_type": "code",
   "execution_count": 13,
   "metadata": {},
   "outputs": [],
   "source": [
    "LIWCDIR = \"/home/erikt/projects/e-mental-health/liwc/\"\n",
    "LIWCFILE = \"Dutch_LIWC2015_Dictionary.dic\"\n",
    "\n",
    "def apply_liwc_to_texts(texts):\n",
    "    liwc_feature_names, liwc_words, liwc_prefixes = liwc.readLiwcDict(LIWCDIR+LIWCFILE)\n",
    "    liwc_results = []\n",
    "    for text in texts:\n",
    "        text_tokens, _text_nbr_of_sents = liwc.tokenize(text)\n",
    "        text_results = liwc.text2liwc(liwc_words, liwc_prefixes, text_tokens)\n",
    "        liwc_results.append(text_results)\n",
    "    return liwc_results, liwc_feature_names"
   ]
  },
  {
   "cell_type": "code",
   "execution_count": 14,
   "metadata": {},
   "outputs": [],
   "source": [
    "def liwc_result_to_freqs(liwc_result, liwc_feature_names):\n",
    "    liwc_freqs = {}\n",
    "    for key in liwc_feature_names:\n",
    "        if key not in liwc_result:\n",
    "            liwc_freqs[key] = 0\n",
    "        else:\n",
    "            liwc_freqs[key] = liwc_result[key] / liwc_result['NBROFMATCHES']\n",
    "    return liwc_freqs"
   ]
  },
  {
   "cell_type": "code",
   "execution_count": 9,
   "metadata": {},
   "outputs": [],
   "source": [
    "def show_liwc_graph(liwc_freqs, text_id):\n",
    "    x = [ int(key) for key in sorted(liwc_freqs.keys(), key=lambda key:int(key)) ] \n",
    "    y = [ liwc_freqs[key] for key in sorted(liwc_freqs.keys(), key=lambda key:int(key)) ]\n",
    "    plt.figure(figsize=(6,2))\n",
    "    plt.bar(x, y)\n",
    "    plt.title(f\"text {text_id}\")\n",
    "    plt.show()"
   ]
  },
  {
   "cell_type": "code",
   "execution_count": 41,
   "metadata": {},
   "outputs": [],
   "source": [
    "def show_liwc_top(liwc_freqs, average_freqs, n=10):\n",
    "    x = [ int(key) for key in sorted(liwc_freqs.keys(), key=lambda key:liwc_freqs[key], reverse=True) ]\n",
    "    y = [ liwc_freqs[key] for key in sorted(liwc_freqs.keys(), key=lambda key:liwc_freqs[key], reverse=True) ]\n",
    "    z = [ average_freqs[key] for key in sorted(liwc_freqs.keys(), key=lambda key:liwc_freqs[key], reverse=True) ]\n",
    "    z = [ y[i] - z[i] for i in range(0, len(z)) ]\n",
    "    x = [ x[i] for i in sorted(range(0, len(z)), key=lambda k:z[k], reverse=True)]\n",
    "    y = [ y[i] for i in sorted(range(0, len(z)), key=lambda k:z[k], reverse=True)]\n",
    "    z = [ z[i] for i in sorted(range(0, len(z)), key=lambda k:z[k], reverse=True)]\n",
    "    \n",
    "    for i in range(0, n):\n",
    "        print(f\"{i+1:2}. {y[i]:0.2f} {z[i]:5.2f} {liwc_feature_names[str(x[i])]}\")\n",
    "    print(\"\")    "
   ]
  },
  {
   "cell_type": "code",
   "execution_count": 21,
   "metadata": {},
   "outputs": [],
   "source": [
    "def compute_average_freqs(liwc_result, liwc_feature_names):\n",
    "    freqs_lists = []\n",
    "    for liwc_result in liwc_results:\n",
    "        freqs_lists.append(liwc_result_to_freqs(liwc_result, liwc_feature_names))\n",
    "    average_freqs = {}\n",
    "    for liwc_feature_name in liwc_feature_names:\n",
    "        total_freq = 0\n",
    "        for freqs_list in freqs_lists:\n",
    "            if liwc_feature_name in freqs_list:\n",
    "                total_freq += freqs_list[liwc_feature_name]\n",
    "        average_freqs[liwc_feature_name] = total_freq / len(freqs_lists)\n",
    "    return average_freqs"
   ]
  },
  {
   "cell_type": "code",
   "execution_count": 35,
   "metadata": {},
   "outputs": [],
   "source": [
    "N = 10\n",
    "\n",
    "def show_results(liwc_results, liwc_feature_names, n=N):\n",
    "    text_id = 0\n",
    "    average_freqs = compute_average_freqs(liwc_results, liwc_feature_names)\n",
    "    for liwc_result in liwc_results:\n",
    "        text_id += 1\n",
    "        liwc_freqs = liwc_result_to_freqs(liwc_result, liwc_feature_names)\n",
    "        show_liwc_graph(liwc_freqs, text_id)\n",
    "        show_liwc_top(liwc_freqs, average_freqs, n=n)"
   ]
  },
  {
   "cell_type": "code",
   "execution_count": 42,
   "metadata": {},
   "outputs": [
    {
     "data": {
      "image/png": "[encoded data removed]",
      "text/plain": [
       "<Figure size 432x144 with 1 Axes>"
      ]
     },
     "metadata": {
      "needs_background": "light"
     },
     "output_type": "display_data"
    },
    {
     "name": "stdout",
     "output_type": "stream",
     "text": [
      " 1. 0.25  0.06 relativ\n",
      " 2. 0.06  0.04 i\n",
      " 3. 0.13  0.03 space\n",
      " 4. 0.06  0.02 quant\n",
      " 5. 0.06  0.02 motion\n",
      " 6. 0.08  0.02 time\n",
      " 7. 0.04  0.01 work\n",
      " 8. 0.18  0.01 focuspresent\n",
      " 9. 0.21  0.01 verb\n",
      "10. 0.03  0.01 male\n",
      "\n"
     ]
    },
    {
     "data": {
      "image/png": "[encoded data removed]",
      "text/plain": [
       "<Figure size 432x144 with 1 Axes>"
      ]
     },
     "metadata": {
      "needs_background": "light"
     },
     "output_type": "display_data"
    },
    {
     "name": "stdout",
     "output_type": "stream",
     "text": [
      " 1. 0.13  0.05 drives\n",
      " 2. 0.08  0.04 affiliation\n",
      " 3. 0.05  0.03 we\n",
      " 4. 0.19  0.02 prep\n",
      " 5. 0.05  0.02 posemo\n",
      " 6. 0.07  0.02 affect\n",
      " 7. 0.12  0.02 social\n",
      " 8. 0.11  0.01 space\n",
      " 9. 0.01  0.01 friend\n",
      "10. 0.66  0.01 function\n",
      "\n"
     ]
    },
    {
     "data": {
      "image/png": "[encoded data removed]",
      "text/plain": [
       "<Figure size 432x144 with 1 Axes>"
      ]
     },
     "metadata": {
      "needs_background": "light"
     },
     "output_type": "display_data"
    },
    {
     "name": "stdout",
     "output_type": "stream",
     "text": [
      " 1. 0.12  0.04 focuspast\n",
      " 2. 0.07  0.04 motion\n",
      " 3. 0.23  0.04 relativ\n",
      " 4. 0.05  0.02 focusfuture\n",
      " 5. 0.09  0.02 time\n",
      " 6. 0.22  0.02 verb\n",
      " 7. 0.12  0.02 number\n",
      " 8. 0.02  0.02 netspeak\n",
      " 9. 0.05  0.02 insight\n",
      "10. 0.05  0.01 informal\n",
      "\n"
     ]
    },
    {
     "data": {
      "image/png": "[encoded data removed]",
      "text/plain": [
       "<Figure size 432x144 with 1 Axes>"
      ]
     },
     "metadata": {
      "needs_background": "light"
     },
     "output_type": "display_data"
    },
    {
     "name": "stdout",
     "output_type": "stream",
     "text": [
      " 1. 0.09  0.06 we\n",
      " 2. 0.09  0.05 affiliation\n",
      " 3. 0.12  0.04 drives\n",
      " 4. 0.69  0.04 function\n",
      " 5. 0.13  0.03 article\n",
      " 6. 0.20  0.03 pronoun\n",
      " 7. 0.10  0.03 ppron\n",
      " 8. 0.11  0.03 focuspast\n",
      " 9. 0.17  0.02 cogproc\n",
      "10. 0.11  0.02 space\n",
      "\n"
     ]
    },
    {
     "data": {
      "image/png": "[encoded data removed]",
      "text/plain": [
       "<Figure size 432x144 with 1 Axes>"
      ]
     },
     "metadata": {
      "needs_background": "light"
     },
     "output_type": "display_data"
    },
    {
     "name": "stdout",
     "output_type": "stream",
     "text": [
      " 1. 0.23  0.06 pronoun\n",
      " 2. 0.17  0.03 cogproc\n",
      " 3. 0.13  0.03 social\n",
      " 4. 0.10  0.03 focuspast\n",
      " 5. 0.03  0.02 you\n",
      " 6. 0.67  0.02 function\n",
      " 7. 0.04  0.02 percept\n",
      " 8. 0.05  0.02 motion\n",
      " 9. 0.12  0.02 adj\n",
      "10. 0.11  0.02 conj\n",
      "\n"
     ]
    },
    {
     "data": {
      "image/png": "[encoded data removed]",
      "text/plain": [
       "<Figure size 432x144 with 1 Axes>"
      ]
     },
     "metadata": {
      "needs_background": "light"
     },
     "output_type": "display_data"
    },
    {
     "name": "stdout",
     "output_type": "stream",
     "text": [
      " 1. 0.16  0.06 number\n",
      " 2. 0.12  0.03 conj\n",
      " 3. 0.12  0.03 space\n",
      " 4. 0.10  0.02 drives\n",
      " 5. 0.19  0.02 prep\n",
      " 6. 0.19  0.02 focuspresent\n",
      " 7. 0.21  0.02 relativ\n",
      " 8. 0.03  0.01 negate\n",
      " 9. 0.04  0.01 work\n",
      "10. 0.02  0.01 home\n",
      "\n"
     ]
    },
    {
     "data": {
      "image/png": "[encoded data removed]",
      "text/plain": [
       "<Figure size 432x144 with 1 Axes>"
      ]
     },
     "metadata": {
      "needs_background": "light"
     },
     "output_type": "display_data"
    },
    {
     "name": "stdout",
     "output_type": "stream",
     "text": [
      " 1. 0.12  0.02 number\n",
      " 2. 0.11  0.02 article\n",
      " 3. 0.21  0.02 relativ\n",
      " 4. 0.18  0.02 prep\n",
      " 5. 0.11  0.02 space\n",
      " 6. 0.09  0.01 focuspast\n",
      " 7. 0.08  0.01 time\n",
      " 8. 0.03  0.01 work\n",
      " 9. 0.02  0.01 home\n",
      "10. 0.04  0.01 insight\n",
      "\n"
     ]
    },
    {
     "data": {
      "image/png": "[encoded data removed]",
      "text/plain": [
       "<Figure size 432x144 with 1 Axes>"
      ]
     },
     "metadata": {
      "needs_background": "light"
     },
     "output_type": "display_data"
    },
    {
     "name": "stdout",
     "output_type": "stream",
     "text": [
      " 1. 0.04  0.02 bio\n",
      " 2. 0.06  0.02 affiliation\n",
      " 3. 0.09  0.02 ppron\n",
      " 4. 0.11  0.02 conj\n",
      " 5. 0.12  0.02 number\n",
      " 6. 0.03  0.02 leisure\n",
      " 7. 0.12  0.02 social\n",
      " 8. 0.02  0.02 ingest\n",
      " 9. 0.02  0.02 body\n",
      "10. 0.03  0.02 home\n",
      "\n"
     ]
    },
    {
     "data": {
      "image/png": "[encoded data removed]",
      "text/plain": [
       "<Figure size 432x144 with 1 Axes>"
      ]
     },
     "metadata": {
      "needs_background": "light"
     },
     "output_type": "display_data"
    },
    {
     "name": "stdout",
     "output_type": "stream",
     "text": [
      " 1. 0.17  0.06 adverb\n",
      " 2. 0.06  0.04 filler\n",
      " 3. 0.07  0.04 informal\n",
      " 4. 0.04  0.02 bio\n",
      " 5. 0.04  0.02 tentat\n",
      " 6. 0.06  0.02 affect\n",
      " 7. 0.04  0.02 percept\n",
      " 8. 0.02  0.02 feel\n",
      " 9. 0.11  0.02 auxverb\n",
      "10. 0.05  0.02 posemo\n",
      "\n"
     ]
    },
    {
     "data": {
      "image/png": "[encoded data removed]",
      "text/plain": [
       "<Figure size 432x144 with 1 Axes>"
      ]
     },
     "metadata": {
      "needs_background": "light"
     },
     "output_type": "display_data"
    },
    {
     "name": "stdout",
     "output_type": "stream",
     "text": [
      " 1. 0.14  0.05 auxverb\n",
      " 2. 0.09  0.04 compare\n",
      " 3. 0.06  0.03 focusfuture\n",
      " 4. 0.12  0.03 adj\n",
      " 5. 0.23  0.03 verb\n",
      " 6. 0.19  0.02 focuspresent\n",
      " 7. 0.09  0.02 time\n",
      " 8. 0.04  0.02 i\n",
      " 9. 0.09  0.02 ppron\n",
      "10. 0.12  0.02 social\n",
      "\n"
     ]
    },
    {
     "data": {
      "image/png": "[encoded data removed]",
      "text/plain": [
       "<Figure size 432x144 with 1 Axes>"
      ]
     },
     "metadata": {
      "needs_background": "light"
     },
     "output_type": "display_data"
    },
    {
     "name": "stdout",
     "output_type": "stream",
     "text": [
      " 1. 0.24  0.07 prep\n",
      " 2. 0.12  0.03 article\n",
      " 3. 0.05  0.03 work\n",
      " 4. 0.22  0.03 relativ\n",
      " 5. 0.07  0.02 compare\n",
      " 6. 0.09  0.02 time\n",
      " 7. 0.12  0.02 adj\n",
      " 8. 0.11  0.01 space\n",
      " 9. 0.02  0.01 risk\n",
      "10. 0.02  0.01 money\n",
      "\n"
     ]
    },
    {
     "data": {
      "image/png": "[encoded data removed]",
      "text/plain": [
       "<Figure size 432x144 with 1 Axes>"
      ]
     },
     "metadata": {
      "needs_background": "light"
     },
     "output_type": "display_data"
    },
    {
     "name": "stdout",
     "output_type": "stream",
     "text": [
      " 1. 0.24  0.04 verb\n",
      " 2. 0.21  0.04 focuspresent\n",
      " 3. 0.04  0.02 discrep\n",
      " 4. 0.02  0.01 home\n",
      " 5. 0.02  0.01 ingest\n",
      " 6. 0.11  0.01 auxverb\n",
      " 7. 0.03  0.01 interrog\n",
      " 8. 0.11  0.01 space\n",
      " 9. 0.04  0.01 insight\n",
      "10. 0.02  0.01 money\n",
      "\n"
     ]
    },
    {
     "data": {
      "image/png": "[encoded data removed]",
      "text/plain": [
       "<Figure size 432x144 with 1 Axes>"
      ]
     },
     "metadata": {
      "needs_background": "light"
     },
     "output_type": "display_data"
    },
    {
     "name": "stdout",
     "output_type": "stream",
     "text": [
      " 1. 0.20  0.05 cogproc\n",
      " 2. 0.16  0.05 adverb\n",
      " 3. 0.70  0.05 function\n",
      " 4. 0.07  0.03 differ\n",
      " 5. 0.04  0.03 i\n",
      " 6. 0.12  0.03 auxverb\n",
      " 7. 0.10  0.02 focuspast\n",
      " 8. 0.22  0.02 verb\n",
      " 9. 0.03  0.02 negemo\n",
      "10. 0.04  0.02 discrep\n",
      "\n"
     ]
    },
    {
     "data": {
      "image/png": "[encoded data removed]",
      "text/plain": [
       "<Figure size 432x144 with 1 Axes>"
      ]
     },
     "metadata": {
      "needs_background": "light"
     },
     "output_type": "display_data"
    },
    {
     "name": "stdout",
     "output_type": "stream",
     "text": [
      " 1. 0.69  0.04 function\n",
      " 2. 0.20  0.04 pronoun\n",
      " 3. 0.10  0.03 ipron\n",
      " 4. 0.09  0.02 ppron\n",
      " 5. 0.03  0.02 i\n",
      " 6. 0.05  0.02 insight\n",
      " 7. 0.06  0.01 compare\n",
      " 8. 0.04  0.01 filler\n",
      " 9. 0.16  0.01 cogproc\n",
      "10. 0.18  0.01 prep\n",
      "\n"
     ]
    },
    {
     "data": {
      "image/png": "[encoded data removed]",
      "text/plain": [
       "<Figure size 432x144 with 1 Axes>"
      ]
     },
     "metadata": {
      "needs_background": "light"
     },
     "output_type": "display_data"
    },
    {
     "name": "stdout",
     "output_type": "stream",
     "text": [
      " 1. 0.26  0.06 verb\n",
      " 2. 0.21  0.05 focuspresent\n",
      " 3. 0.13  0.03 space\n",
      " 4. 0.07  0.03 affect\n",
      " 5. 0.12  0.03 conj\n",
      " 6. 0.13  0.03 adj\n",
      " 7. 0.17  0.02 cogproc\n",
      " 8. 0.05  0.02 posemo\n",
      " 9. 0.04  0.02 tentat\n",
      "10. 0.03  0.02 health\n",
      "\n"
     ]
    },
    {
     "data": {
      "image/png": "[encoded data removed]",
      "text/plain": [
       "<Figure size 432x144 with 1 Axes>"
      ]
     },
     "metadata": {
      "needs_background": "light"
     },
     "output_type": "display_data"
    },
    {
     "name": "stdout",
     "output_type": "stream",
     "text": [
      " 1. 0.15  0.04 adverb\n",
      " 2. 0.68  0.03 function\n",
      " 3. 0.09  0.02 ipron\n",
      " 4. 0.16  0.02 cogproc\n",
      " 5. 0.18  0.02 focuspresent\n",
      " 6. 0.10  0.02 drives\n",
      " 7. 0.12  0.02 social\n",
      " 8. 0.05  0.01 differ\n",
      " 9. 0.11  0.01 auxverb\n",
      "10. 0.18  0.01 pronoun\n",
      "\n"
     ]
    },
    {
     "data": {
      "image/png": "[encoded data removed]",
      "text/plain": [
       "<Figure size 432x144 with 1 Axes>"
      ]
     },
     "metadata": {
      "needs_background": "light"
     },
     "output_type": "display_data"
    },
    {
     "name": "stdout",
     "output_type": "stream",
     "text": [
      " 1. 0.14  0.03 adverb\n",
      " 2. 0.06  0.02 quant\n",
      " 3. 0.10  0.02 focuspast\n",
      " 4. 0.18  0.02 pronoun\n",
      " 5. 0.16  0.01 cogproc\n",
      " 6. 0.03  0.01 you\n",
      " 7. 0.66  0.01 function\n",
      " 8. 0.04  0.01 focusfuture\n",
      " 9. 0.05  0.01 differ\n",
      "10. 0.02  0.01 netspeak\n",
      "\n"
     ]
    },
    {
     "data": {
      "image/png": "[encoded data removed]",
      "text/plain": [
       "<Figure size 432x144 with 1 Axes>"
      ]
     },
     "metadata": {
      "needs_background": "light"
     },
     "output_type": "display_data"
    },
    {
     "name": "stdout",
     "output_type": "stream",
     "text": [
      " 1. 0.07  0.05 percept\n",
      " 2. 0.18  0.04 cogproc\n",
      " 3. 0.13  0.04 auxverb\n",
      " 4. 0.04  0.03 see\n",
      " 5. 0.12  0.03 article\n",
      " 6. 0.13  0.03 adj\n",
      " 7. 0.05  0.03 tentat\n",
      " 8. 0.68  0.03 function\n",
      " 9. 0.04  0.02 cause\n",
      "10. 0.19  0.02 focuspresent\n",
      "\n"
     ]
    },
    {
     "data": {
      "image/png": "[encoded data removed]",
      "text/plain": [
       "<Figure size 432x144 with 1 Axes>"
      ]
     },
     "metadata": {
      "needs_background": "light"
     },
     "output_type": "display_data"
    },
    {
     "name": "stdout",
     "output_type": "stream",
     "text": [
      " 1. 0.70  0.05 function\n",
      " 2. 0.22  0.05 prep\n",
      " 3. 0.15  0.05 social\n",
      " 4. 0.20  0.04 pronoun\n",
      " 5. 0.08  0.04 affiliation\n",
      " 6. 0.06  0.03 we\n",
      " 7. 0.10  0.03 ppron\n",
      " 8. 0.11  0.03 drives\n",
      " 9. 0.12  0.03 space\n",
      "10. 0.04  0.02 interrog\n",
      "\n"
     ]
    },
    {
     "data": {
      "image/png": "[encoded data removed]",
      "text/plain": [
       "<Figure size 432x144 with 1 Axes>"
      ]
     },
     "metadata": {
      "needs_background": "light"
     },
     "output_type": "display_data"
    },
    {
     "name": "stdout",
     "output_type": "stream",
     "text": [
      " 1. 0.07  0.04 we\n",
      " 2. 0.08  0.04 affiliation\n",
      " 3. 0.11  0.03 drives\n",
      " 4. 0.10  0.02 ppron\n",
      " 5. 0.03  0.02 family\n",
      " 6. 0.09  0.02 time\n",
      " 7. 0.20  0.01 relativ\n",
      " 8. 0.12  0.01 social\n",
      " 9. 0.03  0.01 power\n",
      "10. 0.66  0.01 function\n",
      "\n"
     ]
    },
    {
     "data": {
      "image/png": "[encoded data removed]",
      "text/plain": [
       "<Figure size 432x144 with 1 Axes>"
      ]
     },
     "metadata": {
      "needs_background": "light"
     },
     "output_type": "display_data"
    },
    {
     "name": "stdout",
     "output_type": "stream",
     "text": [
      " 1. 0.20  0.04 prep\n",
      " 2. 0.12  0.03 article\n",
      " 3. 0.06  0.03 insight\n",
      " 4. 0.04  0.03 they\n",
      " 5. 0.18  0.03 cogproc\n",
      " 6. 0.03  0.02 shehe\n",
      " 7. 0.10  0.02 focuspast\n",
      " 8. 0.04  0.02 tentat\n",
      " 9. 0.03  0.01 power\n",
      "10. 0.02  0.01 female\n",
      "\n"
     ]
    }
   ],
   "source": [
    "liwc_results, liwc_feature_names = apply_liwc_to_texts(texts)\n",
    "show_results(liwc_results, liwc_feature_names)"
   ]
  },
  {
   "cell_type": "code",
   "execution_count": null,
   "metadata": {},
   "outputs": [],
   "source": []
  }
 ],
 "metadata": {
  "kernelspec": {
   "display_name": "python37",
   "language": "python",
   "name": "python37"
  },
  "language_info": {
   "codemirror_mode": {
    "name": "ipython",
    "version": 3
   },
   "file_extension": ".py",
   "mimetype": "text/x-python",
   "name": "python",
   "nbconvert_exporter": "python",
   "pygments_lexer": "ipython3",
   "version": "3.7.3"
  }
 },
 "nbformat": 4,
 "nbformat_minor": 5
}

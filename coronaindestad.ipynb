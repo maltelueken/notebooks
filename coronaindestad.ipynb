{
 "cells": [
  {
   "cell_type": "markdown",
   "metadata": {},
   "source": [
    "# CoronaInDeStad.nl Web Crawler\n",
    "\n",
    "Web crawler for the website coronaindestad.nl"
   ]
  },
  {
   "cell_type": "code",
   "execution_count": 33,
   "metadata": {},
   "outputs": [],
   "source": [
    "from bs4 import BeautifulSoup\n",
    "import os\n",
    "import requests\n",
    "import sys\n",
    "import time"
   ]
  },
  {
   "cell_type": "code",
   "execution_count": 44,
   "metadata": {},
   "outputs": [],
   "source": [
    "# URL = \"https://www.coronaindestad.nl/small-poetic-sonic-events-2/\" # De collectie\n",
    "# URL = \"https://www.coronaindestad.nl/meervaart-brief-van-floris-van-delft/\" # De tentoonstelling\n",
    "URL = \"https://www.coronaindestad.nl/corona-getuigenissen-verhaal-yurdakul/?h=3364\" # Veerkrachtige verhalen uit Amsterdam-West"
   ]
  },
  {
   "cell_type": "code",
   "execution_count": 3,
   "metadata": {},
   "outputs": [],
   "source": [
    "web_page = requests.get(URL)"
   ]
  },
  {
   "cell_type": "code",
   "execution_count": 4,
   "metadata": {},
   "outputs": [],
   "source": [
    "def get_next_link(web_page, target_class=\"next-button\"):\n",
    "    page_links = []\n",
    "    for a in BeautifulSoup(web_page, \"html.parser\").select('a'):\n",
    "        a_class = a.get(\"class\")\n",
    "        if type(a_class) == list and target_class in a_class:\n",
    "            page_links.append(a.get(\"href\"))\n",
    "    return page_links"
   ]
  },
  {
   "cell_type": "code",
   "execution_count": 5,
   "metadata": {},
   "outputs": [],
   "source": [
    "def get_text(web_page, target_class=\"large-7\"):\n",
    "    text = []\n",
    "    for div in BeautifulSoup(web_page, \"html.parser\").select('div'):\n",
    "        div_class = div.get(\"class\")\n",
    "        if type(div_class) == list and target_class in div_class:\n",
    "            text.append(div.text)\n",
    "    return text"
   ]
  },
  {
   "cell_type": "code",
   "execution_count": 36,
   "metadata": {},
   "outputs": [],
   "source": [
    "DATA_DIR = \"../coronaindestad.nl/scraped/\"\n",
    "\n",
    "def store_web_page(web_page, file_name):\n",
    "    out_file = open(file_name, \"w\")\n",
    "    print(web_page.content, file=out_file)\n",
    "    out_file.close()"
   ]
  },
  {
   "cell_type": "code",
   "execution_count": 38,
   "metadata": {},
   "outputs": [],
   "source": [
    "def fetch_web_page(url):\n",
    "    time.sleep(1)\n",
    "    start_time = time.time()\n",
    "    web_page = requests.get(url)\n",
    "    fetch_time = int(time.time() - start_time)\n",
    "    print(f\"{fetch_time} {url}\")\n",
    "    return web_page"
   ]
  },
  {
   "cell_type": "code",
   "execution_count": 34,
   "metadata": {},
   "outputs": [],
   "source": [
    "def make_out_file_name(url):\n",
    "    return f\"{DATA_DIR}{url.split('/')[3]}.html\""
   ]
  },
  {
   "cell_type": "code",
   "execution_count": 45,
   "metadata": {},
   "outputs": [
    {
     "name": "stdout",
     "output_type": "stream",
     "text": [
      "1 https://www.coronaindestad.nl/corona-getuigenissen-verhaal-yurdakul/?h=3364\n",
      "1 https://www.coronaindestad.nl/corona-getuigenissen-verhaal-ndede/?h=3364\n",
      "1 https://www.coronaindestad.nl/corona-getuigenissen-verhaal-natalie/?h=3364\n",
      "3 https://www.coronaindestad.nl/corona-getuigenissen-verhaal-yurdakul/?h=3364\n",
      "1 https://www.coronaindestad.nl/corona-getuigenissen-verhaal-sylvia/?h=3364\n",
      "2 https://www.coronaindestad.nl/corona-getuigenissen-verhaal-richard/?h=3364\n",
      "1 https://www.coronaindestad.nl/corona-getuigenissen-film-yurdakul-urmy/?h=3364\n",
      "1 https://www.coronaindestad.nl/corona-getuigenissen-film-sylvia-fenna/?h=3364\n",
      "1 https://www.coronaindestad.nl/corona-getuigenissen-film-richard-karim/?h=3364\n",
      "1 https://www.coronaindestad.nl/corona-getuigenissen-film-ndede-ruud/?h=3364\n",
      "0 https://www.coronaindestad.nl/corona-getuigenissen-film-natalie-carmela/?h=3364\n"
     ]
    }
   ],
   "source": [
    "url = URL\n",
    "target_class = \"next-button\"\n",
    "while url != \"\":\n",
    "    file_name = make_out_file_name(url)\n",
    "    if os.path.isfile(file_name) and url != URL:\n",
    "        print(f\"already retrieved {file_name}\")\n",
    "        if target_class == \"next-button\":\n",
    "            target_class = \"back-button\"\n",
    "            url = URL\n",
    "        elif target_class == \"back-button\":\n",
    "            url = \"\"\n",
    "        else:\n",
    "            print(\"cannot happen\")\n",
    "            sys.exit()\n",
    "    else:\n",
    "        web_page = fetch_web_page(url)\n",
    "        store_web_page(web_page, file_name)\n",
    "        seen.append(url)\n",
    "        try:\n",
    "            url = get_next_link(web_page.content, target_class=target_class)[0]\n",
    "        except:\n",
    "            if target_class == \"next-button\":\n",
    "                target_class = \"back-button\"\n",
    "                url = URL\n",
    "            elif target_class == \"back-button\":\n",
    "                url = \"\"\n",
    "            else:\n",
    "                print(\"cannot happen\")\n",
    "                sys.exit()"
   ]
  },
  {
   "cell_type": "code",
   "execution_count": null,
   "metadata": {},
   "outputs": [],
   "source": []
  }
 ],
 "metadata": {
  "kernelspec": {
   "display_name": "python37",
   "language": "python",
   "name": "python37"
  },
  "language_info": {
   "codemirror_mode": {
    "name": "ipython",
    "version": 3
   },
   "file_extension": ".py",
   "mimetype": "text/x-python",
   "name": "python",
   "nbconvert_exporter": "python",
   "pygments_lexer": "ipython3",
   "version": "3.7.3"
  }
 },
 "nbformat": 4,
 "nbformat_minor": 4
}

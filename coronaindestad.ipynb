{
 "cells": [
  {
   "cell_type": "markdown",
   "metadata": {},
   "source": [
    "# CoronaInDeStad.nl Web Crawler\n",
    "\n",
    "Web crawler for the website coronaindestad.nl"
   ]
  },
  {
   "cell_type": "markdown",
   "metadata": {},
   "source": [
    "## 1. Retrieve html documents from website"
   ]
  },
  {
   "cell_type": "code",
   "execution_count": 1,
   "metadata": {},
   "outputs": [],
   "source": [
    "from bs4 import BeautifulSoup\n",
    "import os\n",
    "import requests\n",
    "import sys\n",
    "import time"
   ]
  },
  {
   "cell_type": "code",
   "execution_count": 2,
   "metadata": {},
   "outputs": [],
   "source": [
    "# URL = \"https://www.coronaindestad.nl/small-poetic-sonic-events-2/\" # De collectie\n",
    "# URL = \"https://www.coronaindestad.nl/meervaart-brief-van-floris-van-delft/\" # De tentoonstelling\n",
    "# URL = \"https://www.coronaindestad.nl/corona-getuigenissen-verhaal-yurdakul/?h=3364\" # Veerkrachtige verhalen uit Amsterdam-West\n",
    "# URL = \"https://www.coronaindestad.nl/van-corona-naar-familie-k/\" # Over de tentoonstellin / de gehele collectie\n",
    "# URL = \"https://www.coronaindestad.nl/onderweg-naar-de-datsja/\" # texts only\n",
    "# URL = \"https://www.coronaindestad.nl/knuffelen/\" # De tentoonstelling\n",
    "# URL = \"https://www.coronaindestad.nl/sound-of-silence-chin-chin-club/\" # Corona in de stad\n",
    "URL = \"https://www.coronaindestad.nl/rvdk-ronald-van-der-kemp-army-of-love-surrender-to-a-sustainble-future/\""
   ]
  },
  {
   "cell_type": "code",
   "execution_count": 3,
   "metadata": {},
   "outputs": [],
   "source": [
    "# Zaaloverzicht\n",
    "URL = \"https://www.coronaindestad.nl/corona-en-de-jeugd/\" # Zaaloverzicht\n",
    "URL = \"https://www.coronaindestad.nl/the-world-after-3-the-world-after/\"\n",
    "URL = \"https://www.coronaindestad.nl/frigiti-tori-untold-stories-shared-history-muriel-3/\"\n",
    "URL = \"https://www.coronaindestad.nl/schrijven-naar-de-toekomst-laurens-en-petra-de-boer-amsterdam-en-ijmuiden/?h=3440\"\n",
    "URL = \"https://www.coronaindestad.nl/psychiatire-in-de-stad-een-nieuwsbrief/\"\n",
    "URL = \"https://www.coronaindestad.nl/freedom-4/\"\n",
    "URL = \"https://www.coronaindestad.nl/corona-streetart-ndsm/?h=1573\"\n",
    "URL = \"https://www.coronaindestad.nl/stroopwafels/?h=3675\"\n",
    "URL = \"https://www.coronaindestad.nl/where-is-my-nature-join-us-on-the-3rd-of-july-teaser/\"\n",
    "URL = \"https://www.coronaindestad.nl/briefwisseling-met-onze-overburen/\"\n",
    "URL = \"https://www.coronaindestad.nl/was-het-echt-een-jaar/?h=969\"\n",
    "URL = \"https://www.coronaindestad.nl/steunpilaren-van-de-stad-aby-patat-in-nieuw-west/?h=4249\"\n",
    "URL = \"https://www.coronaindestad.nl/mannen-in-nieuw-west-diwan/\"\n",
    "URL = \"https://www.coronaindestad.nl/avondklok-23-24-januari-2021-dam-amsterdam/\"\n",
    "URL = \"https://www.coronaindestad.nl/linnaeusparkweg-oost/?h=3710\"\n",
    "URL = \"https://www.coronaindestad.nl/wemakethe-city-reset/?h=1552\"\n",
    "URL = \"https://www.coronaindestad.nl/houd-1-5-meter-afstand-tas/\"\n",
    "URL = \"https://www.coronaindestad.nl/gluklya-corona-diary-2021/?h=3712\"\n",
    "URL = \"https://www.coronaindestad.nl/the-clarinet-player/?h=4027\"\n",
    "URL = \"https://www.coronaindestad.nl/koosjere-vrijheidsmaaltijdsoep/?h=1908\"\n",
    "URL = \"https://www.coronaindestad.nl/joods-verzetsmonument/?h=1908\"\n",
    "URL = \"https://www.coronaindestad.nl/verklaring-minjan-nihs-en-pig/?h=1908\"\n",
    "URL = \"https://www.coronaindestad.nl/hoegaathetechtmetje-59/?h=3113\"\n",
    "URL = \"https://www.coronaindestad.nl/blijf-staan/?h=2449\"\n",
    "URL = \"https://www.coronaindestad.nl/toegankelijkheid-stadsloketten-vergroot/?h=1603\"\n",
    "URL = \"https://www.coronaindestad.nl/1-uitdelen-laptops-en-thuiswerkboeken/\"\n",
    "URL = \"https://www.coronaindestad.nl/noraly-beyer-love-after-love/\"\n",
    "URL = \"https://www.coronaindestad.nl/6-vuilnis-7-tussen-kunst-en-quarantaine-8-oesters-en-champagne/?h=1089\"\n",
    "URL = \"https://www.coronaindestad.nl/protesten-op-het-museumplein-21-februari-2021/\"\n",
    "URL = \"https://www.coronaindestad.nl/koningsdagklokgelui/\"\n",
    "URL = \"https://www.coronaindestad.nl/aflevering-6-cody-hostenbach-over-ongelijkheid-in-de-stad/?h=3784\"\n",
    "URL = \"https://www.coronaindestad.nl/22217-2/?h=3871\"\n",
    "URL = \"https://www.coronaindestad.nl/we-mogen-weer/?h=3804\"\n",
    "URL = \"https://www.coronaindestad.nl/straks-eindelijk-weer-samen-muziek-maken-voor-met-en-door-het-publiek/?h=3804\"\n",
    "URL = \"https://www.coronaindestad.nl/meervaart-lockdown-battle/\"\n",
    "URL = \"https://www.coronaindestad.nl/opkikkeractie-in-de-aker/\"\n",
    "URL = \"https://www.coronaindestad.nl/de-middag-na-de-dag-ervoor/?h=2697\"\n",
    "URL = \"https://www.coronaindestad.nl/black-pride-nl-protest-against-anti-black-queer-trans-violence-4/?h=3053\"\n",
    "URL = \"https://www.coronaindestad.nl/geur/\"\n",
    "URL = \"https://www.coronaindestad.nl/on-our-way-to-the-client/?h=3736\"\n",
    "# most recent\n",
    "URL = \"https://www.coronaindestad.nl/corona-in-de-stad-4/\"\n",
    "URL = \"https://www.coronaindestad.nl/no-one-knows/\"\n",
    "URL = \"https://www.coronaindestad.nl/coronacrisiskruk/\"\n",
    "URL = \"https://www.coronaindestad.nl/de-kunst-van-het-delen-in-tijden-van-corona/\""
   ]
  },
  {
   "cell_type": "code",
   "execution_count": 4,
   "metadata": {},
   "outputs": [],
   "source": [
    "def get_next_link(web_page, target_class=\"next-button\"):\n",
    "    page_links = []\n",
    "    for a in BeautifulSoup(web_page, \"html.parser\").select('a'):\n",
    "        a_class = a.get(\"class\")\n",
    "        if type(a_class) == list and target_class in a_class:\n",
    "            page_links.append(a.get(\"href\"))\n",
    "    return page_links"
   ]
  },
  {
   "cell_type": "code",
   "execution_count": 5,
   "metadata": {},
   "outputs": [],
   "source": [
    "def get_text(web_page, target_class=\"large-7\"):\n",
    "    text = []\n",
    "    for div in BeautifulSoup(web_page, \"html.parser\").select('div'):\n",
    "        div_class = div.get(\"class\")\n",
    "        if type(div_class) == list and target_class in div_class:\n",
    "            text.append(div.text)\n",
    "    return text"
   ]
  },
  {
   "cell_type": "code",
   "execution_count": 6,
   "metadata": {},
   "outputs": [],
   "source": [
    "DATA_DIR = \"../coronaindestad.nl/scraped/\"\n",
    "\n",
    "def store_web_page(web_page, file_name):\n",
    "    out_file = open(file_name, \"w\")\n",
    "    print(web_page.content, file=out_file)\n",
    "    out_file.close()"
   ]
  },
  {
   "cell_type": "code",
   "execution_count": 7,
   "metadata": {},
   "outputs": [],
   "source": [
    "def fetch_web_page(url):\n",
    "    time.sleep(1)\n",
    "    start_time = time.time()\n",
    "    web_page = requests.get(url)\n",
    "    fetch_time = int(time.time() - start_time)\n",
    "    print(f\"{fetch_time} {url}\")\n",
    "    date = get_web_page_date(web_page.content)\n",
    "    return web_page, date"
   ]
  },
  {
   "cell_type": "code",
   "execution_count": 8,
   "metadata": {},
   "outputs": [],
   "source": [
    "def make_out_file_name(url):\n",
    "    dir_name = url.split('/')[3]\n",
    "    if dir_name == \"en\":\n",
    "        dir_name = url.split('/')[4]\n",
    "    return f\"{DATA_DIR}{dir_name}.html\""
   ]
  },
  {
   "cell_type": "code",
   "execution_count": 9,
   "metadata": {},
   "outputs": [],
   "source": [
    "def read_file(file_name):\n",
    "    infile = open(file_name, \"r\")\n",
    "    text = \"\"\n",
    "    for line in infile:\n",
    "        text += line\n",
    "    infile.close()\n",
    "    date = get_web_page_date(text)\n",
    "    return text, date"
   ]
  },
  {
   "cell_type": "code",
   "execution_count": 10,
   "metadata": {},
   "outputs": [],
   "source": [
    "def get_web_page_date(web_page):\n",
    "    date = \"\"\n",
    "    try:\n",
    "        for meta in BeautifulSoup(web_page, \"html.parser\").select('meta'):\n",
    "            if \"property\" in meta.attrs and meta.attrs[\"property\"] == \"article:published_time\":\n",
    "                 date = meta.attrs[\"content\"]\n",
    "    except:\n",
    "        pass\n",
    "    return date"
   ]
  },
  {
   "cell_type": "code",
   "execution_count": 11,
   "metadata": {},
   "outputs": [],
   "source": [
    "def get_web_page_tree(url, URL=URL):\n",
    "    file_name = make_out_file_name(url)\n",
    "    if not os.path.isfile(file_name) or url == URL:\n",
    "        if os.path.isfile(file_name):\n",
    "            web_page_text, date = read_file(file_name)\n",
    "        else:\n",
    "            web_page, date = fetch_web_page(url)\n",
    "            store_web_page(web_page, file_name)\n",
    "            web_page_text = web_page.content\n",
    "        try:\n",
    "            next_url = get_next_link(web_page_text, target_class=\"next-button\")[0]\n",
    "            get_web_page_tree(next_url)\n",
    "        except:\n",
    "            pass\n",
    "        try:\n",
    "            prev_url = get_next_link(web_page_text, target_class=\"back-button\")[0]\n",
    "            get_web_page_tree(prev_url)\n",
    "        except:\n",
    "            pass"
   ]
  },
  {
   "cell_type": "code",
   "execution_count": null,
   "metadata": {},
   "outputs": [],
   "source": [
    "URL = \"https://www.coronaindestad.nl/horse-with-no-name-how-not-to-make-money-with-a-viral-video/\"\n",
    "get_web_page_tree(URL, URL=URL)"
   ]
  },
  {
   "cell_type": "markdown",
   "metadata": {},
   "source": [
    "## 2. Double check navigation links in retrieved documents"
   ]
  },
  {
   "cell_type": "code",
   "execution_count": null,
   "metadata": {},
   "outputs": [
    {
     "name": "stdout",
     "output_type": "stream",
     "text": [
      "100\n"
     ]
    }
   ],
   "source": [
    "file_names = os.listdir(DATA_DIR)\n",
    "counter = 0\n",
    "for file_name in file_names:\n",
    "    file_text, date = read_file(DATA_DIR + file_name)\n",
    "    try:\n",
    "        next_url = get_next_link(file_text, target_class=\"next-button\")[0]\n",
    "        get_web_page_tree(next_url, URL=next_url)\n",
    "    except:\n",
    "        pass\n",
    "    try:\n",
    "        prev_url = get_next_link(file_text, target_class=\"back-button\")[0]\n",
    "        get_web_page_tree(prev_url, URL=prev_url)\n",
    "    except:\n",
    "        pass\n",
    "    counter += 1\n",
    "    if counter % 100 == 0:\n",
    "        print(counter)"
   ]
  },
  {
   "cell_type": "code",
   "execution_count": 12,
   "metadata": {},
   "outputs": [
    {
     "data": {
      "text/plain": [
       "1688"
      ]
     },
     "execution_count": 12,
     "metadata": {},
     "output_type": "execute_result"
    }
   ],
   "source": [
    "file_names = os.listdir(DATA_DIR)\n",
    "len(file_names)"
   ]
  },
  {
   "cell_type": "markdown",
   "metadata": {},
   "source": [
    "## 3. Summarize document data"
   ]
  },
  {
   "cell_type": "code",
   "execution_count": 13,
   "metadata": {},
   "outputs": [],
   "source": [
    "import datetime\n",
    "import matplotlib.pyplot as plt\n",
    "import matplotlib.dates as mdates\n",
    "import pandas as pd\n",
    "from IPython.display import clear_output"
   ]
  },
  {
   "cell_type": "code",
   "execution_count": 14,
   "metadata": {},
   "outputs": [],
   "source": [
    "def squeal(text=None):\n",
    "    clear_output(wait=True)\n",
    "    if not text is None: print(text)"
   ]
  },
  {
   "cell_type": "code",
   "execution_count": 15,
   "metadata": {},
   "outputs": [],
   "source": [
    "def get_months(file_names):\n",
    "    months = {}\n",
    "    counter = 0\n",
    "    for file_name in file_names:\n",
    "        file_text, date = read_file(DATA_DIR + file_name)\n",
    "        year = date[0:4]\n",
    "        month = date[5:7]\n",
    "        date = year + month\n",
    "        if date not in months:\n",
    "            months[date] = 1\n",
    "        else:\n",
    "            months[date] += 1\n",
    "        counter += 1\n",
    "        if counter % 100 == 0:\n",
    "            squeal(counter)\n",
    "    squeal(counter)\n",
    "    return months"
   ]
  },
  {
   "cell_type": "code",
   "execution_count": 29,
   "metadata": {},
   "outputs": [],
   "source": [
    "def plot_months(months, lockdown_starts = []):\n",
    "    x = [ datetime.datetime.strptime(key + \"16\", \"%Y%m%d\") for key in sorted(months.keys()) ]\n",
    "    y = [ months[key] for key in sorted(months.keys()) ]\n",
    "    plt.figure(figsize=(6, 3))\n",
    "    ax = plt.subplot(111)\n",
    "    ax.bar(x, y, width=31)\n",
    "    ax.scatter([datetime.datetime.strptime(d, \"%Y%m%d\") for d in lockdown_starts], [0 for d in lockdown_starts], label=\"lockdown starts\")\n",
    "    ax.xaxis_date()\n",
    "    ax.legend()\n",
    "    ax.xaxis.set_major_formatter(mdates.DateFormatter(\"%-m/%-y\"))\n",
    "    plt.xlabel(\"months\")\n",
    "    plt.title(\"Number of documents per month\")\n",
    "    plt.savefig(\"coronaindestad.png\")\n",
    "    plt.show()"
   ]
  },
  {
   "cell_type": "code",
   "execution_count": 32,
   "metadata": {},
   "outputs": [],
   "source": [
    "def get_file_types(file_names):\n",
    "    file_types = {}\n",
    "    counter = 0\n",
    "    for file_name in file_names:\n",
    "        file_text, date = read_file(DATA_DIR + file_name)\n",
    "        file_type = \"\"\n",
    "        for div in BeautifulSoup(file_text, \"html.parser\").select('div'):\n",
    "            if \"class\" in div.attrs and \"tags\" in div.attrs[\"class\"]:\n",
    "                for span in BeautifulSoup(str(div), \"html.parser\").select('span'):\n",
    "                    file_type = span.text\n",
    "                    break\n",
    "                if file_type != \"\":\n",
    "                    if file_type in file_types:\n",
    "                        file_types[file_type] += 1\n",
    "                    else:\n",
    "                        file_types[file_type] = 1\n",
    "                    break\n",
    "        if file_type == \"\":\n",
    "            print(f\"no file type found for file {file_name}\")\n",
    "        counter += 1\n",
    "        if counter % 100 == 0:\n",
    "            squeal(counter)\n",
    "    squeal(counter)\n",
    "    return file_types"
   ]
  },
  {
   "cell_type": "code",
   "execution_count": 18,
   "metadata": {},
   "outputs": [
    {
     "name": "stdout",
     "output_type": "stream",
     "text": [
      "1600\n"
     ]
    }
   ],
   "source": [
    "months = get_months(file_names)"
   ]
  },
  {
   "cell_type": "code",
   "execution_count": 30,
   "metadata": {},
   "outputs": [
    {
     "data": {
      "image/png": "[encoded data removed]",
      "text/plain": [
       "<Figure size 432x216 with 1 Axes>"
      ]
     },
     "metadata": {
      "needs_background": "light"
     },
     "output_type": "display_data"
    }
   ],
   "source": [
    "plot_months(months, lockdown_starts = [ \"20200315\", \"20201214\", \"20211219\" ])"
   ]
  },
  {
   "cell_type": "markdown",
   "metadata": {},
   "source": [
    "Lockdown starts: 15-03-2020, 14-12-2020 and 19-12-2020."
   ]
  },
  {
   "cell_type": "code",
   "execution_count": 31,
   "metadata": {},
   "outputs": [
    {
     "data": {
      "text/html": [
       "<div>\n",
       "<style scoped>\n",
       "    .dataframe tbody tr th:only-of-type {\n",
       "        vertical-align: middle;\n",
       "    }\n",
       "\n",
       "    .dataframe tbody tr th {\n",
       "        vertical-align: top;\n",
       "    }\n",
       "\n",
       "    .dataframe thead th {\n",
       "        text-align: right;\n",
       "    }\n",
       "</style>\n",
       "<table border=\"1\" class=\"dataframe\">\n",
       "  <thead>\n",
       "    <tr style=\"text-align: right;\">\n",
       "      <th></th>\n",
       "      <th>month</th>\n",
       "      <th>count</th>\n",
       "    </tr>\n",
       "  </thead>\n",
       "  <tbody>\n",
       "    <tr>\n",
       "      <th>0</th>\n",
       "      <td>202004</td>\n",
       "      <td>13</td>\n",
       "    </tr>\n",
       "    <tr>\n",
       "      <th>1</th>\n",
       "      <td>202005</td>\n",
       "      <td>546</td>\n",
       "    </tr>\n",
       "    <tr>\n",
       "      <th>2</th>\n",
       "      <td>202006</td>\n",
       "      <td>236</td>\n",
       "    </tr>\n",
       "    <tr>\n",
       "      <th>3</th>\n",
       "      <td>202007</td>\n",
       "      <td>86</td>\n",
       "    </tr>\n",
       "    <tr>\n",
       "      <th>4</th>\n",
       "      <td>202008</td>\n",
       "      <td>86</td>\n",
       "    </tr>\n",
       "    <tr>\n",
       "      <th>5</th>\n",
       "      <td>202009</td>\n",
       "      <td>26</td>\n",
       "    </tr>\n",
       "    <tr>\n",
       "      <th>6</th>\n",
       "      <td>202010</td>\n",
       "      <td>34</td>\n",
       "    </tr>\n",
       "    <tr>\n",
       "      <th>7</th>\n",
       "      <td>202011</td>\n",
       "      <td>94</td>\n",
       "    </tr>\n",
       "    <tr>\n",
       "      <th>8</th>\n",
       "      <td>202012</td>\n",
       "      <td>77</td>\n",
       "    </tr>\n",
       "    <tr>\n",
       "      <th>9</th>\n",
       "      <td>202101</td>\n",
       "      <td>65</td>\n",
       "    </tr>\n",
       "    <tr>\n",
       "      <th>10</th>\n",
       "      <td>202102</td>\n",
       "      <td>36</td>\n",
       "    </tr>\n",
       "    <tr>\n",
       "      <th>11</th>\n",
       "      <td>202103</td>\n",
       "      <td>81</td>\n",
       "    </tr>\n",
       "    <tr>\n",
       "      <th>12</th>\n",
       "      <td>202104</td>\n",
       "      <td>94</td>\n",
       "    </tr>\n",
       "    <tr>\n",
       "      <th>13</th>\n",
       "      <td>202105</td>\n",
       "      <td>38</td>\n",
       "    </tr>\n",
       "    <tr>\n",
       "      <th>14</th>\n",
       "      <td>202106</td>\n",
       "      <td>18</td>\n",
       "    </tr>\n",
       "    <tr>\n",
       "      <th>15</th>\n",
       "      <td>202108</td>\n",
       "      <td>11</td>\n",
       "    </tr>\n",
       "    <tr>\n",
       "      <th>16</th>\n",
       "      <td>202109</td>\n",
       "      <td>18</td>\n",
       "    </tr>\n",
       "    <tr>\n",
       "      <th>17</th>\n",
       "      <td>202110</td>\n",
       "      <td>15</td>\n",
       "    </tr>\n",
       "    <tr>\n",
       "      <th>18</th>\n",
       "      <td>202111</td>\n",
       "      <td>14</td>\n",
       "    </tr>\n",
       "    <tr>\n",
       "      <th>19</th>\n",
       "      <td>202112</td>\n",
       "      <td>93</td>\n",
       "    </tr>\n",
       "    <tr>\n",
       "      <th>20</th>\n",
       "      <td>202201</td>\n",
       "      <td>5</td>\n",
       "    </tr>\n",
       "    <tr>\n",
       "      <th>21</th>\n",
       "      <td>202202</td>\n",
       "      <td>2</td>\n",
       "    </tr>\n",
       "  </tbody>\n",
       "</table>\n",
       "</div>"
      ],
      "text/plain": [
       "     month  count\n",
       "0   202004     13\n",
       "1   202005    546\n",
       "2   202006    236\n",
       "3   202007     86\n",
       "4   202008     86\n",
       "5   202009     26\n",
       "6   202010     34\n",
       "7   202011     94\n",
       "8   202012     77\n",
       "9   202101     65\n",
       "10  202102     36\n",
       "11  202103     81\n",
       "12  202104     94\n",
       "13  202105     38\n",
       "14  202106     18\n",
       "15  202108     11\n",
       "16  202109     18\n",
       "17  202110     15\n",
       "18  202111     14\n",
       "19  202112     93\n",
       "20  202201      5\n",
       "21  202202      2"
      ]
     },
     "execution_count": 31,
     "metadata": {},
     "output_type": "execute_result"
    }
   ],
   "source": [
    "pd.DataFrame([{ \"month\": key, \"count\": months[key]} for key in sorted(months.keys())])"
   ]
  },
  {
   "cell_type": "code",
   "execution_count": 33,
   "metadata": {},
   "outputs": [
    {
     "name": "stdout",
     "output_type": "stream",
     "text": [
      "1688\n"
     ]
    }
   ],
   "source": [
    "file_types = get_file_types(file_names)"
   ]
  },
  {
   "cell_type": "code",
   "execution_count": 34,
   "metadata": {},
   "outputs": [
    {
     "data": {
      "text/html": [
       "<div>\n",
       "<style scoped>\n",
       "    .dataframe tbody tr th:only-of-type {\n",
       "        vertical-align: middle;\n",
       "    }\n",
       "\n",
       "    .dataframe tbody tr th {\n",
       "        vertical-align: top;\n",
       "    }\n",
       "\n",
       "    .dataframe thead th {\n",
       "        text-align: right;\n",
       "    }\n",
       "</style>\n",
       "<table border=\"1\" class=\"dataframe\">\n",
       "  <thead>\n",
       "    <tr style=\"text-align: right;\">\n",
       "      <th></th>\n",
       "      <th>file type</th>\n",
       "      <th>count</th>\n",
       "    </tr>\n",
       "  </thead>\n",
       "  <tbody>\n",
       "    <tr>\n",
       "      <th>0</th>\n",
       "      <td>Afbeelding</td>\n",
       "      <td>978</td>\n",
       "    </tr>\n",
       "    <tr>\n",
       "      <th>1</th>\n",
       "      <td>video</td>\n",
       "      <td>421</td>\n",
       "    </tr>\n",
       "    <tr>\n",
       "      <th>2</th>\n",
       "      <td>tekst</td>\n",
       "      <td>106</td>\n",
       "    </tr>\n",
       "    <tr>\n",
       "      <th>3</th>\n",
       "      <td>audio</td>\n",
       "      <td>92</td>\n",
       "    </tr>\n",
       "    <tr>\n",
       "      <th>4</th>\n",
       "      <td>Image</td>\n",
       "      <td>67</td>\n",
       "    </tr>\n",
       "    <tr>\n",
       "      <th>5</th>\n",
       "      <td>pdf</td>\n",
       "      <td>24</td>\n",
       "    </tr>\n",
       "  </tbody>\n",
       "</table>\n",
       "</div>"
      ],
      "text/plain": [
       "    file type  count\n",
       "0  Afbeelding    978\n",
       "1       video    421\n",
       "2       tekst    106\n",
       "3       audio     92\n",
       "4       Image     67\n",
       "5         pdf     24"
      ]
     },
     "execution_count": 34,
     "metadata": {},
     "output_type": "execute_result"
    }
   ],
   "source": [
    "pd.DataFrame([{\"file type\": key, \"count\": file_types[key]} for key in sorted(file_types.keys(), key=lambda k: file_types[k], reverse=True)])"
   ]
  },
  {
   "cell_type": "markdown",
   "metadata": {},
   "source": [
    "## To do\n",
    "\n",
    "* look for author of documents\n",
    "* extract text from documents\n",
    "* counts words per document\n",
    "* determine language of documents"
   ]
  },
  {
   "cell_type": "code",
   "execution_count": null,
   "metadata": {},
   "outputs": [],
   "source": []
  }
 ],
 "metadata": {
  "kernelspec": {
   "display_name": "python37",
   "language": "python",
   "name": "python37"
  },
  "language_info": {
   "codemirror_mode": {
    "name": "ipython",
    "version": 3
   },
   "file_extension": ".py",
   "mimetype": "text/x-python",
   "name": "python",
   "nbconvert_exporter": "python",
   "pygments_lexer": "ipython3",
   "version": "3.7.3"
  }
 },
 "nbformat": 4,
 "nbformat_minor": 4
}

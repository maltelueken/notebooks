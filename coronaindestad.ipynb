{
 "cells": [
  {
   "cell_type": "markdown",
   "metadata": {},
   "source": [
    "# CoronaInDeStad.nl Web Crawler\n",
    "\n",
    "Web crawler for the website coronaindestad.nl"
   ]
  },
  {
   "cell_type": "markdown",
   "metadata": {},
   "source": [
    "## 1. Retrieve html documents from website"
   ]
  },
  {
   "cell_type": "code",
   "execution_count": 1,
   "metadata": {},
   "outputs": [],
   "source": [
    "from bs4 import BeautifulSoup\n",
    "import os\n",
    "import requests\n",
    "import sys\n",
    "import time"
   ]
  },
  {
   "cell_type": "code",
   "execution_count": 54,
   "metadata": {},
   "outputs": [],
   "source": [
    "# URL = \"https://www.coronaindestad.nl/small-poetic-sonic-events-2/\" # De collectie\n",
    "# URL = \"https://www.coronaindestad.nl/meervaart-brief-van-floris-van-delft/\" # De tentoonstelling\n",
    "# URL = \"https://www.coronaindestad.nl/corona-getuigenissen-verhaal-yurdakul/?h=3364\" # Veerkrachtige verhalen uit Amsterdam-West\n",
    "# URL = \"https://www.coronaindestad.nl/van-corona-naar-familie-k/\" # Over de tentoonstellin / de gehele collectie\n",
    "# URL = \"https://www.coronaindestad.nl/onderweg-naar-de-datsja/\" # texts only\n",
    "# URL = \"https://www.coronaindestad.nl/knuffelen/\" # De tentoonstelling\n",
    "# URL = \"https://www.coronaindestad.nl/sound-of-silence-chin-chin-club/\" # Corona in de stad\n",
    "URL = \"https://www.coronaindestad.nl/rvdk-ronald-van-der-kemp-army-of-love-surrender-to-a-sustainble-future/\""
   ]
  },
  {
   "cell_type": "code",
   "execution_count": 4,
   "metadata": {},
   "outputs": [],
   "source": [
    "web_page = requests.get(URL)"
   ]
  },
  {
   "cell_type": "code",
   "execution_count": 5,
   "metadata": {},
   "outputs": [],
   "source": [
    "def get_next_link(web_page, target_class=\"next-button\"):\n",
    "    page_links = []\n",
    "    for a in BeautifulSoup(web_page, \"html.parser\").select('a'):\n",
    "        a_class = a.get(\"class\")\n",
    "        if type(a_class) == list and target_class in a_class:\n",
    "            page_links.append(a.get(\"href\"))\n",
    "    return page_links"
   ]
  },
  {
   "cell_type": "code",
   "execution_count": 6,
   "metadata": {},
   "outputs": [],
   "source": [
    "def get_text(web_page, target_class=\"large-7\"):\n",
    "    text = []\n",
    "    for div in BeautifulSoup(web_page, \"html.parser\").select('div'):\n",
    "        div_class = div.get(\"class\")\n",
    "        if type(div_class) == list and target_class in div_class:\n",
    "            text.append(div.text)\n",
    "    return text"
   ]
  },
  {
   "cell_type": "code",
   "execution_count": 7,
   "metadata": {},
   "outputs": [],
   "source": [
    "DATA_DIR = \"../coronaindestad.nl/scraped/\"\n",
    "\n",
    "def store_web_page(web_page, file_name):\n",
    "    out_file = open(file_name, \"w\")\n",
    "    print(web_page.content, file=out_file)\n",
    "    out_file.close()"
   ]
  },
  {
   "cell_type": "code",
   "execution_count": 116,
   "metadata": {},
   "outputs": [],
   "source": [
    "def fetch_web_page(url):\n",
    "    time.sleep(1)\n",
    "    start_time = time.time()\n",
    "    web_page = requests.get(url)\n",
    "    fetch_time = int(time.time() - start_time)\n",
    "    print(f\"{fetch_time} {url}\")\n",
    "    date = get_web_page_date(web_page)\n",
    "    return web_page, date"
   ]
  },
  {
   "cell_type": "code",
   "execution_count": 9,
   "metadata": {},
   "outputs": [],
   "source": [
    "def make_out_file_name(url):\n",
    "    return f\"{DATA_DIR}{url.split('/')[3]}.html\""
   ]
  },
  {
   "cell_type": "code",
   "execution_count": 115,
   "metadata": {},
   "outputs": [],
   "source": [
    "def read_file(file_name):\n",
    "    infile = open(file_name, \"r\")\n",
    "    text = \"\"\n",
    "    for line in infile:\n",
    "        text += line\n",
    "    infile.close()\n",
    "    date = get_web_page_date(text)\n",
    "    return text, date"
   ]
  },
  {
   "cell_type": "code",
   "execution_count": 118,
   "metadata": {},
   "outputs": [],
   "source": [
    "def get_web_page_date(web_page):\n",
    "    date = \"\"\n",
    "    for meta in BeautifulSoup(web_page, \"html.parser\").select('meta'):\n",
    "        if \"property\" in meta.attrs and meta.attrs[\"property\"] == \"article:published_time\":\n",
    "             date = meta.attrs[\"content\"]\n",
    "    return date"
   ]
  },
  {
   "cell_type": "code",
   "execution_count": 69,
   "metadata": {},
   "outputs": [],
   "source": [
    "def get_web_page_tree(url, URL=URL):\n",
    "    file_name = make_out_file_name(url)\n",
    "    if not os.path.isfile(file_name) or url == URL:\n",
    "        if os.path.isfile(file_name):\n",
    "            web_page_text, date = read_file(file_name)\n",
    "        else:\n",
    "            web_page, date = fetch_web_page(url)\n",
    "            store_web_page(web_page, file_name)\n",
    "            web_page_text = web_page.content\n",
    "        try:\n",
    "            next_url = get_next_link(web_page_text, target_class=\"next-button\")[0]\n",
    "            get_web_page_tree(next_url)\n",
    "        except:\n",
    "            pass\n",
    "        try:\n",
    "            prev_url = get_next_link(web_page_text, target_class=\"back-button\")[0]\n",
    "            get_web_page_tree(prev_url)\n",
    "        except:\n",
    "            pass"
   ]
  },
  {
   "cell_type": "code",
   "execution_count": 55,
   "metadata": {},
   "outputs": [
    {
     "name": "stdout",
     "output_type": "stream",
     "text": [
      "1 https://www.coronaindestad.nl/rvdk-ronald-van-der-kemp-army-of-love-surrender-to-a-sustainble-future/\n",
      "1 https://www.coronaindestad.nl/de-nieuwe-realiteit/?h=\n",
      "1 https://www.coronaindestad.nl/wizard-hats-curves-and-the-plunge-in-art-history/?h=\n",
      "1 https://www.coronaindestad.nl/lezen-in-een-onrustige-tijd/?h=\n",
      "1 https://www.coronaindestad.nl/opgehokt-onthokt/?h=\n",
      "1 https://www.coronaindestad.nl/stil-op-de-gracht/?h=\n",
      "1 https://www.coronaindestad.nl/tramlijn-7/?h=\n",
      "1 https://www.coronaindestad.nl/the-artist-is-present/?h=\n",
      "1 https://www.coronaindestad.nl/het-ophalen-van-vuilnis-stagneert/?h=\n"
     ]
    }
   ],
   "source": [
    "get_web_page_tree(URL, URL=URL)"
   ]
  },
  {
   "cell_type": "markdown",
   "metadata": {},
   "source": [
    "## 2. Check navigation links in retrieved documents"
   ]
  },
  {
   "cell_type": "code",
   "execution_count": 70,
   "metadata": {},
   "outputs": [
    {
     "name": "stdout",
     "output_type": "stream",
     "text": [
      "100\n",
      "200\n",
      "300\n",
      "400\n",
      "500\n",
      "600\n",
      "700\n",
      "800\n",
      "900\n"
     ]
    }
   ],
   "source": [
    "file_names = os.listdir(DATA_DIR)\n",
    "counter = 0\n",
    "for file_name in file_names:\n",
    "    file_text, date = read_file(DATA_DIR + file_name)\n",
    "    try:\n",
    "        next_url = get_next_link(file_text, target_class=\"next-button\")[0]\n",
    "        get_web_page_tree(next_url, URL=next_url)\n",
    "    except:\n",
    "        pass\n",
    "    try:\n",
    "        prev_url = get_next_link(file_text, target_class=\"back-button\")[0]\n",
    "        get_web_page_tree(prev_url, URL=prev_url)\n",
    "    except:\n",
    "        pass\n",
    "    counter += 1\n",
    "    if counter % 100 == 0:\n",
    "        print(counter)"
   ]
  },
  {
   "cell_type": "code",
   "execution_count": 71,
   "metadata": {},
   "outputs": [
    {
     "data": {
      "text/plain": [
       "931"
      ]
     },
     "execution_count": 71,
     "metadata": {},
     "output_type": "execute_result"
    }
   ],
   "source": [
    "len(file_names)"
   ]
  },
  {
   "cell_type": "markdown",
   "metadata": {},
   "source": [
    "## 3. Summarize document data"
   ]
  },
  {
   "cell_type": "code",
   "execution_count": 80,
   "metadata": {},
   "outputs": [],
   "source": [
    "import datetime\n",
    "import matplotlib.pyplot as plt\n",
    "import matplotlib.dates as mdates"
   ]
  },
  {
   "cell_type": "code",
   "execution_count": 120,
   "metadata": {},
   "outputs": [],
   "source": [
    "def get_months(file_names):\n",
    "    months = {}\n",
    "    counter = 0\n",
    "    for file_name in file_names:\n",
    "        file_text, date = read_file(DATA_DIR + file_name)\n",
    "        year = date[0:4]\n",
    "        month = date[5:7]\n",
    "        date = year + month\n",
    "        if date not in months:\n",
    "            months[date] = 1\n",
    "        else:\n",
    "            months[date] += 1\n",
    "        counter += 1\n",
    "        if counter % 100 == 0:\n",
    "            print(counter)\n",
    "    return months"
   ]
  },
  {
   "cell_type": "code",
   "execution_count": 124,
   "metadata": {},
   "outputs": [],
   "source": [
    "def plot_months(months):\n",
    "    x = [ datetime.datetime.strptime(key, \"%Y%m\") for key in sorted(months.keys()) ]\n",
    "    y = [ months[key] for key in sorted(months.keys()) ]\n",
    "    plt.figure(figsize=(6, 3))\n",
    "    ax = plt.subplot(111)\n",
    "    ax.bar(x, y, width=31)\n",
    "    ax.xaxis_date()\n",
    "    ax.xaxis.set_major_formatter(mdates.DateFormatter(\"%-m/%-y\"))\n",
    "    plt.xlabel(\"months\")\n",
    "    plt.title(\"Number of documents per month\")\n",
    "    plt.savefig(\"coronaindestad.png\")\n",
    "    plt.show()"
   ]
  },
  {
   "cell_type": "code",
   "execution_count": 121,
   "metadata": {},
   "outputs": [
    {
     "name": "stdout",
     "output_type": "stream",
     "text": [
      "100\n",
      "200\n",
      "300\n",
      "400\n",
      "500\n",
      "600\n",
      "700\n",
      "800\n",
      "900\n"
     ]
    }
   ],
   "source": [
    "months = get_months(file_names)"
   ]
  },
  {
   "cell_type": "code",
   "execution_count": 125,
   "metadata": {},
   "outputs": [
    {
     "data": {
      "image/png": "[encoded data removed]",
      "text/plain": [
       "<Figure size 432x216 with 1 Axes>"
      ]
     },
     "metadata": {
      "needs_background": "light"
     },
     "output_type": "display_data"
    }
   ],
   "source": [
    "plot_months(months)"
   ]
  },
  {
   "cell_type": "code",
   "execution_count": 123,
   "metadata": {},
   "outputs": [
    {
     "data": {
      "text/plain": [
       "{'202005': 347,\n",
       " '202006': 200,\n",
       " '202007': 80,\n",
       " '202008': 50,\n",
       " '202009': 8,\n",
       " '202010': 5,\n",
       " '202011': 23,\n",
       " '202012': 48,\n",
       " '202101': 60,\n",
       " '202102': 20,\n",
       " '202103': 38,\n",
       " '202104': 3,\n",
       " '202105': 27,\n",
       " '202106': 9,\n",
       " '202108': 1,\n",
       " '202110': 8,\n",
       " '202112': 3,\n",
       " '202201': 1}"
      ]
     },
     "execution_count": 123,
     "metadata": {},
     "output_type": "execute_result"
    }
   ],
   "source": [
    "{ key: months[key] for key in sorted(months.keys()) }"
   ]
  },
  {
   "cell_type": "code",
   "execution_count": null,
   "metadata": {},
   "outputs": [],
   "source": []
  }
 ],
 "metadata": {
  "kernelspec": {
   "display_name": "python37",
   "language": "python",
   "name": "python37"
  },
  "language_info": {
   "codemirror_mode": {
    "name": "ipython",
    "version": 3
   },
   "file_extension": ".py",
   "mimetype": "text/x-python",
   "name": "python",
   "nbconvert_exporter": "python",
   "pygments_lexer": "ipython3",
   "version": "3.7.3"
  }
 },
 "nbformat": 4,
 "nbformat_minor": 4
}

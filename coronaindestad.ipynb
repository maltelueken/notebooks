{
 "cells": [
  {
   "cell_type": "markdown",
   "metadata": {},
   "source": [
    "# CoronaInDeStad.nl Web Crawler\n",
    "\n",
    "Web crawler for the website coronaindestad.nl"
   ]
  },
  {
   "cell_type": "code",
   "execution_count": 84,
   "metadata": {},
   "outputs": [],
   "source": [
    "from bs4 import BeautifulSoup\n",
    "import requests\n",
    "import time"
   ]
  },
  {
   "cell_type": "code",
   "execution_count": 3,
   "metadata": {},
   "outputs": [],
   "source": [
    "URL = \"https://www.coronaindestad.nl/small-poetic-sonic-events-2/\""
   ]
  },
  {
   "cell_type": "code",
   "execution_count": 4,
   "metadata": {},
   "outputs": [],
   "source": [
    "web_page = requests.get(URL)"
   ]
  },
  {
   "cell_type": "code",
   "execution_count": 67,
   "metadata": {},
   "outputs": [],
   "source": [
    "def get_next_link(web_page, target_class=\"next-button\"):\n",
    "    page_links = []\n",
    "    for a in BeautifulSoup(web_page, \"html.parser\").select('a'):\n",
    "        a_class = a.get(\"class\")\n",
    "        if type(a_class) == list and target_class in a_class:\n",
    "            page_links.append(a.get(\"href\"))\n",
    "    return page_links"
   ]
  },
  {
   "cell_type": "code",
   "execution_count": 71,
   "metadata": {},
   "outputs": [],
   "source": [
    "def get_text(web_page, target_class=\"large-7\"):\n",
    "    text = []\n",
    "    for div in BeautifulSoup(web_page, \"html.parser\").select('div'):\n",
    "        div_class = div.get(\"class\")\n",
    "        if type(div_class) == list and target_class in div_class:\n",
    "            text.append(div.text)\n",
    "    return text"
   ]
  },
  {
   "cell_type": "code",
   "execution_count": 80,
   "metadata": {},
   "outputs": [],
   "source": [
    "next_url = get_next_link(web_page.content)[0]"
   ]
  },
  {
   "cell_type": "code",
   "execution_count": 81,
   "metadata": {},
   "outputs": [],
   "source": [
    "text = get_text(web_page.content)[-1]"
   ]
  },
  {
   "cell_type": "code",
   "execution_count": 82,
   "metadata": {},
   "outputs": [
    {
     "name": "stdout",
     "output_type": "stream",
     "text": [
      "https://www.coronaindestad.nl/empty-city/?h=\n"
     ]
    }
   ],
   "source": [
    "print(next_url)"
   ]
  },
  {
   "cell_type": "code",
   "execution_count": 83,
   "metadata": {},
   "outputs": [
    {
     "name": "stdout",
     "output_type": "stream",
     "text": [
      "\n",
      "May 13th 2020\n",
      "Passeerdersgracht morning:\n",
      "Meerkoeten, seagulls, small birds in the tree outside the window, the leaves of the tree, one set of footsteps crossing the bridge on the Prinsengracht, some wind, a man laughing far away, one car and another on the Marnixstraat, a bicycle creaking, boats rocking in the water.\n",
      "Lijbaansgracht surprise:\n",
      "For several days there is the sound of water falling about a meter, out of a building and into the canal.\n",
      "Passeerdersgracht days:\n",
      "Every time there is an airplane, I notice it.\n",
      "A man and a woman dressed in formal attire serenading a house further down the canal. They do this twice in one week.\n",
      "A father and two small children playing on their stoop all afternoon.\n",
      "Staying Alive blasting from the windows of the apartment next door\n",
      "The business owner downstairs sanding his hallway floor at 7am. It is very loud.\n",
      "A motorbike that 2 days in a row rides around and around like a racetrack\n",
      "People sitting on the pontje talking in loud American voices about one girl’s relationship all of one sunny afternoon until 22:00\n",
      "People stopping by the meerkoetjes nest to talk about the baby birds until the birds drown in the water at the bottom of the old boat the nest was built on\n",
      "Passeerdersgracht nights:\n",
      "Silent except for branches and water moving slowly in the moonlight\n",
      "door Lise Brenner\n",
      "\n"
     ]
    }
   ],
   "source": [
    "print(text)"
   ]
  },
  {
   "cell_type": "code",
   "execution_count": 86,
   "metadata": {},
   "outputs": [
    {
     "name": "stdout",
     "output_type": "stream",
     "text": [
      "129\n"
     ]
    }
   ],
   "source": [
    "start_time = time.time()\n",
    "next_web_page = requests.get(next_url)\n",
    "print(int(time.time() - start_time))"
   ]
  },
  {
   "cell_type": "code",
   "execution_count": null,
   "metadata": {},
   "outputs": [],
   "source": []
  }
 ],
 "metadata": {
  "kernelspec": {
   "display_name": "python37",
   "language": "python",
   "name": "python37"
  },
  "language_info": {
   "codemirror_mode": {
    "name": "ipython",
    "version": 3
   },
   "file_extension": ".py",
   "mimetype": "text/x-python",
   "name": "python",
   "nbconvert_exporter": "python",
   "pygments_lexer": "ipython3",
   "version": "3.7.3"
  }
 },
 "nbformat": 4,
 "nbformat_minor": 4
}

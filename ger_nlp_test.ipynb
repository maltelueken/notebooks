{
 "cells": [
  {
   "cell_type": "markdown",
   "metadata": {},
   "source": [
    "# Test German NLP Pipeline\n",
    "\n",
    "Test NLP pipeline for dependency parsing and semantic role labeling in German. \n",
    "\n",
    "Requirements:\n",
    "- `spacy`: >= 3.0\n",
    "- `pandas`: >= 1.0\n",
    "- `gensim`: >= 4.0"
   ]
  },
  {
   "cell_type": "code",
   "execution_count": 1,
   "metadata": {},
   "outputs": [],
   "source": [
    "import spacy\n",
    "import re\n",
    "import math\n",
    "import warnings\n",
    "import gensim\n",
    "import random\n",
    "import numpy as np\n",
    "import seaborn as sns\n",
    "import pandas as pd\n",
    "from itertools import combinations\n",
    "from gensim import corpora\n",
    "from gensim.models.ldamodel import LdaModel\n",
    "from gensim.models.coherencemodel import CoherenceModel\n",
    "from urllib.request import urlopen\n",
    "from bs4 import BeautifulSoup"
   ]
  },
  {
   "cell_type": "code",
   "execution_count": 2,
   "metadata": {},
   "outputs": [],
   "source": [
    "if spacy.__version__ < \"3\":\n",
    "    warnings.warn(\"Module 'spacy' should be version >= 3.0 to run this notebook without errors\")"
   ]
  },
  {
   "cell_type": "code",
   "execution_count": 3,
   "metadata": {},
   "outputs": [],
   "source": [
    "if pd.__version__ < \"1.0\":\n",
    "    warnings.warn(\"Module 'pandas' should be version >= 1.0 to run this notebook without errors\")"
   ]
  },
  {
   "cell_type": "code",
   "execution_count": 4,
   "metadata": {},
   "outputs": [],
   "source": [
    "if gensim.__version__ < \"4.0\":\n",
    "    warnings.warn(\"Module 'gensim' should be version >= 4.0 to run this notebook without errors\")"
   ]
  },
  {
   "cell_type": "markdown",
   "metadata": {},
   "source": [
    "## Retrieve Stories From the Web\n",
    "\n",
    "Build web scraper for German stories about the pandemic. The stories are published on a webpage from the HSPV NRW (University of Applied Sciences for the police and public administration) and written by students as well as staff. For a general description, see: https://www.hspv.nrw.de/services/corona-krise/corona-geschichten"
   ]
  },
  {
   "cell_type": "code",
   "execution_count": 5,
   "metadata": {},
   "outputs": [],
   "source": [
    "# Define URL and story page ids\n",
    "\n",
    "URL = \"https://www.hspv.nrw.de/nachrichten/artikel/corona-geschichten\"\n",
    "\n",
    "ID_STORIES = [\"01\", \"02\", \"03\", \"04\", \"05\", \"06\", \"07\", \"08\", \"09\", \"10\", \"11\", \"12\", \"13\"]"
   ]
  },
  {
   "cell_type": "code",
   "execution_count": 6,
   "metadata": {},
   "outputs": [],
   "source": [
    "# Function to retrieve text from webpages\n",
    "\n",
    "def get_text_from_web(url, ids):\n",
    "    docs = []\n",
    "\n",
    "    for id in ids:\n",
    "        new_page = urlopen(url + \"-\" + id).read()\n",
    "\n",
    "        new_soup = BeautifulSoup(new_page, 'html.parser')\n",
    "\n",
    "        for script in new_soup([\"script\", \"style\"]):\n",
    "            script.decompose()\n",
    "        \n",
    "        docs.append(list(new_soup.stripped_strings))\n",
    "    \n",
    "    return docs\n",
    "\n",
    "  "
   ]
  },
  {
   "cell_type": "markdown",
   "metadata": {},
   "source": [
    "Extract the relevant stories by removing text that is present in all documents (e.g., menu headers)."
   ]
  },
  {
   "cell_type": "code",
   "execution_count": 7,
   "metadata": {},
   "outputs": [],
   "source": [
    "# Function to extract only text from stories\n",
    "\n",
    "def extract_story_text(docs):\n",
    "    new_docs = [[s for s in docs[0] if s not in docs[-1]]]\n",
    "\n",
    "    for doc in docs[1:]:\n",
    "        new_docs.append([s for s in doc if s not in docs[0]])\n",
    "    \n",
    "    return new_docs"
   ]
  },
  {
   "cell_type": "markdown",
   "metadata": {},
   "source": [
    "Format the stories into a dictionary with keys:\n",
    "- title: Title\n",
    "- author: Author\n",
    "- date: Date\n",
    "- text: Text as single string\n",
    "\n",
    "Also removes dash unicode and hashtags in the text."
   ]
  },
  {
   "cell_type": "code",
   "execution_count": 8,
   "metadata": {},
   "outputs": [],
   "source": [
    "# Function to format stories into dicts\n",
    "\n",
    "def convert_stories_to_dict(docs):\n",
    "    docs_dict = []\n",
    "    \n",
    "    for doc in docs:\n",
    "        new_dict = {}\n",
    "        title = doc[1]\n",
    "        author = doc[3]\n",
    "        date = doc[2]\n",
    "        text = \"\".join(s + \" \" for s in doc[1:] if s not in [title, author, date]).replace(\"\\xa0\", \"\")\n",
    "        docs_dict.append({\n",
    "            \"title\": title,\n",
    "            \"author\": author,\n",
    "            \"date\": date,\n",
    "            \"text\": text\n",
    "        })\n",
    "        \n",
    "    return docs_dict"
   ]
  },
  {
   "cell_type": "code",
   "execution_count": 9,
   "metadata": {},
   "outputs": [],
   "source": [
    "docs = get_text_from_web(URL, ID_STORIES)"
   ]
  },
  {
   "cell_type": "code",
   "execution_count": 10,
   "metadata": {},
   "outputs": [],
   "source": [
    "short_docs = extract_story_text(docs)\n",
    "\n",
    "dict_docs = convert_stories_to_dict(short_docs)"
   ]
  },
  {
   "cell_type": "code",
   "execution_count": 11,
   "metadata": {},
   "outputs": [
    {
     "name": "stdout",
     "output_type": "stream",
     "text": [
      "Studienalltag in Zeiten von Corona Ann-Katrin Vengels, Studentin der HSPV NRW am Studienort Mülheim an der Ruhr, berichtet aus ihrem Alltag zwischen Homeschooling, Kinderbetreuung und Online-Studium. In den vergangenen Jahren habe ich die Frage nach meinem Befinden stets mit den Worten „Der normale Wahnsinn halt“ beantwortet. Und ja, irgendwie ist der Wahnsinn tatsächlich normal geworden. Ich bin Mutter von zwei Kindern, meine Tochter ist 13 und mein Sohn sechs. Seit zehn Jahren bin ich verheiratet. 2019 habe ich mich dazu entschlossen, meinen Beruf aufzugeben und mich weiterzuentwickeln, weshalb ich mich für ein duales Bachelorstudium an der HSPV entschieden habe. Mittlerweile studiere ich im zweiten Studienjahr Polizeivollzugsdienst und bin Kommissaranwärterin. Mein Ehemann (der inzwischen auch mein Kollege ist) und ich sind über die Jahre zu einem eingespielten Team geworden, das perfekt aufeinander eingestellt ist. Ein großer Pluspunkt, der definitiv eine wichtige Rolle bei meinem Berufswechsel gespielt hat. Als die Kinder schließlich groß genug waren und wir unser Haus gekauft hatten, sprach nichts mehr dagegen, sich beruflich neu zu orientieren – also wagte ich den Schritt. Der Studienplan war natürlich von Vorteil, denn der Verlauf der nächsten drei Jahre war absehbar und planbar. Mit der zugesicherten Unterstützung der Großeltern und der Familie konnte eigentlich nichts mehr schiefgehen. Doch dann kamen die vorgezogenen Osterferien im vergangen Frühjahr. Die Einschulung im Sommer schien zu diesem Zeitpunkt noch gar nicht in Gefahr, denn alles wirkte irgendwie unwirklich und noch nicht besorgniserregend. Doch dann überschlugen sich die Ereignisse: Die Einschulung mit Abstand und Singverbot, der erste Corona-Fall in der Familie, der Vater, den man nicht auf der Intensivstation besuchen konnte, Geburtstage und Weihnachten im engsten Familienkreis – es kam mir vor wie ein Dauerlauf ohne wirkliches Ziel. Und nun haben wir bereits Februar 2021. Seit gut sechs Wochen sind wir im Lockdown und damit auch im Homeschooling: Grundschule ersteKlasse vs. Gymnasium achteKlasse – und nicht zu vergessen der tägliche Kampf um das WLAN. Das Leben hat sich grundsätzlich verändert. Alles wurde umstrukturiert, weshalb viele unserer eingespielten Rituale nicht mehr umgesetzt werden können. Stattdessen werden die Nächte immer kürzer, denn Ruhe zum Arbeiten findet man oft nur noch in der Nacht. Manche Themen lassen auch keine andere Wahl. Die Seminararbeit über Kindeswohlgefährdung zu schreiben, ist zum Beispiel schwer, wenn das eigene Kind gerade mit Begeisterung die Welt der Buchstaben kennenlernt. Oft sind es auch kleine Dinge während der Vorlesungen, die einen aus der Konzentration reißen und die Rolle der Mutter erfordern. Sich anschließend wieder in die laufende Vorlesung einzufinden, ist nicht immer leicht. An dieser Stelle möchte ich mich gerne bei meinen Dozenten bedanken, denn mir wurde nicht nur viel Verständnis entgegengebracht, durch tolle Gespräche konnte ich auch viele private Einblicke erhalten. Lerngruppen haben sich während dieser Zeit ebenfalls gebildet, denn es wurde schnell klar, dass sich die Motivation gemeinsam schneller finden lässt. Insgesamt gewinnt die Online- Lehre immer mehr an Qualität und das Gefühl der Vertrautheit kehrt langsam zurück. Immer wieder gibt es Momente, in denen man merkt: Es gibt sie noch, die schöne Seite der Medaille. Unter anderem hat sich still und heimlich ein ganz neues Familienleben gebildet: Meine Tochter und ich haben zum Beispiel das Häkeln für uns entdeckt und hantieren gerne gemeinsam in der Küche – Sushi steht aktuell hoch im Kurs. Außerdem ist es toll, sich von einer 13-Jährigen Vorträge über Lernstrategien anzuhören. Immer häufiger teilen wir unsere Sorgen und ich kann mir einiges von ihr abschauen. Die täglichen Lernerfolge so nah erleben zu können und unmittelbar mitzubekommen, wie zum Beispiel Worte plötzlich einen Sinn ergeben, ist einfach toll und magisch zugleich. Im Großen und Ganzen überwiegt die Dankbarkeit – Dankbarkeit für die Gesundheit und für die Chancen, die wir haben. \n"
     ]
    }
   ],
   "source": [
    "print(dict_docs[1][\"text\"])"
   ]
  },
  {
   "cell_type": "markdown",
   "metadata": {},
   "source": [
    "## Dependency Parsing and Named Entity Recognition\n",
    "\n",
    "Before running the pipeline, the pipeline must be installed, e.g., via:\n",
    "\n",
    "`python3 -m spacy download de_core_news_sm`\n",
    "\n",
    "For details on the pipeline, see: https://spacy.io/models/de.\n"
   ]
  },
  {
   "cell_type": "code",
   "execution_count": 12,
   "metadata": {},
   "outputs": [],
   "source": [
    "# Load german nlp pipeline trained on news documents (sm = small size)\n",
    "\n",
    "nlp = spacy.load(\"de_core_news_sm\")"
   ]
  },
  {
   "cell_type": "code",
   "execution_count": 13,
   "metadata": {},
   "outputs": [],
   "source": [
    "def analyse_stories(docs):\n",
    "    processed_docs = []\n",
    "    \n",
    "    for doc in docs:\n",
    "        processed_docs.append(nlp(doc[\"text\"]))\n",
    "        \n",
    "    return processed_docs"
   ]
  },
  {
   "cell_type": "code",
   "execution_count": 14,
   "metadata": {},
   "outputs": [],
   "source": [
    "processed_docs = analyse_stories(dict_docs)"
   ]
  },
  {
   "cell_type": "code",
   "execution_count": 15,
   "metadata": {},
   "outputs": [],
   "source": [
    "# From danlp_test notebook\n",
    "\n",
    "def print_results(doc):\n",
    "    analysis = []\n",
    "    for token in doc:\n",
    "        analysis.append({ \n",
    "            \"text\": token.text,\n",
    "            \"lemma\": token.lemma_,\n",
    "            \"head\": token.head.i,\n",
    "            \"dep\": token.dep_,\n",
    "            \"pos\": token.pos_,\n",
    "            \"morph_case\": \"\".join(token.morph.get(\"Case\")),\n",
    "            \"morph_person\": \"\".join(token.morph.get(\"Person\")),\n",
    "            \"morph_number\": \"\".join(token.morph.get(\"Number\")),\n",
    "            \"ent\": token.ent_type_\n",
    "        })\n",
    "    return pd.DataFrame(analysis)"
   ]
  },
  {
   "cell_type": "code",
   "execution_count": 16,
   "metadata": {},
   "outputs": [],
   "source": [
    "# From danlp_test notebook\n",
    "\n",
    "def show_results(results_dict):\n",
    "    results_df = pd.DataFrame([{ \"key\": key, \"count\": results_dict[key]} \n",
    "                               for key in sorted(results_dict, key=lambda k: results_dict[k], reverse=True)])\n",
    "    return results_df"
   ]
  },
  {
   "cell_type": "code",
   "execution_count": 17,
   "metadata": {},
   "outputs": [],
   "source": [
    "# From danlp_test notebook\n",
    "\n",
    "def get_best_keys(results_df):\n",
    "    best_count = -1\n",
    "    best_keys = []\n",
    "    for i, row in results_df.iterrows():\n",
    "        if row[\"count\"] > best_count:\n",
    "            best_count = row[\"count\"]\n",
    "            best_keys = [row[\"key\"]]\n",
    "        elif row[\"count\"] == best_count:\n",
    "            best_keys.append(row[\"key\"])\n",
    "    case_is_upper = []\n",
    "    for key in best_keys:\n",
    "        case_is_upper.append(re.search(r\"^[A-Z]\", key) != None)\n",
    "    if True in case_is_upper:\n",
    "        best_keys = [ best_keys[i] for i in range(0, len(best_keys)) if case_is_upper[i] ] \n",
    "    return best_keys"
   ]
  },
  {
   "cell_type": "code",
   "execution_count": 18,
   "metadata": {},
   "outputs": [],
   "source": [
    "# From danlp_test notebook\n",
    "\n",
    "def get_actors(nlp_table_df):\n",
    "    actors = {}\n",
    "    for i, row in nlp_table_df.iterrows():\n",
    "        if row[\"dep\"] == \"sb\" and re.search(\"[a-zA-Z]\", row[\"text\"]):\n",
    "            actor = row[\"text\"]\n",
    "        else:\n",
    "            actor = \"\"\n",
    "        if actor != \"\":\n",
    "            if actor in actors:\n",
    "                actors[actor] += 1\n",
    "            else:\n",
    "                actors[actor] = 1\n",
    "    return actors"
   ]
  },
  {
   "cell_type": "code",
   "execution_count": 19,
   "metadata": {},
   "outputs": [],
   "source": [
    "# From danlp_test notebook\n",
    "\n",
    "def get_locations(nlp_table_df):\n",
    "    locations = {}\n",
    "    for i, row in nlp_table_df.iterrows():\n",
    "        if row[\"ent\"] == \"LOC\" and re.search(\"[a-zA-Z]\", row[\"text\"]):\n",
    "            location = row[\"text\"]\n",
    "        else:\n",
    "            location = \"\"\n",
    "        if location != \"\":\n",
    "            if location in locations:\n",
    "                locations[location] += 1\n",
    "            else:\n",
    "                locations[location] = 1\n",
    "    return locations"
   ]
  },
  {
   "cell_type": "code",
   "execution_count": 20,
   "metadata": {},
   "outputs": [],
   "source": [
    "# From danlp_test notebook\n",
    "\n",
    "def get_actions(nlp_table_df):\n",
    "    actions = {}\n",
    "    for i, row in nlp_table_df.iterrows():\n",
    "        if row[\"pos\"] == \"VERB\" and re.search(\"[a-zA-Z]\", row[\"text\"]):\n",
    "            if row[\"lemma\"] in actions:\n",
    "                actions[row[\"lemma\"]] += 1\n",
    "            else:\n",
    "                actions[row[\"lemma\"]] = 1\n",
    "    return actions"
   ]
  },
  {
   "cell_type": "markdown",
   "metadata": {},
   "source": [
    "Calculate the type of agency in the story as the average frequency of pronouns, nouns (and proper nouns) in nominative (agent) vs. dative/accusative (object) case."
   ]
  },
  {
   "cell_type": "code",
   "execution_count": 21,
   "metadata": {},
   "outputs": [],
   "source": [
    "def calc_agency(nlp_table_df):\n",
    "    agency = (nlp_table_df[nlp_table_df.morph_case.ne(\"\") \n",
    "                           & nlp_table_df.pos.isin([\"PROPN\", \"NOUN\", \"PRON\"]) \n",
    "                           & nlp_table_df.morph_case.ne(\"Gen\")]\n",
    "        .assign(agent_object = lambda dataframe: np.where(dataframe[\"morph_case\"] == \"Nom\", \"agent\", \"object\"))\n",
    "        .groupby([\"pos\", \"morph_person\", \"morph_number\", \"agent_object\"], as_index = False)\n",
    "        .agg(count = (\"text\", \"count\"))\n",
    "    )\n",
    "    \n",
    "    return agency"
   ]
  },
  {
   "cell_type": "code",
   "execution_count": 22,
   "metadata": {},
   "outputs": [],
   "source": [
    "def concatenate_results(docs, fun):\n",
    "    df_list = []\n",
    "    for i, doc in enumerate(docs):\n",
    "        df_list.append(show_results(fun(print_results(doc))).assign(id = i+1))\n",
    "    \n",
    "    return pd.concat(df_list, ignore_index = True)"
   ]
  },
  {
   "cell_type": "markdown",
   "metadata": {},
   "source": [
    "Sum the counts for concatenated data frames."
   ]
  },
  {
   "cell_type": "code",
   "execution_count": 23,
   "metadata": {},
   "outputs": [],
   "source": [
    "def show_top_keys(count_df_list):\n",
    "    top_keys = (count_df_list\n",
    "          .groupby([\"key\"], as_index = False)\n",
    "          .agg(count = (\"count\", sum))\n",
    "          .sort_values(by = [\"count\"], ascending = False)\n",
    "          .head(10)  \n",
    "    )\n",
    "    \n",
    "    return top_keys"
   ]
  },
  {
   "cell_type": "code",
   "execution_count": 24,
   "metadata": {},
   "outputs": [],
   "source": [
    "def concatenate_agency(docs):\n",
    "    df_list = []\n",
    "    for i, doc in enumerate(docs):\n",
    "        df_list.append(calc_agency(print_results(doc)).assign(id = i+1))\n",
    "    \n",
    "    return pd.concat(df_list)"
   ]
  },
  {
   "cell_type": "markdown",
   "metadata": {},
   "source": [
    "Plot the agency for pronouns in a bar chart."
   ]
  },
  {
   "cell_type": "code",
   "execution_count": 25,
   "metadata": {},
   "outputs": [],
   "source": [
    "def plot_pronoun_agency(agency_df):\n",
    "    plot_df = agency_df[agency_df.pos.eq(\"PRON\") & agency_df.morph_number.ne(\"\") & agency_df.morph_person.ne(\"\")]\n",
    "    \n",
    "    plot = sns.catplot(\n",
    "        data = plot_df,\n",
    "        x = \"morph_person\",\n",
    "        y = \"count\",\n",
    "        hue = \"agent_object\",\n",
    "        col =\"morph_number\",\n",
    "        kind = \"point\"\n",
    "    )\n",
    "    \n",
    "    print(plot)"
   ]
  },
  {
   "cell_type": "code",
   "execution_count": 26,
   "metadata": {},
   "outputs": [
    {
     "data": {
      "text/html": [
       "<div>\n",
       "<style scoped>\n",
       "    .dataframe tbody tr th:only-of-type {\n",
       "        vertical-align: middle;\n",
       "    }\n",
       "\n",
       "    .dataframe tbody tr th {\n",
       "        vertical-align: top;\n",
       "    }\n",
       "\n",
       "    .dataframe thead th {\n",
       "        text-align: right;\n",
       "    }\n",
       "</style>\n",
       "<table border=\"1\" class=\"dataframe\">\n",
       "  <thead>\n",
       "    <tr style=\"text-align: right;\">\n",
       "      <th></th>\n",
       "      <th>key</th>\n",
       "      <th>count</th>\n",
       "    </tr>\n",
       "  </thead>\n",
       "  <tbody>\n",
       "    <tr>\n",
       "      <th>203</th>\n",
       "      <td>ich</td>\n",
       "      <td>110</td>\n",
       "    </tr>\n",
       "    <tr>\n",
       "      <th>225</th>\n",
       "      <td>wir</td>\n",
       "      <td>52</td>\n",
       "    </tr>\n",
       "    <tr>\n",
       "      <th>201</th>\n",
       "      <td>es</td>\n",
       "      <td>30</td>\n",
       "    </tr>\n",
       "    <tr>\n",
       "      <th>66</th>\n",
       "      <td>Ich</td>\n",
       "      <td>29</td>\n",
       "    </tr>\n",
       "    <tr>\n",
       "      <th>210</th>\n",
       "      <td>man</td>\n",
       "      <td>19</td>\n",
       "    </tr>\n",
       "    <tr>\n",
       "      <th>216</th>\n",
       "      <td>sie</td>\n",
       "      <td>18</td>\n",
       "    </tr>\n",
       "    <tr>\n",
       "      <th>190</th>\n",
       "      <td>das</td>\n",
       "      <td>17</td>\n",
       "    </tr>\n",
       "    <tr>\n",
       "      <th>192</th>\n",
       "      <td>die</td>\n",
       "      <td>16</td>\n",
       "    </tr>\n",
       "    <tr>\n",
       "      <th>222</th>\n",
       "      <td>was</td>\n",
       "      <td>13</td>\n",
       "    </tr>\n",
       "    <tr>\n",
       "      <th>4</th>\n",
       "      <td>Alltag</td>\n",
       "      <td>11</td>\n",
       "    </tr>\n",
       "  </tbody>\n",
       "</table>\n",
       "</div>"
      ],
      "text/plain": [
       "        key  count\n",
       "203     ich    110\n",
       "225     wir     52\n",
       "201      es     30\n",
       "66      Ich     29\n",
       "210     man     19\n",
       "216     sie     18\n",
       "190     das     17\n",
       "192     die     16\n",
       "222     was     13\n",
       "4    Alltag     11"
      ]
     },
     "execution_count": 26,
     "metadata": {},
     "output_type": "execute_result"
    }
   ],
   "source": [
    "# Show top actors from all stories\n",
    "\n",
    "show_top_keys(concatenate_results(processed_docs, get_actors))"
   ]
  },
  {
   "cell_type": "markdown",
   "metadata": {},
   "source": [
    "The storytellers themselves seem to be the most prevalent actors (\"ich\"). Quite often they also act as part of a group (i.e., \"wir\")."
   ]
  },
  {
   "cell_type": "code",
   "execution_count": 27,
   "metadata": {},
   "outputs": [
    {
     "data": {
      "text/html": [
       "<div>\n",
       "<style scoped>\n",
       "    .dataframe tbody tr th:only-of-type {\n",
       "        vertical-align: middle;\n",
       "    }\n",
       "\n",
       "    .dataframe tbody tr th {\n",
       "        vertical-align: top;\n",
       "    }\n",
       "\n",
       "    .dataframe thead th {\n",
       "        text-align: right;\n",
       "    }\n",
       "</style>\n",
       "<table border=\"1\" class=\"dataframe\">\n",
       "  <thead>\n",
       "    <tr style=\"text-align: right;\">\n",
       "      <th></th>\n",
       "      <th>key</th>\n",
       "      <th>count</th>\n",
       "    </tr>\n",
       "  </thead>\n",
       "  <tbody>\n",
       "    <tr>\n",
       "      <th>174</th>\n",
       "      <td>kommen</td>\n",
       "      <td>21</td>\n",
       "    </tr>\n",
       "    <tr>\n",
       "      <th>149</th>\n",
       "      <td>haben</td>\n",
       "      <td>17</td>\n",
       "    </tr>\n",
       "    <tr>\n",
       "      <th>135</th>\n",
       "      <td>gehen</td>\n",
       "      <td>16</td>\n",
       "    </tr>\n",
       "    <tr>\n",
       "      <th>53</th>\n",
       "      <td>berichten</td>\n",
       "      <td>15</td>\n",
       "    </tr>\n",
       "    <tr>\n",
       "      <th>132</th>\n",
       "      <td>geben</td>\n",
       "      <td>14</td>\n",
       "    </tr>\n",
       "    <tr>\n",
       "      <th>123</th>\n",
       "      <td>finden</td>\n",
       "      <td>14</td>\n",
       "    </tr>\n",
       "    <tr>\n",
       "      <th>189</th>\n",
       "      <td>machen</td>\n",
       "      <td>10</td>\n",
       "    </tr>\n",
       "    <tr>\n",
       "      <th>180</th>\n",
       "      <td>lassen</td>\n",
       "      <td>10</td>\n",
       "    </tr>\n",
       "    <tr>\n",
       "      <th>313</th>\n",
       "      <td>verändern</td>\n",
       "      <td>10</td>\n",
       "    </tr>\n",
       "    <tr>\n",
       "      <th>241</th>\n",
       "      <td>sehen</td>\n",
       "      <td>10</td>\n",
       "    </tr>\n",
       "  </tbody>\n",
       "</table>\n",
       "</div>"
      ],
      "text/plain": [
       "           key  count\n",
       "174     kommen     21\n",
       "149      haben     17\n",
       "135      gehen     16\n",
       "53   berichten     15\n",
       "132      geben     14\n",
       "123     finden     14\n",
       "189     machen     10\n",
       "180     lassen     10\n",
       "313  verändern     10\n",
       "241      sehen     10"
      ]
     },
     "execution_count": 27,
     "metadata": {},
     "output_type": "execute_result"
    }
   ],
   "source": [
    "# Show top actions from all stories\n",
    "\n",
    "show_top_keys(concatenate_results(processed_docs, get_actions))"
   ]
  },
  {
   "cell_type": "markdown",
   "metadata": {},
   "source": [
    "Interestingly, 'changing' (\"verändern\") seems to be quite a prevalent action."
   ]
  },
  {
   "cell_type": "code",
   "execution_count": 28,
   "metadata": {},
   "outputs": [
    {
     "data": {
      "text/html": [
       "<div>\n",
       "<style scoped>\n",
       "    .dataframe tbody tr th:only-of-type {\n",
       "        vertical-align: middle;\n",
       "    }\n",
       "\n",
       "    .dataframe tbody tr th {\n",
       "        vertical-align: top;\n",
       "    }\n",
       "\n",
       "    .dataframe thead th {\n",
       "        text-align: right;\n",
       "    }\n",
       "</style>\n",
       "<table border=\"1\" class=\"dataframe\">\n",
       "  <thead>\n",
       "    <tr style=\"text-align: right;\">\n",
       "      <th></th>\n",
       "      <th>key</th>\n",
       "      <th>count</th>\n",
       "    </tr>\n",
       "  </thead>\n",
       "  <tbody>\n",
       "    <tr>\n",
       "      <th>26</th>\n",
       "      <td>Homeoffice</td>\n",
       "      <td>9</td>\n",
       "    </tr>\n",
       "    <tr>\n",
       "      <th>52</th>\n",
       "      <td>Mülheim</td>\n",
       "      <td>6</td>\n",
       "    </tr>\n",
       "    <tr>\n",
       "      <th>63</th>\n",
       "      <td>Ruhr</td>\n",
       "      <td>4</td>\n",
       "    </tr>\n",
       "    <tr>\n",
       "      <th>84</th>\n",
       "      <td>der</td>\n",
       "      <td>4</td>\n",
       "    </tr>\n",
       "    <tr>\n",
       "      <th>83</th>\n",
       "      <td>an</td>\n",
       "      <td>4</td>\n",
       "    </tr>\n",
       "    <tr>\n",
       "      <th>41</th>\n",
       "      <td>Lehrveranstaltungen</td>\n",
       "      <td>4</td>\n",
       "    </tr>\n",
       "    <tr>\n",
       "      <th>44</th>\n",
       "      <td>Lockdown</td>\n",
       "      <td>3</td>\n",
       "    </tr>\n",
       "    <tr>\n",
       "      <th>9</th>\n",
       "      <td>Borken</td>\n",
       "      <td>3</td>\n",
       "    </tr>\n",
       "    <tr>\n",
       "      <th>35</th>\n",
       "      <td>Kreis</td>\n",
       "      <td>3</td>\n",
       "    </tr>\n",
       "    <tr>\n",
       "      <th>14</th>\n",
       "      <td>Corona</td>\n",
       "      <td>3</td>\n",
       "    </tr>\n",
       "  </tbody>\n",
       "</table>\n",
       "</div>"
      ],
      "text/plain": [
       "                    key  count\n",
       "26           Homeoffice      9\n",
       "52              Mülheim      6\n",
       "63                 Ruhr      4\n",
       "84                  der      4\n",
       "83                   an      4\n",
       "41  Lehrveranstaltungen      4\n",
       "44             Lockdown      3\n",
       "9                Borken      3\n",
       "35                Kreis      3\n",
       "14               Corona      3"
      ]
     },
     "execution_count": 28,
     "metadata": {},
     "output_type": "execute_result"
    }
   ],
   "source": [
    "# Show top locations from all stories\n",
    "\n",
    "show_top_keys(concatenate_results(processed_docs, get_locations))"
   ]
  },
  {
   "cell_type": "markdown",
   "metadata": {},
   "source": [
    "Some of the keys are not actually locations (i.e., lockdown, Corona). Apparently, spaCy's named entity recognition is not very good for German due to limited training data (e.g., see https://github.com/explosion/spaCy/issues/2774). However, \"Homeoffice\", \"Mülheim\", and \"Lehrveranstaltungen\" (i.e., in class) seem like very plausible locations."
   ]
  },
  {
   "cell_type": "code",
   "execution_count": 29,
   "metadata": {},
   "outputs": [
    {
     "name": "stdout",
     "output_type": "stream",
     "text": [
      "<seaborn.axisgrid.FacetGrid object at 0x000002581165FD30>\n"
     ]
    },
    {
     "data": {
      "image/png": "[encoded data removed]",
      "text/plain": [
       "<Figure size 792.5x360 with 2 Axes>"
      ]
     },
     "metadata": {
      "needs_background": "light"
     },
     "output_type": "display_data"
    }
   ],
   "source": [
    "# Show agency across all stories\n",
    "\n",
    "plot_pronoun_agency(concatenate_agency(processed_docs))"
   ]
  },
  {
   "cell_type": "markdown",
   "metadata": {},
   "source": [
    "## Semantic Role Labeling\n",
    "\n",
    "Only option sofar: With pre-trained tensorflow model as described in https://liir.cs.kuleuven.be/software_pages/damesrl.php. The link also contains the source code and pre-trained model files in folder `charatt_ger_march23`. The software is distributed under the Apache 2.0 license."
   ]
  },
  {
   "cell_type": "markdown",
   "metadata": {},
   "source": [
    "## Topic Modeling\n",
    "\n",
    "Define a corpus for topic modeling that only includes lemmatized adjectives, nouns, proper nouns, and verbs."
   ]
  },
  {
   "cell_type": "code",
   "execution_count": 30,
   "metadata": {},
   "outputs": [],
   "source": [
    "# Function to create corpus for topic modeling\n",
    "\n",
    "def create_corpus_from_processed_docs(docs):\n",
    "    corpus = []\n",
    "\n",
    "    for doc in docs:\n",
    "        new_res = print_results(doc)\n",
    "        new_lemma_doc = new_res.lemma[new_res.pos.isin([\"ADJ\", \"NOUN\", \"PNOUN\", \"VERB\"])]\n",
    "        corpus.append(new_lemma_doc)\n",
    "\n",
    "    return corpus"
   ]
  },
  {
   "cell_type": "code",
   "execution_count": 31,
   "metadata": {},
   "outputs": [],
   "source": [
    "# Create corpus\n",
    "\n",
    "corpus = create_corpus_from_processed_docs(processed_docs)"
   ]
  },
  {
   "cell_type": "markdown",
   "metadata": {},
   "source": [
    "### Latent Dirichlet Allocation\n",
    "\n",
    "One method for topic modeling is Latent Dirichlet Allocation (LDA; see Blei, Ng, & Jordan, 2003). In LDA, each document in a corpus is modeled as a finite mixture of topics (i.e., the number of topics is known in advance and fixed). Each topic is modeled as an infinite mixture of words (i.e., the number of words per topic is not known in advance and random). The argument `passes` specifies how often the entire corpus is passed through during training."
   ]
  },
  {
   "cell_type": "code",
   "execution_count": 32,
   "metadata": {},
   "outputs": [],
   "source": [
    "# Function to apply LDA to corpus\n",
    "\n",
    "def apply_LDA(corpus, num_topics, seed = None):\n",
    "    dictionary = corpora.Dictionary(corpus)\n",
    "    \n",
    "    doc_term_matrix = [dictionary.doc2bow(doc) for doc in corpus]\n",
    "    \n",
    "    lda_fit = LdaModel(doc_term_matrix, num_topics = NUM_TOPICS, id2word = dictionary, passes = 100, random_state = seed)\n",
    "    \n",
    "    return dictionary, doc_term_matrix, lda_fit"
   ]
  },
  {
   "cell_type": "code",
   "execution_count": 33,
   "metadata": {},
   "outputs": [],
   "source": [
    "# Apply LDA to corpus\n",
    "\n",
    "NUM_TOPICS = 3\n",
    "\n",
    "SEED = 791234\n",
    "\n",
    "dictionary, doc_term_matrix, lda_fit = apply_LDA(corpus, NUM_TOPICS, SEED)"
   ]
  },
  {
   "cell_type": "code",
   "execution_count": 34,
   "metadata": {},
   "outputs": [],
   "source": [
    "# Funtion to get top word probabilities per topic as data frame\n",
    "\n",
    "def get_top_word_probs(lda_fit, num_topics, num_words):\n",
    "    top_words = lda_fit.show_topics(num_topics = num_topics, num_words = num_words, formatted = False)\n",
    "\n",
    "    top_words_df = (pd.DataFrame(top_words)\n",
    "                      .explode(1, ignore_index = True)\n",
    "                      .rename(columns = {0: \"topic_id\", 1: \"word_prob\"})\n",
    "                     )\n",
    "    top_words_df[[\"word\", \"prob\"]] = top_words_df[\"word_prob\"].tolist()\n",
    "    \n",
    "    return top_words_df[[\"topic_id\", \"word\", \"prob\"]]"
   ]
  },
  {
   "cell_type": "code",
   "execution_count": 35,
   "metadata": {},
   "outputs": [],
   "source": [
    "# Function to plot top LDA word probabilities per topic\n",
    "\n",
    "def plot_top_word_probs(lda_fit, num_topics, num_words):\n",
    "    plot_df = get_top_word_probs(lda_fit, num_topics, num_words)\n",
    "    \n",
    "    plot = sns.catplot(\n",
    "        data = plot_df,\n",
    "        x = \"prob\",\n",
    "        y = \"word\",\n",
    "        col = \"topic_id\",\n",
    "        hue = \"topic_id\",\n",
    "        kind = \"bar\",\n",
    "        sharey = False,\n",
    "        col_wrap = 3\n",
    "    )\n",
    "    \n",
    "    return plot"
   ]
  },
  {
   "cell_type": "code",
   "execution_count": 36,
   "metadata": {},
   "outputs": [
    {
     "data": {
      "text/plain": [
       "<seaborn.axisgrid.FacetGrid at 0x25816970730>"
      ]
     },
     "execution_count": 36,
     "metadata": {},
     "output_type": "execute_result"
    },
    {
     "data": {
      "image/png": "[encoded data removed]",
      "text/plain": [
       "<Figure size 1080x360 with 3 Axes>"
      ]
     },
     "metadata": {
      "needs_background": "light"
     },
     "output_type": "display_data"
    }
   ],
   "source": [
    "plot_top_word_probs(lda_fit, NUM_TOPICS, 5)"
   ]
  },
  {
   "cell_type": "markdown",
   "metadata": {},
   "source": [
    "### Term Score\n",
    "According to Blei & Lafferty (2009), it is often more useful to look at the term-score metric for each topic, calculated as follows (p. 75): $$\\text{term-score}_{wi} = \\beta_{wi}\\log\\left(\\frac{\\beta_{wi}}{(\\prod_{j = 1}^{K}\\beta_{wj})^{1/K}}\\right),$$ for each word $w$ with probability $\\beta_{wi}$ to to appear in topic $i$ with $K$\n",
    " being the number of topics in the model. This score is similar to the tf/idf metric and takes the probability of a word appearing in the other topics into account."
   ]
  },
  {
   "cell_type": "code",
   "execution_count": 58,
   "metadata": {},
   "outputs": [],
   "source": [
    "# Funtion to get top word scores per topic as data frame\n",
    "\n",
    "def get_top_word_scores(lda_fit, num_topics, num_words):\n",
    "    \n",
    "    word_probs = lda_fit.get_topics()\n",
    "    word_token = [dictionary.id2token[i] for i in range(len(dictionary))]\n",
    "    word_probs_df = pd.DataFrame(word_probs).transpose()\n",
    "    word_probs_df[\"prod\"] = word_probs_df.prod(axis=1)\n",
    "    word_probs_df.insert(0, \"word\", word_token)\n",
    "    word_probs_df = word_probs_df.melt(id_vars = [\"word\", \"prod\"], var_name = \"topic_id\", value_name = \"prob\")\n",
    "    word_probs_df = (word_probs_df\n",
    "                    .assign(score = word_probs_df[\"prob\"]*np.log(word_probs_df[\"prob\"]/(word_probs_df[\"prod\"])**(1/num_topics)))\n",
    "                    .sort_values(by = [\"topic_id\", \"score\"], ascending = False)\n",
    "                    .groupby(\"topic_id\", as_index = False)\n",
    "                    .head(num_words)\n",
    "                    )\n",
    "\n",
    "    return word_probs_df[[\"topic_id\", \"word\", \"score\"]]"
   ]
  },
  {
   "cell_type": "code",
   "execution_count": 59,
   "metadata": {},
   "outputs": [],
   "source": [
    "# Function to plot top word scores per topic\n",
    "\n",
    "def plot_top_word_scores(lda_fit, num_topics, num_words):\n",
    "    plot_df = get_top_word_scores(lda_fit, num_topics, num_words)\n",
    "    \n",
    "    plot = sns.catplot(\n",
    "        data = plot_df,\n",
    "        x = \"score\",\n",
    "        y = \"word\",\n",
    "        col = \"topic_id\",\n",
    "        hue = \"topic_id\",\n",
    "        kind = \"bar\",\n",
    "        sharey = False,\n",
    "        col_wrap = 3\n",
    "    )\n",
    "    \n",
    "    return plot"
   ]
  },
  {
   "cell_type": "code",
   "execution_count": 60,
   "metadata": {},
   "outputs": [
    {
     "data": {
      "text/plain": [
       "<seaborn.axisgrid.FacetGrid at 0x2583f409c10>"
      ]
     },
     "execution_count": 60,
     "metadata": {},
     "output_type": "execute_result"
    },
    {
     "data": {
      "image/png": "[encoded data removed]",
      "text/plain": [
       "<Figure size 1080x360 with 3 Axes>"
      ]
     },
     "metadata": {
      "needs_background": "light"
     },
     "output_type": "display_data"
    }
   ],
   "source": [
    "# Plot top word scores for each topic\n",
    "\n",
    "plot_top_word_scores(lda_fit, NUM_TOPICS, 5)"
   ]
  },
  {
   "cell_type": "markdown",
   "metadata": {},
   "source": [
    "### Topic differences\n",
    "To get insight into the differences between topics, the log (base 2) of the probability ratios between two topics will be calculated for each word. For each word $w$ and topics $i$ and $j$: $$ D_{wij} = log_2\\left(\\frac{\\beta_{wi}}{\\beta_{wi}}\\right),$$ where $\\beta_{wi}$ is the probability that word $w$ occurs in topic $i$. For example, a $D_{wij} = 2$ would indicate that word $w$ is two times more likely to occur within topic $i$ than in topic $j$."
   ]
  },
  {
   "cell_type": "code",
   "execution_count": 40,
   "metadata": {},
   "outputs": [],
   "source": [
    "# Function to calculate the differences between topics\n",
    "\n",
    "def get_topic_differences(lda_fit, num_topics, num_words):\n",
    "    word_probs = lda_fit.get_topics()\n",
    "    word_token = [dictionary.id2token[i] for i in range(len(dictionary))]\n",
    "    word_probs_df = pd.DataFrame(word_probs).transpose()\n",
    "    word_probs_df.insert(0, \"word\", word_token)\n",
    "    word_probs_df = word_probs_df[word_probs_df[0].ge(0.001) & word_probs_df[1].ge(0.001) & word_probs_df[2].ge(0.001)]\n",
    "    \n",
    "    for c in combinations(range(NUM_TOPICS), 2):\n",
    "        word_probs_df[\"{}-{}\".format(c[0], c[1])] = np.log2(word_probs_df[c[0]]/word_probs_df[c[1]])\n",
    "        \n",
    "    word_probs_df = (word_probs_df\n",
    "                    .drop([i for i in range(num_topics)], axis = 1)\n",
    "                    .melt(id_vars = \"word\", var_name = \"diff\", value_name = \"value\")\n",
    "                    )\n",
    "                    \n",
    "    word_probs_df = (word_probs_df\n",
    "                    .assign(abs_value = np.abs(word_probs_df[\"value\"]))\n",
    "                    .sort_values(by = [\"diff\", \"abs_value\"], ascending = False)\n",
    "                    .groupby(\"diff\", as_index = False)\n",
    "                    .head(num_words)\n",
    "                    )\n",
    "    \n",
    "    return word_probs_df"
   ]
  },
  {
   "cell_type": "code",
   "execution_count": 41,
   "metadata": {},
   "outputs": [],
   "source": [
    "# Function to plot differences between topics\n",
    "\n",
    "def plot_topic_differences(lda_fit, num_topics, num_words):\n",
    "    plot_df = get_topic_differences(lda_fit, num_topics, num_words)\n",
    "    \n",
    "    plot = sns.catplot(\n",
    "        data = plot_df,\n",
    "        x = \"value\",\n",
    "        y = \"word\",\n",
    "        col = \"diff\",\n",
    "        kind = \"bar\",\n",
    "        sharey = False,\n",
    "        col_wrap = 3\n",
    "    )\n",
    "    \n",
    "    plot.set(xlabel = \"log2(prob_ratio)\")\n",
    "    \n",
    "    return plot"
   ]
  },
  {
   "cell_type": "code",
   "execution_count": 42,
   "metadata": {},
   "outputs": [
    {
     "name": "stderr",
     "output_type": "stream",
     "text": [
      "C:\\Users\\MalteLuken\\Repositories\\navigating-stories\\lib\\site-packages\\seaborn\\categorical.py:3808: UserWarning: Setting `sharey=False` with `color=None` may cause different levels of the `y` variable to share colors. This will change in a future version.\n",
      "  warnings.warn(msg.format(\"sharey\", \"y\"), UserWarning)\n"
     ]
    },
    {
     "data": {
      "text/plain": [
       "<seaborn.axisgrid.FacetGrid at 0x25839c335e0>"
      ]
     },
     "execution_count": 42,
     "metadata": {},
     "output_type": "execute_result"
    },
    {
     "data": {
      "image/png": "[encoded data removed]",
      "text/plain": [
       "<Figure size 1080x360 with 3 Axes>"
      ]
     },
     "metadata": {
      "needs_background": "light"
     },
     "output_type": "display_data"
    }
   ],
   "source": [
    "# Plot differences between topics\n",
    "\n",
    "plot_topic_differences(lda_fit, NUM_TOPICS, 10)"
   ]
  },
  {
   "cell_type": "markdown",
   "metadata": {},
   "source": [
    "### Topic "
   ]
  },
  {
   "cell_type": "code",
   "execution_count": 91,
   "metadata": {},
   "outputs": [],
   "source": [
    "# Function to get topic probabilities per document\n",
    "\n",
    "def get_topic_probs(lda_fit, doc_term_matrix):\n",
    "    doc_topic_probs = lda_fit.get_document_topics(doc_term_matrix, minimum_probability = 0.0)\n",
    "\n",
    "    doc_topic_probs_df = pd.DataFrame([[t[1] for t in l] for l in doc_topic_probs])\n",
    "    \n",
    "    return doc_topic_probs_df"
   ]
  },
  {
   "cell_type": "code",
   "execution_count": 92,
   "metadata": {},
   "outputs": [
    {
     "data": {
      "text/html": [
       "<div>\n",
       "<style scoped>\n",
       "    .dataframe tbody tr th:only-of-type {\n",
       "        vertical-align: middle;\n",
       "    }\n",
       "\n",
       "    .dataframe tbody tr th {\n",
       "        vertical-align: top;\n",
       "    }\n",
       "\n",
       "    .dataframe thead th {\n",
       "        text-align: right;\n",
       "    }\n",
       "</style>\n",
       "<table border=\"1\" class=\"dataframe\">\n",
       "  <thead>\n",
       "    <tr style=\"text-align: right;\">\n",
       "      <th></th>\n",
       "      <th>0</th>\n",
       "      <th>1</th>\n",
       "      <th>2</th>\n",
       "    </tr>\n",
       "  </thead>\n",
       "  <tbody>\n",
       "    <tr>\n",
       "      <th>0</th>\n",
       "      <td>0.002019</td>\n",
       "      <td>0.002086</td>\n",
       "      <td>0.995896</td>\n",
       "    </tr>\n",
       "    <tr>\n",
       "      <th>1</th>\n",
       "      <td>0.001725</td>\n",
       "      <td>0.996527</td>\n",
       "      <td>0.001748</td>\n",
       "    </tr>\n",
       "    <tr>\n",
       "      <th>2</th>\n",
       "      <td>0.003067</td>\n",
       "      <td>0.003061</td>\n",
       "      <td>0.993872</td>\n",
       "    </tr>\n",
       "    <tr>\n",
       "      <th>3</th>\n",
       "      <td>0.001391</td>\n",
       "      <td>0.997202</td>\n",
       "      <td>0.001407</td>\n",
       "    </tr>\n",
       "    <tr>\n",
       "      <th>4</th>\n",
       "      <td>0.002488</td>\n",
       "      <td>0.994875</td>\n",
       "      <td>0.002636</td>\n",
       "    </tr>\n",
       "    <tr>\n",
       "      <th>5</th>\n",
       "      <td>0.001372</td>\n",
       "      <td>0.001393</td>\n",
       "      <td>0.997234</td>\n",
       "    </tr>\n",
       "    <tr>\n",
       "      <th>6</th>\n",
       "      <td>0.992656</td>\n",
       "      <td>0.003570</td>\n",
       "      <td>0.003774</td>\n",
       "    </tr>\n",
       "    <tr>\n",
       "      <th>7</th>\n",
       "      <td>0.995208</td>\n",
       "      <td>0.002360</td>\n",
       "      <td>0.002432</td>\n",
       "    </tr>\n",
       "    <tr>\n",
       "      <th>8</th>\n",
       "      <td>0.001479</td>\n",
       "      <td>0.997015</td>\n",
       "      <td>0.001507</td>\n",
       "    </tr>\n",
       "    <tr>\n",
       "      <th>9</th>\n",
       "      <td>0.997654</td>\n",
       "      <td>0.001166</td>\n",
       "      <td>0.001180</td>\n",
       "    </tr>\n",
       "    <tr>\n",
       "      <th>10</th>\n",
       "      <td>0.002843</td>\n",
       "      <td>0.002803</td>\n",
       "      <td>0.994354</td>\n",
       "    </tr>\n",
       "    <tr>\n",
       "      <th>11</th>\n",
       "      <td>0.001941</td>\n",
       "      <td>0.001948</td>\n",
       "      <td>0.996111</td>\n",
       "    </tr>\n",
       "    <tr>\n",
       "      <th>12</th>\n",
       "      <td>0.002776</td>\n",
       "      <td>0.002795</td>\n",
       "      <td>0.994429</td>\n",
       "    </tr>\n",
       "  </tbody>\n",
       "</table>\n",
       "</div>"
      ],
      "text/plain": [
       "           0         1         2\n",
       "0   0.002019  0.002086  0.995896\n",
       "1   0.001725  0.996527  0.001748\n",
       "2   0.003067  0.003061  0.993872\n",
       "3   0.001391  0.997202  0.001407\n",
       "4   0.002488  0.994875  0.002636\n",
       "5   0.001372  0.001393  0.997234\n",
       "6   0.992656  0.003570  0.003774\n",
       "7   0.995208  0.002360  0.002432\n",
       "8   0.001479  0.997015  0.001507\n",
       "9   0.997654  0.001166  0.001180\n",
       "10  0.002843  0.002803  0.994354\n",
       "11  0.001941  0.001948  0.996111\n",
       "12  0.002776  0.002795  0.994429"
      ]
     },
     "execution_count": 92,
     "metadata": {},
     "output_type": "execute_result"
    }
   ],
   "source": [
    "# Extract topic probabilities per document\n",
    "\n",
    "get_topic_probs(lda_fit, doc_term_matrix)"
   ]
  },
  {
   "cell_type": "markdown",
   "metadata": {},
   "source": [
    "To inspect the similarity between documents, Blei & Lafferty (2009) suggest using the Heller distance between documents $f$ and $g$ as $$d_{fg} = \\sum_{k = 1}^{K}\\left(\\sqrt{\\gamma_{fk}} - \\sqrt{\\gamma_{gk}}\\right)^2, $$ where $\\gamma_{fk}$ is the probability of document $f$ for topic $k$ with $K$ being the total number of topics. Higher $d$ indicates less similarity between two documents. "
   ]
  },
  {
   "cell_type": "code",
   "execution_count": 100,
   "metadata": {},
   "outputs": [],
   "source": [
    "# Function to compute document similarity\n",
    "\n",
    "def get_doc_similarity(lda_fit, doc_term_matrix):\n",
    "    topic_probs = get_topic_probs(lda_fit, doc_term_matrix)\n",
    "    \n",
    "    doc_similarity = []\n",
    "    \n",
    "    for i in range(len(topic_probs)):\n",
    "        row = []\n",
    "        \n",
    "        for j in range(len(topic_probs)):\n",
    "            new_similarity = np.sum((np.sqrt(topic_probs.iloc[i,:]) - np.sqrt(topic_probs.iloc[j,:]))**2)\n",
    "            row.append(new_similarity)\n",
    "        \n",
    "        doc_similarity.append(row)\n",
    "            \n",
    "    return pd.DataFrame(doc_similarity)"
   ]
  },
  {
   "cell_type": "code",
   "execution_count": 112,
   "metadata": {},
   "outputs": [],
   "source": [
    "# Function to plot document similarity\n",
    "\n",
    "def plot_doc_similarity(lda_fit, doc_term_matrix):\n",
    "    plot_df = get_doc_similarity(lda_fit, doc_term_matrix)\n",
    "    \n",
    "    sns.set_theme()\n",
    "    \n",
    "    plot = sns.heatmap(plot_df)\n",
    "    \n",
    "    return plot"
   ]
  },
  {
   "cell_type": "code",
   "execution_count": 113,
   "metadata": {},
   "outputs": [
    {
     "data": {
      "text/plain": [
       "<AxesSubplot:>"
      ]
     },
     "execution_count": 113,
     "metadata": {},
     "output_type": "execute_result"
    },
    {
     "data": {
      "image/png": "[encoded data removed]",
      "text/plain": [
       "<Figure size 432x288 with 2 Axes>"
      ]
     },
     "metadata": {},
     "output_type": "display_data"
    }
   ],
   "source": [
    "plot_doc_similarity(lda_fit, doc_term_matrix)"
   ]
  },
  {
   "cell_type": "markdown",
   "metadata": {},
   "source": [
    "To assess the LDA models performance, the perplexity and coherence can be computed for a hold out test corpus. These measures can also be used to determine the number of topics to use in the model (i.e., lowest perplexity, highest coherence). Perplexity is purely a measure of statistical fit whereas coherence aims to indicate the interpretability by humans. There are several measures of coherence (see Röder, Both, and Hinneburg, 2015) and $C_v$ seems to perform best in most cases. However, the corpus here is too small to compute $C_v$, so $C_{UMass}$ will be used for demonstration instead."
   ]
  },
  {
   "cell_type": "code",
   "execution_count": 45,
   "metadata": {},
   "outputs": [],
   "source": [
    "# Function to evaluate the LDA model performance using hold out perplexity and coherence\n",
    "\n",
    "def calc_LDA_performance(corpus, K, train_test_split = 0.8, seed = None):\n",
    "    if seed is not None:\n",
    "        random.seed(seed)\n",
    "    \n",
    "    dictionary = corpora.Dictionary(corpus)\n",
    "    doc_term_matrix = [dictionary.doc2bow(doc) for doc in corpus]\n",
    "    \n",
    "    doc_idx = range(len(corpus))\n",
    "    train_idx = random.sample(doc_idx, k = math.floor(train_test_split*(len(corpus))))\n",
    "    test_idx = [doc_idx[i] for i in doc_idx if i not in train_idx]\n",
    "    train_doc_term_matrix = [doc_term_matrix[i] for i in train_idx]\n",
    "    test_doc_term_matrix = [doc_term_matrix[i] for i in test_idx] if type(test_idx) is list else [doc_term_matrix[test_idx]]\n",
    "    \n",
    "    performance = {\"k\": [], \"train_perplexity\": [], \"test_perplexity\": [], \"train_coherence\": [], \"test_coherence\": []}\n",
    "\n",
    "    for k in K: \n",
    "        train_lda_fit = LdaModel(train_doc_term_matrix, num_topics = k, id2word = dictionary, passes = 10, random_state = seed)\n",
    "        train_perplexity = train_lda_fit.log_perplexity(train_doc_term_matrix)\n",
    "        test_perplexity = train_lda_fit.log_perplexity(test_doc_term_matrix)\n",
    "        \n",
    "        performance[\"k\"].append(k)\n",
    "        performance[\"train_perplexity\"].append(train_perplexity)\n",
    "        performance[\"test_perplexity\"].append(test_perplexity)\n",
    "        \n",
    "        train_coherence_model_fit = CoherenceModel(\n",
    "            model = train_lda_fit,\n",
    "            texts = [corpus[i] for i in train_idx],\n",
    "            corpus = train_doc_term_matrix,\n",
    "            dictionary = dictionary,\n",
    "            coherence = \"c_v\"\n",
    "        )\n",
    "        test_coherence_model_fit = CoherenceModel(\n",
    "            model = train_lda_fit,\n",
    "            texts = [corpus[i] for i in test_idx] if type(test_idx) is list else corpus[test_idx],\n",
    "            corpus = test_doc_term_matrix,\n",
    "            dictionary = dictionary,\n",
    "            coherence = \"u_mass\"\n",
    "        )\n",
    "        \n",
    "        performance[\"train_coherence\"].append(train_coherence_model_fit.get_coherence())\n",
    "        performance[\"test_coherence\"].append(test_coherence_model_fit.get_coherence())\n",
    "    \n",
    "    return pd.DataFrame(performance)"
   ]
  },
  {
   "cell_type": "code",
   "execution_count": 46,
   "metadata": {},
   "outputs": [
    {
     "name": "stdout",
     "output_type": "stream",
     "text": [
      "    k  train_perplexity  test_perplexity  train_coherence  test_coherence\n",
      "0   2         -7.186948        -9.598770         0.281702       -8.799914\n",
      "1   3         -7.174706       -10.809252         0.284994       -6.989347\n",
      "2   4         -7.236096       -11.715559         0.328435       -9.369097\n",
      "3   5         -7.254988       -12.553841         0.316915       -8.690004\n",
      "4   6         -7.299072       -13.365428         0.400858       -7.414696\n",
      "5   7         -7.342455       -13.872166         0.378040       -8.549767\n",
      "6   8         -7.318261       -14.803246         0.419115       -8.185515\n",
      "7   9         -7.370012       -15.538190         0.390334       -7.930280\n",
      "8  10         -7.287715       -16.720492         0.494777       -9.353981\n"
     ]
    }
   ],
   "source": [
    "# Evaluate model performance\n",
    "\n",
    "K = range(2, 11)\n",
    "\n",
    "lda_performance_df = calc_LDA_performance(corpus, K, seed = SEED)\n",
    "\n",
    "print(lda_performance_df)"
   ]
  },
  {
   "cell_type": "code",
   "execution_count": 47,
   "metadata": {},
   "outputs": [],
   "source": [
    "# Function to plot model performance\n",
    "\n",
    "def plot_lda_performance(performance_df):\n",
    "    plot_df = performance_df.melt(id_vars = \"k\", var_name = \"measure\")\n",
    "    plot_df[[\"set\", \"measure\"]] = [s.split(\"_\") for s in plot_df.measure]\n",
    "    \n",
    "    plot = sns.relplot(\n",
    "        data = plot_df,\n",
    "        x = \"k\",\n",
    "        y = \"value\",\n",
    "        row = \"measure\",\n",
    "        style = \"set\",\n",
    "        kind = \"line\",\n",
    "        facet_kws = {'sharey': False, 'sharex': True}\n",
    "    )\n",
    "    \n",
    "    return plot"
   ]
  },
  {
   "cell_type": "code",
   "execution_count": 48,
   "metadata": {},
   "outputs": [
    {
     "data": {
      "text/plain": [
       "<seaborn.axisgrid.FacetGrid at 0x25839c064c0>"
      ]
     },
     "execution_count": 48,
     "metadata": {},
     "output_type": "execute_result"
    },
    {
     "data": {
      "image/png": "[encoded data removed]",
      "text/plain": [
       "<Figure size 419.375x720 with 2 Axes>"
      ]
     },
     "metadata": {
      "needs_background": "light"
     },
     "output_type": "display_data"
    }
   ],
   "source": [
    "# Plot model performance\n",
    "\n",
    "plot_lda_performance(lda_performance_df)"
   ]
  },
  {
   "cell_type": "markdown",
   "metadata": {},
   "source": [
    "## Suggestions for Future Work\n",
    "\n",
    "1. Look at tenses (past vs. future)\n",
    "2. Look at sentiment"
   ]
  }
 ],
 "metadata": {
  "interpreter": {
   "hash": "7347d991c5e2f391a3d7d79e5ee26bb4d126111ca53b3542519de53e7706b949"
  },
  "kernelspec": {
   "display_name": "navigating-stories",
   "language": "python",
   "name": "navigating-stories"
  },
  "language_info": {
   "codemirror_mode": {
    "name": "ipython",
    "version": 3
   },
   "file_extension": ".py",
   "mimetype": "text/x-python",
   "name": "python",
   "nbconvert_exporter": "python",
   "pygments_lexer": "ipython3",
   "version": "3.9.7"
  }
 },
 "nbformat": 4,
 "nbformat_minor": 4
}

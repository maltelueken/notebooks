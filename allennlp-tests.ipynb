{
 "cells": [
  {
   "cell_type": "markdown",
   "id": "097cf9b2-c835-4d63-93e6-fb98636763f9",
   "metadata": {},
   "source": [
    "# AllenNLP tests\n",
    "\n",
    "Use AllenNLP's semantic role labeling in combination with manually written rules for extracting causal relations from political speeches. We found two limitations: only relations within a single sentence were found and complex relations involving understanding the sentence were hard to identify.\n",
    "\n",
    "Links:\n",
    "\n",
    "* software installation: https://github.com/allenai/allennlp (do not forget to install NLTK popular models)\n",
    "* software usage: https://demo.allennlp.org/semantic-role-labeling (tab: Model Usage)"
   ]
  },
  {
   "cell_type": "markdown",
   "id": "6cc310b0-1c94-4561-b41d-b76cfd4a48a5",
   "metadata": {},
   "source": [
    "## 1. Language processing modules"
   ]
  },
  {
   "cell_type": "code",
   "execution_count": 1,
   "id": "b4d59808-a18f-4dfe-970a-35ac0d46f573",
   "metadata": {},
   "outputs": [],
   "source": [
    "from allennlp.predictors.predictor import Predictor\n",
    "import allennlp_models.tagging\n",
    "import spacy"
   ]
  },
  {
   "cell_type": "markdown",
   "id": "684ed53c-b3e5-4cf0-bd00-023d00367908",
   "metadata": {},
   "source": [
    "We use AllenNLP for semantic role labeling and Spacy for lemmatization (of verbs)."
   ]
  },
  {
   "cell_type": "code",
   "execution_count": 2,
   "id": "207dd2bc-a758-4e4c-a813-9bf1024aac15",
   "metadata": {},
   "outputs": [],
   "source": [
    "spacy_analyze = spacy.load('en_core_web_sm')"
   ]
  },
  {
   "cell_type": "code",
   "execution_count": 3,
   "id": "289eae14-db61-4df0-baec-41b07319a109",
   "metadata": {},
   "outputs": [
    {
     "name": "stderr",
     "output_type": "stream",
     "text": [
      "/home/erikt/anaconda3/envs/allennlp/lib/python3.7/site-packages/allennlp/tango/__init__.py:18: UserWarning: AllenNLP Tango is an experimental API and parts of it might change or disappear every time we release a new version.\n",
      "  \"AllenNLP Tango is an experimental API and parts of it might change or disappear \"\n",
      "2021-11-26 10:12:50,090 - INFO - allennlp.common.plugins - Plugin allennlp_models available\n",
      "2021-11-26 10:12:50,359 - INFO - cached_path - cache of https://storage.googleapis.com/allennlp-public-models/structured-prediction-srl-bert.2020.12.15.tar.gz is up-to-date\n",
      "2021-11-26 10:12:50,362 - INFO - allennlp.models.archival - loading archive file https://storage.googleapis.com/allennlp-public-models/structured-prediction-srl-bert.2020.12.15.tar.gz from cache at /home/erikt/.allennlp/cache/b5f1db011cc85691a5fa2bf29e055a712261a2e5d74a74edd7da2fffc98d4ab8.4c4ac7e06ec3d85631bd26b839f90b5a375d3ceeb43e3c74f1cf4758dcee2bb3\n",
      "2021-11-26 10:12:50,366 - INFO - allennlp.models.archival - extracting archive file /home/erikt/.allennlp/cache/b5f1db011cc85691a5fa2bf29e055a712261a2e5d74a74edd7da2fffc98d4ab8.4c4ac7e06ec3d85631bd26b839f90b5a375d3ceeb43e3c74f1cf4758dcee2bb3 to temp dir /tmp/tmpuhpa3xb8\n",
      "2021-11-26 10:12:53,704 - INFO - allennlp.common.params - dataset_reader.type = srl\n",
      "2021-11-26 10:12:53,705 - INFO - allennlp.common.params - dataset_reader.max_instances = None\n",
      "2021-11-26 10:12:53,706 - INFO - allennlp.common.params - dataset_reader.manual_distributed_sharding = False\n",
      "2021-11-26 10:12:53,706 - INFO - allennlp.common.params - dataset_reader.manual_multiprocess_sharding = False\n",
      "2021-11-26 10:12:53,707 - INFO - allennlp.common.params - dataset_reader.token_indexers = None\n",
      "2021-11-26 10:12:53,708 - INFO - allennlp.common.params - dataset_reader.domain_identifier = None\n",
      "2021-11-26 10:12:53,708 - INFO - allennlp.common.params - dataset_reader.bert_model_name = bert-base-uncased\n",
      "2021-11-26 10:12:53,709 - INFO - allennlp.common.params - type = bert-base-uncased\n",
      "2021-11-26 10:13:06,063 - INFO - allennlp.common.params - dataset_reader.type = srl\n",
      "2021-11-26 10:13:06,064 - INFO - allennlp.common.params - dataset_reader.max_instances = None\n",
      "2021-11-26 10:13:06,065 - INFO - allennlp.common.params - dataset_reader.manual_distributed_sharding = False\n",
      "2021-11-26 10:13:06,065 - INFO - allennlp.common.params - dataset_reader.manual_multiprocess_sharding = False\n",
      "2021-11-26 10:13:06,066 - INFO - allennlp.common.params - dataset_reader.token_indexers = None\n",
      "2021-11-26 10:13:06,067 - INFO - allennlp.common.params - dataset_reader.domain_identifier = None\n",
      "2021-11-26 10:13:06,068 - INFO - allennlp.common.params - dataset_reader.bert_model_name = bert-base-uncased\n",
      "2021-11-26 10:13:06,069 - INFO - allennlp.common.params - type = bert-base-uncased\n",
      "2021-11-26 10:13:09,518 - INFO - allennlp.common.params - type = from_instances\n",
      "2021-11-26 10:13:09,518 - INFO - allennlp.data.vocabulary - Loading token dictionary from /tmp/tmpuhpa3xb8/vocabulary.\n",
      "2021-11-26 10:13:09,520 - INFO - allennlp.common.params - model.type = srl_bert\n",
      "2021-11-26 10:13:09,521 - INFO - allennlp.common.params - model.regularizer = None\n",
      "2021-11-26 10:13:09,522 - INFO - allennlp.common.params - model.ddp_accelerator = None\n",
      "2021-11-26 10:13:09,524 - INFO - allennlp.common.params - model.bert_model = bert-base-uncased\n",
      "2021-11-26 10:13:09,525 - INFO - allennlp.common.params - type = bert-base-uncased\n",
      "2021-11-26 10:13:09,526 - INFO - allennlp.common.params - type = bert-base-uncased\n",
      "2021-11-26 10:13:09,527 - INFO - allennlp.common.params - model.embedding_dropout = 0.1\n",
      "2021-11-26 10:13:09,528 - INFO - allennlp.common.params - model.initializer = <allennlp.nn.initializers.InitializerApplicator object at 0x7f26a8adab50>\n",
      "2021-11-26 10:13:09,529 - INFO - allennlp.common.params - model.label_smoothing = None\n",
      "2021-11-26 10:13:09,530 - INFO - allennlp.common.params - model.ignore_span_metric = False\n",
      "2021-11-26 10:13:09,530 - INFO - allennlp.common.params - model.srl_eval_path = /home/erikt/anaconda3/envs/allennlp/lib/python3.7/site-packages/allennlp_models/structured_prediction/tools/srl-eval.pl\n",
      "Some weights of the model checkpoint at bert-base-uncased were not used when initializing BertModel: ['cls.seq_relationship.bias', 'cls.predictions.transform.LayerNorm.bias', 'cls.predictions.transform.dense.weight', 'cls.predictions.transform.dense.bias', 'cls.predictions.transform.LayerNorm.weight', 'cls.seq_relationship.weight', 'cls.predictions.bias', 'cls.predictions.decoder.weight']\n",
      "- This IS expected if you are initializing BertModel from the checkpoint of a model trained on another task or with another architecture (e.g. initializing a BertForSequenceClassification model from a BertForPreTraining model).\n",
      "- This IS NOT expected if you are initializing BertModel from the checkpoint of a model that you expect to be exactly identical (initializing a BertForSequenceClassification model from a BertForSequenceClassification model).\n",
      "2021-11-26 10:13:11,830 - INFO - allennlp.nn.initializers - Initializing parameters\n",
      "2021-11-26 10:13:11,832 - INFO - allennlp.nn.initializers - Done initializing parameters; the following parameters are using their default initialization from their code\n",
      "2021-11-26 10:13:11,832 - INFO - allennlp.nn.initializers -    bert_model.embeddings.LayerNorm.bias\n",
      "2021-11-26 10:13:11,833 - INFO - allennlp.nn.initializers -    bert_model.embeddings.LayerNorm.weight\n",
      "2021-11-26 10:13:11,834 - INFO - allennlp.nn.initializers -    bert_model.embeddings.position_embeddings.weight\n",
      "2021-11-26 10:13:11,835 - INFO - allennlp.nn.initializers -    bert_model.embeddings.token_type_embeddings.weight\n",
      "2021-11-26 10:13:11,835 - INFO - allennlp.nn.initializers -    bert_model.embeddings.word_embeddings.weight\n",
      "2021-11-26 10:13:11,836 - INFO - allennlp.nn.initializers -    bert_model.encoder.layer.0.attention.output.LayerNorm.bias\n",
      "2021-11-26 10:13:11,837 - INFO - allennlp.nn.initializers -    bert_model.encoder.layer.0.attention.output.LayerNorm.weight\n",
      "2021-11-26 10:13:11,838 - INFO - allennlp.nn.initializers -    bert_model.encoder.layer.0.attention.output.dense.bias\n",
      "2021-11-26 10:13:11,839 - INFO - allennlp.nn.initializers -    bert_model.encoder.layer.0.attention.output.dense.weight\n",
      "2021-11-26 10:13:11,840 - INFO - allennlp.nn.initializers -    bert_model.encoder.layer.0.attention.self.key.bias\n",
      "2021-11-26 10:13:11,841 - INFO - allennlp.nn.initializers -    bert_model.encoder.layer.0.attention.self.key.weight\n",
      "2021-11-26 10:13:11,842 - INFO - allennlp.nn.initializers -    bert_model.encoder.layer.0.attention.self.query.bias\n",
      "2021-11-26 10:13:11,843 - INFO - allennlp.nn.initializers -    bert_model.encoder.layer.0.attention.self.query.weight\n",
      "2021-11-26 10:13:11,847 - INFO - allennlp.nn.initializers -    bert_model.encoder.layer.0.attention.self.value.bias\n",
      "2021-11-26 10:13:11,848 - INFO - allennlp.nn.initializers -    bert_model.encoder.layer.0.attention.self.value.weight\n",
      "2021-11-26 10:13:11,852 - INFO - allennlp.nn.initializers -    bert_model.encoder.layer.0.intermediate.dense.bias\n",
      "2021-11-26 10:13:11,853 - INFO - allennlp.nn.initializers -    bert_model.encoder.layer.0.intermediate.dense.weight\n",
      "2021-11-26 10:13:11,856 - INFO - allennlp.nn.initializers -    bert_model.encoder.layer.0.output.LayerNorm.bias\n",
      "2021-11-26 10:13:11,859 - INFO - allennlp.nn.initializers -    bert_model.encoder.layer.0.output.LayerNorm.weight\n",
      "2021-11-26 10:13:11,862 - INFO - allennlp.nn.initializers -    bert_model.encoder.layer.0.output.dense.bias\n",
      "2021-11-26 10:13:11,866 - INFO - allennlp.nn.initializers -    bert_model.encoder.layer.0.output.dense.weight\n",
      "2021-11-26 10:13:11,867 - INFO - allennlp.nn.initializers -    bert_model.encoder.layer.1.attention.output.LayerNorm.bias\n",
      "2021-11-26 10:13:11,869 - INFO - allennlp.nn.initializers -    bert_model.encoder.layer.1.attention.output.LayerNorm.weight\n",
      "2021-11-26 10:13:11,870 - INFO - allennlp.nn.initializers -    bert_model.encoder.layer.1.attention.output.dense.bias\n",
      "2021-11-26 10:13:11,871 - INFO - allennlp.nn.initializers -    bert_model.encoder.layer.1.attention.output.dense.weight\n",
      "2021-11-26 10:13:11,872 - INFO - allennlp.nn.initializers -    bert_model.encoder.layer.1.attention.self.key.bias\n",
      "2021-11-26 10:13:11,874 - INFO - allennlp.nn.initializers -    bert_model.encoder.layer.1.attention.self.key.weight\n",
      "2021-11-26 10:13:11,875 - INFO - allennlp.nn.initializers -    bert_model.encoder.layer.1.attention.self.query.bias\n",
      "2021-11-26 10:13:11,876 - INFO - allennlp.nn.initializers -    bert_model.encoder.layer.1.attention.self.query.weight\n",
      "2021-11-26 10:13:11,877 - INFO - allennlp.nn.initializers -    bert_model.encoder.layer.1.attention.self.value.bias\n",
      "2021-11-26 10:13:11,878 - INFO - allennlp.nn.initializers -    bert_model.encoder.layer.1.attention.self.value.weight\n",
      "2021-11-26 10:13:11,878 - INFO - allennlp.nn.initializers -    bert_model.encoder.layer.1.intermediate.dense.bias\n",
      "2021-11-26 10:13:11,879 - INFO - allennlp.nn.initializers -    bert_model.encoder.layer.1.intermediate.dense.weight\n",
      "2021-11-26 10:13:11,880 - INFO - allennlp.nn.initializers -    bert_model.encoder.layer.1.output.LayerNorm.bias\n",
      "2021-11-26 10:13:11,881 - INFO - allennlp.nn.initializers -    bert_model.encoder.layer.1.output.LayerNorm.weight\n",
      "2021-11-26 10:13:11,886 - INFO - allennlp.nn.initializers -    bert_model.encoder.layer.1.output.dense.bias\n",
      "2021-11-26 10:13:11,888 - INFO - allennlp.nn.initializers -    bert_model.encoder.layer.1.output.dense.weight\n",
      "2021-11-26 10:13:11,888 - INFO - allennlp.nn.initializers -    bert_model.encoder.layer.10.attention.output.LayerNorm.bias\n",
      "2021-11-26 10:13:11,889 - INFO - allennlp.nn.initializers -    bert_model.encoder.layer.10.attention.output.LayerNorm.weight\n",
      "2021-11-26 10:13:11,889 - INFO - allennlp.nn.initializers -    bert_model.encoder.layer.10.attention.output.dense.bias\n",
      "2021-11-26 10:13:11,891 - INFO - allennlp.nn.initializers -    bert_model.encoder.layer.10.attention.output.dense.weight\n",
      "2021-11-26 10:13:11,893 - INFO - allennlp.nn.initializers -    bert_model.encoder.layer.10.attention.self.key.bias\n",
      "2021-11-26 10:13:11,895 - INFO - allennlp.nn.initializers -    bert_model.encoder.layer.10.attention.self.key.weight\n",
      "2021-11-26 10:13:11,897 - INFO - allennlp.nn.initializers -    bert_model.encoder.layer.10.attention.self.query.bias\n",
      "2021-11-26 10:13:11,898 - INFO - allennlp.nn.initializers -    bert_model.encoder.layer.10.attention.self.query.weight\n",
      "2021-11-26 10:13:11,898 - INFO - allennlp.nn.initializers -    bert_model.encoder.layer.10.attention.self.value.bias\n",
      "2021-11-26 10:13:11,910 - INFO - allennlp.nn.initializers -    bert_model.encoder.layer.10.attention.self.value.weight\n",
      "2021-11-26 10:13:11,911 - INFO - allennlp.nn.initializers -    bert_model.encoder.layer.10.intermediate.dense.bias\n",
      "2021-11-26 10:13:11,913 - INFO - allennlp.nn.initializers -    bert_model.encoder.layer.10.intermediate.dense.weight\n",
      "2021-11-26 10:13:11,920 - INFO - allennlp.nn.initializers -    bert_model.encoder.layer.10.output.LayerNorm.bias\n",
      "2021-11-26 10:13:11,921 - INFO - allennlp.nn.initializers -    bert_model.encoder.layer.10.output.LayerNorm.weight\n",
      "2021-11-26 10:13:11,923 - INFO - allennlp.nn.initializers -    bert_model.encoder.layer.10.output.dense.bias\n",
      "2021-11-26 10:13:11,924 - INFO - allennlp.nn.initializers -    bert_model.encoder.layer.10.output.dense.weight\n",
      "2021-11-26 10:13:11,926 - INFO - allennlp.nn.initializers -    bert_model.encoder.layer.11.attention.output.LayerNorm.bias\n",
      "2021-11-26 10:13:11,927 - INFO - allennlp.nn.initializers -    bert_model.encoder.layer.11.attention.output.LayerNorm.weight\n",
      "2021-11-26 10:13:11,928 - INFO - allennlp.nn.initializers -    bert_model.encoder.layer.11.attention.output.dense.bias\n",
      "2021-11-26 10:13:11,929 - INFO - allennlp.nn.initializers -    bert_model.encoder.layer.11.attention.output.dense.weight\n",
      "2021-11-26 10:13:11,930 - INFO - allennlp.nn.initializers -    bert_model.encoder.layer.11.attention.self.key.bias\n",
      "2021-11-26 10:13:11,932 - INFO - allennlp.nn.initializers -    bert_model.encoder.layer.11.attention.self.key.weight\n",
      "2021-11-26 10:13:11,933 - INFO - allennlp.nn.initializers -    bert_model.encoder.layer.11.attention.self.query.bias\n",
      "2021-11-26 10:13:11,938 - INFO - allennlp.nn.initializers -    bert_model.encoder.layer.11.attention.self.query.weight\n",
      "2021-11-26 10:13:11,940 - INFO - allennlp.nn.initializers -    bert_model.encoder.layer.11.attention.self.value.bias\n",
      "2021-11-26 10:13:11,941 - INFO - allennlp.nn.initializers -    bert_model.encoder.layer.11.attention.self.value.weight\n",
      "2021-11-26 10:13:11,943 - INFO - allennlp.nn.initializers -    bert_model.encoder.layer.11.intermediate.dense.bias\n",
      "2021-11-26 10:13:11,944 - INFO - allennlp.nn.initializers -    bert_model.encoder.layer.11.intermediate.dense.weight\n",
      "2021-11-26 10:13:11,945 - INFO - allennlp.nn.initializers -    bert_model.encoder.layer.11.output.LayerNorm.bias\n",
      "2021-11-26 10:13:11,946 - INFO - allennlp.nn.initializers -    bert_model.encoder.layer.11.output.LayerNorm.weight\n",
      "2021-11-26 10:13:11,946 - INFO - allennlp.nn.initializers -    bert_model.encoder.layer.11.output.dense.bias\n",
      "2021-11-26 10:13:11,948 - INFO - allennlp.nn.initializers -    bert_model.encoder.layer.11.output.dense.weight\n",
      "2021-11-26 10:13:11,948 - INFO - allennlp.nn.initializers -    bert_model.encoder.layer.2.attention.output.LayerNorm.bias\n",
      "2021-11-26 10:13:11,949 - INFO - allennlp.nn.initializers -    bert_model.encoder.layer.2.attention.output.LayerNorm.weight\n",
      "2021-11-26 10:13:11,953 - INFO - allennlp.nn.initializers -    bert_model.encoder.layer.2.attention.output.dense.bias\n",
      "2021-11-26 10:13:11,954 - INFO - allennlp.nn.initializers -    bert_model.encoder.layer.2.attention.output.dense.weight\n",
      "2021-11-26 10:13:11,955 - INFO - allennlp.nn.initializers -    bert_model.encoder.layer.2.attention.self.key.bias\n",
      "2021-11-26 10:13:11,957 - INFO - allennlp.nn.initializers -    bert_model.encoder.layer.2.attention.self.key.weight\n",
      "2021-11-26 10:13:11,958 - INFO - allennlp.nn.initializers -    bert_model.encoder.layer.2.attention.self.query.bias\n",
      "2021-11-26 10:13:11,958 - INFO - allennlp.nn.initializers -    bert_model.encoder.layer.2.attention.self.query.weight\n",
      "2021-11-26 10:13:11,960 - INFO - allennlp.nn.initializers -    bert_model.encoder.layer.2.attention.self.value.bias\n",
      "2021-11-26 10:13:11,961 - INFO - allennlp.nn.initializers -    bert_model.encoder.layer.2.attention.self.value.weight\n",
      "2021-11-26 10:13:11,963 - INFO - allennlp.nn.initializers -    bert_model.encoder.layer.2.intermediate.dense.bias\n",
      "2021-11-26 10:13:11,965 - INFO - allennlp.nn.initializers -    bert_model.encoder.layer.2.intermediate.dense.weight\n",
      "2021-11-26 10:13:11,966 - INFO - allennlp.nn.initializers -    bert_model.encoder.layer.2.output.LayerNorm.bias\n",
      "2021-11-26 10:13:11,967 - INFO - allennlp.nn.initializers -    bert_model.encoder.layer.2.output.LayerNorm.weight\n",
      "2021-11-26 10:13:11,968 - INFO - allennlp.nn.initializers -    bert_model.encoder.layer.2.output.dense.bias\n",
      "2021-11-26 10:13:11,969 - INFO - allennlp.nn.initializers -    bert_model.encoder.layer.2.output.dense.weight\n",
      "2021-11-26 10:13:11,970 - INFO - allennlp.nn.initializers -    bert_model.encoder.layer.3.attention.output.LayerNorm.bias\n",
      "2021-11-26 10:13:11,971 - INFO - allennlp.nn.initializers -    bert_model.encoder.layer.3.attention.output.LayerNorm.weight\n",
      "2021-11-26 10:13:11,972 - INFO - allennlp.nn.initializers -    bert_model.encoder.layer.3.attention.output.dense.bias\n",
      "2021-11-26 10:13:11,973 - INFO - allennlp.nn.initializers -    bert_model.encoder.layer.3.attention.output.dense.weight\n",
      "2021-11-26 10:13:11,974 - INFO - allennlp.nn.initializers -    bert_model.encoder.layer.3.attention.self.key.bias\n",
      "2021-11-26 10:13:11,975 - INFO - allennlp.nn.initializers -    bert_model.encoder.layer.3.attention.self.key.weight\n",
      "2021-11-26 10:13:11,976 - INFO - allennlp.nn.initializers -    bert_model.encoder.layer.3.attention.self.query.bias\n",
      "2021-11-26 10:13:11,978 - INFO - allennlp.nn.initializers -    bert_model.encoder.layer.3.attention.self.query.weight\n",
      "2021-11-26 10:13:11,979 - INFO - allennlp.nn.initializers -    bert_model.encoder.layer.3.attention.self.value.bias\n",
      "2021-11-26 10:13:11,980 - INFO - allennlp.nn.initializers -    bert_model.encoder.layer.3.attention.self.value.weight\n",
      "2021-11-26 10:13:11,982 - INFO - allennlp.nn.initializers -    bert_model.encoder.layer.3.intermediate.dense.bias\n",
      "2021-11-26 10:13:11,983 - INFO - allennlp.nn.initializers -    bert_model.encoder.layer.3.intermediate.dense.weight\n",
      "2021-11-26 10:13:11,985 - INFO - allennlp.nn.initializers -    bert_model.encoder.layer.3.output.LayerNorm.bias\n",
      "2021-11-26 10:13:11,991 - INFO - allennlp.nn.initializers -    bert_model.encoder.layer.3.output.LayerNorm.weight\n",
      "2021-11-26 10:13:11,992 - INFO - allennlp.nn.initializers -    bert_model.encoder.layer.3.output.dense.bias\n",
      "2021-11-26 10:13:11,993 - INFO - allennlp.nn.initializers -    bert_model.encoder.layer.3.output.dense.weight\n",
      "2021-11-26 10:13:11,995 - INFO - allennlp.nn.initializers -    bert_model.encoder.layer.4.attention.output.LayerNorm.bias\n",
      "2021-11-26 10:13:11,996 - INFO - allennlp.nn.initializers -    bert_model.encoder.layer.4.attention.output.LayerNorm.weight\n",
      "2021-11-26 10:13:11,997 - INFO - allennlp.nn.initializers -    bert_model.encoder.layer.4.attention.output.dense.bias\n",
      "2021-11-26 10:13:11,997 - INFO - allennlp.nn.initializers -    bert_model.encoder.layer.4.attention.output.dense.weight\n",
      "2021-11-26 10:13:11,998 - INFO - allennlp.nn.initializers -    bert_model.encoder.layer.4.attention.self.key.bias\n",
      "2021-11-26 10:13:11,999 - INFO - allennlp.nn.initializers -    bert_model.encoder.layer.4.attention.self.key.weight\n",
      "2021-11-26 10:13:12,001 - INFO - allennlp.nn.initializers -    bert_model.encoder.layer.4.attention.self.query.bias\n",
      "2021-11-26 10:13:12,002 - INFO - allennlp.nn.initializers -    bert_model.encoder.layer.4.attention.self.query.weight\n",
      "2021-11-26 10:13:12,003 - INFO - allennlp.nn.initializers -    bert_model.encoder.layer.4.attention.self.value.bias\n",
      "2021-11-26 10:13:12,008 - INFO - allennlp.nn.initializers -    bert_model.encoder.layer.4.attention.self.value.weight\n",
      "2021-11-26 10:13:12,012 - INFO - allennlp.nn.initializers -    bert_model.encoder.layer.4.intermediate.dense.bias\n",
      "2021-11-26 10:13:12,014 - INFO - allennlp.nn.initializers -    bert_model.encoder.layer.4.intermediate.dense.weight\n",
      "2021-11-26 10:13:12,015 - INFO - allennlp.nn.initializers -    bert_model.encoder.layer.4.output.LayerNorm.bias\n",
      "2021-11-26 10:13:12,017 - INFO - allennlp.nn.initializers -    bert_model.encoder.layer.4.output.LayerNorm.weight\n",
      "2021-11-26 10:13:12,018 - INFO - allennlp.nn.initializers -    bert_model.encoder.layer.4.output.dense.bias\n",
      "2021-11-26 10:13:12,019 - INFO - allennlp.nn.initializers -    bert_model.encoder.layer.4.output.dense.weight\n",
      "2021-11-26 10:13:12,026 - INFO - allennlp.nn.initializers -    bert_model.encoder.layer.5.attention.output.LayerNorm.bias\n",
      "2021-11-26 10:13:12,028 - INFO - allennlp.nn.initializers -    bert_model.encoder.layer.5.attention.output.LayerNorm.weight\n",
      "2021-11-26 10:13:12,029 - INFO - allennlp.nn.initializers -    bert_model.encoder.layer.5.attention.output.dense.bias\n",
      "2021-11-26 10:13:12,030 - INFO - allennlp.nn.initializers -    bert_model.encoder.layer.5.attention.output.dense.weight\n",
      "2021-11-26 10:13:12,030 - INFO - allennlp.nn.initializers -    bert_model.encoder.layer.5.attention.self.key.bias\n",
      "2021-11-26 10:13:12,031 - INFO - allennlp.nn.initializers -    bert_model.encoder.layer.5.attention.self.key.weight\n",
      "2021-11-26 10:13:12,032 - INFO - allennlp.nn.initializers -    bert_model.encoder.layer.5.attention.self.query.bias\n",
      "2021-11-26 10:13:12,033 - INFO - allennlp.nn.initializers -    bert_model.encoder.layer.5.attention.self.query.weight\n",
      "2021-11-26 10:13:12,035 - INFO - allennlp.nn.initializers -    bert_model.encoder.layer.5.attention.self.value.bias\n",
      "2021-11-26 10:13:12,036 - INFO - allennlp.nn.initializers -    bert_model.encoder.layer.5.attention.self.value.weight\n",
      "2021-11-26 10:13:12,037 - INFO - allennlp.nn.initializers -    bert_model.encoder.layer.5.intermediate.dense.bias\n",
      "2021-11-26 10:13:12,042 - INFO - allennlp.nn.initializers -    bert_model.encoder.layer.5.intermediate.dense.weight\n",
      "2021-11-26 10:13:12,043 - INFO - allennlp.nn.initializers -    bert_model.encoder.layer.5.output.LayerNorm.bias\n",
      "2021-11-26 10:13:12,047 - INFO - allennlp.nn.initializers -    bert_model.encoder.layer.5.output.LayerNorm.weight\n",
      "2021-11-26 10:13:12,047 - INFO - allennlp.nn.initializers -    bert_model.encoder.layer.5.output.dense.bias\n",
      "2021-11-26 10:13:12,049 - INFO - allennlp.nn.initializers -    bert_model.encoder.layer.5.output.dense.weight\n",
      "2021-11-26 10:13:12,050 - INFO - allennlp.nn.initializers -    bert_model.encoder.layer.6.attention.output.LayerNorm.bias\n",
      "2021-11-26 10:13:12,050 - INFO - allennlp.nn.initializers -    bert_model.encoder.layer.6.attention.output.LayerNorm.weight\n",
      "2021-11-26 10:13:12,053 - INFO - allennlp.nn.initializers -    bert_model.encoder.layer.6.attention.output.dense.bias\n",
      "2021-11-26 10:13:12,057 - INFO - allennlp.nn.initializers -    bert_model.encoder.layer.6.attention.output.dense.weight\n",
      "2021-11-26 10:13:12,060 - INFO - allennlp.nn.initializers -    bert_model.encoder.layer.6.attention.self.key.bias\n",
      "2021-11-26 10:13:12,064 - INFO - allennlp.nn.initializers -    bert_model.encoder.layer.6.attention.self.key.weight\n",
      "2021-11-26 10:13:12,065 - INFO - allennlp.nn.initializers -    bert_model.encoder.layer.6.attention.self.query.bias\n",
      "2021-11-26 10:13:12,066 - INFO - allennlp.nn.initializers -    bert_model.encoder.layer.6.attention.self.query.weight\n",
      "2021-11-26 10:13:12,066 - INFO - allennlp.nn.initializers -    bert_model.encoder.layer.6.attention.self.value.bias\n",
      "2021-11-26 10:13:12,067 - INFO - allennlp.nn.initializers -    bert_model.encoder.layer.6.attention.self.value.weight\n",
      "2021-11-26 10:13:12,072 - INFO - allennlp.nn.initializers -    bert_model.encoder.layer.6.intermediate.dense.bias\n",
      "2021-11-26 10:13:12,077 - INFO - allennlp.nn.initializers -    bert_model.encoder.layer.6.intermediate.dense.weight\n",
      "2021-11-26 10:13:12,078 - INFO - allennlp.nn.initializers -    bert_model.encoder.layer.6.output.LayerNorm.bias\n",
      "2021-11-26 10:13:12,079 - INFO - allennlp.nn.initializers -    bert_model.encoder.layer.6.output.LayerNorm.weight\n",
      "2021-11-26 10:13:12,080 - INFO - allennlp.nn.initializers -    bert_model.encoder.layer.6.output.dense.bias\n",
      "2021-11-26 10:13:12,081 - INFO - allennlp.nn.initializers -    bert_model.encoder.layer.6.output.dense.weight\n",
      "2021-11-26 10:13:12,082 - INFO - allennlp.nn.initializers -    bert_model.encoder.layer.7.attention.output.LayerNorm.bias\n",
      "2021-11-26 10:13:12,082 - INFO - allennlp.nn.initializers -    bert_model.encoder.layer.7.attention.output.LayerNorm.weight\n",
      "2021-11-26 10:13:12,087 - INFO - allennlp.nn.initializers -    bert_model.encoder.layer.7.attention.output.dense.bias\n",
      "2021-11-26 10:13:12,089 - INFO - allennlp.nn.initializers -    bert_model.encoder.layer.7.attention.output.dense.weight\n",
      "2021-11-26 10:13:12,092 - INFO - allennlp.nn.initializers -    bert_model.encoder.layer.7.attention.self.key.bias\n",
      "2021-11-26 10:13:12,093 - INFO - allennlp.nn.initializers -    bert_model.encoder.layer.7.attention.self.key.weight\n",
      "2021-11-26 10:13:12,094 - INFO - allennlp.nn.initializers -    bert_model.encoder.layer.7.attention.self.query.bias\n",
      "2021-11-26 10:13:12,095 - INFO - allennlp.nn.initializers -    bert_model.encoder.layer.7.attention.self.query.weight\n",
      "2021-11-26 10:13:12,096 - INFO - allennlp.nn.initializers -    bert_model.encoder.layer.7.attention.self.value.bias\n",
      "2021-11-26 10:13:12,097 - INFO - allennlp.nn.initializers -    bert_model.encoder.layer.7.attention.self.value.weight\n",
      "2021-11-26 10:13:12,097 - INFO - allennlp.nn.initializers -    bert_model.encoder.layer.7.intermediate.dense.bias\n",
      "2021-11-26 10:13:12,098 - INFO - allennlp.nn.initializers -    bert_model.encoder.layer.7.intermediate.dense.weight\n",
      "2021-11-26 10:13:12,099 - INFO - allennlp.nn.initializers -    bert_model.encoder.layer.7.output.LayerNorm.bias\n",
      "2021-11-26 10:13:12,104 - INFO - allennlp.nn.initializers -    bert_model.encoder.layer.7.output.LayerNorm.weight\n",
      "2021-11-26 10:13:12,105 - INFO - allennlp.nn.initializers -    bert_model.encoder.layer.7.output.dense.bias\n",
      "2021-11-26 10:13:12,106 - INFO - allennlp.nn.initializers -    bert_model.encoder.layer.7.output.dense.weight\n",
      "2021-11-26 10:13:12,110 - INFO - allennlp.nn.initializers -    bert_model.encoder.layer.8.attention.output.LayerNorm.bias\n",
      "2021-11-26 10:13:12,111 - INFO - allennlp.nn.initializers -    bert_model.encoder.layer.8.attention.output.LayerNorm.weight\n",
      "2021-11-26 10:13:12,112 - INFO - allennlp.nn.initializers -    bert_model.encoder.layer.8.attention.output.dense.bias\n",
      "2021-11-26 10:13:12,114 - INFO - allennlp.nn.initializers -    bert_model.encoder.layer.8.attention.output.dense.weight\n",
      "2021-11-26 10:13:12,115 - INFO - allennlp.nn.initializers -    bert_model.encoder.layer.8.attention.self.key.bias\n",
      "2021-11-26 10:13:12,115 - INFO - allennlp.nn.initializers -    bert_model.encoder.layer.8.attention.self.key.weight\n",
      "2021-11-26 10:13:12,116 - INFO - allennlp.nn.initializers -    bert_model.encoder.layer.8.attention.self.query.bias\n",
      "2021-11-26 10:13:12,127 - INFO - allennlp.nn.initializers -    bert_model.encoder.layer.8.attention.self.query.weight\n",
      "2021-11-26 10:13:12,128 - INFO - allennlp.nn.initializers -    bert_model.encoder.layer.8.attention.self.value.bias\n",
      "2021-11-26 10:13:12,129 - INFO - allennlp.nn.initializers -    bert_model.encoder.layer.8.attention.self.value.weight\n",
      "2021-11-26 10:13:12,130 - INFO - allennlp.nn.initializers -    bert_model.encoder.layer.8.intermediate.dense.bias\n",
      "2021-11-26 10:13:12,130 - INFO - allennlp.nn.initializers -    bert_model.encoder.layer.8.intermediate.dense.weight\n",
      "2021-11-26 10:13:12,131 - INFO - allennlp.nn.initializers -    bert_model.encoder.layer.8.output.LayerNorm.bias\n",
      "2021-11-26 10:13:12,136 - INFO - allennlp.nn.initializers -    bert_model.encoder.layer.8.output.LayerNorm.weight\n",
      "2021-11-26 10:13:12,137 - INFO - allennlp.nn.initializers -    bert_model.encoder.layer.8.output.dense.bias\n",
      "2021-11-26 10:13:12,139 - INFO - allennlp.nn.initializers -    bert_model.encoder.layer.8.output.dense.weight\n",
      "2021-11-26 10:13:12,141 - INFO - allennlp.nn.initializers -    bert_model.encoder.layer.9.attention.output.LayerNorm.bias\n",
      "2021-11-26 10:13:12,142 - INFO - allennlp.nn.initializers -    bert_model.encoder.layer.9.attention.output.LayerNorm.weight\n",
      "2021-11-26 10:13:12,145 - INFO - allennlp.nn.initializers -    bert_model.encoder.layer.9.attention.output.dense.bias\n",
      "2021-11-26 10:13:12,147 - INFO - allennlp.nn.initializers -    bert_model.encoder.layer.9.attention.output.dense.weight\n",
      "2021-11-26 10:13:12,148 - INFO - allennlp.nn.initializers -    bert_model.encoder.layer.9.attention.self.key.bias\n",
      "2021-11-26 10:13:12,149 - INFO - allennlp.nn.initializers -    bert_model.encoder.layer.9.attention.self.key.weight\n",
      "2021-11-26 10:13:12,150 - INFO - allennlp.nn.initializers -    bert_model.encoder.layer.9.attention.self.query.bias\n",
      "2021-11-26 10:13:12,154 - INFO - allennlp.nn.initializers -    bert_model.encoder.layer.9.attention.self.query.weight\n",
      "2021-11-26 10:13:12,156 - INFO - allennlp.nn.initializers -    bert_model.encoder.layer.9.attention.self.value.bias\n",
      "2021-11-26 10:13:12,157 - INFO - allennlp.nn.initializers -    bert_model.encoder.layer.9.attention.self.value.weight\n",
      "2021-11-26 10:13:12,158 - INFO - allennlp.nn.initializers -    bert_model.encoder.layer.9.intermediate.dense.bias\n",
      "2021-11-26 10:13:12,159 - INFO - allennlp.nn.initializers -    bert_model.encoder.layer.9.intermediate.dense.weight\n",
      "2021-11-26 10:13:12,159 - INFO - allennlp.nn.initializers -    bert_model.encoder.layer.9.output.LayerNorm.bias\n",
      "2021-11-26 10:13:12,160 - INFO - allennlp.nn.initializers -    bert_model.encoder.layer.9.output.LayerNorm.weight\n",
      "2021-11-26 10:13:12,161 - INFO - allennlp.nn.initializers -    bert_model.encoder.layer.9.output.dense.bias\n",
      "2021-11-26 10:13:12,162 - INFO - allennlp.nn.initializers -    bert_model.encoder.layer.9.output.dense.weight\n",
      "2021-11-26 10:13:12,163 - INFO - allennlp.nn.initializers -    bert_model.pooler.dense.bias\n",
      "2021-11-26 10:13:12,163 - INFO - allennlp.nn.initializers -    bert_model.pooler.dense.weight\n",
      "2021-11-26 10:13:12,168 - INFO - allennlp.nn.initializers -    tag_projection_layer.bias\n",
      "2021-11-26 10:13:12,169 - INFO - allennlp.nn.initializers -    tag_projection_layer.weight\n",
      "2021-11-26 10:13:12,576 - INFO - allennlp.models.archival - removing temporary unarchived model dir at /tmp/tmpuhpa3xb8\n"
     ]
    }
   ],
   "source": [
    "srl_predictor = Predictor.from_path(\"https://storage.googleapis.com/allennlp-public-models/structured-prediction-srl-bert.2020.12.15.tar.gz\")"
   ]
  },
  {
   "cell_type": "markdown",
   "id": "d47c920c-a5c4-4058-bb63-72c1230d0587",
   "metadata": {},
   "source": [
    "## 2. Causal relation functions"
   ]
  },
  {
   "cell_type": "code",
   "execution_count": 67,
   "id": "9d1a104f-cf39-456f-9434-31aed745e40c",
   "metadata": {},
   "outputs": [],
   "source": [
    "import re"
   ]
  },
  {
   "cell_type": "code",
   "execution_count": 280,
   "id": "022436b0-d987-4c02-9ec8-6c8b47489dc0",
   "metadata": {},
   "outputs": [],
   "source": [
    "RED = 1\n",
    "BLUE = 4\n",
    "BLACK = 0\n",
    "NO_COLOR = -1\n",
    "COLOR_CONCEPT_1 = RED\n",
    "COLOR_CONCEPT_2 = BLUE\n",
    "COLOR_CONTENT_RELATION_EXPLANATION = BLACK\n",
    "CONCEPT_1 = \"Concept_1\"\n",
    "CONCEPT_2 = \"Concept_2\"\n",
    "CONTENT_RELATION_EXPLANATION = \"Content_Relation_Explanation\"\n",
    "NO_CONCEPT = \"\"\n",
    "COLOR_CODES = { CONCEPT_1: COLOR_CONCEPT_1, CONCEPT_2: COLOR_CONCEPT_2, CONTENT_RELATION_EXPLANATION: COLOR_CONTENT_RELATION_EXPLANATION, NO_CONCEPT: NO_COLOR }\n",
    "RELATION_VERBS = [ \"achieve\", \"allow\", \"avoid\", \"balance\", \"boost\", \"bring\", \"brought\", \"consolidate\", \"compromise\",  \"contain\", \"contribute\", \n",
    "                   \"eliminate\", \"endanger\", \"entail\", \"ensure\", \"erode\", \"fail\", \"flow\", \"give\", \"increase\", \"open\", \"preserve\", \"protect\", \n",
    "                   \"reduce\", \"reinforce\", \"restore\", \"result\", \"safeguard\", \"secure\", \"strenghten\", \"support\", \"tackle\", \"trigger\", \"undermine\", \"weaken\", ]\n",
    "REVERSE_VERBS = [ \"arise\", \"need\" ]\n",
    "ARGM_DIS_ROLES = [ \"furthermore\", \"instead\", \"moreover\", \"nevertheless\", \"otherwise\", \"therefore\", \"thus\" ]\n",
    "NO_ARG0_ROLES = [ \"he\", \"i\", \"she\", \"they\", \"we\", \"you\" ]"
   ]
  },
  {
   "cell_type": "code",
   "execution_count": 5,
   "id": "cfb6f8c8-dcc8-4c89-93b4-78d1afab73df",
   "metadata": {},
   "outputs": [],
   "source": [
    "def strip_tag(token):\n",
    "    if len(token) > 1:\n",
    "        if re.search(\"^\\[\", token):\n",
    "            token = re.sub(\"^\\[\", \"\", token)\n",
    "            token = re.sub(\":$\", \"\", token)\n",
    "        token = re.sub(\"\\]$\", \"\", token)\n",
    "    return token"
   ]
  },
  {
   "cell_type": "code",
   "execution_count": 6,
   "id": "f33cca46-632f-4cfc-8f50-aae6f0e8fbdf",
   "metadata": {},
   "outputs": [],
   "source": [
    "def print_with_color(string, color_code):\n",
    "    print(f\"\\x1b[1;3{color_code};47m{string}\\x1b[m\", end=\"\")"
   ]
  },
  {
   "cell_type": "code",
   "execution_count": 187,
   "id": "ac4738ff-d132-47ea-89c9-3bc4dec25543",
   "metadata": {},
   "outputs": [],
   "source": [
    "def get_concept_tag_argm_prp(argument):\n",
    "    if argument == \"ARGM-PRP\":\n",
    "        return CONCEPT_2\n",
    "    elif argument in [\"V\", \"ARG0\", \"ARG1\", \"ARG2\" ]:\n",
    "        return CONCEPT_1\n",
    "    return NO_CONCEPT"
   ]
  },
  {
   "cell_type": "code",
   "execution_count": 188,
   "id": "75f9d05f-0b73-48ce-9604-ba7283d051c5",
   "metadata": {},
   "outputs": [],
   "source": [
    "def get_concept_tag_argm_dis(argument):\n",
    "    color_code = NO_COLOR\n",
    "    if argument == \"ARGM-DIS\":\n",
    "        return CONTENT_RELATION_EXPLANATION\n",
    "    elif argument != \"\":\n",
    "        return CONCEPT_2\n",
    "    return NO_CONCEPT"
   ]
  },
  {
   "cell_type": "code",
   "execution_count": 189,
   "id": "fe60a35d-1501-44d9-9aab-0bb7b150bcd5",
   "metadata": {},
   "outputs": [],
   "source": [
    "def get_concept_tag_v(argument):\n",
    "    if argument == \"V\":\n",
    "        return CONTENT_RELATION_EXPLANATION\n",
    "    elif argument in [ \"ARG0\", \"ARG2\", \"ARGM-PRD\" ]:\n",
    "        return CONCEPT_1\n",
    "    elif argument in [ \"ARG1\",  ]:\n",
    "        return CONCEPT_2\n",
    "    return NO_CONCEPT"
   ]
  },
  {
   "cell_type": "code",
   "execution_count": 190,
   "id": "05549e58-5850-4ec6-a685-8470df89da05",
   "metadata": {},
   "outputs": [],
   "source": [
    "def get_concept_tag_reverse_v(argument):\n",
    "    if argument == \"V\":\n",
    "        return CONTENT_RELATION_EXPLANATION\n",
    "    elif argument in [ \"ARG0\", \"ARG2\", \"ARGM-PRD\" ]:\n",
    "        return CONCEPT_2\n",
    "    elif argument in [ \"ARG1\", ]:\n",
    "        return CONCEPT_1\n",
    "    return NO_CONCEPT"
   ]
  },
  {
   "cell_type": "code",
   "execution_count": 11,
   "id": "94001968-cb87-49f3-98bb-3ecc19973f57",
   "metadata": {},
   "outputs": [],
   "source": [
    "def check_verb(verb, RELATION_VERBS):\n",
    "    if verb in RELATION_VERBS:\n",
    "        return True\n",
    "    if re.sub(\"[ds]$\", \"\", verb) in RELATION_VERBS:\n",
    "        return True\n",
    "    if re.sub(\"ed$\", \"\", verb) in RELATION_VERBS:\n",
    "        return True\n",
    "    if re.sub(\"ing$\", \"\", verb) in RELATION_VERBS:\n",
    "        return True\n",
    "    if re.sub(\"ing$\", \"e\", verb) in RELATION_VERBS:\n",
    "        return True\n",
    "    return False"
   ]
  },
  {
   "cell_type": "code",
   "execution_count": 80,
   "id": "355f9209-2d8f-4b6b-bd2e-ccaf448e8367",
   "metadata": {},
   "outputs": [],
   "source": [
    "def print_token(token, argument, first_token, last_token, color_code):\n",
    "    if color_code == NO_COLOR:\n",
    "        print_token_no_color(token, argument, first_token, last_token)\n",
    "    else:\n",
    "        print_token_color(token, argument, first_token, last_token, color_code)"
   ]
  },
  {
   "cell_type": "code",
   "execution_count": 81,
   "id": "e0f3a494-5bb6-461b-bc0a-10e20773f1d2",
   "metadata": {},
   "outputs": [],
   "source": [
    "def print_token_no_color(token, argument, first_token, last_token):\n",
    "    if first_token:\n",
    "        print(f\"[{argument} \", end=\"\")\n",
    "    print(f\"{token}\", end=\"\")\n",
    "    if last_token:\n",
    "        print(f\"]\", end=\"\")\n",
    "    print(\" \", end=\"\")"
   ]
  },
  {
   "cell_type": "code",
   "execution_count": 13,
   "id": "f5782a6a-2908-434f-86c6-9a9b132765de",
   "metadata": {},
   "outputs": [],
   "source": [
    "def print_token_color(token, argument, first_token, last_token, color_code):\n",
    "    if first_token:\n",
    "        print_with_color(f\"[{argument} \", color_code)\n",
    "    print_with_color(f\"{token}\", color_code)\n",
    "    if last_token:\n",
    "        print_with_color(f\"]\", color_code)\n",
    "        print(\" \", end=\"\")\n",
    "    else:\n",
    "        print_with_color(\" \", color_code)"
   ]
  },
  {
   "cell_type": "code",
   "execution_count": 27,
   "id": "ae3f8846-942f-45f5-8305-df86673318f3",
   "metadata": {},
   "outputs": [],
   "source": [
    "def find_verb(tokens, arguments, lemmas):\n",
    "    verb = \"\"\n",
    "    if len(lemmas) != len(tokens):\n",
    "        print_with_color(f\"find_verb: error: different lengths for tokens ({len(tokens)}) and lemmas ({len(lemmas)})\", 1)\n",
    "    for i in range(0, len(arguments)):\n",
    "        if arguments[i] == \"V\":\n",
    "            verb = lemmas[i]\n",
    "    return verb"
   ]
  },
  {
   "cell_type": "code",
   "execution_count": 98,
   "id": "07e72660-d826-49ff-ac3a-40b69d19233f",
   "metadata": {},
   "outputs": [],
   "source": [
    "def convert_analysis(analyzed_sentence):\n",
    "    tokens_in = analyzed_sentence.split()\n",
    "    arguments = []\n",
    "    tokens_out = []\n",
    "    first_tokens = []\n",
    "    last_tokens = []\n",
    "    current_argument = \"\"\n",
    "    roles = {}\n",
    "    first_token = False\n",
    "    for i in range(0, len(tokens_in)):\n",
    "        if re.search(\"^\\[\", tokens_in[i]):\n",
    "            current_argument = strip_tag(tokens_in[i])\n",
    "            first_token = True\n",
    "            continue\n",
    "        arguments.append(current_argument)\n",
    "        tokens_out.append(strip_tag(tokens_in[i]))\n",
    "        first_tokens.append(first_token)\n",
    "        last_tokens.append(False)\n",
    "        if current_argument != \"\":\n",
    "            if current_argument not in roles:\n",
    "                roles[current_argument] = strip_tag(tokens_in[i])\n",
    "            else:\n",
    "                roles[current_argument] += \" \" + strip_tag(tokens_in[i])\n",
    "        if re.search(\"\\]$\", tokens_in[i]):\n",
    "            current_argument = \"\"\n",
    "            last_tokens[-1] = True\n",
    "        first_token = False\n",
    "    return [tokens_out, arguments, first_tokens, last_tokens, roles]"
   ]
  },
  {
   "cell_type": "code",
   "execution_count": 18,
   "id": "ad4fe971-e31e-4f11-abf8-063397bb879d",
   "metadata": {},
   "outputs": [],
   "source": [
    "def get_lemmas(sentence):\n",
    "    lemmas = []\n",
    "    results = spacy_analyze(sentence)\n",
    "    for token in results:\n",
    "        lemmas.append(token.lemma_)\n",
    "    return lemmas"
   ]
  },
  {
   "cell_type": "code",
   "execution_count": 191,
   "id": "31a63481-9434-43ff-9146-6a5fb0b39520",
   "metadata": {},
   "outputs": [],
   "source": [
    "def find_causal_relations(analyzed_sentence, lemmas):\n",
    "    tokens, arguments, first_tokens, last_tokens, roles = convert_analysis(analyzed_sentence)\n",
    "    concepts = []\n",
    "    for i in range(0, len(tokens)):\n",
    "        if \"ARGM-PRP\" in arguments:\n",
    "            concepts.append(get_concept_tag_argm_prp(arguments[i]))\n",
    "        elif \"ARGM-DIS\" in arguments and roles[\"ARGM-DIS\"].lower() in ARGM_DIS_ROLES:\n",
    "            concepts.append(get_concept_tag_argm_dis(arguments[i]))\n",
    "        elif \"V\" in arguments and (\"ARG0\" not in roles or roles[\"ARG0\"].lower() not in NO_ARG0_ROLES) and check_verb(find_verb(tokens, arguments, lemmas), RELATION_VERBS):\n",
    "            concepts.append(get_concept_tag_v(arguments[i]))\n",
    "        elif \"V\" in arguments and (\"ARG0\" not in roles or roles[\"ARG0\"].lower() not in NO_ARG0_ROLES) and check_verb(find_verb(tokens, arguments, lemmas), REVERSE_VERBS):\n",
    "            concepts.append(get_concept_tag_reverse_v(arguments[i]))\n",
    "        else:\n",
    "            concepts.append(NO_CONCEPT)\n",
    "    return { \"tokens\": tokens, \"arguments\": arguments, \"first_tokens\": first_tokens, \"last_tokens\": last_tokens, \"roles\": roles, \"concepts\": concepts }"
   ]
  },
  {
   "cell_type": "code",
   "execution_count": 199,
   "id": "695b907f-e7d9-42ea-b21e-e75dafa66bee",
   "metadata": {},
   "outputs": [],
   "source": [
    "def pretty_print(causal_relation_data):\n",
    "    for i in range(0, len(causal_relation_data[\"tokens\"])):\n",
    "        color_code = COLOR_CODES[causal_relation_data[\"concepts\"][i]]\n",
    "        print_token(causal_relation_data[\"tokens\"][i], causal_relation_data[\"arguments\"][i], causal_relation_data[\"first_tokens\"][i], causal_relation_data[\"last_tokens\"][i], color_code)\n",
    "    print(\"\")"
   ]
  },
  {
   "cell_type": "code",
   "execution_count": 208,
   "id": "3057805e-406f-48e5-82f2-b57713e6c38d",
   "metadata": {},
   "outputs": [],
   "source": [
    "def srl_analyze(sentence, filter=\"\", print_flag=True):\n",
    "    srl_analysis = srl_predictor.predict(sentence=sentence)\n",
    "    causal_relations = []\n",
    "    lemmas = get_lemmas(re.sub(\"\\s+\", \" \", sentence))\n",
    "    for verb_data in srl_analysis['verbs']:\n",
    "        causal_relations.append(find_causal_relations(verb_data['description'], lemmas))\n",
    "    if print_flag:\n",
    "        for causal_relation_data in causal_relations:\n",
    "            if filter == \"\" or re.search(filter, \" \".join(causal_relation_data[\"tokens\"] + causal_relation_data[\"arguments\"])):\n",
    "                pretty_print(causal_relation_data)\n",
    "    return causal_relations"
   ]
  },
  {
   "cell_type": "markdown",
   "id": "878c83ec-5f49-4857-bbe3-c26e1970a4e9",
   "metadata": {},
   "source": [
    "## 3. Test cases"
   ]
  },
  {
   "cell_type": "code",
   "execution_count": 197,
   "id": "5a15844e-570e-4d1f-be62-b2f953dedbc5",
   "metadata": {},
   "outputs": [
    {
     "name": "stdout",
     "output_type": "stream",
     "text": [
      "[ARG0 John] [V sees] [ARG1 the mountain with the snow] "
     ]
    }
   ],
   "source": [
    "srl_analyze(\"John sees the mountain with the snow\")"
   ]
  },
  {
   "cell_type": "code",
   "execution_count": 200,
   "id": "d1011a94-4b99-445b-a402-8d8da2b2c102",
   "metadata": {},
   "outputs": [
    {
     "name": "stdout",
     "output_type": "stream",
     "text": [
      "[ARG0 You] , [ARGM-LOC in Greece] , [ARGM-MNR with our support] , [V need] [ARG1 to rebuild your country , your structures , your administration , your economy to increase the competitiveness of Greece] . \n",
      "\u001b[1;31;47m[ARG0 \u001b[m\u001b[1;31;47mYou\u001b[m\u001b[1;31;47m]\u001b[m , in Greece , with our support , need to \u001b[1;31;47m[V \u001b[m\u001b[1;31;47mrebuild\u001b[m\u001b[1;31;47m]\u001b[m \u001b[1;31;47m[ARG1 \u001b[m\u001b[1;31;47myour\u001b[m\u001b[1;31;47m \u001b[m\u001b[1;31;47mcountry\u001b[m\u001b[1;31;47m \u001b[m\u001b[1;31;47m,\u001b[m\u001b[1;31;47m \u001b[m\u001b[1;31;47myour\u001b[m\u001b[1;31;47m \u001b[m\u001b[1;31;47mstructures\u001b[m\u001b[1;31;47m \u001b[m\u001b[1;31;47m,\u001b[m\u001b[1;31;47m \u001b[m\u001b[1;31;47myour\u001b[m\u001b[1;31;47m \u001b[m\u001b[1;31;47madministration\u001b[m\u001b[1;31;47m \u001b[m\u001b[1;31;47m,\u001b[m\u001b[1;31;47m \u001b[m\u001b[1;31;47myour\u001b[m\u001b[1;31;47m \u001b[m\u001b[1;31;47meconomy\u001b[m\u001b[1;31;47m]\u001b[m \u001b[1;34;47m[ARGM-PRP \u001b[m\u001b[1;34;47mto\u001b[m\u001b[1;34;47m \u001b[m\u001b[1;34;47mincrease\u001b[m\u001b[1;34;47m \u001b[m\u001b[1;34;47mthe\u001b[m\u001b[1;34;47m \u001b[m\u001b[1;34;47mcompetitiveness\u001b[m\u001b[1;34;47m \u001b[m\u001b[1;34;47mof\u001b[m\u001b[1;34;47m \u001b[m\u001b[1;34;47mGreece\u001b[m\u001b[1;34;47m]\u001b[m . \n",
      "You , in Greece , with our support , need to rebuild your country , your structures , your administration , your economy to \u001b[1;30;47m[V \u001b[m\u001b[1;30;47mincrease\u001b[m\u001b[1;30;47m]\u001b[m \u001b[1;34;47m[ARG1 \u001b[m\u001b[1;34;47mthe\u001b[m\u001b[1;34;47m \u001b[m\u001b[1;34;47mcompetitiveness\u001b[m\u001b[1;34;47m \u001b[m\u001b[1;34;47mof\u001b[m\u001b[1;34;47m \u001b[m\u001b[1;34;47mGreece\u001b[m\u001b[1;34;47m]\u001b[m . \n"
     ]
    }
   ],
   "source": [
    "srl_analyze(\"\"\"You, in Greece, with our support, need to rebuild your country, your structures, your administration, \n",
    "               your economy to increase the competitiveness of Greece.\"\"\")"
   ]
  },
  {
   "cell_type": "code",
   "execution_count": 36,
   "id": "315abf68-be8c-4f3d-bf4c-2df02c86b2c9",
   "metadata": {},
   "outputs": [
    {
     "name": "stdout",
     "output_type": "stream",
     "text": [
      "\u001b[1;31;47m[ARG0 \u001b[m\u001b[1;31;47mThis\u001b[m\u001b[1;31;47m]\u001b[m \u001b[1;30;47m[V \u001b[m\u001b[1;30;47mopened\u001b[m\u001b[1;30;47m]\u001b[m \u001b[1;34;47m[ARG1 \u001b[m\u001b[1;34;47mthe\u001b[m\u001b[1;34;47m \u001b[m\u001b[1;34;47mway\u001b[m\u001b[1;34;47m \u001b[m\u001b[1;34;47mto\u001b[m\u001b[1;34;47m \u001b[m\u001b[1;34;47mwelfare\u001b[m\u001b[1;34;47m \u001b[m\u001b[1;34;47mgains\u001b[m\u001b[1;34;47m \u001b[m\u001b[1;34;47mfrom\u001b[m\u001b[1;34;47m \u001b[m\u001b[1;34;47mstronger\u001b[m\u001b[1;34;47m \u001b[m\u001b[1;34;47meconomic\u001b[m\u001b[1;34;47m \u001b[m\u001b[1;34;47mand\u001b[m\u001b[1;34;47m \u001b[m\u001b[1;34;47mfinancial\u001b[m\u001b[1;34;47m \u001b[m\u001b[1;34;47mintegration\u001b[m\u001b[1;34;47m]\u001b[m . \n"
     ]
    }
   ],
   "source": [
    "srl_analyze(\"This opened the way to welfare gains from stronger economic and financial integration.\")"
   ]
  },
  {
   "cell_type": "code",
   "execution_count": 37,
   "id": "2f79c931-5910-4e5e-906c-cf0038e13294",
   "metadata": {},
   "outputs": [
    {
     "name": "stdout",
     "output_type": "stream",
     "text": [
      "[ARG1 One risk] [V is] [ARG2 the temptation for governments to overborrow because the economic costs of excessive public debt] \n"
     ]
    }
   ],
   "source": [
    "srl_analyze(\"One risk is the temptation for governments to overborrow because the economic costs of excessive public debt\")"
   ]
  },
  {
   "cell_type": "code",
   "execution_count": 38,
   "id": "5790cf17-2704-4467-95ac-20f071abfff9",
   "metadata": {},
   "outputs": [
    {
     "name": "stdout",
     "output_type": "stream",
     "text": [
      "A \u001b[1;30;47m[V \u001b[m\u001b[1;30;47mresulting\u001b[m\u001b[1;30;47m]\u001b[m \u001b[1;34;47m[ARG2 \u001b[m\u001b[1;34;47mloosening\u001b[m\u001b[1;34;47m]\u001b[m of fiscal discipline in individual member states can endanger the stability - oriented monetary policy . \n",
      "A resulting loosening of fiscal discipline in individual member states [V can] endanger the stability - oriented monetary policy . \n",
      "\u001b[1;31;47m[ARG0 \u001b[m\u001b[1;31;47mA\u001b[m\u001b[1;31;47m \u001b[m\u001b[1;31;47mresulting\u001b[m\u001b[1;31;47m \u001b[m\u001b[1;31;47mloosening\u001b[m\u001b[1;31;47m \u001b[m\u001b[1;31;47mof\u001b[m\u001b[1;31;47m \u001b[m\u001b[1;31;47mfiscal\u001b[m\u001b[1;31;47m \u001b[m\u001b[1;31;47mdiscipline\u001b[m\u001b[1;31;47m \u001b[m\u001b[1;31;47min\u001b[m\u001b[1;31;47m \u001b[m\u001b[1;31;47mindividual\u001b[m\u001b[1;31;47m \u001b[m\u001b[1;31;47mmember\u001b[m\u001b[1;31;47m \u001b[m\u001b[1;31;47mstates\u001b[m\u001b[1;31;47m]\u001b[m [ARGM-MOD can] \u001b[1;30;47m[V \u001b[m\u001b[1;30;47mendanger\u001b[m\u001b[1;30;47m]\u001b[m \u001b[1;34;47m[ARG1 \u001b[m\u001b[1;34;47mthe\u001b[m\u001b[1;34;47m \u001b[m\u001b[1;34;47mstability\u001b[m\u001b[1;34;47m \u001b[m\u001b[1;34;47m-\u001b[m\u001b[1;34;47m \u001b[m\u001b[1;34;47moriented\u001b[m\u001b[1;34;47m \u001b[m\u001b[1;34;47mmonetary\u001b[m\u001b[1;34;47m \u001b[m\u001b[1;34;47mpolicy\u001b[m\u001b[1;34;47m]\u001b[m . \n",
      "A resulting loosening of fiscal discipline in individual member states can endanger the [ARGM-MNR stability] - [V oriented] [ARG1 monetary policy] . \n"
     ]
    }
   ],
   "source": [
    "srl_analyze(\"A resulting loosening of fiscal discipline in individual member states can endanger the stability-oriented monetary policy.\")"
   ]
  },
  {
   "cell_type": "code",
   "execution_count": 41,
   "id": "bee739b0-6890-44c8-9243-ba7232cfd06d",
   "metadata": {},
   "outputs": [
    {
     "name": "stdout",
     "output_type": "stream",
     "text": [
      "Therefore , the markets [V did] not properly perform their expected policing function . \n",
      "\u001b[1;30;47m[ARGM-DIS \u001b[m\u001b[1;30;47mTherefore\u001b[m\u001b[1;30;47m]\u001b[m , \u001b[1;34;47m[ARG0 \u001b[m\u001b[1;34;47mthe\u001b[m\u001b[1;34;47m \u001b[m\u001b[1;34;47mmarkets\u001b[m\u001b[1;34;47m]\u001b[m did \u001b[1;34;47m[ARGM-NEG \u001b[m\u001b[1;34;47mnot\u001b[m\u001b[1;34;47m]\u001b[m \u001b[1;34;47m[ARGM-MNR \u001b[m\u001b[1;34;47mproperly\u001b[m\u001b[1;34;47m]\u001b[m \u001b[1;34;47m[V \u001b[m\u001b[1;34;47mperform\u001b[m\u001b[1;34;47m]\u001b[m \u001b[1;34;47m[ARG1 \u001b[m\u001b[1;34;47mtheir\u001b[m\u001b[1;34;47m \u001b[m\u001b[1;34;47mexpected\u001b[m\u001b[1;34;47m \u001b[m\u001b[1;34;47mpolicing\u001b[m\u001b[1;34;47m \u001b[m\u001b[1;34;47mfunction\u001b[m\u001b[1;34;47m]\u001b[m . \n",
      "Therefore , the markets did not properly perform their [V expected] [ARG1 policing function] . \n"
     ]
    }
   ],
   "source": [
    "srl_analyze(\"Therefore, the markets did not properly perform their expected policing function.\")"
   ]
  },
  {
   "cell_type": "code",
   "execution_count": 42,
   "id": "2f1a41ca-b0ba-48c7-99f3-c4475ce51df1",
   "metadata": {},
   "outputs": [
    {
     "name": "stdout",
     "output_type": "stream",
     "text": [
      "[ARG0 I] [V hope] [ARG1 that following the lessons of interdependence not only at global , but also at European level given by the crisis] \n",
      "I hope that [V following] [ARG1 the lessons of interdependence] [ARGM-LOC not only at global , but also at European level given by the crisis] \n",
      "I hope that following \u001b[1;34;47m[ARG1 \u001b[m\u001b[1;34;47mthe\u001b[m\u001b[1;34;47m \u001b[m\u001b[1;34;47mlessons\u001b[m\u001b[1;34;47m \u001b[m\u001b[1;34;47mof\u001b[m\u001b[1;34;47m \u001b[m\u001b[1;34;47minterdependence\u001b[m\u001b[1;34;47m]\u001b[m not only at global , but also at European level \u001b[1;30;47m[V \u001b[m\u001b[1;30;47mgiven\u001b[m\u001b[1;30;47m]\u001b[m \u001b[1;31;47m[ARG0 \u001b[m\u001b[1;31;47mby\u001b[m\u001b[1;31;47m \u001b[m\u001b[1;31;47mthe\u001b[m\u001b[1;31;47m \u001b[m\u001b[1;31;47mcrisis\u001b[m\u001b[1;31;47m]\u001b[m \n"
     ]
    }
   ],
   "source": [
    "srl_analyze(\"I hope that following the lessons of interdependence not only at global, but also at European level given by the crisis\")"
   ]
  },
  {
   "cell_type": "code",
   "execution_count": 43,
   "id": "6907cf65-d7d1-4f2b-834c-c8725a789efb",
   "metadata": {},
   "outputs": [
    {
     "name": "stdout",
     "output_type": "stream",
     "text": [
      "\u001b[1;34;47m[ARG0 \u001b[m\u001b[1;34;47mEuropean\u001b[m\u001b[1;34;47m \u001b[m\u001b[1;34;47meconomic\u001b[m\u001b[1;34;47m \u001b[m\u001b[1;34;47mstrategy\u001b[m\u001b[1;34;47m]\u001b[m \u001b[1;30;47m[V \u001b[m\u001b[1;30;47mneeds\u001b[m\u001b[1;30;47m]\u001b[m \u001b[1;31;47m[ARG1 \u001b[m\u001b[1;31;47mthe\u001b[m\u001b[1;31;47m \u001b[m\u001b[1;31;47mfull\u001b[m\u001b[1;31;47m \u001b[m\u001b[1;31;47mcommitment\u001b[m\u001b[1;31;47m \u001b[m\u001b[1;31;47mof\u001b[m\u001b[1;31;47m \u001b[m\u001b[1;31;47mthe\u001b[m\u001b[1;31;47m \u001b[m\u001b[1;31;47mEuropean\u001b[m\u001b[1;31;47m \u001b[m\u001b[1;31;47mpolitical\u001b[m\u001b[1;31;47m \u001b[m\u001b[1;31;47mcommunity\u001b[m\u001b[1;31;47m]\u001b[m . \n"
     ]
    }
   ],
   "source": [
    "srl_analyze(\"European economic strategy needs the full commitment of the European political community.\")"
   ]
  },
  {
   "cell_type": "code",
   "execution_count": 44,
   "id": "459c7201-cc64-4b74-ad11-4558a8e249fe",
   "metadata": {},
   "outputs": [
    {
     "name": "stdout",
     "output_type": "stream",
     "text": [
      "And a European economic system \u001b[1;34;47m[ARG1 \u001b[m\u001b[1;34;47mwhose\u001b[m\u001b[1;34;47m \u001b[m\u001b[1;34;47mresilience\u001b[m\u001b[1;34;47m]\u001b[m \u001b[1;30;47m[V \u001b[m\u001b[1;30;47mflows\u001b[m\u001b[1;30;47m]\u001b[m [ARGM-DIR from its single market] \n"
     ]
    }
   ],
   "source": [
    "srl_analyze(\"And a European economic system whose resilience flows from its single market\")"
   ]
  },
  {
   "cell_type": "code",
   "execution_count": 45,
   "id": "5b72ed91-af91-4c2f-9c75-193561125851",
   "metadata": {},
   "outputs": [
    {
     "name": "stdout",
     "output_type": "stream",
     "text": [
      "there \u001b[1;34;47m[V \u001b[m\u001b[1;34;47mare\u001b[m\u001b[1;34;47m]\u001b[m \u001b[1;30;47m[ARGM-DIS \u001b[m\u001b[1;30;47mof\u001b[m\u001b[1;30;47m \u001b[m\u001b[1;30;47mcourse\u001b[m\u001b[1;30;47m]\u001b[m \u001b[1;34;47m[ARG1 \u001b[m\u001b[1;34;47mconsiderable\u001b[m\u001b[1;34;47m \u001b[m\u001b[1;34;47mbudgetary\u001b[m\u001b[1;34;47m \u001b[m\u001b[1;34;47mchallenges\u001b[m\u001b[1;34;47m \u001b[m\u001b[1;34;47marising\u001b[m\u001b[1;34;47m \u001b[m\u001b[1;34;47mfrom\u001b[m\u001b[1;34;47m \u001b[m\u001b[1;34;47mthe\u001b[m\u001b[1;34;47m \u001b[m\u001b[1;34;47mrecent\u001b[m\u001b[1;34;47m \u001b[m\u001b[1;34;47mexceptional\u001b[m\u001b[1;34;47m \u001b[m\u001b[1;34;47mmeasures\u001b[m\u001b[1;34;47m]\u001b[m \n",
      "there are of course \u001b[1;31;47m[ARG1 \u001b[m\u001b[1;31;47mconsiderable\u001b[m\u001b[1;31;47m \u001b[m\u001b[1;31;47mbudgetary\u001b[m\u001b[1;31;47m \u001b[m\u001b[1;31;47mchallenges\u001b[m\u001b[1;31;47m]\u001b[m \u001b[1;30;47m[V \u001b[m\u001b[1;30;47marising\u001b[m\u001b[1;30;47m]\u001b[m \u001b[1;31;47m[ARG2 \u001b[m\u001b[1;31;47mfrom\u001b[m\u001b[1;31;47m \u001b[m\u001b[1;31;47mthe\u001b[m\u001b[1;31;47m \u001b[m\u001b[1;31;47mrecent\u001b[m\u001b[1;31;47m \u001b[m\u001b[1;31;47mexceptional\u001b[m\u001b[1;31;47m \u001b[m\u001b[1;31;47mmeasures\u001b[m\u001b[1;31;47m]\u001b[m \n"
     ]
    }
   ],
   "source": [
    "srl_analyze(\"there are of course considerable budgetary challenges arising from the recent exceptional measures\")"
   ]
  },
  {
   "cell_type": "code",
   "execution_count": 46,
   "id": "2ed79018-85a0-45fb-9d5c-2f1947602cb7",
   "metadata": {},
   "outputs": [
    {
     "name": "stdout",
     "output_type": "stream",
     "text": [
      "\u001b[1;30;47m[ARGM-DIS \u001b[m\u001b[1;30;47mAnd\u001b[m\u001b[1;30;47m]\u001b[m \u001b[1;34;47m[ARG1 \u001b[m\u001b[1;34;47mthe\u001b[m\u001b[1;34;47m \u001b[m\u001b[1;34;47mbest\u001b[m\u001b[1;34;47m \u001b[m\u001b[1;34;47mhope\u001b[m\u001b[1;34;47m \u001b[m\u001b[1;34;47mof\u001b[m\u001b[1;34;47m \u001b[m\u001b[1;34;47ma\u001b[m\u001b[1;34;47m \u001b[m\u001b[1;34;47mreturn\u001b[m\u001b[1;34;47m \u001b[m\u001b[1;34;47mto\u001b[m\u001b[1;34;47m \u001b[m\u001b[1;34;47mgrowth\u001b[m\u001b[1;34;47m \u001b[m\u001b[1;34;47mand\u001b[m\u001b[1;34;47m \u001b[m\u001b[1;34;47mjob\u001b[m\u001b[1;34;47m \u001b[m\u001b[1;34;47mcreation\u001b[m\u001b[1;34;47m]\u001b[m \u001b[1;34;47m[V \u001b[m\u001b[1;34;47mis\u001b[m\u001b[1;34;47m]\u001b[m \u001b[1;34;47m[ARG2 \u001b[m\u001b[1;34;47minside\u001b[m\u001b[1;34;47m \u001b[m\u001b[1;34;47mthe\u001b[m\u001b[1;34;47m \u001b[m\u001b[1;34;47meuro\u001b[m\u001b[1;34;47m \u001b[m\u001b[1;34;47marea\u001b[m\u001b[1;34;47m]\u001b[m . \n"
     ]
    }
   ],
   "source": [
    "srl_analyze(\"And the best hope of a return to growth and job creation is inside the euro area.\")"
   ]
  },
  {
   "cell_type": "code",
   "execution_count": 47,
   "id": "da62399a-2a30-4bfd-a4eb-ce2215579c80",
   "metadata": {},
   "outputs": [
    {
     "name": "stdout",
     "output_type": "stream",
     "text": [
      "To [V conclude] , let me say a few words on the euro area more generally . \n",
      "\u001b[1;34;47m[ARGM-PRP \u001b[m\u001b[1;34;47mTo\u001b[m\u001b[1;34;47m \u001b[m\u001b[1;34;47mconclude\u001b[m\u001b[1;34;47m]\u001b[m , \u001b[1;31;47m[V \u001b[m\u001b[1;31;47mlet\u001b[m\u001b[1;31;47m]\u001b[m \u001b[1;31;47m[ARG1 \u001b[m\u001b[1;31;47mme\u001b[m\u001b[1;31;47m \u001b[m\u001b[1;31;47msay\u001b[m\u001b[1;31;47m \u001b[m\u001b[1;31;47ma\u001b[m\u001b[1;31;47m \u001b[m\u001b[1;31;47mfew\u001b[m\u001b[1;31;47m \u001b[m\u001b[1;31;47mwords\u001b[m\u001b[1;31;47m \u001b[m\u001b[1;31;47mon\u001b[m\u001b[1;31;47m \u001b[m\u001b[1;31;47mthe\u001b[m\u001b[1;31;47m \u001b[m\u001b[1;31;47meuro\u001b[m\u001b[1;31;47m \u001b[m\u001b[1;31;47marea\u001b[m\u001b[1;31;47m \u001b[m\u001b[1;31;47mmore\u001b[m\u001b[1;31;47m \u001b[m\u001b[1;31;47mgenerally\u001b[m\u001b[1;31;47m]\u001b[m . \n",
      "To conclude , let [ARG0 me] [V say] [ARG1 a few words] [ARGM-LOC on the euro area] [ARGM-ADV more generally] . \n"
     ]
    }
   ],
   "source": [
    "srl_analyze(\"To conclude, let me say a few words on the euro area more generally.\")"
   ]
  },
  {
   "cell_type": "code",
   "execution_count": 48,
   "id": "4d41d16d-acbf-4da7-9afe-0992057f9fb8",
   "metadata": {},
   "outputs": [
    {
     "name": "stdout",
     "output_type": "stream",
     "text": [
      "We [V have] taken important , fundamental decisions over the last couple of months to safeguard the stability of the euro area , and indeed we are now in the phase of implementation . \n",
      "\u001b[1;31;47m[ARG0 \u001b[m\u001b[1;31;47mWe\u001b[m\u001b[1;31;47m]\u001b[m have \u001b[1;31;47m[V \u001b[m\u001b[1;31;47mtaken\u001b[m\u001b[1;31;47m]\u001b[m \u001b[1;31;47m[ARG1 \u001b[m\u001b[1;31;47mimportant\u001b[m\u001b[1;31;47m \u001b[m\u001b[1;31;47m,\u001b[m\u001b[1;31;47m \u001b[m\u001b[1;31;47mfundamental\u001b[m\u001b[1;31;47m \u001b[m\u001b[1;31;47mdecisions\u001b[m\u001b[1;31;47m]\u001b[m [ARGM-TMP over the last couple of months] \u001b[1;34;47m[ARGM-PRP \u001b[m\u001b[1;34;47mto\u001b[m\u001b[1;34;47m \u001b[m\u001b[1;34;47msafeguard\u001b[m\u001b[1;34;47m \u001b[m\u001b[1;34;47mthe\u001b[m\u001b[1;34;47m \u001b[m\u001b[1;34;47mstability\u001b[m\u001b[1;34;47m \u001b[m\u001b[1;34;47mof\u001b[m\u001b[1;34;47m \u001b[m\u001b[1;34;47mthe\u001b[m\u001b[1;34;47m \u001b[m\u001b[1;34;47meuro\u001b[m\u001b[1;34;47m \u001b[m\u001b[1;34;47marea\u001b[m\u001b[1;34;47m]\u001b[m , and indeed we are now in the phase of implementation . \n",
      "\u001b[1;31;47m[ARG0 \u001b[m\u001b[1;31;47mWe\u001b[m\u001b[1;31;47m]\u001b[m have taken important , fundamental decisions over the last couple of months to \u001b[1;30;47m[V \u001b[m\u001b[1;30;47msafeguard\u001b[m\u001b[1;30;47m]\u001b[m \u001b[1;34;47m[ARG1 \u001b[m\u001b[1;34;47mthe\u001b[m\u001b[1;34;47m \u001b[m\u001b[1;34;47mstability\u001b[m\u001b[1;34;47m \u001b[m\u001b[1;34;47mof\u001b[m\u001b[1;34;47m \u001b[m\u001b[1;34;47mthe\u001b[m\u001b[1;34;47m \u001b[m\u001b[1;34;47meuro\u001b[m\u001b[1;34;47m \u001b[m\u001b[1;34;47marea\u001b[m\u001b[1;34;47m]\u001b[m , and indeed we are now in the phase of implementation . \n",
      "We have taken important , fundamental decisions over the last couple of months to safeguard the stability of the euro area , and [ARGM-ADV indeed] [ARG1 we] [V are] [ARGM-TMP now] [ARG2 in the phase of implementation] . \n"
     ]
    }
   ],
   "source": [
    "srl_analyze(\"\"\"We have taken important, fundamental decisions over the last couple of months to safeguard the stability \n",
    "               of the euro area, and indeed we are now in the phase of implementation.\"\"\")"
   ]
  },
  {
   "cell_type": "code",
   "execution_count": 49,
   "id": "7cc28fe0-2fd8-40f0-bb47-e66a0dbc7822",
   "metadata": {},
   "outputs": [
    {
     "name": "stdout",
     "output_type": "stream",
     "text": [
      "A number of governments [V have] embarked on a path of reform and fiscal consolidation that was unthinkable only very recently , and they have taken important decisions and I encourage them to keep this determination . \n",
      "[ARG0 A number of governments] have [V embarked] [ARG1 on a path of reform and fiscal consolidation that was unthinkable only very recently] , and they have taken important decisions and I encourage them to keep this determination . \n",
      "A number of governments have embarked on [ARG1 a path of reform and fiscal consolidation] [R-ARG1 that] [V was] [ARG2 unthinkable] [ARGM-TMP only very recently] , and they have taken important decisions and I encourage them to keep this determination . \n",
      "A number of governments have embarked on a path of reform and fiscal consolidation that was unthinkable only very recently , and they [V have] taken important decisions and I encourage them to keep this determination . \n",
      "A number of governments have embarked on a path of reform and fiscal consolidation that was unthinkable only very recently , and [ARG0 they] have [V taken] [ARG1 important decisions] and I encourage them to keep this determination . \n",
      "A number of governments have embarked on a path of reform and fiscal consolidation that was unthinkable only very recently , and they have taken important decisions and [ARG0 I] [V encourage] [ARG1 them] [ARG2 to keep this determination] . \n",
      "A number of governments have embarked on a path of reform and fiscal consolidation that was unthinkable only very recently , and they have taken important decisions and I encourage [ARG0 them] to [V keep] [ARG1 this determination] . \n"
     ]
    }
   ],
   "source": [
    "srl_analyze(\"\"\"A number of governments have embarked on a path of reform and fiscal consolidation that was unthinkable only \n",
    "               very recently, and they have taken important decisions and I encourage them to keep this determination.\"\"\")"
   ]
  },
  {
   "cell_type": "code",
   "execution_count": 50,
   "id": "3608204a-2217-4403-896d-10b5b02f0f38",
   "metadata": {},
   "outputs": [
    {
     "name": "stdout",
     "output_type": "stream",
     "text": [
      "These reforms [V are] now being implemented and this effort must continue with credibility , with consistency , with coherence over time . \n",
      "These reforms are now [V being] implemented and this effort must continue with credibility , with consistency , with coherence over time . \n",
      "[ARG1 These reforms] are [ARGM-TMP now] being [V implemented] and this effort must continue with credibility , with consistency , with coherence over time . \n",
      "These reforms are now being implemented and this effort [V must] continue with credibility , with consistency , with coherence over time . \n",
      "These reforms are now being implemented and [ARG1 this effort] [ARGM-MOD must] [V continue] [ARGM-MNR with credibility , with consistency , with coherence over time] . \n"
     ]
    }
   ],
   "source": [
    "srl_analyze(\"\"\"These reforms are now being implemented and this effort must continue with credibility, with consistency, \n",
    "               with coherence over time.\"\"\")"
   ]
  },
  {
   "cell_type": "code",
   "execution_count": 51,
   "id": "21df66a7-1c41-43a5-a953-c40ac915e150",
   "metadata": {},
   "outputs": [
    {
     "name": "stdout",
     "output_type": "stream",
     "text": [
      "As [ARG0 we] [V said] there will not be magic solutions . \n",
      "As we said there [V will] not be magic solutions . \n",
      "[ARGM-ADV As we said] there [ARGM-MOD will] [ARGM-NEG not] [V be] [ARG1 magic solutions] . \n"
     ]
    }
   ],
   "source": [
    "srl_analyze(\"As we said there will not be magic solutions.\")"
   ]
  },
  {
   "cell_type": "code",
   "execution_count": 52,
   "id": "b0e08438-0804-4afb-a771-5f848fd6278e",
   "metadata": {},
   "outputs": [
    {
     "name": "stdout",
     "output_type": "stream",
     "text": [
      "\u001b[1;34;47m[ARG0 \u001b[m\u001b[1;34;47mWe\u001b[m\u001b[1;34;47m]\u001b[m \u001b[1;30;47m[V \u001b[m\u001b[1;30;47mneed\u001b[m\u001b[1;30;47m]\u001b[m \u001b[1;31;47m[ARG1 \u001b[m\u001b[1;31;47msustained\u001b[m\u001b[1;31;47m \u001b[m\u001b[1;31;47mefforts\u001b[m\u001b[1;31;47m \u001b[m\u001b[1;31;47mand\u001b[m\u001b[1;31;47m \u001b[m\u001b[1;31;47mdetermination\u001b[m\u001b[1;31;47m]\u001b[m . \n"
     ]
    }
   ],
   "source": [
    "srl_analyze(\"We need sustained efforts and determination.\")"
   ]
  },
  {
   "cell_type": "code",
   "execution_count": 53,
   "id": "89cd2b3d-b1ad-4a4a-b690-6d86877ef10c",
   "metadata": {},
   "outputs": [
    {
     "name": "stdout",
     "output_type": "stream",
     "text": [
      "At the same time , the [V existing] [ARG1 financial backstops] are being used as necessary . \n",
      "At the same time , the existing financial backstops [V are] being used as necessary . \n",
      "At the same time , the existing financial backstops are [V being] used as necessary . \n",
      "[ARGM-TMP At the same time] , [ARG1 the existing financial backstops] are being [V used] [ARGM-MNR as necessary] . \n"
     ]
    }
   ],
   "source": [
    "srl_analyze(\"At the same time, the existing financial backstops are being used as necessary.\")"
   ]
  },
  {
   "cell_type": "code",
   "execution_count": 54,
   "id": "a9bbefe2-4e57-495d-886c-d76f4b240d72",
   "metadata": {},
   "outputs": [
    {
     "name": "stdout",
     "output_type": "stream",
     "text": [
      "Most recently , the financial assistance to the recapitalisation of Spanish banks [V has] been agreed and is ready for implementation . \n",
      "Most recently , the financial assistance to the recapitalisation of Spanish banks has [V been] agreed and is ready for implementation . \n",
      "[ARGM-TMP Most recently] , [ARG1 the financial assistance to the recapitalisation of Spanish banks] has been [V agreed] and is ready for implementation . \n",
      "[ARGM-TMP Most recently] , [ARG1 the financial assistance to the recapitalisation of Spanish banks] has been agreed and [V is] [ARG2 ready for implementation] . \n"
     ]
    }
   ],
   "source": [
    "srl_analyze(\"\"\"Most recently, the financial assistance to the recapitalisation of Spanish banks has been agreed \n",
    "               and is ready for implementation.\"\"\")"
   ]
  },
  {
   "cell_type": "code",
   "execution_count": 55,
   "id": "985bbeaa-a66b-4ee9-8bef-a512bca9cbb5",
   "metadata": {},
   "outputs": [
    {
     "name": "stdout",
     "output_type": "stream",
     "text": [
      "\u001b[1;30;47m[V \u001b[m\u001b[1;30;47mGiving\u001b[m\u001b[1;30;47m]\u001b[m \u001b[1;34;47m[ARG2 \u001b[m\u001b[1;34;47mto\u001b[m\u001b[1;34;47m \u001b[m\u001b[1;34;47mthe\u001b[m\u001b[1;34;47m \u001b[m\u001b[1;34;47mECB\u001b[m\u001b[1;34;47m]\u001b[m \u001b[1;34;47m[ARG1 \u001b[m\u001b[1;34;47mthe\u001b[m\u001b[1;34;47m \u001b[m\u001b[1;34;47multimate\u001b[m\u001b[1;34;47m \u001b[m\u001b[1;34;47mresponsibility\u001b[m\u001b[1;34;47m \u001b[m\u001b[1;34;47mfor\u001b[m\u001b[1;34;47m \u001b[m\u001b[1;34;47msupervision\u001b[m\u001b[1;34;47m \u001b[m\u001b[1;34;47mof\u001b[m\u001b[1;34;47m \u001b[m\u001b[1;34;47mbanks\u001b[m\u001b[1;34;47m \u001b[m\u001b[1;34;47min\u001b[m\u001b[1;34;47m \u001b[m\u001b[1;34;47mthe\u001b[m\u001b[1;34;47m \u001b[m\u001b[1;34;47meuro\u001b[m\u001b[1;34;47m \u001b[m\u001b[1;34;47marea\u001b[m\u001b[1;34;47m]\u001b[m will decisively contribute to increase confidence between the banks and in this way increase the financial stability in the euro area . \n",
      "Giving to the ECB the ultimate responsibility for supervision of banks in the euro area [V will] decisively contribute to increase confidence between the banks and in this way increase the financial stability in the euro area . \n",
      "[ARGM-PRD Giving to the ECB the ultimate responsibility for supervision of banks in the euro area] [ARGM-MOD will] [ARGM-MNR decisively] \u001b[1;30;47m[V \u001b[m\u001b[1;30;47mcontribute\u001b[m\u001b[1;30;47m]\u001b[m \u001b[1;34;47m[ARG2 \u001b[m\u001b[1;34;47mto\u001b[m\u001b[1;34;47m \u001b[m\u001b[1;34;47mincrease\u001b[m\u001b[1;34;47m \u001b[m\u001b[1;34;47mconfidence\u001b[m\u001b[1;34;47m \u001b[m\u001b[1;34;47mbetween\u001b[m\u001b[1;34;47m \u001b[m\u001b[1;34;47mthe\u001b[m\u001b[1;34;47m \u001b[m\u001b[1;34;47mbanks\u001b[m\u001b[1;34;47m \u001b[m\u001b[1;34;47mand\u001b[m\u001b[1;34;47m \u001b[m\u001b[1;34;47min\u001b[m\u001b[1;34;47m \u001b[m\u001b[1;34;47mthis\u001b[m\u001b[1;34;47m \u001b[m\u001b[1;34;47mway\u001b[m\u001b[1;34;47m \u001b[m\u001b[1;34;47mincrease\u001b[m\u001b[1;34;47m \u001b[m\u001b[1;34;47mthe\u001b[m\u001b[1;34;47m \u001b[m\u001b[1;34;47mfinancial\u001b[m\u001b[1;34;47m \u001b[m\u001b[1;34;47mstability\u001b[m\u001b[1;34;47m \u001b[m\u001b[1;34;47min\u001b[m\u001b[1;34;47m \u001b[m\u001b[1;34;47mthe\u001b[m\u001b[1;34;47m \u001b[m\u001b[1;34;47meuro\u001b[m\u001b[1;34;47m \u001b[m\u001b[1;34;47marea\u001b[m\u001b[1;34;47m]\u001b[m . \n",
      "Giving to the ECB the ultimate responsibility for supervision of banks in the euro area will decisively contribute to \u001b[1;30;47m[V \u001b[m\u001b[1;30;47mincrease\u001b[m\u001b[1;30;47m]\u001b[m \u001b[1;34;47m[ARG1 \u001b[m\u001b[1;34;47mconfidence\u001b[m\u001b[1;34;47m \u001b[m\u001b[1;34;47mbetween\u001b[m\u001b[1;34;47m \u001b[m\u001b[1;34;47mthe\u001b[m\u001b[1;34;47m \u001b[m\u001b[1;34;47mbanks\u001b[m\u001b[1;34;47m]\u001b[m and in this way increase the financial stability in the euro area . \n",
      "Giving to the ECB the ultimate responsibility for supervision of banks in the euro area will decisively contribute to increase confidence between the banks and [ARGM-MNR in this way] \u001b[1;30;47m[V \u001b[m\u001b[1;30;47mincrease\u001b[m\u001b[1;30;47m]\u001b[m \u001b[1;34;47m[ARG1 \u001b[m\u001b[1;34;47mthe\u001b[m\u001b[1;34;47m \u001b[m\u001b[1;34;47mfinancial\u001b[m\u001b[1;34;47m \u001b[m\u001b[1;34;47mstability\u001b[m\u001b[1;34;47m \u001b[m\u001b[1;34;47min\u001b[m\u001b[1;34;47m \u001b[m\u001b[1;34;47mthe\u001b[m\u001b[1;34;47m \u001b[m\u001b[1;34;47meuro\u001b[m\u001b[1;34;47m \u001b[m\u001b[1;34;47marea\u001b[m\u001b[1;34;47m]\u001b[m . \n"
     ]
    }
   ],
   "source": [
    "srl_analyze(\"\"\"Giving to the ECB the ultimate responsibility for supervision of banks in the euro area \n",
    "               will decisively contribute to increase confidence between the banks \n",
    "               and in this way increase the financial stability in the euro area.\"\"\")"
   ]
  },
  {
   "cell_type": "code",
   "execution_count": 56,
   "id": "e74993ff-629f-4444-a3e9-95d936869c40",
   "metadata": {},
   "outputs": [
    {
     "name": "stdout",
     "output_type": "stream",
     "text": [
      "\u001b[1;30;47m[ARGM-DIS \u001b[m\u001b[1;30;47mSecond\u001b[m\u001b[1;30;47m]\u001b[m , \u001b[1;34;47m[ARG1 \u001b[m\u001b[1;34;47mGermany\u001b[m\u001b[1;34;47m]\u001b[m \u001b[1;34;47m[V \u001b[m\u001b[1;34;47mis\u001b[m\u001b[1;34;47m]\u001b[m \u001b[1;34;47m[ARG2 \u001b[m\u001b[1;34;47macutely\u001b[m\u001b[1;34;47m \u001b[m\u001b[1;34;47maware\u001b[m\u001b[1;34;47m \u001b[m\u001b[1;34;47mof\u001b[m\u001b[1;34;47m \u001b[m\u001b[1;34;47mthe\u001b[m\u001b[1;34;47m \u001b[m\u001b[1;34;47mneed\u001b[m\u001b[1;34;47m \u001b[m\u001b[1;34;47mto\u001b[m\u001b[1;34;47m \u001b[m\u001b[1;34;47mtackle\u001b[m\u001b[1;34;47m \u001b[m\u001b[1;34;47mthe\u001b[m\u001b[1;34;47m \u001b[m\u001b[1;34;47mroot\u001b[m\u001b[1;34;47m \u001b[m\u001b[1;34;47mcauses\u001b[m\u001b[1;34;47m \u001b[m\u001b[1;34;47mand\u001b[m\u001b[1;34;47m \u001b[m\u001b[1;34;47mnot\u001b[m\u001b[1;34;47m \u001b[m\u001b[1;34;47mjust\u001b[m\u001b[1;34;47m \u001b[m\u001b[1;34;47mthe\u001b[m\u001b[1;34;47m \u001b[m\u001b[1;34;47msymptoms\u001b[m\u001b[1;34;47m \u001b[m\u001b[1;34;47mof\u001b[m\u001b[1;34;47m \u001b[m\u001b[1;34;47mthe\u001b[m\u001b[1;34;47m \u001b[m\u001b[1;34;47mcrisis\u001b[m\u001b[1;34;47m]\u001b[m . \n",
      "Second , Germany is acutely aware of the need to \u001b[1;30;47m[V \u001b[m\u001b[1;30;47mtackle\u001b[m\u001b[1;30;47m]\u001b[m \u001b[1;34;47m[ARG1 \u001b[m\u001b[1;34;47mthe\u001b[m\u001b[1;34;47m \u001b[m\u001b[1;34;47mroot\u001b[m\u001b[1;34;47m \u001b[m\u001b[1;34;47mcauses\u001b[m\u001b[1;34;47m \u001b[m\u001b[1;34;47mand\u001b[m\u001b[1;34;47m \u001b[m\u001b[1;34;47mnot\u001b[m\u001b[1;34;47m \u001b[m\u001b[1;34;47mjust\u001b[m\u001b[1;34;47m \u001b[m\u001b[1;34;47mthe\u001b[m\u001b[1;34;47m \u001b[m\u001b[1;34;47msymptoms\u001b[m\u001b[1;34;47m \u001b[m\u001b[1;34;47mof\u001b[m\u001b[1;34;47m \u001b[m\u001b[1;34;47mthe\u001b[m\u001b[1;34;47m \u001b[m\u001b[1;34;47mcrisis\u001b[m\u001b[1;34;47m]\u001b[m . \n"
     ]
    }
   ],
   "source": [
    "srl_analyze(\"Second, Germany is acutely aware of the need to tackle the root causes and not just the symptoms of the crisis.\")"
   ]
  },
  {
   "cell_type": "code",
   "execution_count": 57,
   "id": "0ae9f741-68e7-4ae0-b1de-5ecb8723f609",
   "metadata": {},
   "outputs": [
    {
     "name": "stdout",
     "output_type": "stream",
     "text": [
      "[ARG1 This] [V is] [ARG2 why it is pressing strongly for institutional reforms of the EMU framework plus structural reforms and budgetary discipline in the member states] . \n",
      "This is why it [V is] pressing strongly for institutional reforms of the EMU framework plus structural reforms and budgetary discipline in the member states . \n",
      "This is [ARGM-CAU why] [ARG0 it] is [V pressing] [ARGM-MNR strongly] [ARG2 for institutional reforms of the EMU framework plus structural reforms and budgetary discipline in the member states] . \n"
     ]
    }
   ],
   "source": [
    "srl_analyze(\"\"\"This is why it is pressing strongly for institutional reforms of the EMU framework plus structural reforms \n",
    "               and budgetary discipline in the member states.\"\"\")"
   ]
  },
  {
   "cell_type": "code",
   "execution_count": 58,
   "id": "2040f38a-a5a9-4985-bec9-5407b44785a9",
   "metadata": {},
   "outputs": [
    {
     "name": "stdout",
     "output_type": "stream",
     "text": [
      "\u001b[1;31;47m[ARG0 \u001b[m\u001b[1;31;47mThe\u001b[m\u001b[1;31;47m \u001b[m\u001b[1;31;47mintroduction\u001b[m\u001b[1;31;47m \u001b[m\u001b[1;31;47mof\u001b[m\u001b[1;31;47m \u001b[m\u001b[1;31;47mthe\u001b[m\u001b[1;31;47m \u001b[m\u001b[1;31;47meuro\u001b[m\u001b[1;31;47m]\u001b[m \u001b[1;30;47m[V \u001b[m\u001b[1;30;47meliminated\u001b[m\u001b[1;30;47m]\u001b[m \u001b[1;34;47m[ARG1 \u001b[m\u001b[1;34;47mexchange\u001b[m\u001b[1;34;47m \u001b[m\u001b[1;34;47mrate\u001b[m\u001b[1;34;47m \u001b[m\u001b[1;34;47mrisks\u001b[m\u001b[1;34;47m]\u001b[m . \n"
     ]
    }
   ],
   "source": [
    "srl_analyze(\"The introduction of the euro eliminated exchange rate risks.\")"
   ]
  },
  {
   "cell_type": "code",
   "execution_count": 59,
   "id": "12883bd7-edda-4218-9303-1765e061dc10",
   "metadata": {},
   "outputs": [
    {
     "name": "stdout",
     "output_type": "stream",
     "text": [
      "[ARG1 Another implication of the euro area 's single monetary policy] [V is] [ARG2 that the key interest rates are set for the currency bloc as a whole] . \n",
      "Another implication of the euro area 's single monetary policy is that the key interest rates [V are] set for the currency bloc as a whole . \n",
      "Another implication of the euro area 's single monetary policy is that [ARG1 the key interest rates] are [V set] [ARGM-ADV for the currency bloc as a whole] . \n"
     ]
    }
   ],
   "source": [
    "srl_analyze(\"\"\"Another implication of the euro area's single monetary policy is that the key interest rates \n",
    "               are set for the currency bloc as a whole.\"\"\")"
   ]
  },
  {
   "cell_type": "code",
   "execution_count": 60,
   "id": "9f0a3592-99cf-48eb-acdd-9cfd79fff765",
   "metadata": {},
   "outputs": [
    {
     "name": "stdout",
     "output_type": "stream",
     "text": [
      "[ARG1 One risk] [V is] [ARG2 the temptation for governments to overborrow because the economic costs of excessive public debt , for example higher interest rates , can be more easily shifted to other member states] . \n",
      "One risk is the temptation for governments to overborrow because the economic costs of excessive public debt , for example higher interest rates , [V can] be more easily shifted to other member states . \n",
      "One risk is the temptation for governments to overborrow because the economic costs of excessive public debt , for example higher interest rates , can [V be] more easily shifted to other member states . \n",
      "One risk is the temptation for governments to overborrow because [ARG1 the economic costs of excessive public debt , for example higher interest rates] , [ARGM-MOD can] be [ARGM-MNR more easily] [V shifted] [ARG2 to other member states] . \n"
     ]
    }
   ],
   "source": [
    "srl_analyze(\"\"\"One risk is the temptation for governments to overborrow because the economic costs of excessive public debt, \n",
    "               for example higher interest rates, can be more easily shifted to other member states.\"\"\")"
   ]
  },
  {
   "cell_type": "code",
   "execution_count": 61,
   "id": "2d9960a6-24ea-4ee9-b260-6112c96cd9b0",
   "metadata": {},
   "outputs": [
    {
     "name": "stdout",
     "output_type": "stream",
     "text": [
      "[ARG0 Even Germany] [V ran] up [ARG1 excessive deficits] [ARGM-TMP for a few years] and , even worse , championed a reform of the SGP which ultimately further weakened the application of the fiscal rules . \n",
      "[ARG0 Even Germany] ran up excessive deficits for a few years and , [ARGM-ADV even worse] , [V championed] [ARG1 a reform of the SGP which ultimately further weakened the application of the fiscal rules] . \n",
      "Even Germany ran up excessive deficits for a few years and , even worse , championed \u001b[1;31;47m[ARG0 \u001b[m\u001b[1;31;47ma\u001b[m\u001b[1;31;47m \u001b[m\u001b[1;31;47mreform\u001b[m\u001b[1;31;47m \u001b[m\u001b[1;31;47mof\u001b[m\u001b[1;31;47m \u001b[m\u001b[1;31;47mthe\u001b[m\u001b[1;31;47m \u001b[m\u001b[1;31;47mSGP\u001b[m\u001b[1;31;47m]\u001b[m [R-ARG0 which] [ARGM-TMP ultimately] \u001b[1;34;47m[ARG2 \u001b[m\u001b[1;34;47mfurther\u001b[m\u001b[1;34;47m]\u001b[m \u001b[1;30;47m[V \u001b[m\u001b[1;30;47mweakened\u001b[m\u001b[1;30;47m]\u001b[m \u001b[1;34;47m[ARG1 \u001b[m\u001b[1;34;47mthe\u001b[m\u001b[1;34;47m \u001b[m\u001b[1;34;47mapplication\u001b[m\u001b[1;34;47m \u001b[m\u001b[1;34;47mof\u001b[m\u001b[1;34;47m \u001b[m\u001b[1;34;47mthe\u001b[m\u001b[1;34;47m \u001b[m\u001b[1;34;47mfiscal\u001b[m\u001b[1;34;47m \u001b[m\u001b[1;34;47mrules\u001b[m\u001b[1;34;47m]\u001b[m . \n"
     ]
    }
   ],
   "source": [
    "srl_analyze(\"\"\"Even Germany ran up excessive deficits for a few years and, even worse, championed a reform of the SGP \n",
    "               which ultimately further weakened the application of the fiscal rules.\"\"\")"
   ]
  },
  {
   "cell_type": "code",
   "execution_count": 62,
   "id": "b1d20c14-9a56-4456-8abb-6dd8debb1b42",
   "metadata": {},
   "outputs": [
    {
     "name": "stdout",
     "output_type": "stream",
     "text": [
      "\u001b[1;30;47m[ARGM-DIS \u001b[m\u001b[1;30;47mHowever\u001b[m\u001b[1;30;47m]\u001b[m , \u001b[1;34;47m[ARG1 \u001b[m\u001b[1;34;47mthe\u001b[m\u001b[1;34;47m \u001b[m\u001b[1;34;47mEMU\u001b[m\u001b[1;34;47m \u001b[m\u001b[1;34;47mframework\u001b[m\u001b[1;34;47m]\u001b[m not only \u001b[1;34;47m[V \u001b[m\u001b[1;34;47mfailed\u001b[m\u001b[1;34;47m]\u001b[m \u001b[1;34;47m[ARG2 \u001b[m\u001b[1;34;47mto\u001b[m\u001b[1;34;47m \u001b[m\u001b[1;34;47mavoid\u001b[m\u001b[1;34;47m \u001b[m\u001b[1;34;47mexcessive\u001b[m\u001b[1;34;47m \u001b[m\u001b[1;34;47mdeficits\u001b[m\u001b[1;34;47m]\u001b[m , it was also unable to prevent the build - up of macroeconomic imbalances within the euro area . \n",
      "However , \u001b[1;31;47m[ARG0 \u001b[m\u001b[1;31;47mthe\u001b[m\u001b[1;31;47m \u001b[m\u001b[1;31;47mEMU\u001b[m\u001b[1;31;47m \u001b[m\u001b[1;31;47mframework\u001b[m\u001b[1;31;47m]\u001b[m not only failed to \u001b[1;30;47m[V \u001b[m\u001b[1;30;47mavoid\u001b[m\u001b[1;30;47m]\u001b[m \u001b[1;34;47m[ARG1 \u001b[m\u001b[1;34;47mexcessive\u001b[m\u001b[1;34;47m \u001b[m\u001b[1;34;47mdeficits\u001b[m\u001b[1;34;47m]\u001b[m , it was also unable to prevent the build - up of macroeconomic imbalances within the euro area . \n",
      "However , the EMU framework not only failed to avoid excessive deficits , [ARG1 it] [V was] [ARGM-ADV also] [ARG2 unable to prevent the build - up of macroeconomic imbalances within the euro area] . \n",
      "However , the EMU framework not only failed to avoid excessive deficits , [ARG0 it] was also unable to [V prevent] [ARG1 the build - up of macroeconomic imbalances within the euro area] . \n"
     ]
    }
   ],
   "source": [
    "srl_analyze(\"\"\"However, the EMU framework not only failed to avoid excessive deficits, it was also unable to prevent \n",
    "               the build-up of macroeconomic imbalances within the euro area.\"\"\")"
   ]
  },
  {
   "cell_type": "code",
   "execution_count": 63,
   "id": "931baf3e-958f-4ad6-a998-a4f8ea2cfcec",
   "metadata": {},
   "outputs": [
    {
     "name": "stdout",
     "output_type": "stream",
     "text": [
      "The \u001b[1;30;47m[V \u001b[m\u001b[1;30;47mresulting\u001b[m\u001b[1;30;47m]\u001b[m \u001b[1;34;47m[ARG2 \u001b[m\u001b[1;34;47mincrease\u001b[m\u001b[1;34;47m]\u001b[m in domestic inflation and wages eroded the competitiveness of the countries concerned and increased their dependence on capital imports . \n",
      "\u001b[1;31;47m[ARG0 \u001b[m\u001b[1;31;47mThe\u001b[m\u001b[1;31;47m \u001b[m\u001b[1;31;47mresulting\u001b[m\u001b[1;31;47m \u001b[m\u001b[1;31;47mincrease\u001b[m\u001b[1;31;47m \u001b[m\u001b[1;31;47min\u001b[m\u001b[1;31;47m \u001b[m\u001b[1;31;47mdomestic\u001b[m\u001b[1;31;47m \u001b[m\u001b[1;31;47minflation\u001b[m\u001b[1;31;47m \u001b[m\u001b[1;31;47mand\u001b[m\u001b[1;31;47m \u001b[m\u001b[1;31;47mwages\u001b[m\u001b[1;31;47m]\u001b[m \u001b[1;30;47m[V \u001b[m\u001b[1;30;47meroded\u001b[m\u001b[1;30;47m]\u001b[m \u001b[1;34;47m[ARG1 \u001b[m\u001b[1;34;47mthe\u001b[m\u001b[1;34;47m \u001b[m\u001b[1;34;47mcompetitiveness\u001b[m\u001b[1;34;47m \u001b[m\u001b[1;34;47mof\u001b[m\u001b[1;34;47m \u001b[m\u001b[1;34;47mthe\u001b[m\u001b[1;34;47m \u001b[m\u001b[1;34;47mcountries\u001b[m\u001b[1;34;47m \u001b[m\u001b[1;34;47mconcerned\u001b[m\u001b[1;34;47m]\u001b[m and increased their dependence on capital imports . \n",
      "The resulting increase in domestic inflation and wages eroded the competitiveness of [ARG1 the countries] [V concerned] and increased their dependence on capital imports . \n",
      "\u001b[1;31;47m[ARG0 \u001b[m\u001b[1;31;47mThe\u001b[m\u001b[1;31;47m \u001b[m\u001b[1;31;47mresulting\u001b[m\u001b[1;31;47m \u001b[m\u001b[1;31;47mincrease\u001b[m\u001b[1;31;47m \u001b[m\u001b[1;31;47min\u001b[m\u001b[1;31;47m \u001b[m\u001b[1;31;47mdomestic\u001b[m\u001b[1;31;47m \u001b[m\u001b[1;31;47minflation\u001b[m\u001b[1;31;47m \u001b[m\u001b[1;31;47mand\u001b[m\u001b[1;31;47m \u001b[m\u001b[1;31;47mwages\u001b[m\u001b[1;31;47m]\u001b[m eroded the competitiveness of the countries concerned and \u001b[1;30;47m[V \u001b[m\u001b[1;30;47mincreased\u001b[m\u001b[1;30;47m]\u001b[m \u001b[1;34;47m[ARG1 \u001b[m\u001b[1;34;47mtheir\u001b[m\u001b[1;34;47m \u001b[m\u001b[1;34;47mdependence\u001b[m\u001b[1;34;47m \u001b[m\u001b[1;34;47mon\u001b[m\u001b[1;34;47m \u001b[m\u001b[1;34;47mcapital\u001b[m\u001b[1;34;47m \u001b[m\u001b[1;34;47mimports\u001b[m\u001b[1;34;47m]\u001b[m . \n"
     ]
    }
   ],
   "source": [
    "srl_analyze(\"\"\"The resulting increase in domestic inflation and wages eroded the competitiveness of the countries concerned and \n",
    "               increased their dependence on capital imports.\"\"\")"
   ]
  },
  {
   "cell_type": "code",
   "execution_count": 64,
   "id": "87956f23-b8ce-48ff-8ddf-2d6ce8b5e0ce",
   "metadata": {},
   "outputs": [
    {
     "name": "stdout",
     "output_type": "stream",
     "text": [
      "The task of [V implementing] [ARG1 the reforms] and regaining competitiveness entailed significant political and social costs . \n",
      "The task of implementing the reforms and [V regaining] [ARG1 competitiveness] entailed significant political and social costs . \n",
      "\u001b[1;31;47m[ARG0 \u001b[m\u001b[1;31;47mThe\u001b[m\u001b[1;31;47m \u001b[m\u001b[1;31;47mtask\u001b[m\u001b[1;31;47m \u001b[m\u001b[1;31;47mof\u001b[m\u001b[1;31;47m \u001b[m\u001b[1;31;47mimplementing\u001b[m\u001b[1;31;47m \u001b[m\u001b[1;31;47mthe\u001b[m\u001b[1;31;47m \u001b[m\u001b[1;31;47mreforms\u001b[m\u001b[1;31;47m \u001b[m\u001b[1;31;47mand\u001b[m\u001b[1;31;47m \u001b[m\u001b[1;31;47mregaining\u001b[m\u001b[1;31;47m \u001b[m\u001b[1;31;47mcompetitiveness\u001b[m\u001b[1;31;47m]\u001b[m \u001b[1;30;47m[V \u001b[m\u001b[1;30;47mentailed\u001b[m\u001b[1;30;47m]\u001b[m \u001b[1;34;47m[ARG1 \u001b[m\u001b[1;34;47msignificant\u001b[m\u001b[1;34;47m \u001b[m\u001b[1;34;47mpolitical\u001b[m\u001b[1;34;47m \u001b[m\u001b[1;34;47mand\u001b[m\u001b[1;34;47m \u001b[m\u001b[1;34;47msocial\u001b[m\u001b[1;34;47m \u001b[m\u001b[1;34;47mcosts\u001b[m\u001b[1;34;47m]\u001b[m . \n"
     ]
    }
   ],
   "source": [
    "srl_analyze(\"The task of implementing the reforms and regaining competitiveness entailed significant political and social costs.\")"
   ]
  },
  {
   "cell_type": "code",
   "execution_count": 65,
   "id": "92f2d27b-0dc7-48cd-9cdd-4b99aa507cb8",
   "metadata": {},
   "outputs": [
    {
     "name": "stdout",
     "output_type": "stream",
     "text": [
      "However , \u001b[1;34;47m[ARG1 \u001b[m\u001b[1;34;47mthese\u001b[m\u001b[1;34;47m \u001b[m\u001b[1;34;47mefforts\u001b[m\u001b[1;34;47m]\u001b[m , \u001b[1;30;47m[V \u001b[m\u001b[1;30;47msupported\u001b[m\u001b[1;30;47m]\u001b[m \u001b[1;31;47m[ARG0 \u001b[m\u001b[1;31;47mby\u001b[m\u001b[1;31;47m \u001b[m\u001b[1;31;47ma\u001b[m\u001b[1;31;47m \u001b[m\u001b[1;31;47mstrong\u001b[m\u001b[1;31;47m \u001b[m\u001b[1;31;47mexpansion\u001b[m\u001b[1;31;47m \u001b[m\u001b[1;31;47min\u001b[m\u001b[1;31;47m \u001b[m\u001b[1;31;47mthe\u001b[m\u001b[1;31;47m \u001b[m\u001b[1;31;47mglobal\u001b[m\u001b[1;31;47m \u001b[m\u001b[1;31;47meconomy\u001b[m\u001b[1;31;47m]\u001b[m , allowed German growth to rebound after 2005 . \n",
      "\u001b[1;30;47m[ARGM-DIS \u001b[m\u001b[1;30;47mHowever\u001b[m\u001b[1;30;47m]\u001b[m , \u001b[1;34;47m[ARG0 \u001b[m\u001b[1;34;47mthese\u001b[m\u001b[1;34;47m \u001b[m\u001b[1;34;47mefforts\u001b[m\u001b[1;34;47m \u001b[m\u001b[1;34;47m,\u001b[m\u001b[1;34;47m \u001b[m\u001b[1;34;47msupported\u001b[m\u001b[1;34;47m \u001b[m\u001b[1;34;47mby\u001b[m\u001b[1;34;47m \u001b[m\u001b[1;34;47ma\u001b[m\u001b[1;34;47m \u001b[m\u001b[1;34;47mstrong\u001b[m\u001b[1;34;47m \u001b[m\u001b[1;34;47mexpansion\u001b[m\u001b[1;34;47m \u001b[m\u001b[1;34;47min\u001b[m\u001b[1;34;47m \u001b[m\u001b[1;34;47mthe\u001b[m\u001b[1;34;47m \u001b[m\u001b[1;34;47mglobal\u001b[m\u001b[1;34;47m \u001b[m\u001b[1;34;47meconomy\u001b[m\u001b[1;34;47m]\u001b[m , \u001b[1;34;47m[V \u001b[m\u001b[1;34;47mallowed\u001b[m\u001b[1;34;47m]\u001b[m \u001b[1;34;47m[ARG1 \u001b[m\u001b[1;34;47mGerman\u001b[m\u001b[1;34;47m \u001b[m\u001b[1;34;47mgrowth\u001b[m\u001b[1;34;47m \u001b[m\u001b[1;34;47mto\u001b[m\u001b[1;34;47m \u001b[m\u001b[1;34;47mrebound\u001b[m\u001b[1;34;47m \u001b[m\u001b[1;34;47mafter\u001b[m\u001b[1;34;47m \u001b[m\u001b[1;34;47m2005\u001b[m\u001b[1;34;47m]\u001b[m . \n",
      "However , these efforts , supported by a strong expansion in the global economy , allowed [ARG1 German growth] to [V rebound] [ARGM-TMP after 2005] . \n"
     ]
    }
   ],
   "source": [
    "srl_analyze(\"\"\"However, these efforts, supported by a strong expansion in the global economy, allowed German growth to rebound \n",
    "               after 2005.\"\"\")"
   ]
  },
  {
   "cell_type": "code",
   "execution_count": 66,
   "id": "c6d13dc9-f815-4348-9384-b9a18d20e660",
   "metadata": {},
   "outputs": [
    {
     "name": "stdout",
     "output_type": "stream",
     "text": [
      "In order to \u001b[1;30;47m[V \u001b[m\u001b[1;30;47machieve\u001b[m\u001b[1;30;47m]\u001b[m \u001b[1;34;47m[ARG1 \u001b[m\u001b[1;34;47ma\u001b[m\u001b[1;34;47m \u001b[m\u001b[1;34;47mturnaround\u001b[m\u001b[1;34;47m]\u001b[m and allow further assistance , it is now essential for Greece to deliver on the promises that have been made . \n",
      "In order to achieve a turnaround and \u001b[1;30;47m[V \u001b[m\u001b[1;30;47mallow\u001b[m\u001b[1;30;47m]\u001b[m \u001b[1;34;47m[ARG1 \u001b[m\u001b[1;34;47mfurther\u001b[m\u001b[1;34;47m \u001b[m\u001b[1;34;47massistance\u001b[m\u001b[1;34;47m]\u001b[m , it is now essential for Greece to deliver on the promises that have been made . \n",
      "\u001b[1;34;47m[ARGM-PRP \u001b[m\u001b[1;34;47mIn\u001b[m\u001b[1;34;47m \u001b[m\u001b[1;34;47morder\u001b[m\u001b[1;34;47m \u001b[m\u001b[1;34;47mto\u001b[m\u001b[1;34;47m \u001b[m\u001b[1;34;47machieve\u001b[m\u001b[1;34;47m \u001b[m\u001b[1;34;47ma\u001b[m\u001b[1;34;47m \u001b[m\u001b[1;34;47mturnaround\u001b[m\u001b[1;34;47m \u001b[m\u001b[1;34;47mand\u001b[m\u001b[1;34;47m \u001b[m\u001b[1;34;47mallow\u001b[m\u001b[1;34;47m \u001b[m\u001b[1;34;47mfurther\u001b[m\u001b[1;34;47m \u001b[m\u001b[1;34;47massistance\u001b[m\u001b[1;34;47m]\u001b[m , it \u001b[1;31;47m[V \u001b[m\u001b[1;31;47mis\u001b[m\u001b[1;31;47m]\u001b[m [ARGM-TMP now] \u001b[1;31;47m[ARG2 \u001b[m\u001b[1;31;47messential\u001b[m\u001b[1;31;47m]\u001b[m \u001b[1;31;47m[ARG1 \u001b[m\u001b[1;31;47mfor\u001b[m\u001b[1;31;47m \u001b[m\u001b[1;31;47mGreece\u001b[m\u001b[1;31;47m \u001b[m\u001b[1;31;47mto\u001b[m\u001b[1;31;47m \u001b[m\u001b[1;31;47mdeliver\u001b[m\u001b[1;31;47m \u001b[m\u001b[1;31;47mon\u001b[m\u001b[1;31;47m \u001b[m\u001b[1;31;47mthe\u001b[m\u001b[1;31;47m \u001b[m\u001b[1;31;47mpromises\u001b[m\u001b[1;31;47m \u001b[m\u001b[1;31;47mthat\u001b[m\u001b[1;31;47m \u001b[m\u001b[1;31;47mhave\u001b[m\u001b[1;31;47m \u001b[m\u001b[1;31;47mbeen\u001b[m\u001b[1;31;47m \u001b[m\u001b[1;31;47mmade\u001b[m\u001b[1;31;47m]\u001b[m . \n",
      "In order to achieve a turnaround and allow further assistance , it is now essential for [ARG0 Greece] to [V deliver] [ARG1 on the promises that have been made] . \n",
      "In order to achieve a turnaround and allow further assistance , it is now essential for Greece to deliver on the promises that [V have] been made . \n",
      "In order to achieve a turnaround and allow further assistance , it is now essential for Greece to deliver on the promises that have [V been] made . \n",
      "In order to achieve a turnaround and allow further assistance , it is now essential for Greece to deliver on [ARG1 the promises] [R-ARG1 that] have been [V made] . \n"
     ]
    }
   ],
   "source": [
    "srl_analyze(\"\"\"In order to achieve a turnaround and allow further assistance, it is now essential for Greece to deliver \n",
    "               on the promises that have been made.\"\"\")"
   ]
  },
  {
   "cell_type": "markdown",
   "id": "972560a3-840f-4f4c-964f-6e7bfd49b320",
   "metadata": {},
   "source": [
    "## 4. Propbank role explanation"
   ]
  },
  {
   "cell_type": "markdown",
   "id": "588908d7-0689-4902-b868-95fe6b5747ef",
   "metadata": {},
   "source": [
    "Modifiers in Propbank (source: http://clear.colorado.edu/compsem/documents/propbank_guidelines.pdf )\n",
    "* ADJ: Adjectival\n",
    "* ADV: Adverbials\n",
    "* CAU: Cause\n",
    "* COM: Comitative\n",
    "* DIR: Directional\n",
    "* DIS: Discourse\n",
    "* DSP: Direct Speech\n",
    "* EXT: Extent\n",
    "* GOL: Goal\n",
    "* LOC: Locative\n",
    "* LVB: Light Verb\n",
    "* MNR: Manner\n",
    "* MOD: Modal\n",
    "* NEG: Negation\n",
    "* PRD: Secondary Predication\n",
    "* PRP: Purpose\n",
    "* REC: Reciprocals\n",
    "* SLC: Relative Clause"
   ]
  },
  {
   "cell_type": "markdown",
   "id": "674fae69-32c1-4949-989f-06bc5e5534c7",
   "metadata": {},
   "source": [
    "## 5. Process texts"
   ]
  },
  {
   "cell_type": "code",
   "execution_count": 68,
   "id": "e9179a87-35dc-42fc-b421-d4c890d5107f",
   "metadata": {},
   "outputs": [],
   "source": [
    "import json"
   ]
  },
  {
   "cell_type": "code",
   "execution_count": 69,
   "id": "ffdbfbeb-21d8-44be-b927-5f6c5088c864",
   "metadata": {},
   "outputs": [],
   "source": [
    "def read_data(file_name):\n",
    "    json_data = []\n",
    "    infile = open(file_name, \"r\")\n",
    "    for line in infile:\n",
    "        json_data.append(json.loads(line))\n",
    "    infile.close()\n",
    "    return json_data"
   ]
  },
  {
   "cell_type": "code",
   "execution_count": 245,
   "id": "e89b4b4a-fcce-43da-9be3-6c2c44de0668",
   "metadata": {},
   "outputs": [],
   "source": [
    "def get_concepts_json(json_data_element):\n",
    "    concepts = {}\n",
    "    for label_element in json_data_element[\"label\"]:\n",
    "        label = label_element[2]\n",
    "        phrase = json_data_element[\"data\"][label_element[0]: label_element[1]]\n",
    "        if label not in concepts:\n",
    "            concepts[label] = phrase\n",
    "        else:\n",
    "            concepts[label] += \" \" + phrase\n",
    "    return list(concepts.items())"
   ]
  },
  {
   "cell_type": "code",
   "execution_count": 246,
   "id": "cc7c44e1-d2ff-46bc-9163-10d7072419e2",
   "metadata": {},
   "outputs": [],
   "source": [
    "def get_concepts_srl(srl_data):\n",
    "    concepts = {}\n",
    "    for i in range(0, len(srl_data[\"concepts\"])):\n",
    "        if srl_data[\"concepts\"][i] != NO_CONCEPT:\n",
    "            label = srl_data[\"concepts\"][i]\n",
    "            phrase = srl_data[\"tokens\"][i]\n",
    "            if label not in concepts:\n",
    "                concepts[label] = phrase\n",
    "            elif len(phrase) > 1 or re.search(\"\\w\", phrase):\n",
    "                concepts[label] += \" \" + phrase\n",
    "            else:\n",
    "                concepts[label] += phrase\n",
    "    return list(concepts.items())"
   ]
  },
  {
   "cell_type": "code",
   "execution_count": 262,
   "id": "6c96d456-defd-4fbd-81cf-72dd8eef4396",
   "metadata": {},
   "outputs": [],
   "source": [
    "def evaluate_concepts(concepts_json, concepts_srl):\n",
    "    nbr_of_shared = 0\n",
    "    concepts_srl_used = len(concepts_srl) * [False]\n",
    "    for i in range(0, len(concepts_json)):\n",
    "        for j in range(0, len(concepts_srl)):\n",
    "            if not concepts_srl_used[j] and concepts_srl[j][0] == concepts_json[i][0] and concepts_srl[j][1] == concepts_json[i][1]:\n",
    "                nbr_of_shared += 1\n",
    "                concepts_srl_used[j] = True\n",
    "                break\n",
    "    print(f\"precision: {nbr_of_shared/len(concepts_srl):.3f}; recall: {nbr_of_shared/len(concepts_json):.3f}\")"
   ]
  },
  {
   "cell_type": "code",
   "execution_count": 70,
   "id": "08d5ee6f-2fa1-42c0-8859-1d2e2d3c0171",
   "metadata": {},
   "outputs": [],
   "source": [
    "json_data = read_data(\"../data/femke-20211012.jsonl\")"
   ]
  },
  {
   "cell_type": "code",
   "execution_count": 273,
   "id": "a5f44e1f-2a5c-4dbf-9270-4c63a0fa6fc4",
   "metadata": {},
   "outputs": [
    {
     "data": {
      "text/plain": [
       "[('Content_Concept_1', 'introduction of the euro'),\n",
       " ('Content_Relation_Explanation', 'eliminated'),\n",
       " ('Content_Concept_2', 'exchange rate risks')]"
      ]
     },
     "execution_count": 273,
     "metadata": {},
     "output_type": "execute_result"
    }
   ],
   "source": [
    "get_concepts_json(json_data[20])"
   ]
  },
  {
   "cell_type": "code",
   "execution_count": 281,
   "id": "58112822-ba04-44d6-88ef-b79b7cf58aee",
   "metadata": {},
   "outputs": [
    {
     "name": "stdout",
     "output_type": "stream",
     "text": [
      "####################\n",
      "\u001b[1;31;47m[ARG0 \u001b[m\u001b[1;31;47mThe\u001b[m\u001b[1;31;47m \u001b[m\u001b[1;31;47mintroduction\u001b[m\u001b[1;31;47m \u001b[m\u001b[1;31;47mof\u001b[m\u001b[1;31;47m \u001b[m\u001b[1;31;47mthe\u001b[m\u001b[1;31;47m \u001b[m\u001b[1;31;47meuro\u001b[m\u001b[1;31;47m]\u001b[m \u001b[1;30;47m[V \u001b[m\u001b[1;30;47meliminated\u001b[m\u001b[1;30;47m]\u001b[m \u001b[1;34;47m[ARG1 \u001b[m\u001b[1;34;47mexchange\u001b[m\u001b[1;34;47m \u001b[m\u001b[1;34;47mrate\u001b[m\u001b[1;34;47m \u001b[m\u001b[1;34;47mrisks\u001b[m\u001b[1;34;47m]\u001b[m . \n",
      "\n",
      "\u001b[1;31;47m[ARG0 \u001b[m\u001b[1;31;47mThis\u001b[m\u001b[1;31;47m]\u001b[m \u001b[1;30;47m[V \u001b[m\u001b[1;30;47mopened\u001b[m\u001b[1;30;47m]\u001b[m \u001b[1;34;47m[ARG1 \u001b[m\u001b[1;34;47mthe\u001b[m\u001b[1;34;47m \u001b[m\u001b[1;34;47mway\u001b[m\u001b[1;34;47m \u001b[m\u001b[1;34;47mto\u001b[m\u001b[1;34;47m \u001b[m\u001b[1;34;47mwelfare\u001b[m\u001b[1;34;47m \u001b[m\u001b[1;34;47mgains\u001b[m\u001b[1;34;47m \u001b[m\u001b[1;34;47mfrom\u001b[m\u001b[1;34;47m \u001b[m\u001b[1;34;47mstronger\u001b[m\u001b[1;34;47m \u001b[m\u001b[1;34;47meconomic\u001b[m\u001b[1;34;47m \u001b[m\u001b[1;34;47mand\u001b[m\u001b[1;34;47m \u001b[m\u001b[1;34;47mfinancial\u001b[m\u001b[1;34;47m \u001b[m\u001b[1;34;47mintegration\u001b[m\u001b[1;34;47m]\u001b[m . \n",
      "\n",
      "[ARG0 You] [V pay] [ARGM-MNR with the same currency] , [ARGM-ADV no matter whether you are in Dublin , Helsinki , Lisbon or Rome] . \n",
      "You pay with the same currency , no matter whether [ARG1 you] [V are] [ARG2 in Dublin , Helsinki , Lisbon or Rome] . \n",
      "\n",
      "More importantly , the euro [V has] proved to be a very stable currency - with a strong exchange rate and an annual inflation rate of about 2 % since its introduction . \n",
      "[ARGM-ADV More importantly] , [ARG1 the euro] has [V proved] [C-ARG1 to be a very stable currency - with a strong exchange rate and an annual inflation rate of about 2 % since its introduction] . \n",
      "More importantly , [ARG1 the euro] has proved to [V be] [ARG2 a very stable currency - with a strong exchange rate and an annual inflation rate of about 2 % since its introduction] . \n",
      "\n",
      "20: precision: 0.167; recall: 0.333\n"
     ]
    }
   ],
   "source": [
    "seen = {}\n",
    "for paragraph_id in range(20, 21):\n",
    "    paragraph_text = json_data[paragraph_id][\"data\"]\n",
    "    if paragraph_text not in seen:\n",
    "        print(\"####################\")\n",
    "        concepts_json = get_concepts_json(json_data[paragraph_id])\n",
    "        concepts_srl = []\n",
    "        spacy_analysis = spacy_analyze(paragraph_text)\n",
    "        for sentence in spacy_analysis.sents:\n",
    "            srl_analysis = srl_analyze(str(sentence), filter=\"\")\n",
    "            for srl_analysis_data in srl_analysis:\n",
    "                concepts_srl.extend(get_concepts_srl(srl_analysis_data))\n",
    "            print(\"\")\n",
    "        seen[paragraph_text] = True\n",
    "        print(f\"{paragraph_id}: \", end=\"\")\n",
    "        evaluate_concepts(concepts_json, concepts_srl)"
   ]
  },
  {
   "cell_type": "code",
   "execution_count": null,
   "id": "b016b06f-2bf7-474d-a29d-ddde27f9f5fc",
   "metadata": {},
   "outputs": [],
   "source": []
  }
 ],
 "metadata": {
  "kernelspec": {
   "display_name": "allennlp",
   "language": "python",
   "name": "allennlp"
  },
  "language_info": {
   "codemirror_mode": {
    "name": "ipython",
    "version": 3
   },
   "file_extension": ".py",
   "mimetype": "text/x-python",
   "name": "python",
   "nbconvert_exporter": "python",
   "pygments_lexer": "ipython3",
   "version": "3.7.12"
  }
 },
 "nbformat": 4,
 "nbformat_minor": 5
}

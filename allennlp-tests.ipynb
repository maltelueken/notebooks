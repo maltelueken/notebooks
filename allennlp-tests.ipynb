{
 "cells": [
  {
   "cell_type": "markdown",
   "id": "097cf9b2-c835-4d63-93e6-fb98636763f9",
   "metadata": {},
   "source": [
    "# AllenNLP tests\n",
    "\n",
    "Use AllenNLP's semantic role labeling in combination with manually written rules for extracting causal relations from political speeches. We found two limitations: only relations within a single sentence were found and complex relations involving understanding the sentence were hard to identify.\n",
    "\n",
    "Links:\n",
    "\n",
    "* software installation: https://github.com/allenai/allennlp (do not forget to install NLTK popular models)\n",
    "* software usage: https://demo.allennlp.org/semantic-role-labeling (tab: Model Usage)"
   ]
  },
  {
   "cell_type": "markdown",
   "id": "6cc310b0-1c94-4561-b41d-b76cfd4a48a5",
   "metadata": {},
   "source": [
    "## 1. Language processing modules"
   ]
  },
  {
   "cell_type": "code",
   "execution_count": 1,
   "id": "b4d59808-a18f-4dfe-970a-35ac0d46f573",
   "metadata": {},
   "outputs": [],
   "source": [
    "from allennlp.predictors.predictor import Predictor\n",
    "import allennlp_models.tagging\n",
    "import spacy"
   ]
  },
  {
   "cell_type": "markdown",
   "id": "684ed53c-b3e5-4cf0-bd00-023d00367908",
   "metadata": {},
   "source": [
    "We use AllenNLP for semantic role labeling and Spacy for lemmatization (of verbs) and tokenizing."
   ]
  },
  {
   "cell_type": "code",
   "execution_count": 2,
   "id": "403ac43b-17a2-41ca-8826-7651f5f3105c",
   "metadata": {},
   "outputs": [],
   "source": [
    "spacy_analyze = spacy.load('en_core_web_sm')"
   ]
  },
  {
   "cell_type": "code",
   "execution_count": 3,
   "id": "289eae14-db61-4df0-baec-41b07319a109",
   "metadata": {},
   "outputs": [
    {
     "name": "stderr",
     "output_type": "stream",
     "text": [
      "/home/erikt/anaconda3/envs/allennlp/lib/python3.7/site-packages/allennlp/tango/__init__.py:18: UserWarning: AllenNLP Tango is an experimental API and parts of it might change or disappear every time we release a new version.\n",
      "  \"AllenNLP Tango is an experimental API and parts of it might change or disappear \"\n",
      "2021-12-09 17:28:13,972 - INFO - allennlp.common.plugins - Plugin allennlp_models available\n",
      "2021-12-09 17:28:14,213 - INFO - cached_path - cache of https://storage.googleapis.com/allennlp-public-models/structured-prediction-srl-bert.2020.12.15.tar.gz is up-to-date\n",
      "2021-12-09 17:28:14,217 - INFO - allennlp.models.archival - loading archive file https://storage.googleapis.com/allennlp-public-models/structured-prediction-srl-bert.2020.12.15.tar.gz from cache at /home/erikt/.allennlp/cache/b5f1db011cc85691a5fa2bf29e055a712261a2e5d74a74edd7da2fffc98d4ab8.4c4ac7e06ec3d85631bd26b839f90b5a375d3ceeb43e3c74f1cf4758dcee2bb3\n",
      "2021-12-09 17:28:14,221 - INFO - allennlp.models.archival - extracting archive file /home/erikt/.allennlp/cache/b5f1db011cc85691a5fa2bf29e055a712261a2e5d74a74edd7da2fffc98d4ab8.4c4ac7e06ec3d85631bd26b839f90b5a375d3ceeb43e3c74f1cf4758dcee2bb3 to temp dir /tmp/tmp3tdvewco\n",
      "2021-12-09 17:28:17,750 - INFO - allennlp.common.params - dataset_reader.type = srl\n",
      "2021-12-09 17:28:17,751 - INFO - allennlp.common.params - dataset_reader.max_instances = None\n",
      "2021-12-09 17:28:17,752 - INFO - allennlp.common.params - dataset_reader.manual_distributed_sharding = False\n",
      "2021-12-09 17:28:17,752 - INFO - allennlp.common.params - dataset_reader.manual_multiprocess_sharding = False\n",
      "2021-12-09 17:28:17,753 - INFO - allennlp.common.params - dataset_reader.token_indexers = None\n",
      "2021-12-09 17:28:17,753 - INFO - allennlp.common.params - dataset_reader.domain_identifier = None\n",
      "2021-12-09 17:28:17,754 - INFO - allennlp.common.params - dataset_reader.bert_model_name = bert-base-uncased\n",
      "2021-12-09 17:28:17,754 - INFO - allennlp.common.params - type = bert-base-uncased\n",
      "2021-12-09 17:28:31,074 - INFO - allennlp.common.params - dataset_reader.type = srl\n",
      "2021-12-09 17:28:31,075 - INFO - allennlp.common.params - dataset_reader.max_instances = None\n",
      "2021-12-09 17:28:31,076 - INFO - allennlp.common.params - dataset_reader.manual_distributed_sharding = False\n",
      "2021-12-09 17:28:31,077 - INFO - allennlp.common.params - dataset_reader.manual_multiprocess_sharding = False\n",
      "2021-12-09 17:28:31,077 - INFO - allennlp.common.params - dataset_reader.token_indexers = None\n",
      "2021-12-09 17:28:31,078 - INFO - allennlp.common.params - dataset_reader.domain_identifier = None\n",
      "2021-12-09 17:28:31,079 - INFO - allennlp.common.params - dataset_reader.bert_model_name = bert-base-uncased\n",
      "2021-12-09 17:28:31,085 - INFO - allennlp.common.params - type = bert-base-uncased\n",
      "2021-12-09 17:28:34,959 - INFO - allennlp.common.params - type = from_instances\n",
      "2021-12-09 17:28:34,960 - INFO - allennlp.data.vocabulary - Loading token dictionary from /tmp/tmp3tdvewco/vocabulary.\n",
      "2021-12-09 17:28:34,961 - INFO - allennlp.common.params - model.type = srl_bert\n",
      "2021-12-09 17:28:34,962 - INFO - allennlp.common.params - model.regularizer = None\n",
      "2021-12-09 17:28:34,962 - INFO - allennlp.common.params - model.ddp_accelerator = None\n",
      "2021-12-09 17:28:34,963 - INFO - allennlp.common.params - model.bert_model = bert-base-uncased\n",
      "2021-12-09 17:28:34,964 - INFO - allennlp.common.params - type = bert-base-uncased\n",
      "2021-12-09 17:28:34,967 - INFO - allennlp.common.params - type = bert-base-uncased\n",
      "2021-12-09 17:28:34,968 - INFO - allennlp.common.params - model.embedding_dropout = 0.1\n",
      "2021-12-09 17:28:34,970 - INFO - allennlp.common.params - model.initializer = <allennlp.nn.initializers.InitializerApplicator object at 0x7f7e1cb3cad0>\n",
      "2021-12-09 17:28:34,971 - INFO - allennlp.common.params - model.label_smoothing = None\n",
      "2021-12-09 17:28:34,972 - INFO - allennlp.common.params - model.ignore_span_metric = False\n",
      "2021-12-09 17:28:34,973 - INFO - allennlp.common.params - model.srl_eval_path = /home/erikt/anaconda3/envs/allennlp/lib/python3.7/site-packages/allennlp_models/structured_prediction/tools/srl-eval.pl\n",
      "Some weights of the model checkpoint at bert-base-uncased were not used when initializing BertModel: ['cls.predictions.transform.LayerNorm.weight', 'cls.predictions.transform.LayerNorm.bias', 'cls.seq_relationship.weight', 'cls.predictions.decoder.weight', 'cls.predictions.transform.dense.bias', 'cls.predictions.transform.dense.weight', 'cls.predictions.bias', 'cls.seq_relationship.bias']\n",
      "- This IS expected if you are initializing BertModel from the checkpoint of a model trained on another task or with another architecture (e.g. initializing a BertForSequenceClassification model from a BertForPreTraining model).\n",
      "- This IS NOT expected if you are initializing BertModel from the checkpoint of a model that you expect to be exactly identical (initializing a BertForSequenceClassification model from a BertForSequenceClassification model).\n",
      "2021-12-09 17:28:37,325 - INFO - allennlp.nn.initializers - Initializing parameters\n",
      "2021-12-09 17:28:37,327 - INFO - allennlp.nn.initializers - Done initializing parameters; the following parameters are using their default initialization from their code\n",
      "2021-12-09 17:28:37,328 - INFO - allennlp.nn.initializers -    bert_model.embeddings.LayerNorm.bias\n",
      "2021-12-09 17:28:37,328 - INFO - allennlp.nn.initializers -    bert_model.embeddings.LayerNorm.weight\n",
      "2021-12-09 17:28:37,329 - INFO - allennlp.nn.initializers -    bert_model.embeddings.position_embeddings.weight\n",
      "2021-12-09 17:28:37,331 - INFO - allennlp.nn.initializers -    bert_model.embeddings.token_type_embeddings.weight\n",
      "2021-12-09 17:28:37,332 - INFO - allennlp.nn.initializers -    bert_model.embeddings.word_embeddings.weight\n",
      "2021-12-09 17:28:37,333 - INFO - allennlp.nn.initializers -    bert_model.encoder.layer.0.attention.output.LayerNorm.bias\n",
      "2021-12-09 17:28:37,334 - INFO - allennlp.nn.initializers -    bert_model.encoder.layer.0.attention.output.LayerNorm.weight\n",
      "2021-12-09 17:28:37,335 - INFO - allennlp.nn.initializers -    bert_model.encoder.layer.0.attention.output.dense.bias\n",
      "2021-12-09 17:28:37,336 - INFO - allennlp.nn.initializers -    bert_model.encoder.layer.0.attention.output.dense.weight\n",
      "2021-12-09 17:28:37,337 - INFO - allennlp.nn.initializers -    bert_model.encoder.layer.0.attention.self.key.bias\n",
      "2021-12-09 17:28:37,342 - INFO - allennlp.nn.initializers -    bert_model.encoder.layer.0.attention.self.key.weight\n",
      "2021-12-09 17:28:37,343 - INFO - allennlp.nn.initializers -    bert_model.encoder.layer.0.attention.self.query.bias\n",
      "2021-12-09 17:28:37,344 - INFO - allennlp.nn.initializers -    bert_model.encoder.layer.0.attention.self.query.weight\n",
      "2021-12-09 17:28:37,345 - INFO - allennlp.nn.initializers -    bert_model.encoder.layer.0.attention.self.value.bias\n",
      "2021-12-09 17:28:37,347 - INFO - allennlp.nn.initializers -    bert_model.encoder.layer.0.attention.self.value.weight\n",
      "2021-12-09 17:28:37,348 - INFO - allennlp.nn.initializers -    bert_model.encoder.layer.0.intermediate.dense.bias\n",
      "2021-12-09 17:28:37,350 - INFO - allennlp.nn.initializers -    bert_model.encoder.layer.0.intermediate.dense.weight\n",
      "2021-12-09 17:28:37,351 - INFO - allennlp.nn.initializers -    bert_model.encoder.layer.0.output.LayerNorm.bias\n",
      "2021-12-09 17:28:37,353 - INFO - allennlp.nn.initializers -    bert_model.encoder.layer.0.output.LayerNorm.weight\n",
      "2021-12-09 17:28:37,354 - INFO - allennlp.nn.initializers -    bert_model.encoder.layer.0.output.dense.bias\n",
      "2021-12-09 17:28:37,355 - INFO - allennlp.nn.initializers -    bert_model.encoder.layer.0.output.dense.weight\n",
      "2021-12-09 17:28:37,357 - INFO - allennlp.nn.initializers -    bert_model.encoder.layer.1.attention.output.LayerNorm.bias\n",
      "2021-12-09 17:28:37,359 - INFO - allennlp.nn.initializers -    bert_model.encoder.layer.1.attention.output.LayerNorm.weight\n",
      "2021-12-09 17:28:37,361 - INFO - allennlp.nn.initializers -    bert_model.encoder.layer.1.attention.output.dense.bias\n",
      "2021-12-09 17:28:37,363 - INFO - allennlp.nn.initializers -    bert_model.encoder.layer.1.attention.output.dense.weight\n",
      "2021-12-09 17:28:37,365 - INFO - allennlp.nn.initializers -    bert_model.encoder.layer.1.attention.self.key.bias\n",
      "2021-12-09 17:28:37,366 - INFO - allennlp.nn.initializers -    bert_model.encoder.layer.1.attention.self.key.weight\n",
      "2021-12-09 17:28:37,368 - INFO - allennlp.nn.initializers -    bert_model.encoder.layer.1.attention.self.query.bias\n",
      "2021-12-09 17:28:37,369 - INFO - allennlp.nn.initializers -    bert_model.encoder.layer.1.attention.self.query.weight\n",
      "2021-12-09 17:28:37,370 - INFO - allennlp.nn.initializers -    bert_model.encoder.layer.1.attention.self.value.bias\n",
      "2021-12-09 17:28:37,371 - INFO - allennlp.nn.initializers -    bert_model.encoder.layer.1.attention.self.value.weight\n",
      "2021-12-09 17:28:37,372 - INFO - allennlp.nn.initializers -    bert_model.encoder.layer.1.intermediate.dense.bias\n",
      "2021-12-09 17:28:37,373 - INFO - allennlp.nn.initializers -    bert_model.encoder.layer.1.intermediate.dense.weight\n",
      "2021-12-09 17:28:37,374 - INFO - allennlp.nn.initializers -    bert_model.encoder.layer.1.output.LayerNorm.bias\n",
      "2021-12-09 17:28:37,375 - INFO - allennlp.nn.initializers -    bert_model.encoder.layer.1.output.LayerNorm.weight\n",
      "2021-12-09 17:28:37,376 - INFO - allennlp.nn.initializers -    bert_model.encoder.layer.1.output.dense.bias\n",
      "2021-12-09 17:28:37,377 - INFO - allennlp.nn.initializers -    bert_model.encoder.layer.1.output.dense.weight\n",
      "2021-12-09 17:28:37,378 - INFO - allennlp.nn.initializers -    bert_model.encoder.layer.10.attention.output.LayerNorm.bias\n",
      "2021-12-09 17:28:37,379 - INFO - allennlp.nn.initializers -    bert_model.encoder.layer.10.attention.output.LayerNorm.weight\n",
      "2021-12-09 17:28:37,380 - INFO - allennlp.nn.initializers -    bert_model.encoder.layer.10.attention.output.dense.bias\n",
      "2021-12-09 17:28:37,382 - INFO - allennlp.nn.initializers -    bert_model.encoder.layer.10.attention.output.dense.weight\n",
      "2021-12-09 17:28:37,383 - INFO - allennlp.nn.initializers -    bert_model.encoder.layer.10.attention.self.key.bias\n",
      "2021-12-09 17:28:37,384 - INFO - allennlp.nn.initializers -    bert_model.encoder.layer.10.attention.self.key.weight\n",
      "2021-12-09 17:28:37,385 - INFO - allennlp.nn.initializers -    bert_model.encoder.layer.10.attention.self.query.bias\n",
      "2021-12-09 17:28:37,386 - INFO - allennlp.nn.initializers -    bert_model.encoder.layer.10.attention.self.query.weight\n",
      "2021-12-09 17:28:37,387 - INFO - allennlp.nn.initializers -    bert_model.encoder.layer.10.attention.self.value.bias\n",
      "2021-12-09 17:28:37,388 - INFO - allennlp.nn.initializers -    bert_model.encoder.layer.10.attention.self.value.weight\n",
      "2021-12-09 17:28:37,388 - INFO - allennlp.nn.initializers -    bert_model.encoder.layer.10.intermediate.dense.bias\n",
      "2021-12-09 17:28:37,389 - INFO - allennlp.nn.initializers -    bert_model.encoder.layer.10.intermediate.dense.weight\n",
      "2021-12-09 17:28:37,391 - INFO - allennlp.nn.initializers -    bert_model.encoder.layer.10.output.LayerNorm.bias\n",
      "2021-12-09 17:28:37,392 - INFO - allennlp.nn.initializers -    bert_model.encoder.layer.10.output.LayerNorm.weight\n",
      "2021-12-09 17:28:37,393 - INFO - allennlp.nn.initializers -    bert_model.encoder.layer.10.output.dense.bias\n",
      "2021-12-09 17:28:37,394 - INFO - allennlp.nn.initializers -    bert_model.encoder.layer.10.output.dense.weight\n",
      "2021-12-09 17:28:37,395 - INFO - allennlp.nn.initializers -    bert_model.encoder.layer.11.attention.output.LayerNorm.bias\n",
      "2021-12-09 17:28:37,396 - INFO - allennlp.nn.initializers -    bert_model.encoder.layer.11.attention.output.LayerNorm.weight\n",
      "2021-12-09 17:28:37,397 - INFO - allennlp.nn.initializers -    bert_model.encoder.layer.11.attention.output.dense.bias\n",
      "2021-12-09 17:28:37,398 - INFO - allennlp.nn.initializers -    bert_model.encoder.layer.11.attention.output.dense.weight\n",
      "2021-12-09 17:28:37,399 - INFO - allennlp.nn.initializers -    bert_model.encoder.layer.11.attention.self.key.bias\n",
      "2021-12-09 17:28:37,400 - INFO - allennlp.nn.initializers -    bert_model.encoder.layer.11.attention.self.key.weight\n",
      "2021-12-09 17:28:37,401 - INFO - allennlp.nn.initializers -    bert_model.encoder.layer.11.attention.self.query.bias\n",
      "2021-12-09 17:28:37,402 - INFO - allennlp.nn.initializers -    bert_model.encoder.layer.11.attention.self.query.weight\n",
      "2021-12-09 17:28:37,404 - INFO - allennlp.nn.initializers -    bert_model.encoder.layer.11.attention.self.value.bias\n",
      "2021-12-09 17:28:37,405 - INFO - allennlp.nn.initializers -    bert_model.encoder.layer.11.attention.self.value.weight\n",
      "2021-12-09 17:28:37,406 - INFO - allennlp.nn.initializers -    bert_model.encoder.layer.11.intermediate.dense.bias\n",
      "2021-12-09 17:28:37,407 - INFO - allennlp.nn.initializers -    bert_model.encoder.layer.11.intermediate.dense.weight\n",
      "2021-12-09 17:28:37,409 - INFO - allennlp.nn.initializers -    bert_model.encoder.layer.11.output.LayerNorm.bias\n",
      "2021-12-09 17:28:37,412 - INFO - allennlp.nn.initializers -    bert_model.encoder.layer.11.output.LayerNorm.weight\n",
      "2021-12-09 17:28:37,414 - INFO - allennlp.nn.initializers -    bert_model.encoder.layer.11.output.dense.bias\n",
      "2021-12-09 17:28:37,415 - INFO - allennlp.nn.initializers -    bert_model.encoder.layer.11.output.dense.weight\n",
      "2021-12-09 17:28:37,416 - INFO - allennlp.nn.initializers -    bert_model.encoder.layer.2.attention.output.LayerNorm.bias\n",
      "2021-12-09 17:28:37,417 - INFO - allennlp.nn.initializers -    bert_model.encoder.layer.2.attention.output.LayerNorm.weight\n",
      "2021-12-09 17:28:37,418 - INFO - allennlp.nn.initializers -    bert_model.encoder.layer.2.attention.output.dense.bias\n",
      "2021-12-09 17:28:37,418 - INFO - allennlp.nn.initializers -    bert_model.encoder.layer.2.attention.output.dense.weight\n",
      "2021-12-09 17:28:37,420 - INFO - allennlp.nn.initializers -    bert_model.encoder.layer.2.attention.self.key.bias\n",
      "2021-12-09 17:28:37,421 - INFO - allennlp.nn.initializers -    bert_model.encoder.layer.2.attention.self.key.weight\n",
      "2021-12-09 17:28:37,425 - INFO - allennlp.nn.initializers -    bert_model.encoder.layer.2.attention.self.query.bias\n",
      "2021-12-09 17:28:37,426 - INFO - allennlp.nn.initializers -    bert_model.encoder.layer.2.attention.self.query.weight\n",
      "2021-12-09 17:28:37,430 - INFO - allennlp.nn.initializers -    bert_model.encoder.layer.2.attention.self.value.bias\n",
      "2021-12-09 17:28:37,431 - INFO - allennlp.nn.initializers -    bert_model.encoder.layer.2.attention.self.value.weight\n",
      "2021-12-09 17:28:37,432 - INFO - allennlp.nn.initializers -    bert_model.encoder.layer.2.intermediate.dense.bias\n",
      "2021-12-09 17:28:37,435 - INFO - allennlp.nn.initializers -    bert_model.encoder.layer.2.intermediate.dense.weight\n",
      "2021-12-09 17:28:37,437 - INFO - allennlp.nn.initializers -    bert_model.encoder.layer.2.output.LayerNorm.bias\n",
      "2021-12-09 17:28:37,438 - INFO - allennlp.nn.initializers -    bert_model.encoder.layer.2.output.LayerNorm.weight\n",
      "2021-12-09 17:28:37,440 - INFO - allennlp.nn.initializers -    bert_model.encoder.layer.2.output.dense.bias\n",
      "2021-12-09 17:28:37,446 - INFO - allennlp.nn.initializers -    bert_model.encoder.layer.2.output.dense.weight\n",
      "2021-12-09 17:28:37,461 - INFO - allennlp.nn.initializers -    bert_model.encoder.layer.3.attention.output.LayerNorm.bias\n",
      "2021-12-09 17:28:37,462 - INFO - allennlp.nn.initializers -    bert_model.encoder.layer.3.attention.output.LayerNorm.weight\n",
      "2021-12-09 17:28:37,463 - INFO - allennlp.nn.initializers -    bert_model.encoder.layer.3.attention.output.dense.bias\n",
      "2021-12-09 17:28:37,465 - INFO - allennlp.nn.initializers -    bert_model.encoder.layer.3.attention.output.dense.weight\n",
      "2021-12-09 17:28:37,466 - INFO - allennlp.nn.initializers -    bert_model.encoder.layer.3.attention.self.key.bias\n",
      "2021-12-09 17:28:37,468 - INFO - allennlp.nn.initializers -    bert_model.encoder.layer.3.attention.self.key.weight\n",
      "2021-12-09 17:28:37,469 - INFO - allennlp.nn.initializers -    bert_model.encoder.layer.3.attention.self.query.bias\n",
      "2021-12-09 17:28:37,470 - INFO - allennlp.nn.initializers -    bert_model.encoder.layer.3.attention.self.query.weight\n",
      "2021-12-09 17:28:37,471 - INFO - allennlp.nn.initializers -    bert_model.encoder.layer.3.attention.self.value.bias\n",
      "2021-12-09 17:28:37,478 - INFO - allennlp.nn.initializers -    bert_model.encoder.layer.3.attention.self.value.weight\n",
      "2021-12-09 17:28:37,483 - INFO - allennlp.nn.initializers -    bert_model.encoder.layer.3.intermediate.dense.bias\n",
      "2021-12-09 17:28:37,487 - INFO - allennlp.nn.initializers -    bert_model.encoder.layer.3.intermediate.dense.weight\n",
      "2021-12-09 17:28:37,489 - INFO - allennlp.nn.initializers -    bert_model.encoder.layer.3.output.LayerNorm.bias\n",
      "2021-12-09 17:28:37,490 - INFO - allennlp.nn.initializers -    bert_model.encoder.layer.3.output.LayerNorm.weight\n",
      "2021-12-09 17:28:37,491 - INFO - allennlp.nn.initializers -    bert_model.encoder.layer.3.output.dense.bias\n",
      "2021-12-09 17:28:37,492 - INFO - allennlp.nn.initializers -    bert_model.encoder.layer.3.output.dense.weight\n",
      "2021-12-09 17:28:37,493 - INFO - allennlp.nn.initializers -    bert_model.encoder.layer.4.attention.output.LayerNorm.bias\n",
      "2021-12-09 17:28:37,494 - INFO - allennlp.nn.initializers -    bert_model.encoder.layer.4.attention.output.LayerNorm.weight\n",
      "2021-12-09 17:28:37,495 - INFO - allennlp.nn.initializers -    bert_model.encoder.layer.4.attention.output.dense.bias\n",
      "2021-12-09 17:28:37,497 - INFO - allennlp.nn.initializers -    bert_model.encoder.layer.4.attention.output.dense.weight\n",
      "2021-12-09 17:28:37,498 - INFO - allennlp.nn.initializers -    bert_model.encoder.layer.4.attention.self.key.bias\n",
      "2021-12-09 17:28:37,499 - INFO - allennlp.nn.initializers -    bert_model.encoder.layer.4.attention.self.key.weight\n",
      "2021-12-09 17:28:37,500 - INFO - allennlp.nn.initializers -    bert_model.encoder.layer.4.attention.self.query.bias\n",
      "2021-12-09 17:28:37,508 - INFO - allennlp.nn.initializers -    bert_model.encoder.layer.4.attention.self.query.weight\n",
      "2021-12-09 17:28:37,511 - INFO - allennlp.nn.initializers -    bert_model.encoder.layer.4.attention.self.value.bias\n",
      "2021-12-09 17:28:37,512 - INFO - allennlp.nn.initializers -    bert_model.encoder.layer.4.attention.self.value.weight\n",
      "2021-12-09 17:28:37,513 - INFO - allennlp.nn.initializers -    bert_model.encoder.layer.4.intermediate.dense.bias\n",
      "2021-12-09 17:28:37,513 - INFO - allennlp.nn.initializers -    bert_model.encoder.layer.4.intermediate.dense.weight\n",
      "2021-12-09 17:28:37,515 - INFO - allennlp.nn.initializers -    bert_model.encoder.layer.4.output.LayerNorm.bias\n",
      "2021-12-09 17:28:37,518 - INFO - allennlp.nn.initializers -    bert_model.encoder.layer.4.output.LayerNorm.weight\n",
      "2021-12-09 17:28:37,521 - INFO - allennlp.nn.initializers -    bert_model.encoder.layer.4.output.dense.bias\n",
      "2021-12-09 17:28:37,525 - INFO - allennlp.nn.initializers -    bert_model.encoder.layer.4.output.dense.weight\n",
      "2021-12-09 17:28:37,527 - INFO - allennlp.nn.initializers -    bert_model.encoder.layer.5.attention.output.LayerNorm.bias\n",
      "2021-12-09 17:28:37,528 - INFO - allennlp.nn.initializers -    bert_model.encoder.layer.5.attention.output.LayerNorm.weight\n",
      "2021-12-09 17:28:37,533 - INFO - allennlp.nn.initializers -    bert_model.encoder.layer.5.attention.output.dense.bias\n",
      "2021-12-09 17:28:37,535 - INFO - allennlp.nn.initializers -    bert_model.encoder.layer.5.attention.output.dense.weight\n",
      "2021-12-09 17:28:37,536 - INFO - allennlp.nn.initializers -    bert_model.encoder.layer.5.attention.self.key.bias\n",
      "2021-12-09 17:28:37,537 - INFO - allennlp.nn.initializers -    bert_model.encoder.layer.5.attention.self.key.weight\n",
      "2021-12-09 17:28:37,539 - INFO - allennlp.nn.initializers -    bert_model.encoder.layer.5.attention.self.query.bias\n",
      "2021-12-09 17:28:37,540 - INFO - allennlp.nn.initializers -    bert_model.encoder.layer.5.attention.self.query.weight\n",
      "2021-12-09 17:28:37,541 - INFO - allennlp.nn.initializers -    bert_model.encoder.layer.5.attention.self.value.bias\n",
      "2021-12-09 17:28:37,542 - INFO - allennlp.nn.initializers -    bert_model.encoder.layer.5.attention.self.value.weight\n",
      "2021-12-09 17:28:37,548 - INFO - allennlp.nn.initializers -    bert_model.encoder.layer.5.intermediate.dense.bias\n",
      "2021-12-09 17:28:37,549 - INFO - allennlp.nn.initializers -    bert_model.encoder.layer.5.intermediate.dense.weight\n",
      "2021-12-09 17:28:37,553 - INFO - allennlp.nn.initializers -    bert_model.encoder.layer.5.output.LayerNorm.bias\n",
      "2021-12-09 17:28:37,555 - INFO - allennlp.nn.initializers -    bert_model.encoder.layer.5.output.LayerNorm.weight\n",
      "2021-12-09 17:28:37,559 - INFO - allennlp.nn.initializers -    bert_model.encoder.layer.5.output.dense.bias\n",
      "2021-12-09 17:28:37,562 - INFO - allennlp.nn.initializers -    bert_model.encoder.layer.5.output.dense.weight\n",
      "2021-12-09 17:28:37,564 - INFO - allennlp.nn.initializers -    bert_model.encoder.layer.6.attention.output.LayerNorm.bias\n",
      "2021-12-09 17:28:37,567 - INFO - allennlp.nn.initializers -    bert_model.encoder.layer.6.attention.output.LayerNorm.weight\n",
      "2021-12-09 17:28:37,573 - INFO - allennlp.nn.initializers -    bert_model.encoder.layer.6.attention.output.dense.bias\n",
      "2021-12-09 17:28:37,575 - INFO - allennlp.nn.initializers -    bert_model.encoder.layer.6.attention.output.dense.weight\n",
      "2021-12-09 17:28:37,578 - INFO - allennlp.nn.initializers -    bert_model.encoder.layer.6.attention.self.key.bias\n",
      "2021-12-09 17:28:37,579 - INFO - allennlp.nn.initializers -    bert_model.encoder.layer.6.attention.self.key.weight\n",
      "2021-12-09 17:28:37,579 - INFO - allennlp.nn.initializers -    bert_model.encoder.layer.6.attention.self.query.bias\n",
      "2021-12-09 17:28:37,581 - INFO - allennlp.nn.initializers -    bert_model.encoder.layer.6.attention.self.query.weight\n",
      "2021-12-09 17:28:37,582 - INFO - allennlp.nn.initializers -    bert_model.encoder.layer.6.attention.self.value.bias\n",
      "2021-12-09 17:28:37,583 - INFO - allennlp.nn.initializers -    bert_model.encoder.layer.6.attention.self.value.weight\n",
      "2021-12-09 17:28:37,586 - INFO - allennlp.nn.initializers -    bert_model.encoder.layer.6.intermediate.dense.bias\n",
      "2021-12-09 17:28:37,587 - INFO - allennlp.nn.initializers -    bert_model.encoder.layer.6.intermediate.dense.weight\n",
      "2021-12-09 17:28:37,588 - INFO - allennlp.nn.initializers -    bert_model.encoder.layer.6.output.LayerNorm.bias\n",
      "2021-12-09 17:28:37,592 - INFO - allennlp.nn.initializers -    bert_model.encoder.layer.6.output.LayerNorm.weight\n",
      "2021-12-09 17:28:37,595 - INFO - allennlp.nn.initializers -    bert_model.encoder.layer.6.output.dense.bias\n",
      "2021-12-09 17:28:37,596 - INFO - allennlp.nn.initializers -    bert_model.encoder.layer.6.output.dense.weight\n",
      "2021-12-09 17:28:37,597 - INFO - allennlp.nn.initializers -    bert_model.encoder.layer.7.attention.output.LayerNorm.bias\n",
      "2021-12-09 17:28:37,598 - INFO - allennlp.nn.initializers -    bert_model.encoder.layer.7.attention.output.LayerNorm.weight\n",
      "2021-12-09 17:28:37,603 - INFO - allennlp.nn.initializers -    bert_model.encoder.layer.7.attention.output.dense.bias\n",
      "2021-12-09 17:28:37,605 - INFO - allennlp.nn.initializers -    bert_model.encoder.layer.7.attention.output.dense.weight\n",
      "2021-12-09 17:28:37,609 - INFO - allennlp.nn.initializers -    bert_model.encoder.layer.7.attention.self.key.bias\n",
      "2021-12-09 17:28:37,612 - INFO - allennlp.nn.initializers -    bert_model.encoder.layer.7.attention.self.key.weight\n",
      "2021-12-09 17:28:37,618 - INFO - allennlp.nn.initializers -    bert_model.encoder.layer.7.attention.self.query.bias\n",
      "2021-12-09 17:28:37,619 - INFO - allennlp.nn.initializers -    bert_model.encoder.layer.7.attention.self.query.weight\n",
      "2021-12-09 17:28:37,620 - INFO - allennlp.nn.initializers -    bert_model.encoder.layer.7.attention.self.value.bias\n",
      "2021-12-09 17:28:37,621 - INFO - allennlp.nn.initializers -    bert_model.encoder.layer.7.attention.self.value.weight\n",
      "2021-12-09 17:28:37,622 - INFO - allennlp.nn.initializers -    bert_model.encoder.layer.7.intermediate.dense.bias\n",
      "2021-12-09 17:28:37,623 - INFO - allennlp.nn.initializers -    bert_model.encoder.layer.7.intermediate.dense.weight\n",
      "2021-12-09 17:28:37,623 - INFO - allennlp.nn.initializers -    bert_model.encoder.layer.7.output.LayerNorm.bias\n",
      "2021-12-09 17:28:37,625 - INFO - allennlp.nn.initializers -    bert_model.encoder.layer.7.output.LayerNorm.weight\n",
      "2021-12-09 17:28:37,625 - INFO - allennlp.nn.initializers -    bert_model.encoder.layer.7.output.dense.bias\n",
      "2021-12-09 17:28:37,628 - INFO - allennlp.nn.initializers -    bert_model.encoder.layer.7.output.dense.weight\n",
      "2021-12-09 17:28:37,633 - INFO - allennlp.nn.initializers -    bert_model.encoder.layer.8.attention.output.LayerNorm.bias\n",
      "2021-12-09 17:28:37,635 - INFO - allennlp.nn.initializers -    bert_model.encoder.layer.8.attention.output.LayerNorm.weight\n",
      "2021-12-09 17:28:37,636 - INFO - allennlp.nn.initializers -    bert_model.encoder.layer.8.attention.output.dense.bias\n",
      "2021-12-09 17:28:37,637 - INFO - allennlp.nn.initializers -    bert_model.encoder.layer.8.attention.output.dense.weight\n",
      "2021-12-09 17:28:37,642 - INFO - allennlp.nn.initializers -    bert_model.encoder.layer.8.attention.self.key.bias\n",
      "2021-12-09 17:28:37,645 - INFO - allennlp.nn.initializers -    bert_model.encoder.layer.8.attention.self.key.weight\n",
      "2021-12-09 17:28:37,653 - INFO - allennlp.nn.initializers -    bert_model.encoder.layer.8.attention.self.query.bias\n",
      "2021-12-09 17:28:37,654 - INFO - allennlp.nn.initializers -    bert_model.encoder.layer.8.attention.self.query.weight\n",
      "2021-12-09 17:28:37,656 - INFO - allennlp.nn.initializers -    bert_model.encoder.layer.8.attention.self.value.bias\n",
      "2021-12-09 17:28:37,661 - INFO - allennlp.nn.initializers -    bert_model.encoder.layer.8.attention.self.value.weight\n",
      "2021-12-09 17:28:37,663 - INFO - allennlp.nn.initializers -    bert_model.encoder.layer.8.intermediate.dense.bias\n",
      "2021-12-09 17:28:37,666 - INFO - allennlp.nn.initializers -    bert_model.encoder.layer.8.intermediate.dense.weight\n",
      "2021-12-09 17:28:37,671 - INFO - allennlp.nn.initializers -    bert_model.encoder.layer.8.output.LayerNorm.bias\n",
      "2021-12-09 17:28:37,683 - INFO - allennlp.nn.initializers -    bert_model.encoder.layer.8.output.LayerNorm.weight\n",
      "2021-12-09 17:28:37,684 - INFO - allennlp.nn.initializers -    bert_model.encoder.layer.8.output.dense.bias\n",
      "2021-12-09 17:28:37,686 - INFO - allennlp.nn.initializers -    bert_model.encoder.layer.8.output.dense.weight\n",
      "2021-12-09 17:28:37,687 - INFO - allennlp.nn.initializers -    bert_model.encoder.layer.9.attention.output.LayerNorm.bias\n",
      "2021-12-09 17:28:37,689 - INFO - allennlp.nn.initializers -    bert_model.encoder.layer.9.attention.output.LayerNorm.weight\n",
      "2021-12-09 17:28:37,689 - INFO - allennlp.nn.initializers -    bert_model.encoder.layer.9.attention.output.dense.bias\n",
      "2021-12-09 17:28:37,699 - INFO - allennlp.nn.initializers -    bert_model.encoder.layer.9.attention.output.dense.weight\n",
      "2021-12-09 17:28:37,705 - INFO - allennlp.nn.initializers -    bert_model.encoder.layer.9.attention.self.key.bias\n",
      "2021-12-09 17:28:37,706 - INFO - allennlp.nn.initializers -    bert_model.encoder.layer.9.attention.self.key.weight\n",
      "2021-12-09 17:28:37,707 - INFO - allennlp.nn.initializers -    bert_model.encoder.layer.9.attention.self.query.bias\n",
      "2021-12-09 17:28:37,708 - INFO - allennlp.nn.initializers -    bert_model.encoder.layer.9.attention.self.query.weight\n",
      "2021-12-09 17:28:37,709 - INFO - allennlp.nn.initializers -    bert_model.encoder.layer.9.attention.self.value.bias\n",
      "2021-12-09 17:28:37,717 - INFO - allennlp.nn.initializers -    bert_model.encoder.layer.9.attention.self.value.weight\n",
      "2021-12-09 17:28:37,718 - INFO - allennlp.nn.initializers -    bert_model.encoder.layer.9.intermediate.dense.bias\n",
      "2021-12-09 17:28:37,719 - INFO - allennlp.nn.initializers -    bert_model.encoder.layer.9.intermediate.dense.weight\n",
      "2021-12-09 17:28:37,723 - INFO - allennlp.nn.initializers -    bert_model.encoder.layer.9.output.LayerNorm.bias\n",
      "2021-12-09 17:28:37,725 - INFO - allennlp.nn.initializers -    bert_model.encoder.layer.9.output.LayerNorm.weight\n",
      "2021-12-09 17:28:37,733 - INFO - allennlp.nn.initializers -    bert_model.encoder.layer.9.output.dense.bias\n",
      "2021-12-09 17:28:37,737 - INFO - allennlp.nn.initializers -    bert_model.encoder.layer.9.output.dense.weight\n",
      "2021-12-09 17:28:37,738 - INFO - allennlp.nn.initializers -    bert_model.pooler.dense.bias\n",
      "2021-12-09 17:28:37,742 - INFO - allennlp.nn.initializers -    bert_model.pooler.dense.weight\n",
      "2021-12-09 17:28:37,746 - INFO - allennlp.nn.initializers -    tag_projection_layer.bias\n",
      "2021-12-09 17:28:37,747 - INFO - allennlp.nn.initializers -    tag_projection_layer.weight\n",
      "2021-12-09 17:28:38,300 - INFO - allennlp.models.archival - removing temporary unarchived model dir at /tmp/tmp3tdvewco\n"
     ]
    }
   ],
   "source": [
    "srl_predictor = Predictor.from_path(\"https://storage.googleapis.com/allennlp-public-models/structured-prediction-srl-bert.2020.12.15.tar.gz\")"
   ]
  },
  {
   "cell_type": "markdown",
   "id": "d47c920c-a5c4-4058-bb63-72c1230d0587",
   "metadata": {},
   "source": [
    "## 2. Causal relation functions"
   ]
  },
  {
   "cell_type": "code",
   "execution_count": 4,
   "id": "9d1a104f-cf39-456f-9434-31aed745e40c",
   "metadata": {},
   "outputs": [],
   "source": [
    "import re"
   ]
  },
  {
   "cell_type": "code",
   "execution_count": 5,
   "id": "022436b0-d987-4c02-9ec8-6c8b47489dc0",
   "metadata": {},
   "outputs": [],
   "source": [
    "RED = 1\n",
    "BLUE = 4\n",
    "BLACK = 0\n",
    "NO_COLOR = -1\n",
    "COLOR_CONCEPT_1 = RED\n",
    "COLOR_CONCEPT_2 = BLUE\n",
    "COLOR_CONTENT_RELATION_EXPLANATION = BLACK\n",
    "CONCEPT_1 = \"Content_Concept_1\"\n",
    "CONCEPT_2 = \"Content_Concept_2\"\n",
    "CONTENT_RELATION_EXPLANATION = \"Content_Relation_Explanation\"\n",
    "NO_CONCEPT = \"\"\n",
    "COLOR_CODES = { CONCEPT_1: COLOR_CONCEPT_1, CONCEPT_2: COLOR_CONCEPT_2, CONTENT_RELATION_EXPLANATION: COLOR_CONTENT_RELATION_EXPLANATION, NO_CONCEPT: NO_COLOR }\n",
    "# 20211206 begore expansion: 34 verbs; after 78 verbs\n",
    "RELATION_VERBS = [ \"activate\", \"achieve\", \"affect\", \"aggravate\", \"allow\", \"attribute\", \"avoid\", \"base\", \"balance\", \"boost\", \n",
    "                   \"bring\", \"brought\", \"cause\", \"change\", \"compell\", \"comply\", \"compromise\", \"consolidate\", \"contain\", \"contribute\", \n",
    "                   \"control\", \"create\", \"deceive\", \"deduce\", \"depend\", \"elicit\", \"eliminate\", \"enable\", \"enact\", \"endanger\", \n",
    "                   \"enforce\", \"entail\", \"ensure\", \"erode\", \"fail\", \"flow\", \"force\", \"found\", \"increase\", \"generate\", \n",
    "                   \"ignite\", \"implicate\", \"imply\", \"induce\", \"infer\", \"influence\", \"initiate\", \"intend\", \"justify\", \"launch\", \n",
    "                   \"lead\", \"make\", \"manipulate\", \"mislead\", \"motivate\", \"obey\", \"open\", \"originate\", \"permit\", \"pick\", \n",
    "                   \"preserve\", \"produce\", \"protect\", \"provoke\", \"reduce\", \"reinforce\", \"restore\", \"result\", \"safeguard\", \"secure\", \n",
    "                   \"solve\", \"stimulate\", \"strenghten\", \"support\", \"tackle\", \"trigger\", \"undermine\", \"weaken\", ]\n",
    "REVERSE_VERBS = [ \"arise\", \"need\" ]\n",
    "ARGM_DIS_ROLES = [ \"furthermore\", \"instead\", \"moreover\", \"nevertheless\", \"otherwise\", \"therefore\", \"thus\" ]\n",
    "NO_ARG0_ROLES = [ \"he\", \"i\", \"she\", \"they\", \"we\", \"you\" ]"
   ]
  },
  {
   "cell_type": "code",
   "execution_count": 6,
   "id": "cfb6f8c8-dcc8-4c89-93b4-78d1afab73df",
   "metadata": {},
   "outputs": [],
   "source": [
    "def strip_tag(token):\n",
    "    if len(token) > 1:\n",
    "        if re.search(\"^\\[\", token):\n",
    "            token = re.sub(\"^\\[\", \"\", token)\n",
    "            token = re.sub(\":$\", \"\", token)\n",
    "        token = re.sub(\"\\]$\", \"\", token)\n",
    "    return token"
   ]
  },
  {
   "cell_type": "code",
   "execution_count": 7,
   "id": "f33cca46-632f-4cfc-8f50-aae6f0e8fbdf",
   "metadata": {},
   "outputs": [],
   "source": [
    "def print_with_color(string, color_code):\n",
    "    print(f\"\\x1b[1;3{color_code};47m{string}\\x1b[m\", end=\"\")"
   ]
  },
  {
   "cell_type": "code",
   "execution_count": 8,
   "id": "ac4738ff-d132-47ea-89c9-3bc4dec25543",
   "metadata": {},
   "outputs": [],
   "source": [
    "def get_concept_tag_argm_prp(argument):\n",
    "    if argument == \"ARGM-PRP\":\n",
    "        return CONCEPT_2\n",
    "    elif argument in [\"V\", \"ARG0\", \"ARG1\", \"ARG2\" ]:\n",
    "        return CONCEPT_1\n",
    "    return NO_CONCEPT"
   ]
  },
  {
   "cell_type": "code",
   "execution_count": 9,
   "id": "75f9d05f-0b73-48ce-9604-ba7283d051c5",
   "metadata": {},
   "outputs": [],
   "source": [
    "def get_concept_tag_argm_dis(argument):\n",
    "    color_code = NO_COLOR\n",
    "    if argument == \"ARGM-DIS\":\n",
    "        return CONTENT_RELATION_EXPLANATION\n",
    "    elif argument != \"\":\n",
    "        return CONCEPT_2\n",
    "    return NO_CONCEPT"
   ]
  },
  {
   "cell_type": "code",
   "execution_count": 10,
   "id": "fe60a35d-1501-44d9-9aab-0bb7b150bcd5",
   "metadata": {},
   "outputs": [],
   "source": [
    "def get_concept_tag_v(argument, roles):\n",
    "    if argument == \"V\":\n",
    "        return CONTENT_RELATION_EXPLANATION\n",
    "    elif argument in [ \"ARG0\", \"ARGM-PRD\", \"ARGM-MNR\" ] and (argument != \"ARG0\" or roles[\"ARG0\"].lower() not in NO_ARG0_ROLES):\n",
    "        return CONCEPT_1\n",
    "    elif argument in [ \"ARG1\", \"ARG2\", ]:\n",
    "        return CONCEPT_2\n",
    "    return NO_CONCEPT"
   ]
  },
  {
   "cell_type": "code",
   "execution_count": 11,
   "id": "05549e58-5850-4ec6-a685-8470df89da05",
   "metadata": {},
   "outputs": [],
   "source": [
    "def get_concept_tag_reverse_v(argument, roles):\n",
    "    if argument == \"V\":\n",
    "        return CONTENT_RELATION_EXPLANATION\n",
    "    elif argument in [ \"ARG0\", \"ARGM-PRD\", \"ARGM-MNR\" ] and (argument != \"ARG0\" or roles[\"ARG0\"].lower() not in NO_ARG0_ROLES):\n",
    "        return CONCEPT_2\n",
    "    elif argument in [ \"ARG1\", \"ARG2\", ]:\n",
    "        return CONCEPT_1\n",
    "    return NO_CONCEPT"
   ]
  },
  {
   "cell_type": "code",
   "execution_count": 12,
   "id": "94001968-cb87-49f3-98bb-3ecc19973f57",
   "metadata": {},
   "outputs": [],
   "source": [
    "def check_verb(verb, RELATION_VERBS):\n",
    "    if verb in RELATION_VERBS:\n",
    "        return True\n",
    "    if re.sub(\"[ds]$\", \"\", verb) in RELATION_VERBS:\n",
    "        return True\n",
    "    if re.sub(\"ed$\", \"\", verb) in RELATION_VERBS:\n",
    "        return True\n",
    "    if re.sub(\"ing$\", \"\", verb) in RELATION_VERBS:\n",
    "        return True\n",
    "    if re.sub(\"ing$\", \"e\", verb) in RELATION_VERBS:\n",
    "        return True\n",
    "    return False"
   ]
  },
  {
   "cell_type": "code",
   "execution_count": 13,
   "id": "355f9209-2d8f-4b6b-bd2e-ccaf448e8367",
   "metadata": {},
   "outputs": [],
   "source": [
    "def print_token(token, argument, first_token, last_token, color_code):\n",
    "    if color_code == NO_COLOR:\n",
    "        print_token_no_color(token, argument, first_token, last_token)\n",
    "    else:\n",
    "        print_token_color(token, argument, first_token, last_token, color_code)"
   ]
  },
  {
   "cell_type": "code",
   "execution_count": 14,
   "id": "e0f3a494-5bb6-461b-bc0a-10e20773f1d2",
   "metadata": {},
   "outputs": [],
   "source": [
    "def print_token_no_color(token, argument, first_token, last_token):\n",
    "    if first_token:\n",
    "        print(f\"[{argument} \", end=\"\")\n",
    "    print(f\"{token}\", end=\"\")\n",
    "    if last_token:\n",
    "        print(f\"]\", end=\"\")\n",
    "    print(\" \", end=\"\")"
   ]
  },
  {
   "cell_type": "code",
   "execution_count": 15,
   "id": "f5782a6a-2908-434f-86c6-9a9b132765de",
   "metadata": {},
   "outputs": [],
   "source": [
    "def print_token_color(token, argument, first_token, last_token, color_code):\n",
    "    if first_token:\n",
    "        print_with_color(f\"[{argument} \", color_code)\n",
    "    print_with_color(f\"{token}\", color_code)\n",
    "    if last_token:\n",
    "        print_with_color(f\"]\", color_code)\n",
    "        print(\" \", end=\"\")\n",
    "    else:\n",
    "        print_with_color(\" \", color_code)"
   ]
  },
  {
   "cell_type": "code",
   "execution_count": 16,
   "id": "ae3f8846-942f-45f5-8305-df86673318f3",
   "metadata": {},
   "outputs": [],
   "source": [
    "def find_verb(tokens, arguments, lemmas):\n",
    "    verb = \"\"\n",
    "    if len(lemmas) != len(tokens):\n",
    "        print_with_color(f\"find_verb: error: different lengths for tokens ({len(tokens)}) and lemmas ({len(lemmas)})\", 1)\n",
    "    for i in range(0, len(arguments)):\n",
    "        if arguments[i] == \"V\":\n",
    "            verb = lemmas[i]\n",
    "    return verb"
   ]
  },
  {
   "cell_type": "code",
   "execution_count": 17,
   "id": "07e72660-d826-49ff-ac3a-40b69d19233f",
   "metadata": {},
   "outputs": [],
   "source": [
    "def convert_analysis(analyzed_sentence):\n",
    "    tokens_in = analyzed_sentence.split()\n",
    "    arguments = []\n",
    "    tokens_out = []\n",
    "    first_tokens = []\n",
    "    last_tokens = []\n",
    "    current_argument = \"\"\n",
    "    roles = {}\n",
    "    first_token = False\n",
    "    for i in range(0, len(tokens_in)):\n",
    "        if re.search(\"^\\[\", tokens_in[i]):\n",
    "            current_argument = strip_tag(tokens_in[i])\n",
    "            first_token = True\n",
    "            continue\n",
    "        arguments.append(current_argument)\n",
    "        tokens_out.append(strip_tag(tokens_in[i]))\n",
    "        first_tokens.append(first_token)\n",
    "        last_tokens.append(False)\n",
    "        if current_argument != \"\":\n",
    "            if current_argument not in roles:\n",
    "                roles[current_argument] = strip_tag(tokens_in[i])\n",
    "            else:\n",
    "                roles[current_argument] += \" \" + strip_tag(tokens_in[i])\n",
    "        if re.search(\"\\]$\", tokens_in[i]):\n",
    "            current_argument = \"\"\n",
    "            last_tokens[-1] = True\n",
    "        first_token = False\n",
    "    return [tokens_out, arguments, first_tokens, last_tokens, roles]"
   ]
  },
  {
   "cell_type": "code",
   "execution_count": 18,
   "id": "ad4fe971-e31e-4f11-abf8-063397bb879d",
   "metadata": {},
   "outputs": [],
   "source": [
    "def get_lemmas(sentence):\n",
    "    lemmas = []\n",
    "    results = spacy_analyze(sentence)\n",
    "    for token in results:\n",
    "        lemmas.append(token.lemma_)\n",
    "    return lemmas"
   ]
  },
  {
   "cell_type": "code",
   "execution_count": 19,
   "id": "31a63481-9434-43ff-9146-6a5fb0b39520",
   "metadata": {},
   "outputs": [],
   "source": [
    "def find_causal_relations(analyzed_sentence, lemmas):\n",
    "    tokens, arguments, first_tokens, last_tokens, roles = convert_analysis(analyzed_sentence)\n",
    "    concepts = []\n",
    "    for i in range(0, len(tokens)):\n",
    "        if \"ARGM-PRP\" in arguments:\n",
    "            concepts.append(get_concept_tag_argm_prp(arguments[i]))\n",
    "        elif \"ARGM-DIS\" in arguments and roles[\"ARGM-DIS\"].lower() in ARGM_DIS_ROLES:\n",
    "            concepts.append(get_concept_tag_argm_dis(arguments[i]))\n",
    "        elif \"V\" in arguments and check_verb(find_verb(tokens, arguments, lemmas), RELATION_VERBS):\n",
    "            concepts.append(get_concept_tag_v(arguments[i], roles))\n",
    "        elif \"V\" in arguments and check_verb(find_verb(tokens, arguments, lemmas), REVERSE_VERBS):\n",
    "            concepts.append(get_concept_tag_reverse_v(arguments[i], roles))\n",
    "        else:\n",
    "            concepts.append(NO_CONCEPT)\n",
    "    return { \"tokens\": tokens, \"arguments\": arguments, \"first_tokens\": first_tokens, \"last_tokens\": last_tokens, \"roles\": roles, \"concepts\": concepts }"
   ]
  },
  {
   "cell_type": "code",
   "execution_count": 20,
   "id": "695b907f-e7d9-42ea-b21e-e75dafa66bee",
   "metadata": {},
   "outputs": [],
   "source": [
    "def pretty_print(causal_relation_data):\n",
    "    for i in range(0, len(causal_relation_data[\"tokens\"])):\n",
    "        color_code = COLOR_CODES[causal_relation_data[\"concepts\"][i]]\n",
    "        print_token(causal_relation_data[\"tokens\"][i], causal_relation_data[\"arguments\"][i], causal_relation_data[\"first_tokens\"][i], causal_relation_data[\"last_tokens\"][i], color_code)\n",
    "    print(\"\")"
   ]
  },
  {
   "cell_type": "code",
   "execution_count": 21,
   "id": "3057805e-406f-48e5-82f2-b57713e6c38d",
   "metadata": {},
   "outputs": [],
   "source": [
    "def srl_analyze(sentence, filter=\"\", print_flag=True):\n",
    "    srl_analysis = srl_predictor.predict(sentence=sentence)\n",
    "    causal_relations = []\n",
    "    lemmas = get_lemmas(re.sub(\"\\s+\", \" \", sentence))\n",
    "    for verb_data in srl_analysis['verbs']:\n",
    "        causal_relations.append(find_causal_relations(verb_data['description'], lemmas))\n",
    "    if print_flag:\n",
    "        for causal_relation_data in causal_relations:\n",
    "            if filter == \"\" or re.search(filter, \" \".join(causal_relation_data[\"tokens\"] + causal_relation_data[\"arguments\"])):\n",
    "                pretty_print(causal_relation_data)\n",
    "    return causal_relations"
   ]
  },
  {
   "cell_type": "markdown",
   "id": "878c83ec-5f49-4857-bbe3-c26e1970a4e9",
   "metadata": {},
   "source": [
    "## 3. Test cases"
   ]
  },
  {
   "cell_type": "code",
   "execution_count": null,
   "id": "5a15844e-570e-4d1f-be62-b2f953dedbc5",
   "metadata": {},
   "outputs": [],
   "source": [
    "srl_analyze(\"John sees the mountain with the snow\")"
   ]
  },
  {
   "cell_type": "code",
   "execution_count": null,
   "id": "d1011a94-4b99-445b-a402-8d8da2b2c102",
   "metadata": {},
   "outputs": [],
   "source": [
    "srl_analyze(\"\"\"You, in Greece, with our support, need to rebuild your country, your structures, your administration, \n",
    "               your economy to increase the competitiveness of Greece.\"\"\")"
   ]
  },
  {
   "cell_type": "code",
   "execution_count": null,
   "id": "315abf68-be8c-4f3d-bf4c-2df02c86b2c9",
   "metadata": {},
   "outputs": [],
   "source": [
    "srl_analyze(\"This opened the way to welfare gains from stronger economic and financial integration.\")"
   ]
  },
  {
   "cell_type": "code",
   "execution_count": null,
   "id": "2f79c931-5910-4e5e-906c-cf0038e13294",
   "metadata": {},
   "outputs": [],
   "source": [
    "srl_analyze(\"One risk is the temptation for governments to overborrow because the economic costs of excessive public debt\")"
   ]
  },
  {
   "cell_type": "code",
   "execution_count": null,
   "id": "5790cf17-2704-4467-95ac-20f071abfff9",
   "metadata": {},
   "outputs": [],
   "source": [
    "srl_analyze(\"A resulting loosening of fiscal discipline in individual member states can endanger the stability-oriented monetary policy.\")"
   ]
  },
  {
   "cell_type": "code",
   "execution_count": null,
   "id": "bee739b0-6890-44c8-9243-ba7232cfd06d",
   "metadata": {},
   "outputs": [],
   "source": [
    "srl_analyze(\"Therefore, the markets did not properly perform their expected policing function.\")"
   ]
  },
  {
   "cell_type": "code",
   "execution_count": null,
   "id": "2f1a41ca-b0ba-48c7-99f3-c4475ce51df1",
   "metadata": {},
   "outputs": [],
   "source": [
    "srl_analyze(\"I hope that following the lessons of interdependence not only at global, but also at European level given by the crisis\")"
   ]
  },
  {
   "cell_type": "code",
   "execution_count": null,
   "id": "6907cf65-d7d1-4f2b-834c-c8725a789efb",
   "metadata": {},
   "outputs": [],
   "source": [
    "srl_analyze(\"European economic strategy needs the full commitment of the European political community.\")"
   ]
  },
  {
   "cell_type": "code",
   "execution_count": null,
   "id": "459c7201-cc64-4b74-ad11-4558a8e249fe",
   "metadata": {},
   "outputs": [],
   "source": [
    "srl_analyze(\"And a European economic system whose resilience flows from its single market\")"
   ]
  },
  {
   "cell_type": "code",
   "execution_count": null,
   "id": "5b72ed91-af91-4c2f-9c75-193561125851",
   "metadata": {},
   "outputs": [],
   "source": [
    "srl_analyze(\"there are of course considerable budgetary challenges arising from the recent exceptional measures\")"
   ]
  },
  {
   "cell_type": "code",
   "execution_count": null,
   "id": "2ed79018-85a0-45fb-9d5c-2f1947602cb7",
   "metadata": {},
   "outputs": [],
   "source": [
    "srl_analyze(\"And the best hope of a return to growth and job creation is inside the euro area.\")"
   ]
  },
  {
   "cell_type": "code",
   "execution_count": null,
   "id": "da62399a-2a30-4bfd-a4eb-ce2215579c80",
   "metadata": {},
   "outputs": [],
   "source": [
    "srl_analyze(\"To conclude, let me say a few words on the euro area more generally.\")"
   ]
  },
  {
   "cell_type": "code",
   "execution_count": null,
   "id": "4d41d16d-acbf-4da7-9afe-0992057f9fb8",
   "metadata": {},
   "outputs": [],
   "source": [
    "srl_analyze(\"\"\"We have taken important, fundamental decisions over the last couple of months to safeguard the stability \n",
    "               of the euro area, and indeed we are now in the phase of implementation.\"\"\")"
   ]
  },
  {
   "cell_type": "code",
   "execution_count": null,
   "id": "7cc28fe0-2fd8-40f0-bb47-e66a0dbc7822",
   "metadata": {},
   "outputs": [],
   "source": [
    "srl_analyze(\"\"\"A number of governments have embarked on a path of reform and fiscal consolidation that was unthinkable only \n",
    "               very recently, and they have taken important decisions and I encourage them to keep this determination.\"\"\")"
   ]
  },
  {
   "cell_type": "code",
   "execution_count": null,
   "id": "3608204a-2217-4403-896d-10b5b02f0f38",
   "metadata": {},
   "outputs": [],
   "source": [
    "srl_analyze(\"\"\"These reforms are now being implemented and this effort must continue with credibility, with consistency, \n",
    "               with coherence over time.\"\"\")"
   ]
  },
  {
   "cell_type": "code",
   "execution_count": null,
   "id": "21df66a7-1c41-43a5-a953-c40ac915e150",
   "metadata": {},
   "outputs": [],
   "source": [
    "srl_analyze(\"As we said there will not be magic solutions.\")"
   ]
  },
  {
   "cell_type": "code",
   "execution_count": null,
   "id": "b0e08438-0804-4afb-a771-5f848fd6278e",
   "metadata": {},
   "outputs": [],
   "source": [
    "srl_analyze(\"We need sustained efforts and determination.\")"
   ]
  },
  {
   "cell_type": "code",
   "execution_count": null,
   "id": "89cd2b3d-b1ad-4a4a-b690-6d86877ef10c",
   "metadata": {},
   "outputs": [],
   "source": [
    "srl_analyze(\"At the same time, the existing financial backstops are being used as necessary.\")"
   ]
  },
  {
   "cell_type": "code",
   "execution_count": null,
   "id": "a9bbefe2-4e57-495d-886c-d76f4b240d72",
   "metadata": {},
   "outputs": [],
   "source": [
    "srl_analyze(\"\"\"Most recently, the financial assistance to the recapitalisation of Spanish banks has been agreed \n",
    "               and is ready for implementation.\"\"\")"
   ]
  },
  {
   "cell_type": "code",
   "execution_count": null,
   "id": "985bbeaa-a66b-4ee9-8bef-a512bca9cbb5",
   "metadata": {},
   "outputs": [],
   "source": [
    "srl_analyze(\"\"\"Giving to the ECB the ultimate responsibility for supervision of banks in the euro area \n",
    "               will decisively contribute to increase confidence between the banks \n",
    "               and in this way increase the financial stability in the euro area.\"\"\")"
   ]
  },
  {
   "cell_type": "code",
   "execution_count": null,
   "id": "e74993ff-629f-4444-a3e9-95d936869c40",
   "metadata": {},
   "outputs": [],
   "source": [
    "srl_analyze(\"Second, Germany is acutely aware of the need to tackle the root causes and not just the symptoms of the crisis.\")"
   ]
  },
  {
   "cell_type": "code",
   "execution_count": null,
   "id": "0ae9f741-68e7-4ae0-b1de-5ecb8723f609",
   "metadata": {},
   "outputs": [],
   "source": [
    "srl_analyze(\"\"\"This is why it is pressing strongly for institutional reforms of the EMU framework plus structural reforms \n",
    "               and budgetary discipline in the member states.\"\"\")"
   ]
  },
  {
   "cell_type": "code",
   "execution_count": null,
   "id": "2040f38a-a5a9-4985-bec9-5407b44785a9",
   "metadata": {},
   "outputs": [],
   "source": [
    "srl_analyze(\"The introduction of the euro eliminated exchange rate risks.\")"
   ]
  },
  {
   "cell_type": "code",
   "execution_count": null,
   "id": "12883bd7-edda-4218-9303-1765e061dc10",
   "metadata": {},
   "outputs": [],
   "source": [
    "srl_analyze(\"\"\"Another implication of the euro area's single monetary policy is that the key interest rates \n",
    "               are set for the currency bloc as a whole.\"\"\")"
   ]
  },
  {
   "cell_type": "code",
   "execution_count": null,
   "id": "9f0a3592-99cf-48eb-acdd-9cfd79fff765",
   "metadata": {},
   "outputs": [],
   "source": [
    "srl_analyze(\"\"\"One risk is the temptation for governments to overborrow because the economic costs of excessive public debt, \n",
    "               for example higher interest rates, can be more easily shifted to other member states.\"\"\")"
   ]
  },
  {
   "cell_type": "code",
   "execution_count": null,
   "id": "2d9960a6-24ea-4ee9-b260-6112c96cd9b0",
   "metadata": {},
   "outputs": [],
   "source": [
    "srl_analyze(\"\"\"Even Germany ran up excessive deficits for a few years and, even worse, championed a reform of the SGP \n",
    "               which ultimately further weakened the application of the fiscal rules.\"\"\")"
   ]
  },
  {
   "cell_type": "code",
   "execution_count": null,
   "id": "b1d20c14-9a56-4456-8abb-6dd8debb1b42",
   "metadata": {},
   "outputs": [],
   "source": [
    "srl_analyze(\"\"\"However, the EMU framework not only failed to avoid excessive deficits, it was also unable to prevent \n",
    "               the build-up of macroeconomic imbalances within the euro area.\"\"\")"
   ]
  },
  {
   "cell_type": "code",
   "execution_count": null,
   "id": "931baf3e-958f-4ad6-a998-a4f8ea2cfcec",
   "metadata": {},
   "outputs": [],
   "source": [
    "srl_analyze(\"\"\"The resulting increase in domestic inflation and wages eroded the competitiveness of the countries concerned and \n",
    "               increased their dependence on capital imports.\"\"\")"
   ]
  },
  {
   "cell_type": "code",
   "execution_count": null,
   "id": "87956f23-b8ce-48ff-8ddf-2d6ce8b5e0ce",
   "metadata": {},
   "outputs": [],
   "source": [
    "srl_analyze(\"The task of implementing the reforms and regaining competitiveness entailed significant political and social costs.\")"
   ]
  },
  {
   "cell_type": "code",
   "execution_count": null,
   "id": "92f2d27b-0dc7-48cd-9cdd-4b99aa507cb8",
   "metadata": {},
   "outputs": [],
   "source": [
    "srl_analyze(\"\"\"However, these efforts, supported by a strong expansion in the global economy, allowed German growth to rebound \n",
    "               after 2005.\"\"\")"
   ]
  },
  {
   "cell_type": "code",
   "execution_count": null,
   "id": "c6d13dc9-f815-4348-9384-b9a18d20e660",
   "metadata": {},
   "outputs": [],
   "source": [
    "srl_analyze(\"\"\"In order to achieve a turnaround and allow further assistance, it is now essential for Greece to deliver \n",
    "               on the promises that have been made.\"\"\")"
   ]
  },
  {
   "cell_type": "markdown",
   "id": "972560a3-840f-4f4c-964f-6e7bfd49b320",
   "metadata": {},
   "source": [
    "## 4. Propbank role explanation"
   ]
  },
  {
   "cell_type": "markdown",
   "id": "588908d7-0689-4902-b868-95fe6b5747ef",
   "metadata": {},
   "source": [
    "Modifiers in Propbank (source: http://clear.colorado.edu/compsem/documents/propbank_guidelines.pdf )\n",
    "* ADJ: Adjectival\n",
    "* ADV: Adverbials\n",
    "* CAU: Cause\n",
    "* COM: Comitative\n",
    "* DIR: Directional\n",
    "* DIS: Discourse\n",
    "* DSP: Direct Speech\n",
    "* EXT: Extent\n",
    "* GOL: Goal\n",
    "* LOC: Locative\n",
    "* LVB: Light Verb\n",
    "* MNR: Manner\n",
    "* MOD: Modal\n",
    "* NEG: Negation\n",
    "* PRD: Secondary Predication\n",
    "* PRP: Purpose\n",
    "* REC: Reciprocals\n",
    "* SLC: Relative Clause"
   ]
  },
  {
   "cell_type": "markdown",
   "id": "674fae69-32c1-4949-989f-06bc5e5534c7",
   "metadata": {},
   "source": [
    "## 5. Process texts"
   ]
  },
  {
   "cell_type": "code",
   "execution_count": 22,
   "id": "e9179a87-35dc-42fc-b421-d4c890d5107f",
   "metadata": {},
   "outputs": [],
   "source": [
    "import json"
   ]
  },
  {
   "cell_type": "code",
   "execution_count": 23,
   "id": "ffdbfbeb-21d8-44be-b927-5f6c5088c864",
   "metadata": {},
   "outputs": [],
   "source": [
    "def read_data(file_name):\n",
    "    json_data = []\n",
    "    infile = open(file_name, \"r\")\n",
    "    for line in infile:\n",
    "        json_data.append(json.loads(line))\n",
    "    infile.close()\n",
    "    return json_data"
   ]
  },
  {
   "cell_type": "code",
   "execution_count": 24,
   "id": "e89b4b4a-fcce-43da-9be3-6c2c44de0668",
   "metadata": {},
   "outputs": [],
   "source": [
    "def get_concepts_json(json_data_element):\n",
    "    concepts = {}\n",
    "    for label_element in json_data_element[\"label\"]:\n",
    "        label = label_element[2]\n",
    "        phrase = json_data_element[\"data\"][label_element[0]: label_element[1]]\n",
    "        if label not in concepts:\n",
    "            concepts[label] = phrase\n",
    "        else:\n",
    "            concepts[label] += \" \" + phrase\n",
    "    return list(concepts.items())"
   ]
  },
  {
   "cell_type": "code",
   "execution_count": 25,
   "id": "cc7c44e1-d2ff-46bc-9163-10d7072419e2",
   "metadata": {},
   "outputs": [],
   "source": [
    "def get_concepts_srl(srl_data):\n",
    "    concepts = {}\n",
    "    for i in range(0, len(srl_data[\"concepts\"])):\n",
    "        if srl_data[\"concepts\"][i] != NO_CONCEPT:\n",
    "            label = srl_data[\"concepts\"][i]\n",
    "            phrase = srl_data[\"tokens\"][i]\n",
    "            if label not in concepts:\n",
    "                concepts[label] = phrase\n",
    "            elif len(phrase) > 1 or re.search(\"\\w\", phrase):\n",
    "                concepts[label] += \" \" + phrase\n",
    "            else:\n",
    "                concepts[label] += phrase\n",
    "    return list(concepts.items())"
   ]
  },
  {
   "cell_type": "code",
   "execution_count": 26,
   "id": "34f73384-d028-4fc3-ae63-c48fc1b4ff23",
   "metadata": {},
   "outputs": [],
   "source": [
    "def show_precision_recall(present, found, correct, correct_phrases):\n",
    "    print(f\"found: {found}; present: {present}; correct: {correct}; \", end=\"\")\n",
    "    if found > 0:\n",
    "        print(f\"precision: {correct/found:.3f}; \", end=\"\")\n",
    "    print(f\"recall: {correct/present:.3f}\", end=\"\")\n",
    "    if len(correct_phrases) > 0:\n",
    "        print(f\"; correct phrases: {correct_phrases}\", end=\"\")\n",
    "    print(\"\")"
   ]
  },
  {
   "cell_type": "code",
   "execution_count": 27,
   "id": "6c96d456-defd-4fbd-81cf-72dd8eef4396",
   "metadata": {},
   "outputs": [],
   "source": [
    "def evaluate_concepts(concepts_json, concepts_srl):\n",
    "    correct = 0\n",
    "    concepts_srl_used = len(concepts_srl) * [False]\n",
    "    correct_phrases = []\n",
    "    for i in range(0, len(concepts_json)):\n",
    "        for j in range(0, len(concepts_srl)):\n",
    "            if not concepts_srl_used[j] and concepts_srl[j][0] == concepts_json[i][0] and concepts_srl[j][1] == concepts_json[i][1]:\n",
    "                correct += 1\n",
    "                concepts_srl_used[j] = False # change to True to avoid accepting concepts more than once \n",
    "                correct_phrases.append(concepts_srl[j][1])\n",
    "                break\n",
    "    present = len(concepts_json)\n",
    "    found = len(concepts_srl)\n",
    "    return present, found, correct, correct_phrases"
   ]
  },
  {
   "cell_type": "code",
   "execution_count": 28,
   "id": "3a12203b-e389-4326-b574-0324d44f4f55",
   "metadata": {},
   "outputs": [],
   "source": [
    "def escape_characters(json_data):\n",
    "    for data in json_data:\n",
    "        data[\"data\"] = re.sub(\"-\", \"_\", data[\"data\"])\n",
    "        data[\"data\"] = re.sub(\"\\[\", \"_\", data[\"data\"])\n",
    "        data[\"data\"] = re.sub(\"\\]\", \"_\", data[\"data\"])\n",
    "    return json_data"
   ]
  },
  {
   "cell_type": "code",
   "execution_count": 29,
   "id": "08d5ee6f-2fa1-42c0-8859-1d2e2d3c0171",
   "metadata": {},
   "outputs": [],
   "source": [
    "json_data = escape_characters(read_data(\"../data/femke-20211012.jsonl\"))"
   ]
  },
  {
   "cell_type": "code",
   "execution_count": 30,
   "id": "a5f44e1f-2a5c-4dbf-9270-4c63a0fa6fc4",
   "metadata": {},
   "outputs": [
    {
     "data": {
      "text/plain": [
       "[('Content_Concept_1', 'introduction of the euro'),\n",
       " ('Content_Relation_Explanation', 'eliminated'),\n",
       " ('Content_Concept_2', 'exchange rate risks')]"
      ]
     },
     "execution_count": 30,
     "metadata": {},
     "output_type": "execute_result"
    }
   ],
   "source": [
    "get_concepts_json(json_data[20])"
   ]
  },
  {
   "cell_type": "code",
   "execution_count": 31,
   "id": "13f071e9-468f-4ed0-80c8-926f6cf44691",
   "metadata": {},
   "outputs": [],
   "source": [
    "def flatten_list(data):\n",
    "    if type(data) != list:\n",
    "        return [data]\n",
    "    else:\n",
    "        if len(data) == 0:\n",
    "            return []\n",
    "        else:\n",
    "            first_element_list = flatten_list(data[0])\n",
    "            rest_list = flatten_list(data[1:])\n",
    "            first_element_list.extend(rest_list)\n",
    "            return first_element_list"
   ]
  },
  {
   "cell_type": "code",
   "execution_count": 38,
   "id": "0d678ba5-9d90-4166-a631-44d385973e88",
   "metadata": {},
   "outputs": [],
   "source": [
    "def save_paragraph_data(paragraph_data, out_file_name=\"data.jsonl\"):\n",
    "    counter = 1\n",
    "    out_data = []\n",
    "    for paragraph in paragraph_data:\n",
    "        while True:\n",
    "            paragraph_labels = []\n",
    "            for labels in paragraph[\"labels\"]:\n",
    "                if len(labels) > 0:\n",
    "                    paragraph_labels.extend(labels[0])\n",
    "                    labels.pop(0)\n",
    "                    break\n",
    "            if len(paragraph_labels) == 0:\n",
    "                break\n",
    "            out_data_item = { \"id\": counter, \"text\": paragraph[\"text\"], \"label\": paragraph_labels}\n",
    "            for key in paragraph:\n",
    "                if key not in [ \"text\", \"labels\" ]:\n",
    "                    out_data_item[key] = paragraph[key]\n",
    "            out_data.append(out_data_item)\n",
    "            counter += 1\n",
    "    out_file = open(out_file_name, \"w\")\n",
    "    for data in out_data:\n",
    "        print(json.dumps(data), file=out_file)\n",
    "    out_file.close()"
   ]
  },
  {
   "cell_type": "code",
   "execution_count": 33,
   "id": "6bd0ef6b-ea31-4e55-aa5c-f72d177fdd78",
   "metadata": {},
   "outputs": [],
   "source": [
    "def tokenize(string):\n",
    "    return \" \".join([str(token) for token in spacy_analyze(string)])"
   ]
  },
  {
   "cell_type": "code",
   "execution_count": 76,
   "id": "9aff96e7-09a8-4678-b8a1-aa394c96a9f8",
   "metadata": {},
   "outputs": [],
   "source": [
    "def add_meta_data(paragraph_data, json_data):\n",
    "    counter = 0\n",
    "    text_seen_dict = {}\n",
    "    for paragraph in paragraph_data:\n",
    "        tokenized_paragraph = tokenize(paragraph[\"text\"])\n",
    "        text_seen_count = 0\n",
    "        for i in range(0, len(json_data)):\n",
    "            if json_data[i][\"data\"] not in text_seen_dict and tokenize(json_data[i][\"data\"]) == tokenized_paragraph:\n",
    "                text_seen_count += 1\n",
    "                for key in [\"paragraph_id\", \"source_id\", \"speech_id\" ]:\n",
    "                    paragraph[key] = json_data[i][key]\n",
    "                for label_data in json_data[i][\"label\"]:\n",
    "                    label = f\"[{text_seen_count}] \" + label_data[2]\n",
    "                    phrase = json_data[i][\"data\"][label_data[0]: label_data[1]]\n",
    "                    if label in paragraph:\n",
    "                        paragraph[label].append(phrase)\n",
    "                    else:\n",
    "                        paragraph[label] = [phrase]\n",
    "            if text_seen_count > 0 and tokenize(json_data[i][\"data\"]) != tokenized_paragraph:\n",
    "                break\n",
    "            else:\n",
    "                text_seen_dict[json_data[i][\"data\"]] = True\n",
    "        if json_data[-1][\"data\"] in text_seen_dict:\n",
    "            text_seen_dict = {}\n",
    "            print(f\"\\n{json_data[i]['data']}\\n{tokenized_paragraph}\")\n",
    "        counter += 1\n",
    "        print(f\"{counter} ({len(text_seen_dict)}) \", end=\"\")\n",
    "    print(\"\")\n",
    "    return paragraph_data"
   ]
  },
  {
   "cell_type": "code",
   "execution_count": 59,
   "id": "abf60d6a-f977-4240-a677-de1c37dd339b",
   "metadata": {},
   "outputs": [],
   "source": [
    "def save_doccano_format(srl_analysis_paragraphs, json_data):\n",
    "    paragraph_data = []\n",
    "    for srl_analysis_paragraph in srl_analysis_paragraphs:\n",
    "        text_paragraph = \"\"\n",
    "        labels_paragraph = []\n",
    "        for srl_analysis_sentence in srl_analysis_paragraph:\n",
    "            labels_sentence = []\n",
    "            text_sentence = \"\"\n",
    "            for srl_analysis in srl_analysis_sentence:\n",
    "                text = \"\"\n",
    "                labels = []\n",
    "                \n",
    "                for i in range(0, len(srl_analysis[\"tokens\"])):\n",
    "                    token = srl_analysis[\"tokens\"][i]\n",
    "                    label = srl_analysis[\"concepts\"][i]\n",
    "                    if label != \"\":\n",
    "                        if len(labels) > 0 and labels[-1][2] == label and labels[-1][1] == len(text_paragraph) + len(text):\n",
    "                            labels[-1] = (labels[-1][0], len(text_paragraph) + len(text) + len(token) + 1, label)\n",
    "                        else:\n",
    "                            labels.append((len(text_paragraph) + len(text), len(text_paragraph) + len(text) + len(token) + 1, label))\n",
    "                    text += token + \" \"\n",
    "                if len(labels) > 0:\n",
    "                    labels_sentence.append(labels)\n",
    "                text_sentence = text\n",
    "            text_paragraph += text_sentence\n",
    "            labels_paragraph.append(labels_sentence)\n",
    "        paragraph_data.append({ \"text\": text_paragraph, \"labels\": labels_paragraph })\n",
    "    paragraph_data = add_meta_data(paragraph_data, json_data)\n",
    "    save_paragraph_data(paragraph_data)"
   ]
  },
  {
   "cell_type": "code",
   "execution_count": 54,
   "id": "d7a51e81-23e5-42ae-a196-57dcae0ef632",
   "metadata": {},
   "outputs": [],
   "source": [
    "def process_concepts(concepts_json, paragraph_text, paragraph_id, print_flag=True):\n",
    "    if print_flag:\n",
    "        print(\"####################\")\n",
    "    concepts_srl = []\n",
    "    spacy_analysis = spacy_analyze(paragraph_text)\n",
    "    srl_analysis_paragraph = []\n",
    "    for sentence in spacy_analysis.sents:\n",
    "        srl_analysis_sentence = srl_analyze(str(sentence), filter=\"\", print_flag=print_flag)\n",
    "        for srl_analysis_data in srl_analysis_sentence:\n",
    "            concepts_srl.extend(get_concepts_srl(srl_analysis_data))\n",
    "        if print_flag:\n",
    "            print(\"\")\n",
    "        srl_analysis_paragraph.append(srl_analysis_sentence)\n",
    "    present, found, correct, correct_phrases = evaluate_concepts(concepts_json, concepts_srl)\n",
    "    print(f\"id {paragraph_id}: \", end=\"\")\n",
    "    show_precision_recall(present, found, correct, correct_phrases)\n",
    "    return present, found, correct,srl_analysis_paragraph"
   ]
  },
  {
   "cell_type": "code",
   "execution_count": 53,
   "id": "58112822-ba04-44d6-88ef-b79b7cf58aee",
   "metadata": {},
   "outputs": [],
   "source": [
    "def analyze_paragraph(json_data, start_paragraph_id=0, last_paragraph_id = 100, show_only_one = True, print_flag=True):\n",
    "    seen = {}\n",
    "    present_total = 0\n",
    "    found_total = 0\n",
    "    correct_total = 0\n",
    "    previous_paragraph_text = \"\"\n",
    "    previous_concepts_json = []\n",
    "    nbr_of_paragraphs = 0\n",
    "    srl_analysis_paragraphs = []\n",
    "    for paragraph_id in range(start_paragraph_id, last_paragraph_id):\n",
    "        new_paragraph_text = json_data[paragraph_id][\"data\"]\n",
    "        new_concepts_json = get_concepts_json(json_data[paragraph_id])\n",
    "        if new_paragraph_text in seen:\n",
    "            previous_concepts_json.extend(new_concepts_json)\n",
    "            nbr_of_paragraphs += 1\n",
    "        elif show_only_one and previous_paragraph_text != \"\":\n",
    "            break\n",
    "        else:\n",
    "            if len(previous_paragraph_text) > 0:\n",
    "                present, found, correct, srl_analysis_paragraph = process_concepts(previous_concepts_json, previous_paragraph_text, paragraph_id, print_flag=print_flag)\n",
    "                present_total += present\n",
    "                found_total += found\n",
    "                correct_total += correct\n",
    "                srl_analysis_paragraphs.append(srl_analysis_paragraph)\n",
    "            previous_paragraph_text = new_paragraph_text\n",
    "            previous_concepts_json = new_concepts_json\n",
    "            seen[previous_paragraph_text] = True\n",
    "            nbr_of_paragraphs = 1\n",
    "\n",
    "    present, found, correct, srl_analysis_paragraph = process_concepts(previous_concepts_json, previous_paragraph_text, paragraph_id + 1, print_flag=print_flag)\n",
    "    srl_analysis_paragraphs.append(srl_analysis_paragraph)\n",
    "    present_total += present\n",
    "    found_total += found\n",
    "    correct_total += correct\n",
    "    print(f\"ALL({nbr_of_paragraphs}): \", end=\"\")\n",
    "    show_precision_recall(present_total, found_total, correct_total, [])\n",
    "    save_doccano_format(srl_analysis_paragraphs, json_data)"
   ]
  },
  {
   "cell_type": "markdown",
   "id": "a3451aeb-8942-4abb-8325-8f516ae12a3a",
   "metadata": {},
   "source": [
    "New paragraphs can be found on the ids: 0, 12, 14, 15, 20, 24, 25, 29, 32, 41, 47, 48, 51"
   ]
  },
  {
   "cell_type": "code",
   "execution_count": 86,
   "id": "eaa0c392-5238-4ba5-ac23-61620ef7a825",
   "metadata": {},
   "outputs": [
    {
     "name": "stdout",
     "output_type": "stream",
     "text": [
      "id 1296: found: 3; present: 3; correct: 0; precision: 0.000; recall: 0.000\n",
      "id 1298: found: 8; present: 6; correct: 0; precision: 0.000; recall: 0.000\n",
      "id 1299: found: 9; present: 3; correct: 2; precision: 0.222; recall: 0.667; correct phrases: ['reduce', 'actions by the ECB']\n",
      "id 1301: found: 6; present: 6; correct: 1; precision: 0.167; recall: 0.167; correct phrases: ['price stability']\n",
      "id 1303: found: 5; present: 6; correct: 0; precision: 0.000; recall: 0.000\n",
      "id 1307: found: 7; present: 12; correct: 3; precision: 0.429; recall: 0.250; correct phrases: ['monetary policy', 'monetary policy', 'monetary policy']\n",
      "id 1312: found: 0; present: 15; correct: 0; recall: 0.000\n",
      "id 1314: found: 10; present: 6; correct: 0; precision: 0.000; recall: 0.000\n",
      "id 1318: found: 3; present: 12; correct: 2; precision: 0.667; recall: 0.167; correct phrases: ['achieved', 'achieved']\n",
      "id 1322: found: 5; present: 12; correct: 0; precision: 0.000; recall: 0.000\n",
      "id 1325: found: 5; present: 9; correct: 0; precision: 0.000; recall: 0.000\n",
      "id 1326: found: 0; present: 3; correct: 0; recall: 0.000\n",
      "id 1328: found: 2; present: 6; correct: 0; precision: 0.000; recall: 0.000\n",
      "id 1329: found: 2; present: 3; correct: 0; precision: 0.000; recall: 0.000\n",
      "id 1333: found: 0; present: 12; correct: 0; recall: 0.000\n",
      "id 1335: found: 7; present: 6; correct: 0; precision: 0.000; recall: 0.000\n",
      "id 1336: found: 3; present: 3; correct: 1; precision: 0.333; recall: 0.333; correct phrases: ['reinforces']\n",
      "id 1338: found: 5; present: 6; correct: 0; precision: 0.000; recall: 0.000\n",
      "id 1346: found: 14; present: 24; correct: 0; precision: 0.000; recall: 0.000\n",
      "id 1352: found: 10; present: 18; correct: 5; precision: 0.500; recall: 0.278; correct phrases: ['create', 'create', 'create', 'create', 'nervousness, volatility and worry in financial markets']\n",
      "id 1357: found: 7; present: 15; correct: 0; precision: 0.000; recall: 0.000\n",
      "id 1361: found: 10; present: 12; correct: 0; precision: 0.000; recall: 0.000\n",
      "id 1364: found: 12; present: 9; correct: 0; precision: 0.000; recall: 0.000\n",
      "id 1371: found: 11; present: 21; correct: 0; precision: 0.000; recall: 0.000\n",
      "id 1378: found: 9; present: 21; correct: 0; precision: 0.000; recall: 0.000\n",
      "id 1379: found: 0; present: 3; correct: 0; recall: 0.000\n",
      "id 1380: found: 8; present: 3; correct: 0; precision: 0.000; recall: 0.000\n",
      "id 1383: found: 0; present: 9; correct: 0; recall: 0.000\n",
      "id 1386: found: 5; present: 9; correct: 1; precision: 0.200; recall: 0.111; correct phrases: ['confidence']\n",
      "id 1387: found: 9; present: 3; correct: 0; precision: 0.000; recall: 0.000\n",
      "id 1390: found: 7; present: 9; correct: 0; precision: 0.000; recall: 0.000\n",
      "id 1393: found: 5; present: 9; correct: 0; precision: 0.000; recall: 0.000\n",
      "id 1395: found: 2; present: 6; correct: 0; precision: 0.000; recall: 0.000\n",
      "id 1397: found: 3; present: 6; correct: 0; precision: 0.000; recall: 0.000\n",
      "id 1399: found: 6; present: 6; correct: 2; precision: 0.333; recall: 0.333; correct phrases: ['undermining', 'their competitiveness']\n",
      "id 1401: found: 3; present: 6; correct: 0; precision: 0.000; recall: 0.000\n",
      "id 1403: found: 3; present: 6; correct: 0; precision: 0.000; recall: 0.000\n",
      "id 1405: found: 5; present: 6; correct: 0; precision: 0.000; recall: 0.000\n",
      "id 1406: found: 6; present: 3; correct: 0; precision: 0.000; recall: 0.000\n",
      "id 1408: found: 9; present: 6; correct: 2; precision: 0.222; recall: 0.333; correct phrases: ['allowing', 'governments to pursue unsustainable policies']\n",
      "id 1414: found: 9; present: 18; correct: 0; precision: 0.000; recall: 0.000\n",
      "id 1415: found: 8; present: 3; correct: 1; precision: 0.125; recall: 0.333; correct phrases: ['strong countries to reduce their competitiveness']\n",
      "id 1417: found: 3; present: 6; correct: 0; precision: 0.000; recall: 0.000\n",
      "id 1423: found: 11; present: 18; correct: 0; precision: 0.000; recall: 0.000\n",
      "id 1424: found: 5; present: 3; correct: 0; precision: 0.000; recall: 0.000\n",
      "id 1426: found: 5; present: 6; correct: 0; precision: 0.000; recall: 0.000\n",
      "id 1431: found: 5; present: 15; correct: 1; precision: 0.200; recall: 0.067; correct phrases: ['macroeconomic stability']\n",
      "id 1433: found: 0; present: 6; correct: 0; recall: 0.000\n",
      "id 1435: found: 0; present: 6; correct: 0; recall: 0.000\n",
      "id 1438: found: 0; present: 9; correct: 0; recall: 0.000\n",
      "id 1440: found: 0; present: 6; correct: 0; recall: 0.000\n",
      "id 1443: found: 3; present: 9; correct: 0; precision: 0.000; recall: 0.000\n",
      "id 1447: found: 6; present: 11; correct: 0; precision: 0.000; recall: 0.000\n",
      "id 1457: found: 21; present: 30; correct: 4; precision: 0.190; recall: 0.133; correct phrases: ['caused', 'caused', 'increasing', 'caused']\n",
      "id 1462: found: 16; present: 15; correct: 2; precision: 0.125; recall: 0.133; correct phrases: ['caused', 'further deterioration of public finances']\n",
      "id 1463: found: 2; present: 3; correct: 0; precision: 0.000; recall: 0.000\n",
      "id 1466: found: 3; present: 9; correct: 2; precision: 0.667; recall: 0.222; correct phrases: ['price stability alone', 'financial stability']\n",
      "id 1468: found: 9; present: 6; correct: 2; precision: 0.222; recall: 0.333; correct phrases: ['political will', 'political will']\n",
      "id 1470: found: 6; present: 6; correct: 1; precision: 0.167; recall: 0.167; correct phrases: ['made']\n",
      "id 1473: found: 9; present: 9; correct: 0; precision: 0.000; recall: 0.000\n",
      "id 1478: found: 6; present: 15; correct: 0; precision: 0.000; recall: 0.000\n",
      "id 1480: found: 5; present: 6; correct: 0; precision: 0.000; recall: 0.000\n",
      "\u001b[1;31;47mfind_verb: error: different lengths for tokens (26) and lemmas (27)\u001b[m\u001b[1;31;47mfind_verb: error: different lengths for tokens (26) and lemmas (27)\u001b[m\u001b[1;31;47mfind_verb: error: different lengths for tokens (26) and lemmas (27)\u001b[m\u001b[1;31;47mfind_verb: error: different lengths for tokens (26) and lemmas (27)\u001b[m\u001b[1;31;47mfind_verb: error: different lengths for tokens (26) and lemmas (27)\u001b[m\u001b[1;31;47mfind_verb: error: different lengths for tokens (26) and lemmas (27)\u001b[m\u001b[1;31;47mfind_verb: error: different lengths for tokens (26) and lemmas (27)\u001b[m\u001b[1;31;47mfind_verb: error: different lengths for tokens (26) and lemmas (27)\u001b[m\u001b[1;31;47mfind_verb: error: different lengths for tokens (26) and lemmas (27)\u001b[m\u001b[1;31;47mfind_verb: error: different lengths for tokens (26) and lemmas (27)\u001b[m\u001b[1;31;47mfind_verb: error: different lengths for tokens (26) and lemmas (27)\u001b[m\u001b[1;31;47mfind_verb: error: different lengths for tokens (26) and lemmas (27)\u001b[m\u001b[1;31;47mfind_verb: error: different lengths for tokens (26) and lemmas (27)\u001b[m\u001b[1;31;47mfind_verb: error: different lengths for tokens (26) and lemmas (27)\u001b[m\u001b[1;31;47mfind_verb: error: different lengths for tokens (26) and lemmas (27)\u001b[m\u001b[1;31;47mfind_verb: error: different lengths for tokens (26) and lemmas (27)\u001b[m\u001b[1;31;47mfind_verb: error: different lengths for tokens (26) and lemmas (27)\u001b[m\u001b[1;31;47mfind_verb: error: different lengths for tokens (26) and lemmas (27)\u001b[m\u001b[1;31;47mfind_verb: error: different lengths for tokens (26) and lemmas (27)\u001b[m\u001b[1;31;47mfind_verb: error: different lengths for tokens (26) and lemmas (27)\u001b[m\u001b[1;31;47mfind_verb: error: different lengths for tokens (26) and lemmas (27)\u001b[m\u001b[1;31;47mfind_verb: error: different lengths for tokens (26) and lemmas (27)\u001b[m\u001b[1;31;47mfind_verb: error: different lengths for tokens (26) and lemmas (27)\u001b[m\u001b[1;31;47mfind_verb: error: different lengths for tokens (26) and lemmas (27)\u001b[m\u001b[1;31;47mfind_verb: error: different lengths for tokens (26) and lemmas (27)\u001b[m\u001b[1;31;47mfind_verb: error: different lengths for tokens (26) and lemmas (27)\u001b[m\u001b[1;31;47mfind_verb: error: different lengths for tokens (26) and lemmas (27)\u001b[m\u001b[1;31;47mfind_verb: error: different lengths for tokens (26) and lemmas (27)\u001b[m\u001b[1;31;47mfind_verb: error: different lengths for tokens (26) and lemmas (27)\u001b[m\u001b[1;31;47mfind_verb: error: different lengths for tokens (26) and lemmas (27)\u001b[m\u001b[1;31;47mfind_verb: error: different lengths for tokens (26) and lemmas (27)\u001b[m\u001b[1;31;47mfind_verb: error: different lengths for tokens (26) and lemmas (27)\u001b[m\u001b[1;31;47mfind_verb: error: different lengths for tokens (26) and lemmas (27)\u001b[m\u001b[1;31;47mfind_verb: error: different lengths for tokens (26) and lemmas (27)\u001b[m\u001b[1;31;47mfind_verb: error: different lengths for tokens (26) and lemmas (27)\u001b[m\u001b[1;31;47mfind_verb: error: different lengths for tokens (26) and lemmas (27)\u001b[m\u001b[1;31;47mfind_verb: error: different lengths for tokens (26) and lemmas (27)\u001b[m\u001b[1;31;47mfind_verb: error: different lengths for tokens (26) and lemmas (27)\u001b[m\u001b[1;31;47mfind_verb: error: different lengths for tokens (26) and lemmas (27)\u001b[m\u001b[1;31;47mfind_verb: error: different lengths for tokens (26) and lemmas (27)\u001b[m\u001b[1;31;47mfind_verb: error: different lengths for tokens (26) and lemmas (27)\u001b[m\u001b[1;31;47mfind_verb: error: different lengths for tokens (26) and lemmas (27)\u001b[m\u001b[1;31;47mfind_verb: error: different lengths for tokens (26) and lemmas (27)\u001b[m\u001b[1;31;47mfind_verb: error: different lengths for tokens (26) and lemmas (27)\u001b[m\u001b[1;31;47mfind_verb: error: different lengths for tokens (26) and lemmas (27)\u001b[m\u001b[1;31;47mfind_verb: error: different lengths for tokens (26) and lemmas (27)\u001b[m\u001b[1;31;47mfind_verb: error: different lengths for tokens (26) and lemmas (27)\u001b[m\u001b[1;31;47mfind_verb: error: different lengths for tokens (26) and lemmas (27)\u001b[m\u001b[1;31;47mfind_verb: error: different lengths for tokens (26) and lemmas (27)\u001b[m\u001b[1;31;47mfind_verb: error: different lengths for tokens (26) and lemmas (27)\u001b[m\u001b[1;31;47mfind_verb: error: different lengths for tokens (26) and lemmas (27)\u001b[m\u001b[1;31;47mfind_verb: error: different lengths for tokens (26) and lemmas (27)\u001b[mid 1481: found: 7; present: 3; correct: 0; precision: 0.000; recall: 0.000\n",
      "id 1484: found: 4; present: 9; correct: 0; precision: 0.000; recall: 0.000\n",
      "id 1490: found: 10; present: 18; correct: 0; precision: 0.000; recall: 0.000\n",
      "id 1491: found: 7; present: 3; correct: 0; precision: 0.000; recall: 0.000\n",
      "id 1492: found: 11; present: 3; correct: 1; precision: 0.091; recall: 0.333; correct phrases: ['makes']\n",
      "id 1493: found: 3; present: 3; correct: 0; precision: 0.000; recall: 0.000\n",
      "id 1495: found: 13; present: 6; correct: 0; precision: 0.000; recall: 0.000\n",
      "id 1498: found: 16; present: 9; correct: 2; precision: 0.125; recall: 0.222; correct phrases: ['ensures', 'ensures']\n",
      "id 1500: found: 7; present: 6; correct: 0; precision: 0.000; recall: 0.000\n",
      "id 1502: found: 6; present: 6; correct: 1; precision: 0.167; recall: 0.167; correct phrases: ['the predictability and credibility of our monetary policy']\n",
      "id 1508: found: 8; present: 18; correct: 4; precision: 0.500; recall: 0.222; correct phrases: ['enable', 'stability in the Eurozone', 'enable', 'enable']\n",
      "id 1515: found: 0; present: 21; correct: 0; recall: 0.000\n",
      "id 1519: found: 7; present: 12; correct: 0; precision: 0.000; recall: 0.000\n",
      "id 1527: found: 2; present: 24; correct: 0; precision: 0.000; recall: 0.000\n",
      "id 1528: found: 11; present: 3; correct: 1; precision: 0.091; recall: 0.333; correct phrases: ['only politicians']\n",
      "id 1529: found: 11; present: 3; correct: 0; precision: 0.000; recall: 0.000\n",
      "id 1532: found: 2; present: 9; correct: 0; precision: 0.000; recall: 0.000\n",
      "id 1535: found: 2; present: 9; correct: 0; precision: 0.000; recall: 0.000\n",
      "id 1537: found: 5; present: 6; correct: 0; precision: 0.000; recall: 0.000\n",
      "id 1548: found: 6; present: 33; correct: 2; precision: 0.333; recall: 0.061; correct phrases: ['that the European Union remains capable of acting in the future', 'that the European Union remains capable of acting in the future']\n",
      "id 1550: found: 8; present: 6; correct: 0; precision: 0.000; recall: 0.000\n",
      "id 1553: found: 5; present: 9; correct: 0; precision: 0.000; recall: 0.000\n",
      "id 1554: found: 4; present: 3; correct: 0; precision: 0.000; recall: 0.000\n",
      "id 1556: found: 0; present: 6; correct: 0; recall: 0.000\n",
      "id 1558: found: 4; present: 6; correct: 0; precision: 0.000; recall: 0.000\n",
      "id 1560: found: 11; present: 6; correct: 1; precision: 0.091; recall: 0.167; correct phrases: ['affecting']\n",
      "id 1563: found: 0; present: 9; correct: 0; recall: 0.000\n",
      "id 1565: found: 2; present: 6; correct: 0; precision: 0.000; recall: 0.000\n",
      "id 1566: found: 2; present: 3; correct: 0; precision: 0.000; recall: 0.000\n",
      "id 1567: found: 2; present: 3; correct: 0; precision: 0.000; recall: 0.000\n",
      "id 1570: found: 0; present: 9; correct: 0; recall: 0.000\n",
      "id 1573: found: 5; present: 9; correct: 0; precision: 0.000; recall: 0.000\n",
      "id 1579: found: 6; present: 18; correct: 0; precision: 0.000; recall: 0.000\n",
      "id 1581: found: 14; present: 6; correct: 0; precision: 0.000; recall: 0.000\n",
      "id 1582: found: 5; present: 3; correct: 0; precision: 0.000; recall: 0.000\n",
      "id 1586: found: 0; present: 12; correct: 0; recall: 0.000\n",
      "id 1589: found: 13; present: 8; correct: 0; precision: 0.000; recall: 0.000\n",
      "id 1592: found: 5; present: 9; correct: 3; precision: 0.600; recall: 0.333; correct phrases: ['growth', 'growth', 'growth']\n",
      "id 1598: found: 2; present: 18; correct: 0; precision: 0.000; recall: 0.000\n",
      "id 1601: found: 4; present: 9; correct: 1; precision: 0.250; recall: 0.111; correct phrases: ['therefore']\n",
      "id 1607: found: 0; present: 18; correct: 0; recall: 0.000\n",
      "id 1609: found: 0; present: 6; correct: 0; recall: 0.000\n",
      "id 1612: found: 9; present: 9; correct: 1; precision: 0.111; recall: 0.111; correct phrases: ['the challenges of monetary union']\n",
      "id 1614: found: 8; present: 6; correct: 0; precision: 0.000; recall: 0.000\n",
      "id 1615: found: 16; present: 3; correct: 1; precision: 0.062; recall: 0.333; correct phrases: ['structural equilibrium in our public accounts']\n",
      "id 1622: found: 0; present: 20; correct: 0; recall: 0.000\n",
      "id 1623: found: 11; present: 3; correct: 0; precision: 0.000; recall: 0.000\n",
      "id 1629: found: 2; present: 18; correct: 0; precision: 0.000; recall: 0.000\n",
      "id 1635: found: 6; present: 18; correct: 0; precision: 0.000; recall: 0.000\n",
      "id 1636: found: 0; present: 3; correct: 0; recall: 0.000\n",
      "id 1639: found: 16; present: 9; correct: 1; precision: 0.062; recall: 0.111; correct phrases: ['the euro']\n",
      "id 1643: found: 6; present: 12; correct: 0; precision: 0.000; recall: 0.000\n",
      "id 1644: found: 2; present: 3; correct: 0; precision: 0.000; recall: 0.000\n",
      "id 1647: found: 7; present: 9; correct: 0; precision: 0.000; recall: 0.000\n",
      "id 1648: found: 6; present: 3; correct: 0; precision: 0.000; recall: 0.000\n",
      "id 1655: found: 14; present: 21; correct: 1; precision: 0.071; recall: 0.048; correct phrases: ['the recession']\n",
      "id 1664: found: 7; present: 27; correct: 3; precision: 0.429; recall: 0.111; correct phrases: ['fully financed tax cuts', 'fully financed tax cuts', 'fully financed tax cuts']\n",
      "id 1666: found: 2; present: 6; correct: 0; precision: 0.000; recall: 0.000\n",
      "id 1669: found: 5; present: 9; correct: 0; precision: 0.000; recall: 0.000\n",
      "id 1672: found: 0; present: 9; correct: 0; recall: 0.000\n",
      "id 1673: found: 6; present: 3; correct: 0; precision: 0.000; recall: 0.000\n",
      "id 1683: found: 6; present: 30; correct: 1; precision: 0.167; recall: 0.033; correct phrases: ['generates']\n",
      "id 1685: found: 4; present: 6; correct: 0; precision: 0.000; recall: 0.000\n",
      "id 1688: found: 8; present: 9; correct: 1; precision: 0.125; recall: 0.111; correct phrases: ['jobs in Europe']\n",
      "id 1705: found: 10; present: 51; correct: 6; precision: 0.600; recall: 0.118; correct phrases: ['sustainable growth', 'sustainable growth', 'sustainable growth', 'sustainable growth', 'sustainable growth', 'sustainable growth']\n",
      "id 1707: found: 6; present: 6; correct: 0; precision: 0.000; recall: 0.000\n",
      "id 1709: found: 13; present: 6; correct: 0; precision: 0.000; recall: 0.000\n",
      "id 1710: found: 6; present: 3; correct: 1; precision: 0.167; recall: 0.333; correct phrases: ['them more consistent']\n",
      "id 1721: found: 16; present: 33; correct: 0; precision: 0.000; recall: 0.000\n",
      "id 1723: found: 5; present: 6; correct: 0; precision: 0.000; recall: 0.000\n",
      "id 1724: found: 7; present: 3; correct: 0; precision: 0.000; recall: 0.000\n",
      "id 1726: found: 4; present: 6; correct: 0; precision: 0.000; recall: 0.000\n",
      "id 1730: found: 12; present: 12; correct: 2; precision: 0.167; recall: 0.167; correct phrases: ['robust growth', 'employment']\n",
      "id 1734: found: 15; present: 12; correct: 0; precision: 0.000; recall: 0.000\n",
      "id 1736: found: 10; present: 6; correct: 0; precision: 0.000; recall: 0.000\n",
      "id 1737: found: 5; present: 3; correct: 0; precision: 0.000; recall: 0.000\n",
      "id 1741: found: 5; present: 12; correct: 0; precision: 0.000; recall: 0.000\n",
      "id 1745: found: 8; present: 12; correct: 0; precision: 0.000; recall: 0.000\n",
      "id 1755: found: 13; present: 30; correct: 1; precision: 0.077; recall: 0.033; correct phrases: ['structural reforms']\n",
      "id 1756: found: 0; present: 3; correct: 0; recall: 0.000\n",
      "id 1757: found: 0; present: 3; correct: 0; recall: 0.000\n",
      "id 1760: found: 4; present: 9; correct: 0; precision: 0.000; recall: 0.000\n",
      "id 1761: found: 11; present: 3; correct: 0; precision: 0.000; recall: 0.000\n",
      "id 1763: found: 6; present: 6; correct: 1; precision: 0.167; recall: 0.167; correct phrases: ['jobs']\n",
      "id 1765: found: 5; present: 6; correct: 0; precision: 0.000; recall: 0.000\n",
      "id 1769: found: 5; present: 12; correct: 0; precision: 0.000; recall: 0.000\n",
      "id 1772: found: 8; present: 9; correct: 3; precision: 0.375; recall: 0.333; correct phrases: ['caused', 'caused', 'caused']\n",
      "id 1775: found: 8; present: 9; correct: 0; precision: 0.000; recall: 0.000\n",
      "id 1776: found: 4; present: 3; correct: 0; precision: 0.000; recall: 0.000\n",
      "id 1781: found: 7; present: 15; correct: 0; precision: 0.000; recall: 0.000\n",
      "id 1784: found: 5; present: 9; correct: 0; precision: 0.000; recall: 0.000\n",
      "id 1786: found: 9; present: 6; correct: 0; precision: 0.000; recall: 0.000\n",
      "id 1798: found: 15; present: 36; correct: 6; precision: 0.400; recall: 0.167; correct phrases: ['cheaper and easier access to funding', 'led', 'cheaper and easier access to funding', 'causing', 'reducing', 'reducing']\n",
      "id 1805: found: 13; present: 21; correct: 0; precision: 0.000; recall: 0.000\n",
      "id 1806: found: 2; present: 3; correct: 0; precision: 0.000; recall: 0.000\n",
      "id 1809: found: 5; present: 9; correct: 0; precision: 0.000; recall: 0.000\n",
      "id 1811: found: 6; present: 6; correct: 0; precision: 0.000; recall: 0.000\n",
      "id 1814: found: 10; present: 9; correct: 0; precision: 0.000; recall: 0.000\n",
      "id 1818: found: 4; present: 12; correct: 0; precision: 0.000; recall: 0.000\n",
      "id 1820: found: 5; present: 6; correct: 0; precision: 0.000; recall: 0.000\n",
      "id 1823: found: 6; present: 9; correct: 1; precision: 0.167; recall: 0.111; correct phrases: ['caused']\n",
      "id 1828: found: 2; present: 15; correct: 0; precision: 0.000; recall: 0.000\n",
      "id 1832: found: 7; present: 12; correct: 1; precision: 0.143; recall: 0.083; correct phrases: ['ensures']\n",
      "id 1838: found: 5; present: 18; correct: 2; precision: 0.400; recall: 0.111; correct phrases: ['Increasing', 'Increasing']\n",
      "id 1840: found: 0; present: 6; correct: 0; recall: 0.000\n",
      "id 1848: found: 7; present: 24; correct: 6; precision: 0.857; recall: 0.250; correct phrases: ['tackled', 'tackled', 'tackled', 'tackled', 'tackled', 'tackled']\n",
      "id 1851: found: 10; present: 9; correct: 0; precision: 0.000; recall: 0.000\n",
      "id 1852: found: 0; present: 3; correct: 0; recall: 0.000\n",
      "id 1854: found: 6; present: 6; correct: 0; precision: 0.000; recall: 0.000\n",
      "id 1859: found: 4; present: 15; correct: 0; precision: 0.000; recall: 0.000\n",
      "id 1863: found: 6; present: 12; correct: 0; precision: 0.000; recall: 0.000\n",
      "id 1867: found: 8; present: 12; correct: 0; precision: 0.000; recall: 0.000\n",
      "ALL(4): found: 1055; present: 1713; correct: 87; precision: 0.082; recall: 0.051\n",
      "1 (363) 2 (364) 3 (365) 4 (366) 5 (367) \n",
      "Now yesterday I gave a speech setting out the UK's place in Europe. This is not about turning our backs on Europe _ quite the opposite. This is about how we make the case for a more competitive, a more open, a more flexible Europe and how we secure the UK's place within it. This is how I see it. Just over half of the EU countries are in the single currency, in the Euro. When you have a single currency you move inexorably towards a banking union, towards forms of fiscal union and that has huge implications for countries like the UK who are not in the Euro and frankly _never will be_ are never likely to join. The club we belong to is changing. We can't ignore this: change is underway and the debate about what this means, it is live, it is happening right now.\n",
      "It is important to stress that the ECB 's mandate only extends so far . There are clear limits to what monetary policy can and should aim to achieve . We can not repair unsound budgets . We can not clean up struggling banks . We can not solve deep_rooted problems in the structure of Europe 's economies . Our monetary union was deliberately constructed so that these policies would be the preserve of elected governments in each Member State . Sharing a common currency would only be sustainable if each country assumed its own responsibility . This reflects the subsidiarity principle embedded in our European Treaties . And in that sense , it also echoes a central tenet of Catholic Social Doctrine . As Pope Pius XI wrote in 1931 , \" It is a fundamental principle that one should not withdraw from individuals and commit to the community what they can accomplish by their own enterprise and industry . \"\n",
      "6 (0) 7 (369) 8 (370) 9 (371) \n",
      "Now yesterday I gave a speech setting out the UK's place in Europe. This is not about turning our backs on Europe _ quite the opposite. This is about how we make the case for a more competitive, a more open, a more flexible Europe and how we secure the UK's place within it. This is how I see it. Just over half of the EU countries are in the single currency, in the Euro. When you have a single currency you move inexorably towards a banking union, towards forms of fiscal union and that has huge implications for countries like the UK who are not in the Euro and frankly _never will be_ are never likely to join. The club we belong to is changing. We can't ignore this: change is underway and the debate about what this means, it is live, it is happening right now.\n",
      "Let me briefly take each of these in turn . All of us here in Davos know what it is that businesses need if they are to choose to locate in Europe . Strong finance _ like that provided by the City of London . And above all , we need an unashamedly pro_business regulatory environment _ with labour market flexibility , low jobs taxes and a willingness to pave the way for new business and new business models .\n",
      "10 (0) 11 (373) 12 (374) 13 (375) \n",
      "Now yesterday I gave a speech setting out the UK's place in Europe. This is not about turning our backs on Europe _ quite the opposite. This is about how we make the case for a more competitive, a more open, a more flexible Europe and how we secure the UK's place within it. This is how I see it. Just over half of the EU countries are in the single currency, in the Euro. When you have a single currency you move inexorably towards a banking union, towards forms of fiscal union and that has huge implications for countries like the UK who are not in the Euro and frankly _never will be_ are never likely to join. The club we belong to is changing. We can't ignore this: change is underway and the debate about what this means, it is live, it is happening right now.\n",
      "The second cause of this crisis lies in the competitiveness gaps that had widened for a long time before the crisis . The economic rationale is easy to understand : when joining a currency area whose goal is to achieve an inflation rate of just below 2 % , changes in unit production costs must be in line with this central bank objective , modulo the productivity\n",
      "14 (0) \n",
      "Now yesterday I gave a speech setting out the UK's place in Europe. This is not about turning our backs on Europe _ quite the opposite. This is about how we make the case for a more competitive, a more open, a more flexible Europe and how we secure the UK's place within it. This is how I see it. Just over half of the EU countries are in the single currency, in the Euro. When you have a single currency you move inexorably towards a banking union, towards forms of fiscal union and that has huge implications for countries like the UK who are not in the Euro and frankly _never will be_ are never likely to join. The club we belong to is changing. We can't ignore this: change is underway and the debate about what this means, it is live, it is happening right now.\n",
      "The third cause of this crisis , interlinked with the other two , is institutional : monetary union was not built on sufficiently robust economic , fiscal , financial and political institutions . The fiscal discipline mechanisms were insufficient , there was no mechanism for the surveillance of macroeconomic imbalances , nor was there a crisis management mechanism ; financial union worked when times were good : banks held the bonds of other Member States , but it very rapidly fragmented when the crisis erupted , due to the lack of institutional soundness .\n",
      "15 (0) 16 (378) 17 (379) 18 (380) 19 (381) 20 (382) 21 (383) 22 (384) 23 (385) 24 (386) 25 (387) 26 (388) 27 (389) \n",
      "Now yesterday I gave a speech setting out the UK's place in Europe. This is not about turning our backs on Europe _ quite the opposite. This is about how we make the case for a more competitive, a more open, a more flexible Europe and how we secure the UK's place within it. This is how I see it. Just over half of the EU countries are in the single currency, in the Euro. When you have a single currency you move inexorably towards a banking union, towards forms of fiscal union and that has huge implications for countries like the UK who are not in the Euro and frankly _never will be_ are never likely to join. The club we belong to is changing. We can't ignore this: change is underway and the debate about what this means, it is live, it is happening right now.\n",
      "As a consequence of this openness , the realization of the single market and the introduction of the euro later on did have a substantial positive impact on the Dutch economy . After all , one of the most significant yields was the boost that EMU provided to trade . Driven by lower transaction cost , lower exchange rate risks and more market transparency , trade within the euro area developed more strongly than outside the euro area . Being a country of trade and distribution by tradition , the Netherlands has taken advantage of these circumstances .\n",
      "28 (0) 29 (391) 30 (392) 31 (393) 32 (394) 33 (395) 34 (396) 35 (397) \n",
      "Now yesterday I gave a speech setting out the UK's place in Europe. This is not about turning our backs on Europe _ quite the opposite. This is about how we make the case for a more competitive, a more open, a more flexible Europe and how we secure the UK's place within it. This is how I see it. Just over half of the EU countries are in the single currency, in the Euro. When you have a single currency you move inexorably towards a banking union, towards forms of fiscal union and that has huge implications for countries like the UK who are not in the Euro and frankly _never will be_ are never likely to join. The club we belong to is changing. We can't ignore this: change is underway and the debate about what this means, it is live, it is happening right now.\n",
      "In the said countries , Ireland excepted , product and labour markets did n't function properly and they still do n't . Markets are overregulated and labour markets are highly inflexible . By addressing these problems , labour productivity can increase , thereby lowering unit labour costs . I am not saying this will be easy , but I ' m convinced that such steps are absolutely necessary for EMU to function properly .\n",
      "36 (0) 37 (399) 38 (400) 39 (401) 40 (402) 41 (403) 42 (404) 43 (405) 44 (406) 45 (407) \n",
      "Now yesterday I gave a speech setting out the UK's place in Europe. This is not about turning our backs on Europe _ quite the opposite. This is about how we make the case for a more competitive, a more open, a more flexible Europe and how we secure the UK's place within it. This is how I see it. Just over half of the EU countries are in the single currency, in the Euro. When you have a single currency you move inexorably towards a banking union, towards forms of fiscal union and that has huge implications for countries like the UK who are not in the Euro and frankly _never will be_ are never likely to join. The club we belong to is changing. We can't ignore this: change is underway and the debate about what this means, it is live, it is happening right now.\n",
      "Pragmatism , common sense and a focus on problem_solving are crucial now and the Dutch happen to be famous _ not to say notorious _ for these characteristics . Although we can be very principled on some issues and in many cases see eye to eye with the Germans , these typically Dutch characteristics could help divided euro area countries to stick together and solve this crisis . Pointing at the long_term perspective of eurobonds once the necessary conditions have been met , is an example of this pragmatism and focus on problem solving .\n",
      "46 (0) 47 (409) 48 (410) 49 (411) 50 (412) 51 (413) 52 (414) 53 (415) 54 (416) 55 (417) 56 (418) 57 (419) 58 (420) 59 (421) 60 (422) 61 (423) 62 (424) 63 (425) 64 (426) 65 (427) 66 (428) 67 (429) 68 (430) 69 (431) 70 (432) \n",
      "Now yesterday I gave a speech setting out the UK's place in Europe. This is not about turning our backs on Europe _ quite the opposite. This is about how we make the case for a more competitive, a more open, a more flexible Europe and how we secure the UK's place within it. This is how I see it. Just over half of the EU countries are in the single currency, in the Euro. When you have a single currency you move inexorably towards a banking union, towards forms of fiscal union and that has huge implications for countries like the UK who are not in the Euro and frankly _never will be_ are never likely to join. The club we belong to is changing. We can't ignore this: change is underway and the debate about what this means, it is live, it is happening right now.\n",
      "Finally , such an approach would help to address the unpleasant side_effects of earlier unconventional monetary policy measures . I ' m referring for instance to how banks have used LTROs to buy higher_yielding sovereign bonds , and thus contributed to the diabolic loop between governments and banks instead of having an impulse to lend to the real economy . Finally , as we all know , central bank independence is sustainable only if it is accompanied by strong accountability and a high level of transparency.11 As the ECB 's role in policy making has increased significantly during the crisis , it needs to find ways to further enhance transparency and accountability .\n",
      "71 (0) 72 (434) 73 (435) 74 (436) \n",
      "Now yesterday I gave a speech setting out the UK's place in Europe. This is not about turning our backs on Europe _ quite the opposite. This is about how we make the case for a more competitive, a more open, a more flexible Europe and how we secure the UK's place within it. This is how I see it. Just over half of the EU countries are in the single currency, in the Euro. When you have a single currency you move inexorably towards a banking union, towards forms of fiscal union and that has huge implications for countries like the UK who are not in the Euro and frankly _never will be_ are never likely to join. The club we belong to is changing. We can't ignore this: change is underway and the debate about what this means, it is live, it is happening right now.\n",
      "And the third is the crisis in our main trading partner _ the euro area _ where the near term outlook is weak , and the longer term prospects for tackling the evident fault lines in the monetary union uncertain . The former means that our current account deficit has remained stubbornly high , and the latter is holding back corporate investment With a disappointingly slow recovery , and unemployment one million higher than before the crisis , the main aim of economic policy has been to generate both a recovery and a rebalancing of the economy , and bring unemployment down without putting at risk hard_won\n",
      "75 (0) 76 (438) 77 (439) 78 (440) \n",
      "Now yesterday I gave a speech setting out the UK's place in Europe. This is not about turning our backs on Europe _ quite the opposite. This is about how we make the case for a more competitive, a more open, a more flexible Europe and how we secure the UK's place within it. This is how I see it. Just over half of the EU countries are in the single currency, in the Euro. When you have a single currency you move inexorably towards a banking union, towards forms of fiscal union and that has huge implications for countries like the UK who are not in the Euro and frankly _never will be_ are never likely to join. The club we belong to is changing. We can't ignore this: change is underway and the debate about what this means, it is live, it is happening right now.\n",
      "I would like to make it clear from the beginning that the question of better coordination of economic , financial and social policies will determine the lasting success of the new currency .\n",
      "79 (0) \n",
      "Now yesterday I gave a speech setting out the UK's place in Europe. This is not about turning our backs on Europe _ quite the opposite. This is about how we make the case for a more competitive, a more open, a more flexible Europe and how we secure the UK's place within it. This is how I see it. Just over half of the EU countries are in the single currency, in the Euro. When you have a single currency you move inexorably towards a banking union, towards forms of fiscal union and that has huge implications for countries like the UK who are not in the Euro and frankly _never will be_ are never likely to join. The club we belong to is changing. We can't ignore this: change is underway and the debate about what this means, it is live, it is happening right now.\n",
      "These are the forerunners under which the Federal Republic assumes the Presidency of the Council of the European Union in January 1999 . Difficult and very far_reaching decisions are in front of us in this phase . Last but not least , it is about distributing the tasks , but also the burdens more equitably , within the community . The aim is to make the Union 's policies more effective , but also closer to the citizens , in order to obtain the necessary legitimacy for the creation of a common Europe . The point is not to delay the necessary budgetary and structural reforms any longer . Tomorrow and the day after tomorrow at the European Council in Vienna , we will adopt the employment guidelines for 1999 .\n",
      "80 (0) \n",
      "Now yesterday I gave a speech setting out the UK's place in Europe. This is not about turning our backs on Europe _ quite the opposite. This is about how we make the case for a more competitive, a more open, a more flexible Europe and how we secure the UK's place within it. This is how I see it. Just over half of the EU countries are in the single currency, in the Euro. When you have a single currency you move inexorably towards a banking union, towards forms of fiscal union and that has huge implications for countries like the UK who are not in the Euro and frankly _never will be_ are never likely to join. The club we belong to is changing. We can't ignore this: change is underway and the debate about what this means, it is live, it is happening right now.\n",
      "But the recent turbulence on world financial markets has also highlighted another fact , the fact that the euro is more than a new German mark . It is Europe 's answer to increasing globalization , a tool that will continue to secure growth and stability on our continent in the future . However , this can only succeed if taxation policy ends with national unilateralism .\n",
      "81 (0) \n",
      "Now yesterday I gave a speech setting out the UK's place in Europe. This is not about turning our backs on Europe _ quite the opposite. This is about how we make the case for a more competitive, a more open, a more flexible Europe and how we secure the UK's place within it. This is how I see it. Just over half of the EU countries are in the single currency, in the Euro. When you have a single currency you move inexorably towards a banking union, towards forms of fiscal union and that has huge implications for countries like the UK who are not in the Euro and frankly _never will be_ are never likely to join. The club we belong to is changing. We can't ignore this: change is underway and the debate about what this means, it is live, it is happening right now.\n",
      "Efficiency , budgetary discipline and justice are as essential to a viable Union as democracy and coordinated economic and foreign policy . It will undoubtedly be the most difficult task of our Presidency to initiate the reform of agricultural and structural policy . For this , we want to agree on a reasonable and fair financial framework for the years 2000 to 2006 . It is important to recognize that these three reforms , summed up under the title \" Agenda 2000 \" , will be essential to ensure that the European Union remains capable of acting in the future .\n",
      "82 (0) \n",
      "Now yesterday I gave a speech setting out the UK's place in Europe. This is not about turning our backs on Europe _ quite the opposite. This is about how we make the case for a more competitive, a more open, a more flexible Europe and how we secure the UK's place within it. This is how I see it. Just over half of the EU countries are in the single currency, in the Euro. When you have a single currency you move inexorably towards a banking union, towards forms of fiscal union and that has huge implications for countries like the UK who are not in the Euro and frankly _never will be_ are never likely to join. The club we belong to is changing. We can't ignore this: change is underway and the debate about what this means, it is live, it is happening right now.\n",
      "Let us try to imagine that Hungary is a successful country once again . Admittedly , this is no easy feat as we enter the fifth year of the crisis . Still , let us toy with the idea . What does success mean in economic terms ? It means at least three things . If you want to work , you can find a job . And last but not least , you need not worry about inflation , or your savings losing their value . In other words , success also requires price stability . Every country that we can consider as a model has price stability . Even where inflation is not on target at present , monetary policy has managed to create a persistently low inflationary environment , which ensures that the expectations of economic agents are well anchored .\n",
      "83 (0) 84 (446) 85 (447) 86 (448) 87 (449) 88 (450) 89 (451) 90 (452) \n",
      "Now yesterday I gave a speech setting out the UK's place in Europe. This is not about turning our backs on Europe _ quite the opposite. This is about how we make the case for a more competitive, a more open, a more flexible Europe and how we secure the UK's place within it. This is how I see it. Just over half of the EU countries are in the single currency, in the Euro. When you have a single currency you move inexorably towards a banking union, towards forms of fiscal union and that has huge implications for countries like the UK who are not in the Euro and frankly _never will be_ are never likely to join. The club we belong to is changing. We can't ignore this: change is underway and the debate about what this means, it is live, it is happening right now.\n",
      "The crisis has been a strong catalyst for the fiscal consolidation process as well , which actually already began a couple of years before the outbreak of the crisis . The government implemented an ambitious austerity programme , along with financial assistance provided by the EU , the IMF and the World Bank . Some excesses of the various welfare programs have been rolled back and changes in pension entitlements helped to improve pension system sustainability . In addition , the tax wedge has been reduced .\n",
      "91 (0) 92 (454) \n",
      "Now yesterday I gave a speech setting out the UK's place in Europe. This is not about turning our backs on Europe _ quite the opposite. This is about how we make the case for a more competitive, a more open, a more flexible Europe and how we secure the UK's place within it. This is how I see it. Just over half of the EU countries are in the single currency, in the Euro. When you have a single currency you move inexorably towards a banking union, towards forms of fiscal union and that has huge implications for countries like the UK who are not in the Euro and frankly _never will be_ are never likely to join. The club we belong to is changing. We can't ignore this: change is underway and the debate about what this means, it is live, it is happening right now.\n",
      "Despite the many disadvantages of the crisis , one positive aspect is that inertia in inflation expectations has been broken . It is expected that inflation will sink below the 3 % target in 2011 . This would not only stem from the imported elements of inflation , but also from domestic developments , such as weak demand and moderate wage dynamics .\n",
      "93 (0) 94 (456) 95 (457) 96 (458) 97 (459) 98 (460) \n",
      "Now yesterday I gave a speech setting out the UK's place in Europe. This is not about turning our backs on Europe _ quite the opposite. This is about how we make the case for a more competitive, a more open, a more flexible Europe and how we secure the UK's place within it. This is how I see it. Just over half of the EU countries are in the single currency, in the Euro. When you have a single currency you move inexorably towards a banking union, towards forms of fiscal union and that has huge implications for countries like the UK who are not in the Euro and frankly _never will be_ are never likely to join. The club we belong to is changing. We can't ignore this: change is underway and the debate about what this means, it is live, it is happening right now.\n",
      "To sum up , we believe that Hungary needs a stability_oriented economic policy following the first stage of crisis management . Steps taken towards restoring equilibrium and creating a sustainable macroeconomic path also facilitate meeting the convergence criteria required for the adoption of the euro . In terms of timing , we think that a credible target date for euro adoption may be set based on stable fundamentals , especially after clear results are attained in the fields of price stability and fiscal discipline . Determining the concrete schedule , including the date of ERM II accession , will be possible based on this credible target date .\n",
      "99 (0) \n",
      "Now yesterday I gave a speech setting out the UK's place in Europe. This is not about turning our backs on Europe _ quite the opposite. This is about how we make the case for a more competitive, a more open, a more flexible Europe and how we secure the UK's place within it. This is how I see it. Just over half of the EU countries are in the single currency, in the Euro. When you have a single currency you move inexorably towards a banking union, towards forms of fiscal union and that has huge implications for countries like the UK who are not in the Euro and frankly _never will be_ are never likely to join. The club we belong to is changing. We can't ignore this: change is underway and the debate about what this means, it is live, it is happening right now.\n",
      "The Greek government that has just been formed will have to know the parliamentary test in the coming days . It comes in a context in which Europe has taken important decisions , notably to support growth , with the Juncker plan , with the decisions of the European Central Bank , with flexibility in the application of the Stability Pact ... Nevertheless , if I can say , the Greek question has been regularly asked for four years . It is time to find a long_term solution for Greece in Europe . That 's what we talked about , Mr. TSIPRAS and myself .\n",
      "100 (0) 101 (463) 102 (464) 103 (465) 104 (466) 105 (467) 106 (468) 107 (469) 108 (470) 109 (471) 110 (472) 111 (473) 112 (474) 113 (475) 114 (476) \n",
      "Now yesterday I gave a speech setting out the UK's place in Europe. This is not about turning our backs on Europe _ quite the opposite. This is about how we make the case for a more competitive, a more open, a more flexible Europe and how we secure the UK's place within it. This is how I see it. Just over half of the EU countries are in the single currency, in the Euro. When you have a single currency you move inexorably towards a banking union, towards forms of fiscal union and that has huge implications for countries like the UK who are not in the Euro and frankly _never will be_ are never likely to join. The club we belong to is changing. We can't ignore this: change is underway and the debate about what this means, it is live, it is happening right now.\n",
      "I also wanted to take the opportunity of this Council to keep up the momentum on the question of the future of the EU budget . This is an issue I ' ve discussed in the margins of this meeting with a number of other European leaders . Tomorrow , Angela Merkel , Nicolas Sarkozy and I , together with a number of other partners , will publish a text setting out our goals . This will cover both the budgets for 2012 and 2013 , where we want to do even better than we did in 2011 , and the longer term financial perspectives covering the rest of this decade . What I ' m doing together with our key partners in Europe is putting down a firm marker for these negotiations . All around Europe countries are tightening their belts to deal with their deficits . Europe can not be immune from that . We want to see real budgetary restraint from 2014 to 2020 , the time of the next financial perspectives , and that 's why the text we will publish talks about at least a real terms freeze in the budget for that period .\n",
      "115 (0) \n",
      "Now yesterday I gave a speech setting out the UK's place in Europe. This is not about turning our backs on Europe _ quite the opposite. This is about how we make the case for a more competitive, a more open, a more flexible Europe and how we secure the UK's place within it. This is how I see it. Just over half of the EU countries are in the single currency, in the Euro. When you have a single currency you move inexorably towards a banking union, towards forms of fiscal union and that has huge implications for countries like the UK who are not in the Euro and frankly _never will be_ are never likely to join. The club we belong to is changing. We can't ignore this: change is underway and the debate about what this means, it is live, it is happening right now.\n",
      "My job is to advance British interests in Europe and I will always be totally committed to that . It is in our interests that the eurozone achieves stability and that treaty change is a key part of that . I ' ve been able to save British taxpayers millions by the change we ' ve made to the 2011 EU budget . I ' ve been able to protect Britain from having to bail out the eurozone from 2013 . These are always , and I will do so again in the long term , EU budget negotiations . This will not be easy ; the odds in these budget negotiations are always stacked against us . It will be a long and hard campaign , but it 's one in which I am determined to stand up for Britain 's interests .\n",
      "116 (0) \n",
      "Now yesterday I gave a speech setting out the UK's place in Europe. This is not about turning our backs on Europe _ quite the opposite. This is about how we make the case for a more competitive, a more open, a more flexible Europe and how we secure the UK's place within it. This is how I see it. Just over half of the EU countries are in the single currency, in the Euro. When you have a single currency you move inexorably towards a banking union, towards forms of fiscal union and that has huge implications for countries like the UK who are not in the Euro and frankly _never will be_ are never likely to join. The club we belong to is changing. We can't ignore this: change is underway and the debate about what this means, it is live, it is happening right now.\n",
      "And you know what they say : ' Never waste a good crisis . ' So now 's the time to make sure that we never again see a repeat of the current problems with the euro . That 's why the Netherlands proposed appointing a European Commissioner for budget discipline : a man or woman with a mandate to act if euro countries fail to stick to the budgetary agreements in the Stability and Growth Pact , the SGP . Under our proposal , countries in that situation would face increasingly severe and automatic sanctions . Because we have all seen where slack financial discipline leads in a currency union . That 's our message . It 's time we took the 'S ' in SGP seriously . So I ' m pleased that the Dutch proposal has been well received and that we can now take steps to put it into practice .\n",
      "117 (0) 118 (480) 119 (481) 120 (482) 121 (483) 122 (484) 123 (485) 124 (486) 125 (487) 126 (488) \n",
      "Now yesterday I gave a speech setting out the UK's place in Europe. This is not about turning our backs on Europe _ quite the opposite. This is about how we make the case for a more competitive, a more open, a more flexible Europe and how we secure the UK's place within it. This is how I see it. Just over half of the EU countries are in the single currency, in the Euro. When you have a single currency you move inexorably towards a banking union, towards forms of fiscal union and that has huge implications for countries like the UK who are not in the Euro and frankly _never will be_ are never likely to join. The club we belong to is changing. We can't ignore this: change is underway and the debate about what this means, it is live, it is happening right now.\n",
      "In summary , Honourable Members , the European Council , in order to overcome the current crisis , established the need for all _ Member States and institutions _ to work with an agenda based on five pillars , with which you are already familiar , as they share the same structure as my Government 's own agenda . In other words : _ fiscal consolidation _ structural reforms at a national level _ structural reforms and market integration across the Union _ financial stability _ and , fifthly and lastly , what we might call \" more Europe \" . Only through simultaneous and consistent action on all fronts will we once again achieve sustainable growth and restore the stability of the European project .\n",
      "127 (0) \n",
      "Now yesterday I gave a speech setting out the UK's place in Europe. This is not about turning our backs on Europe _ quite the opposite. This is about how we make the case for a more competitive, a more open, a more flexible Europe and how we secure the UK's place within it. This is how I see it. Just over half of the EU countries are in the single currency, in the Euro. When you have a single currency you move inexorably towards a banking union, towards forms of fiscal union and that has huge implications for countries like the UK who are not in the Euro and frankly _never will be_ are never likely to join. The club we belong to is changing. We can't ignore this: change is underway and the debate about what this means, it is live, it is happening right now.\n",
      "I will begin with the last of them , namely the need to strengthen the structure of the Union , or to put it another way , to construct more Europe . Today , as some of us have indicated on numerous occasions , the Eurozone has an incomplete architecture which has resulted in some of the problems we are now experiencing and the difficulty in finding solutions to them . The Heads of State and of Government therefore intensely debated the report \" Towards a Genuine Economic and Monetary Union \" drawn up by Mr Van Rompuy , President of the European Council , in partnership with the Presidents of the Commission , of the Eurogroup and of the European Central Bank . This report raises the need to achieve further integration in four fields : financial , fiscal , economic and political .\n",
      "128 (0) 129 (491) \n",
      "Now yesterday I gave a speech setting out the UK's place in Europe. This is not about turning our backs on Europe _ quite the opposite. This is about how we make the case for a more competitive, a more open, a more flexible Europe and how we secure the UK's place within it. This is how I see it. Just over half of the EU countries are in the single currency, in the Euro. When you have a single currency you move inexorably towards a banking union, towards forms of fiscal union and that has huge implications for countries like the UK who are not in the Euro and frankly _never will be_ are never likely to join. The club we belong to is changing. We can't ignore this: change is underway and the debate about what this means, it is live, it is happening right now.\n",
      "Cooperation among Member States in devising and implementing their economic policies must be further strengthened in order to make them more consistent . These measures would be based on the existing procedures of the European Semester and the Euro_Plus Pact .\n",
      "130 (0) 131 (493) \n",
      "Now yesterday I gave a speech setting out the UK's place in Europe. This is not about turning our backs on Europe _ quite the opposite. This is about how we make the case for a more competitive, a more open, a more flexible Europe and how we secure the UK's place within it. This is how I see it. Just over half of the EU countries are in the single currency, in the Euro. When you have a single currency you move inexorably towards a banking union, towards forms of fiscal union and that has huge implications for countries like the UK who are not in the Euro and frankly _never will be_ are never likely to join. The club we belong to is changing. We can't ignore this: change is underway and the debate about what this means, it is live, it is happening right now.\n",
      "The members of the Euro have agreed that the European Stability Mechanism , the ESM , will be able to grant loans directly to those banking institutions which so require , without the need for the resources to be channelled via a State , once a single banking supervision mechanism has been established . We have also set a date for the European Council to examine these proposals through its urgent procedures : the end of 2012 . This is , in my opinion , a very important achievement . During this crisis the link of contagion between sovereign debt and the banks has proved particularly pernicious . Doubts as to the solvency of some banks have undermined the perceived soundness of various sovereign States , along with their ability to access the market . It was vital that this link be broken . Such assistance will be accompanied by financial and/or individual conditionality , depending on the State 's regulations for assistance . Only if the scale of the problem in the financial sector is too large with regard to the size of its economy will it be possible to impose more general conditionality . We have in this regard agreed to review the exceptional situation of Ireland .\n",
      "132 (0) 133 (495) 134 (496) \n",
      "Now yesterday I gave a speech setting out the UK's place in Europe. This is not about turning our backs on Europe _ quite the opposite. This is about how we make the case for a more competitive, a more open, a more flexible Europe and how we secure the UK's place within it. This is how I see it. Just over half of the EU countries are in the single currency, in the Euro. When you have a single currency you move inexorably towards a banking union, towards forms of fiscal union and that has huge implications for countries like the UK who are not in the Euro and frankly _never will be_ are never likely to join. The club we belong to is changing. We can't ignore this: change is underway and the debate about what this means, it is live, it is happening right now.\n",
      "In other words , the activation of the policies available to the European Union to foster growth . The European Council , aware of the difficult times faced by many of our economies , dedicated much of its attention to ways to stimulate economic growth . The so_called \" Growth Pact \" which was agreed stresses the need to mobilise all mechanisms , instruments and policies of the European Union to stimulate robust growth which will generate employment . The initial premise of the Pact is recognition of the importance of three fundamental principles . This is , I reiterate , the initial premise of the Pact : healthy public finances , structural reforms and investment specifically employed to achieve sustainable growth .\n",
      "135 (0) 136 (498) 137 (499) 138 (500) 139 (501) 140 (502) 141 (503) \n",
      "Now yesterday I gave a speech setting out the UK's place in Europe. This is not about turning our backs on Europe _ quite the opposite. This is about how we make the case for a more competitive, a more open, a more flexible Europe and how we secure the UK's place within it. This is how I see it. Just over half of the EU countries are in the single currency, in the Euro. When you have a single currency you move inexorably towards a banking union, towards forms of fiscal union and that has huge implications for countries like the UK who are not in the Euro and frankly _never will be_ are never likely to join. The club we belong to is changing. We can't ignore this: change is underway and the debate about what this means, it is live, it is happening right now.\n",
      "First , because not only are we faced with a serious investment gap ; we are caught in an investment trap . When I talk to investors , they all agree that Europe is an attractive place to invest in . But then I look at the figures , they tell a different story : investment levels in the EU are down to 370 billion below the historical pre_crisis norms . While investment is taking off in the U.S. , Europe is lagging behind . Because investors lack confidence , credibility and trust .\n",
      "142 (0) 143 (505) 144 (506) 145 (507) 146 (508) 147 (509) 148 (510) \n",
      "Now yesterday I gave a speech setting out the UK's place in Europe. This is not about turning our backs on Europe _ quite the opposite. This is about how we make the case for a more competitive, a more open, a more flexible Europe and how we secure the UK's place within it. This is how I see it. Just over half of the EU countries are in the single currency, in the Euro. When you have a single currency you move inexorably towards a banking union, towards forms of fiscal union and that has huge implications for countries like the UK who are not in the Euro and frankly _never will be_ are never likely to join. The club we belong to is changing. We can't ignore this: change is underway and the debate about what this means, it is live, it is happening right now.\n",
      "the global financial crisis that we have been experiencing since the autumn of 2007 has been a challenge for monetary and fiscal policy in nearly all industrialised countries . In addition , it called our regulatory regimes into question and caused a profound reform process to be initiated at the national , European and global level . With respect to European Monetary Union ( EMU ) the financial crisis has made clear just how important the euro is as a stabilising factor for the economies of its member states .\n",
      "149 (0) 150 (260) \n",
      "Now yesterday I gave a speech setting out the UK's place in Europe. This is not about turning our backs on Europe _ quite the opposite. This is about how we make the case for a more competitive, a more open, a more flexible Europe and how we secure the UK's place within it. This is how I see it. Just over half of the EU countries are in the single currency, in the Euro. When you have a single currency you move inexorably towards a banking union, towards forms of fiscal union and that has huge implications for countries like the UK who are not in the Euro and frankly _never will be_ are never likely to join. The club we belong to is changing. We can't ignore this: change is underway and the debate about what this means, it is live, it is happening right now.\n",
      "In my following remarks , I will address these two aspects of the recent experiences within the euro area . Second , the challenges that will have to be overcome in order to resolve the divergencies that have built up within the euro area . The current debate focuses on the differences in price competitiveness between EMU member states . However , in my view losses in competitiveness are not the root of the problem but rather a symptom of underlying unsustainable structural developments in some member states . Accordingly , the marked gains in price competitiveness the German economy has experienced have been a result of necessary structural reforms that were finally addressed in 2003 when domestic problems such as high structural unemployment , rising social security contributions and repeated excessive public deficits became more and more pressing . I will therefore take a closer look at this German experience trying to draw some conclusions for those countries that have lost competitiveness since the launch of the euro .\n",
      "151 (0) 152 (262) 153 (263) 154 (264) 155 (265) 156 (266) 157 (267) 158 (268) 159 (511) 160 (512) 161 (513) \n",
      "Now yesterday I gave a speech setting out the UK's place in Europe. This is not about turning our backs on Europe _ quite the opposite. This is about how we make the case for a more competitive, a more open, a more flexible Europe and how we secure the UK's place within it. This is how I see it. Just over half of the EU countries are in the single currency, in the Euro. When you have a single currency you move inexorably towards a banking union, towards forms of fiscal union and that has huge implications for countries like the UK who are not in the Euro and frankly _never will be_ are never likely to join. The club we belong to is changing. We can't ignore this: change is underway and the debate about what this means, it is live, it is happening right now.\n",
      "We estimate that the economy will grow by 1_11/2 per cent next year compared with this year . Exports have buoyed up growth in Denmark . The reason is that some of our largest export markets , such as Germany and Sweden , have not been so severely affected by the crisis until now . In the short term this somewhat cushions the impact of a deterioration of around 20 per cent in Denmark 's competitiveness over the last decade , measured by relative unit labour costs . We have lost and are still losing manufacturing jobs in the competitive sectors . If we want to boost employment in these areas , we must improve competitiveness _ there are no other options .\n",
      "162 (0) 163 (515) 164 (516) 165 (517) 166 (518) \n",
      "Now yesterday I gave a speech setting out the UK's place in Europe. This is not about turning our backs on Europe _ quite the opposite. This is about how we make the case for a more competitive, a more open, a more flexible Europe and how we secure the UK's place within it. This is how I see it. Just over half of the EU countries are in the single currency, in the Euro. When you have a single currency you move inexorably towards a banking union, towards forms of fiscal union and that has huge implications for countries like the UK who are not in the Euro and frankly _never will be_ are never likely to join. The club we belong to is changing. We can't ignore this: change is underway and the debate about what this means, it is live, it is happening right now.\n",
      "The European Agenda Denmark 's central economic challenges also have a strong international and European dimension . Throughout the last year , we have witnessed a severe debt crisis in Europe . Several countries found themselves unable to access financial markets on normal terms because public debt and deficits had grown out of control .\n",
      "167 (0) \n",
      "Now yesterday I gave a speech setting out the UK's place in Europe. This is not about turning our backs on Europe _ quite the opposite. This is about how we make the case for a more competitive, a more open, a more flexible Europe and how we secure the UK's place within it. This is how I see it. Just over half of the EU countries are in the single currency, in the Euro. When you have a single currency you move inexorably towards a banking union, towards forms of fiscal union and that has huge implications for countries like the UK who are not in the Euro and frankly _never will be_ are never likely to join. The club we belong to is changing. We can't ignore this: change is underway and the debate about what this means, it is live, it is happening right now.\n",
      "The EU has tackled the crisis through determined and common action : _ Vulnerable countries have been helped through large_scale loan packages . _ We are in the process of establishing a permanent crisis mechanism that will kick in when the temporary mechanism expires in 2013 . _ We have strengthened the EU 's Stability and Growth Pact to create better incentives for budget discipline . And last but not least : All governments have committed themselves to delivering the necessary fiscal consolidation and structural reforms .\n",
      "168 (0) 169 (521) 170 (522) 171 (523) 172 (524) \n",
      "Now yesterday I gave a speech setting out the UK's place in Europe. This is not about turning our backs on Europe _ quite the opposite. This is about how we make the case for a more competitive, a more open, a more flexible Europe and how we secure the UK's place within it. This is how I see it. Just over half of the EU countries are in the single currency, in the Euro. When you have a single currency you move inexorably towards a banking union, towards forms of fiscal union and that has huge implications for countries like the UK who are not in the Euro and frankly _never will be_ are never likely to join. The club we belong to is changing. We can't ignore this: change is underway and the debate about what this means, it is live, it is happening right now.\n",
      "But today I want to focus on our economic priorities , because for all the countries in the G8 and all the countries across the European Union there is a big , looming insistent question , and that is how do we compete and succeed in the global economic race that we are engaged in today . How do we succeed when other nations are growing , changing , innovating so fast ? Now a lot of the answers are clear . You ' ve got to deal with your debts , you ' ve got to cut business taxes , you ' ve got to tackle the bloat in welfare , and crucially you ' ve got to make sure your schools and your universities are truly world class .\n",
      "173 (0) \n",
      "Now yesterday I gave a speech setting out the UK's place in Europe. This is not about turning our backs on Europe _ quite the opposite. This is about how we make the case for a more competitive, a more open, a more flexible Europe and how we secure the UK's place within it. This is how I see it. Just over half of the EU countries are in the single currency, in the Euro. When you have a single currency you move inexorably towards a banking union, towards forms of fiscal union and that has huge implications for countries like the UK who are not in the Euro and frankly _never will be_ are never likely to join. The club we belong to is changing. We can't ignore this: change is underway and the debate about what this means, it is live, it is happening right now.\n",
      "Now yesterday I gave a speech setting out the UK 's place in Europe . This is not about turning our backs on Europe _ quite the opposite . This is about how we make the case for a more competitive , a more open , a more flexible Europe and how we secure the UK 's place within it . This is how I see it . Just over half of the EU countries are in the single currency , in the Euro . When you have a single currency you move inexorably towards a banking union , towards forms of fiscal union and that has huge implications for countries like the UK who are not in the Euro and frankly _ never will be _ are never likely to join . The club we belong to is changing . We ca n't ignore this : change is underway and the debate about what this means , it is live , it is happening right now .\n",
      "174 (0) \n"
     ]
    }
   ],
   "source": [
    "analyze_paragraph(json_data, start_paragraph_id=1295, last_paragraph_id=len(json_data), show_only_one=False, print_flag=False)"
   ]
  },
  {
   "cell_type": "code",
   "execution_count": 83,
   "id": "a740185d-6a75-4c5e-97db-d2a894c9dc75",
   "metadata": {},
   "outputs": [],
   "source": [
    "json_data[1480][\"data\"] = re.sub(\"2$\", \" 2\", json_data[1480][\"data\"])"
   ]
  },
  {
   "cell_type": "markdown",
   "id": "3ff502de-7348-4e64-be5d-ea00fe3e9f80",
   "metadata": {},
   "source": [
    "## 6. Visualize data\n",
    "\n",
    "Copied from: https://github.com/eriktks/cognitive_mapping/blob/main/phrases.ipynb "
   ]
  },
  {
   "cell_type": "code",
   "execution_count": null,
   "id": "02c5f62b-9b98-4f09-afcd-c596fe74587f",
   "metadata": {},
   "outputs": [],
   "source": [
    "def make_ids(labels, text):\n",
    "    ids = {}\n",
    "    for label_data in labels:\n",
    "        while text[label_data[0]] in \" .,?!:;\":\n",
    "            label_data[0] += 1\n",
    "        while text[label_data[1]-1] in \" .,?!:;\":\n",
    "            label_data[1] -= 1\n",
    "        if label_data[0] in ids or label_data[1] in ids:\n",
    "            print(f\"overlapping relation parts! {data_item['label']}\")\n",
    "        ids[label_data[0]] = { \"type\": \"start\", \"label\": label_data[2] }\n",
    "        ids[label_data[1]] = { \"type\":\"end\", \"label\": label_data[2] }\n",
    "    return ids "
   ]
  },
  {
   "cell_type": "code",
   "execution_count": null,
   "id": "7f3f5848-7758-4690-85cb-f9a4acdcd100",
   "metadata": {},
   "outputs": [],
   "source": [
    "def add_colors_to_text(text, ids):\n",
    "    for key in sorted(ids.keys(), reverse=True):\n",
    "        if ids[key][\"type\"] == \"end\":\n",
    "            text = text[:key+1] + \"\\x1b[m\" + text[key+1:]\n",
    "        else:\n",
    "            if ids[key][\"label\"] == \"Content_Concept_1\":\n",
    "                color_code = 1\n",
    "            elif ids[key][\"label\"] == \"Content_Concept_2\":\n",
    "                color_code = 4\n",
    "            elif ids[key][\"label\"] == \"Content_Relation_Explanation\":\n",
    "                color_code = 0\n",
    "            else:\n",
    "                color_code = 7\n",
    "                print(f\"unknown relation part label! ({ids[key]['label']})\")\n",
    "            text = text[:key] + f\"\\x1b[1;3{color_code};47m\" + text[key:]\n",
    "    return text"
   ]
  },
  {
   "cell_type": "markdown",
   "id": "d2720552-29c9-4e03-a77b-27fa8d793a69",
   "metadata": {},
   "source": [
    "Note that the id parameter of the function `visualize` starts at the value 1"
   ]
  },
  {
   "cell_type": "code",
   "execution_count": null,
   "id": "ba86f26f-ae4e-4859-a738-42d5cfdef597",
   "metadata": {},
   "outputs": [],
   "source": [
    "def visualize(json_data, i):\n",
    "    text = json_data[i-1][\"data\"]\n",
    "    ids = make_ids(json_data[i-1]['label'], text)\n",
    "    text = add_colors_to_text(text, ids)\n",
    "    print(text + \"\\n\")"
   ]
  },
  {
   "cell_type": "code",
   "execution_count": null,
   "id": "c6a4cdb2-c9e1-49c1-8782-6ede2efd9f66",
   "metadata": {},
   "outputs": [],
   "source": [
    "for i in range(1, 2):\n",
    "    visualize(json_data, i)"
   ]
  },
  {
   "cell_type": "code",
   "execution_count": null,
   "id": "f493d02a-cc4a-41a3-bfeb-7c3c1599d455",
   "metadata": {},
   "outputs": [],
   "source": []
  }
 ],
 "metadata": {
  "kernelspec": {
   "display_name": "allennlp",
   "language": "python",
   "name": "allennlp"
  },
  "language_info": {
   "codemirror_mode": {
    "name": "ipython",
    "version": 3
   },
   "file_extension": ".py",
   "mimetype": "text/x-python",
   "name": "python",
   "nbconvert_exporter": "python",
   "pygments_lexer": "ipython3",
   "version": "3.7.12"
  }
 },
 "nbformat": 4,
 "nbformat_minor": 5
}

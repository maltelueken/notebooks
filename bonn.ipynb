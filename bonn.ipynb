{
 "cells": [
  {
   "cell_type": "markdown",
   "id": "fa902681-c3ae-40f1-81a0-942e851b5754",
   "metadata": {},
   "source": [
    "# Scrape Stories from Stadt Bonn\n",
    "\n",
    "Scrape German Corona stories from the City of Bonn (larger city in western Germany): https://www.bonn.de/bonn-erleben/besichtigen-entdecken/aktion-coronavirus-erzaehl-uns-bonn.php.\n",
    "\n",
    "The stories are written by citizens of Bonn who responded to a call for stories by the department of cultural affairs.\n",
    "\n",
    "The stories are stored in dictionaries with the following fields:\n",
    "\n",
    "- `link`: The link of the story page (string)\n",
    "- `title`: The title of the story page (string; is the same for all stories)\n",
    "- `author`: The author of the story (string)\n",
    "- `date`: The when the story was published (string)\n",
    "- `intro_text`: The introductory text giving some background info on story (string)\n",
    "- `story_text`: The main text of the story (string)\n",
    "\n",
    "The web pages containing the stories are stored as `.html`. The notebook requires a folder at `DATA_DIR`."
   ]
  },
  {
   "cell_type": "code",
   "execution_count": 135,
   "id": "3c2fbff0-4bf8-422b-b52f-973148919d56",
   "metadata": {},
   "outputs": [],
   "source": [
    "\"\"\" Scrape stories from bonn.de \"\"\"\n",
    "\n",
    "import os\n",
    "import json\n",
    "from urllib.request import Request, urlopen\n",
    "from bs4 import BeautifulSoup"
   ]
  },
  {
   "cell_type": "code",
   "execution_count": 2,
   "id": "23be23c2-23f4-42a2-847e-da62e46eeae9",
   "metadata": {},
   "outputs": [],
   "source": [
    "# Set URL of the main page containing the links to the story pages\n",
    "\n",
    "URL = \"https://www.bonn.de/bonn-erleben/besichtigen-entdecken/aktion-coronavirus-erzaehl-uns-bonn.php\"\n",
    "\n",
    "# Set directory for storing web pages\n",
    "\n",
    "DATA_DIR = \"../bonn.de/scraped/\""
   ]
  },
  {
   "cell_type": "code",
   "execution_count": 3,
   "id": "440789db-8da9-4af9-a1d4-ee04119ed724",
   "metadata": {},
   "outputs": [],
   "source": [
    "def check_dir(data_dir):\n",
    "    \"\"\" Check if directory for saving web page exists \"\"\"\n",
    "    if not os.path.isdir(data_dir):\n",
    "        os.makedirs(data_dir)\n",
    "        print(f\"Created saving directory at {data_dir}\")"
   ]
  },
  {
   "cell_type": "code",
   "execution_count": 4,
   "id": "ad182ec1-846c-42a4-bb56-1372a9578e28",
   "metadata": {},
   "outputs": [],
   "source": [
    "def load_web_page(url, file_name, data_dir):\n",
    "    \"\"\" Check if web page can be loaded from disk;\n",
    "    otherwise fetch website and save as .html to disk \"\"\"\n",
    "    check_dir(data_dir)\n",
    "    if os.path.exists(file_name):\n",
    "        with open(file_name, \"r\", encoding=\"utf-8\") as file:\n",
    "            page = file.read()\n",
    "        print(f\"Loaded web page from {file_name}\")\n",
    "    else:\n",
    "        req = Request(url, headers={\"User-Agent\": \"Mozilla/5.0\"})\n",
    "        page = urlopen(req).read()\n",
    "        with open(file_name, \"w\", encoding=\"utf-8\") as file:\n",
    "            file.write(page.decode())\n",
    "        print(f\"Saved web page to {file_name}\")\n",
    "    return page"
   ]
  },
  {
   "cell_type": "code",
   "execution_count": 184,
   "id": "9b9e49fd-2b5e-4143-a930-1fbc0c18c3d4",
   "metadata": {},
   "outputs": [],
   "source": [
    "def extract_text_from_url(url):\n",
    "    \"\"\" Extract text from story pages \"\"\"\n",
    "    new_file_name = DATA_DIR + url.split(\"-\")[-1] + \".html\"\n",
    "    new_page = BeautifulSoup(load_web_page(\n",
    "        url, new_file_name, DATA_DIR), \"html.parser\")\n",
    "    new_date = json.loads(new_page.find(\n",
    "        \"meta\", attrs={\"name\": \"application-name\"})[\"data-content\"])[\"date\"]\n",
    "    new_intro_text = new_page.find(\n",
    "        \"div\", attrs={\"class\": \"SP-Text\"}).get_text(separator=\"\\n\")\n",
    "    sections = new_page.find_all(\n",
    "        \"section\", attrs={\"class\": \"SP-Section SP-Collapsible\"})\n",
    "\n",
    "    docs = []\n",
    "\n",
    "    print(f\"Extracting text from: {url}\")\n",
    "\n",
    "    for section in sections:\n",
    "        new_title = section.find(\"span\", attrs={\n",
    "                                 \"class\": \"SP-Collapsible__trigger__text SP-Iconized__text\"}).string\n",
    "        new_author = section.find(\n",
    "            \"h2\", attrs={\"class\": \"SP-Headline--paragraph\"})\n",
    "        new_story_text = section.find(\"div\", attrs={\n",
    "                                      \"class\": \"SP-Paragraph\"}).get_text(separator=\"\\n\").replace(\"\\xa0\", \"\")\n",
    "        new_doc = {\n",
    "            \"link\": url,\n",
    "            \"title\": new_title,\n",
    "            \"author\": new_author.string if new_author is not None else \"\",\n",
    "            \"date\": new_date,\n",
    "            \"intro_text\": new_intro_text,\n",
    "            \"story_text\": new_story_text\n",
    "        }\n",
    "        docs.append(new_doc)\n",
    "        print(f\"Extracted text from story: {new_title}\")\n",
    "    print(\"Done.\")\n",
    "\n",
    "    return docs"
   ]
  },
  {
   "cell_type": "code",
   "execution_count": 185,
   "id": "92f291b7-a042-4521-923b-f59dbedc342c",
   "metadata": {},
   "outputs": [],
   "source": [
    "def print_doc(doc):\n",
    "    \"\"\" Print document \"\"\"\n",
    "    for field in doc.keys():\n",
    "        print(field + \": \" + doc[field] + \"\\n\")"
   ]
  },
  {
   "cell_type": "code",
   "execution_count": 186,
   "id": "5fdde2d8-f627-45b8-a8e8-aec5bb211b66",
   "metadata": {},
   "outputs": [
    {
     "name": "stdout",
     "output_type": "stream",
     "text": [
      "Loaded web page from ../bonn.de/scraped/bonn.php.html\n",
      "Extracting text from: https://www.bonn.de/bonn-erleben/besichtigen-entdecken/aktion-coronavirus-erzaehl-uns-bonn.php\n",
      "Extracted text from story: Anno 2020\n",
      "Extracted text from story: Corona 2020\n",
      "Extracted text from story: Einbrechers Hilferuf\n",
      "Extracted text from story: Am Alten Zoll\n",
      "Extracted text from story: Unwirklich\n",
      "Extracted text from story: Der Rabe und die Winzlinge\n",
      "Extracted text from story: Leben in Zeiten des Coronavirus\n",
      "Extracted text from story: An den Fenstern, Applaus.\n",
      "Extracted text from story: Coronatus\n",
      "Extracted text from story: Corona.\n",
      "Extracted text from story: Corona-Spaziergang\n",
      "Extracted text from story: Im Corona-Supermarkt\n",
      "Extracted text from story: Das Coronavirus\n",
      "Extracted text from story: Nur eine Pandemie\n",
      "Extracted text from story: Die Krise als Chance? Corona in meinem Umfeld ...\n",
      "Extracted text from story: Mallorca, meine Liebe, du wirst vermisst!\n",
      "Extracted text from story: Coronakirsche\n",
      "Extracted text from story: Corona IX - Risikogruppe\n",
      "Extracted text from story: Corona XIV - Ungleichheit 1\n",
      "Extracted text from story: Corona XIX - Liebeslied eines Fußballers - Seniorenkick-Flaute 1 (Roberto/Elmaro-Power)\n",
      "Extracted text from story: Sehnsucht - Seniorenkick-Flaute 2 (Roberto/Elmaro-Power)\n",
      "Extracted text from story: Das Leben in den Zeiten der Corona\n",
      "Extracted text from story: Schmetterling\n",
      "Extracted text from story: Corona\n",
      "Extracted text from story: @home I, II, III\n",
      "Extracted text from story: Homeoffice\n",
      "Extracted text from story: Isolation\n",
      "Done.\n"
     ]
    }
   ],
   "source": [
    "docs = extract_text_from_url(URL)"
   ]
  },
  {
   "cell_type": "code",
   "execution_count": 187,
   "id": "62d5e20f-7c0f-45d8-8c97-b52f23687f1f",
   "metadata": {},
   "outputs": [
    {
     "name": "stdout",
     "output_type": "stream",
     "text": [
      "link: https://www.bonn.de/bonn-erleben/besichtigen-entdecken/aktion-coronavirus-erzaehl-uns-bonn.php\n",
      "\n",
      "title: Anno 2020\n",
      "\n",
      "author: Eva Maria Keuchel\n",
      "\n",
      "date: 2020-07-20T12:48:00Z\n",
      "\n",
      "intro_text: Das Sport- und Kulturdezernat der Stadt Bonn rief im Mai 2020 Bonner*innen dazu auf, ihre persönlichen Geschichten aus dem Corona-Alltag zu teilen.\n",
      "So entsteht ein kollektives Gedächtnis dieser unerwarteten Ausnahmesituation, welches für die Zukunft bewahrt wird und die Stimmung in der Stadt wiedergibt.\n",
      "Die Stadt Bonn bedankt sich bei allen Autor*innen und freut sich, die Geschichten zu teilen.\n",
      "\n",
      "story_text: Dass mir so etwas passiert, hätte ich nie gedacht. Ich bin eine Geisel geworden und lebe unter Hausarrest. Denn ich bin eine gefährdete Person, und ich könnte anderen gefährlich werden.\n",
      "Nun sitze ich fast immer allein in meiner Wohnung und muss Verzichten lernen. Die fest gebuchte Flusskreuzfahrt zusammen mit meinen Freundinnen wurde gestrichen. Meine Opernkarte für „Fidelio“ hat sich in einen Gutschein verwandelt. Der Besuch in Berlin zum Geburtstag meiner Schwester kann nicht stattfinden. Mein Sohn und seine Familie werden nicht aus Hamburg kommen, um mich zu treffen. Mein Fitness-Programm fällt aus, denn Schwimmbad und Sauna sind geschlossen. Und mein Wanderverein will nicht mehr mit mir Wandern gehen. Einkaufen darf ich noch, aber nicht in allen Geschäften. Nur mit einem Mund-Nasen-Schutz vor dem Gesicht und mit viel Geduld in einer langen Warteschlange vor dem Eingang. Der Anblick leer gekaufter Regale im Supermarkt erschreckt mich.\n",
      "Die Mitbewohner im Haus gehen in großem Bogen um mich herum, wenn wir uns zufällig im Flur begegnen. Oder sie klappen die Wohnungstür schnell wieder zu, wenn sie mich sehen. Trotzdem ist Solidarität zu spüren. Per Telefon, E-Mail und durch Aushang am Schwarzen Brett im Flur erreichen mich zahlreiche Hilfsangebote. Man will für mich Einkaufen gehen. Ich kann Unterstützung bei der Gartenarbeit bekommen. Mein Hund soll mitgenommen werden auf einen täglichen Gassi-Gang. Allerdings habe ich gar keinen Hund. Es gibt sogar Menschen, die bereit wären, ihren Vorrat an Toilettenpapier mit mir zu teilen. Und ich bekomme zwei hübsche, selbst genähte Gesichts-Schutz-Masken geschenkt.\n",
      "Am Schlimmsten ist, dass ich meine Freunde kaum noch treffen kann. Ich vermisse sie alle sehr. Die gemeinsamen Unternehmungen, ihr Lachen, die anregenden Gespräche fehlen mir täglich mehr. Besonders leid tun mir jene, die im Seniorenheim in strenger Isolation leben müssen, weil jeglicher Besuch- nicht nur von mir, sondern auch von nahen Angehörigen - komplett verboten ist.\n",
      "Immerhin sind bei mir im Laufe der letzten Wochen alte Bekannte wiederaufgetaucht, von denen ich gar nicht mehr in Erinnerung hatte, dass sie noch bei mir wohnen. So habe ich einige unterhaltsame Abende mit Signore Barolo, Signora Prosecco und Giovanni Aperol verbracht. Besonders danke ich meinem schottischen Freund von der Isle of Islay, der mir auch in dunklen Stunden zuverlässig zur Seite steht.\n",
      "Wie bin ich in diese Lage geraten? Es ist kein böser Kidnapper, der hinter allem steckt. An Verschwörungstheorien mag ich nicht glauben. Auch der Staat ist nicht schuld daran, obgleich ich mich über manche behördliche Anordnung ziemlich ärgern kann. Die tägliche Nachrichtenflut mit ständig neuen Berichten und Meldungen über Tote, Infizierte und wieder Genesene ist erdrückend. Es wird immer schwieriger, dabei einen klaren Kopf zu behalten.\n",
      "Corona hält mich gefangen. Unsichtbar klein und dennoch so stark und mächtig, dass fast überall auf der Welt Angst und Schrecken herrschen. Dabei kann ich noch recht froh sein, dass ich - im Vergleich zu vielen Anderen - nicht so schlimm davon betroffen bin. Aber mir ist klar, dass es noch lange dauern wird, bis ich wieder zu meinem normalen Leben zurückkehren kann.\n",
      "Mir schwirrt der Kopf. Ich gehe hinaus auf die Terrasse, um frische Luft zu schnappen. Es ist herrlich in der warmen Sonne unter tiefblauen Himmel. Ich betrachte die ersten Rosenblüten und freue mich an der üppigen Farbenpracht der Rhododendron-Hecke am Zaun. Unter den Büschen grünt noch Bärlauch, und der freche Waldmeister hat sich mitten in meinem Blumenbeet ausgebreitet. Seitdem der Straßenverkehr so stark zurückgegangen ist, kann ich den schönen Gesang der Vögel ganz deutlich hören. Ich finde, dass jetzt auch die Luft viel klarer ist und mich besser atmen lässt.\n",
      "Dann denke ich wieder an Corona. Dieses Virus ist lebendig und wird sich weiterentwickeln, ob es uns Menschen nun gefällt oder nicht. Letztlich ist auch es ein Teil der Natur auf unserer Welt. Die Corona-Pandemie jetzt einfach mit Gegenmitteln zu bekämpfen, ist nicht genug. Sie ist eine deutliche Warnung an alle Menschen vor dem weiteren respektlosen Umgang mit Natur und Umwelt.\n",
      "Als ich mich gerade umdrehen und wieder zurück in die Wohnung gehen will, spüre ich, wie mein guter Kumpel Hoffnung hinter mir steht. Er tippt mir sanft auf die Schulter und sagt: „Das Leben geht weiter. Jetzt den Kopf nicht hängen lassen und aus allem das Beste machen“.\n",
      "\n"
     ]
    }
   ],
   "source": [
    "print_doc(docs[0])"
   ]
  }
 ],
 "metadata": {
  "kernelspec": {
   "display_name": "navigating-stories",
   "language": "python",
   "name": "navigating-stories"
  },
  "language_info": {
   "codemirror_mode": {
    "name": "ipython",
    "version": 3
   },
   "file_extension": ".py",
   "mimetype": "text/x-python",
   "name": "python",
   "nbconvert_exporter": "python",
   "pygments_lexer": "ipython3",
   "version": "3.9.7"
  }
 },
 "nbformat": 4,
 "nbformat_minor": 5
}

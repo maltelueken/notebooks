{
 "cells": [
  {
   "cell_type": "markdown",
   "id": "08966f64",
   "metadata": {},
   "source": [
    "# Scrape Stories from Stadt Frankfurt\n",
    "\n",
    "Scrape German Corona stories from the website of the city of Frankfurt (Stadt Frankfurt am Main): https://frankfurt.de/service-und-rathaus/presse/texte-und-kampagnen/corona-geschichten.\n",
    "\n",
    "The stories are in an interview format with questions and answers. The stories are mostly captured in the answers, but for completeness, both questions and answers are scraped and stored.\n",
    "\n",
    "The stories are stored in dictionaries with the following fields:\n",
    "\n",
    "- `link`: The link of the story page (string)\n",
    "- `title`: The title of the story page on the main page (string)\n",
    "- `headline`: The title of the story by the author (string)\n",
    "- `subline`: The subtitle of the story describing the interviewee (string)\n",
    "- `intro_text`: The introductory text giving some background info on the interviewee and story (string)\n",
    "- `question_text`: A list with the interview questions (strings)\n",
    "- `answer_text`: A list with the interview answers (strings)\n",
    "- `interviewee`: The name of the interviewee (string)"
   ]
  },
  {
   "cell_type": "code",
   "execution_count": 52,
   "id": "8805e74c",
   "metadata": {},
   "outputs": [],
   "source": [
    "from urllib.request import urlopen\n",
    "from bs4 import BeautifulSoup\n",
    "from string import capwords"
   ]
  },
  {
   "cell_type": "code",
   "execution_count": 2,
   "id": "c7790bb6",
   "metadata": {},
   "outputs": [],
   "source": [
    "# Set URL of the main page containing the links to the story pages\n",
    "\n",
    "URL = \"https://frankfurt.de/service-und-rathaus/presse/texte-und-kampagnen/corona-geschichten\""
   ]
  },
  {
   "cell_type": "code",
   "execution_count": 3,
   "id": "d49826ab",
   "metadata": {},
   "outputs": [],
   "source": [
    "# Function to extract links to the story pages from main page\n",
    "\n",
    "def extract_hrefs_from_url(URL):\n",
    "    main_page = BeautifulSoup(urlopen(URL).read(), \"html.parser\")\n",
    "    \n",
    "    hrefs = []\n",
    "\n",
    "    for instance in main_page.find_all(\"a\", attrs = {\"class\": \"contentTile noprint\"}):\n",
    "        new_link = instance.get(\"href\")\n",
    "        pos_443 = new_link.index(\":443\")\n",
    "        hrefs.append(new_link[:pos_443] + new_link[pos_443+4:])\n",
    "        print(\"Extracted link: {}\".format(hrefs[-1]))\n",
    "    \n",
    "    print(\"Done\")\n",
    "    \n",
    "    return hrefs"
   ]
  },
  {
   "cell_type": "code",
   "execution_count": 53,
   "id": "0bcfc989",
   "metadata": {},
   "outputs": [],
   "source": [
    "# Function to extract text from story pages\n",
    "\n",
    "def extract_text_from_url(URL):\n",
    "    new_page = BeautifulSoup(urlopen(URL).read(), \"html.parser\")\n",
    "    new_title = new_page.title.string[:new_page.title.string.find(\" |\")]\n",
    "    new_headline = new_page.find(\"h4\", attrs = {\"class\": \"_headline\"})\n",
    "    new_subline = new_page.find(\"p\", attrs = {\"class\": \"_subline\"})\n",
    "    new_intro_text = new_page.find(\"p\", attrs = {\"class\": \"_introTxt\"})\n",
    "    new_inline_text = new_page.find(\"span\", attrs = {\"class\": \"_inlineTxt\"})\n",
    "    new_stripped_text = [text for text in new_inline_text.stripped_strings]\n",
    "    new_question_text = [new_stripped_text[i-1] for i in range(len(new_stripped_text)) if new_stripped_text[i].isupper() and i > 0]\n",
    "    new_answer_text = [text for i, text in enumerate(new_stripped_text) if new_stripped_text[i-1].isupper() and i > 0]\n",
    "    new_interviewee = [capwords(text[:-1]) for text in new_stripped_text if text.isupper()]\n",
    "    new_doc = {\n",
    "        \"link\": URL,\n",
    "        \"title\": new_title,\n",
    "        \"headline\": new_headline.get_text() if new_headline is not None else \"\",\n",
    "        \"subline\": new_subline.get_text() if new_subline is not None else \"\",\n",
    "        \"intro_text\": new_intro_text.get_text() if new_intro_text is not None else \"\",\n",
    "        \"question_text\": new_question_text,\n",
    "        \"answer_text\": new_answer_text,\n",
    "        \"interviewee\": new_interviewee[0] if len(new_interviewee) > 0 else \"\"\n",
    "    }\n",
    "    print(\"Extracted text from: {}\".format(URL))\n",
    "    \n",
    "    return new_doc"
   ]
  },
  {
   "cell_type": "code",
   "execution_count": 54,
   "id": "2e8a97f4",
   "metadata": {},
   "outputs": [],
   "source": [
    "# Wrapper to for list of story pages\n",
    "\n",
    "def extract_texts_from_url_list(URL_list):\n",
    "    docs = []\n",
    "    for URL in URL_list:\n",
    "        docs.append(extract_text_from_url(URL))\n",
    "    \n",
    "    print(\"Done\")\n",
    "    \n",
    "    return docs"
   ]
  },
  {
   "cell_type": "code",
   "execution_count": 55,
   "id": "f516f75d",
   "metadata": {},
   "outputs": [],
   "source": [
    "# Function to print doc\n",
    "\n",
    "def print_doc(doc):\n",
    "    for field in doc.keys():\n",
    "        if isinstance(doc[field], list):\n",
    "            print(field + \": \" + doc[field][0] + \"\\n\")\n",
    "        else:\n",
    "            print(field + \": \" + doc[field] + \"\\n\")\n",
    "        \n",
    "    return"
   ]
  },
  {
   "cell_type": "code",
   "execution_count": 56,
   "id": "6a58c005",
   "metadata": {},
   "outputs": [
    {
     "name": "stdout",
     "output_type": "stream",
     "text": [
      "Extracted link: https://frankfurt.de/service-und-rathaus/presse/texte-und-kampagnen/corona-geschichten/die-vhs-mitarbeiterin\n",
      "Extracted link: https://frankfurt.de/service-und-rathaus/presse/texte-und-kampagnen/corona-geschichten/die-kfz-zulassungsstelle\n",
      "Extracted link: https://frankfurt.de/service-und-rathaus/presse/texte-und-kampagnen/corona-geschichten/das-buergeramt\n",
      "Extracted link: https://frankfurt.de/service-und-rathaus/presse/texte-und-kampagnen/corona-geschichten/abteilungsleiterin-strassenverkehrsamt\n",
      "Extracted link: https://frankfurt.de/service-und-rathaus/presse/texte-und-kampagnen/corona-geschichten/der-pfarrer\n",
      "Extracted link: https://frankfurt.de/service-und-rathaus/presse/texte-und-kampagnen/corona-geschichten/das-amtsblatt-team\n",
      "Extracted link: https://frankfurt.de/service-und-rathaus/presse/texte-und-kampagnen/corona-geschichten/katja-hartung\n",
      "Extracted link: https://frankfurt.de/service-und-rathaus/presse/texte-und-kampagnen/corona-geschichten/magnus-welkerling\n",
      "Extracted link: https://frankfurt.de/service-und-rathaus/presse/texte-und-kampagnen/corona-geschichten/frankfurter-tierschutzverein-fuer-katzen\n",
      "Extracted link: https://frankfurt.de/service-und-rathaus/presse/texte-und-kampagnen/corona-geschichten/mona-ali-und-thekla-ahlrichs\n",
      "Extracted link: https://frankfurt.de/service-und-rathaus/presse/texte-und-kampagnen/corona-geschichten/harald-seehausen-und-khalid-lamjahed\n",
      "Extracted link: https://frankfurt.de/service-und-rathaus/presse/texte-und-kampagnen/corona-geschichten/helga-meyer\n",
      "Extracted link: https://frankfurt.de/service-und-rathaus/presse/texte-und-kampagnen/corona-geschichten/frank-naujoks\n",
      "Extracted link: https://frankfurt.de/service-und-rathaus/presse/texte-und-kampagnen/corona-geschichten/isabel-bergen\n",
      "Extracted link: https://frankfurt.de/service-und-rathaus/presse/texte-und-kampagnen/corona-geschichten/michael-holy\n",
      "Extracted link: https://frankfurt.de/service-und-rathaus/presse/texte-und-kampagnen/corona-geschichten/sabrina-linn\n",
      "Extracted link: https://frankfurt.de/service-und-rathaus/presse/texte-und-kampagnen/corona-geschichten/christian-koehn\n",
      "Extracted link: https://frankfurt.de/service-und-rathaus/presse/texte-und-kampagnen/corona-geschichten/max-bruedrl\n",
      "Done\n"
     ]
    }
   ],
   "source": [
    "# Extract links from main page\n",
    "\n",
    "hrefs = extract_hrefs_from_url(URL)"
   ]
  },
  {
   "cell_type": "code",
   "execution_count": 57,
   "id": "364f187d",
   "metadata": {},
   "outputs": [
    {
     "name": "stdout",
     "output_type": "stream",
     "text": [
      "Extracted text from: https://frankfurt.de/service-und-rathaus/presse/texte-und-kampagnen/corona-geschichten/die-vhs-mitarbeiterin\n",
      "Extracted text from: https://frankfurt.de/service-und-rathaus/presse/texte-und-kampagnen/corona-geschichten/die-kfz-zulassungsstelle\n",
      "Extracted text from: https://frankfurt.de/service-und-rathaus/presse/texte-und-kampagnen/corona-geschichten/das-buergeramt\n",
      "Extracted text from: https://frankfurt.de/service-und-rathaus/presse/texte-und-kampagnen/corona-geschichten/abteilungsleiterin-strassenverkehrsamt\n",
      "Extracted text from: https://frankfurt.de/service-und-rathaus/presse/texte-und-kampagnen/corona-geschichten/der-pfarrer\n",
      "Extracted text from: https://frankfurt.de/service-und-rathaus/presse/texte-und-kampagnen/corona-geschichten/das-amtsblatt-team\n",
      "Extracted text from: https://frankfurt.de/service-und-rathaus/presse/texte-und-kampagnen/corona-geschichten/katja-hartung\n",
      "Extracted text from: https://frankfurt.de/service-und-rathaus/presse/texte-und-kampagnen/corona-geschichten/magnus-welkerling\n",
      "Extracted text from: https://frankfurt.de/service-und-rathaus/presse/texte-und-kampagnen/corona-geschichten/frankfurter-tierschutzverein-fuer-katzen\n",
      "Extracted text from: https://frankfurt.de/service-und-rathaus/presse/texte-und-kampagnen/corona-geschichten/mona-ali-und-thekla-ahlrichs\n",
      "Extracted text from: https://frankfurt.de/service-und-rathaus/presse/texte-und-kampagnen/corona-geschichten/harald-seehausen-und-khalid-lamjahed\n",
      "Extracted text from: https://frankfurt.de/service-und-rathaus/presse/texte-und-kampagnen/corona-geschichten/helga-meyer\n",
      "Extracted text from: https://frankfurt.de/service-und-rathaus/presse/texte-und-kampagnen/corona-geschichten/frank-naujoks\n",
      "Extracted text from: https://frankfurt.de/service-und-rathaus/presse/texte-und-kampagnen/corona-geschichten/isabel-bergen\n",
      "Extracted text from: https://frankfurt.de/service-und-rathaus/presse/texte-und-kampagnen/corona-geschichten/michael-holy\n",
      "Extracted text from: https://frankfurt.de/service-und-rathaus/presse/texte-und-kampagnen/corona-geschichten/sabrina-linn\n",
      "Extracted text from: https://frankfurt.de/service-und-rathaus/presse/texte-und-kampagnen/corona-geschichten/christian-koehn\n",
      "Extracted text from: https://frankfurt.de/service-und-rathaus/presse/texte-und-kampagnen/corona-geschichten/max-bruedrl\n",
      "Done\n"
     ]
    }
   ],
   "source": [
    "# Extract texts from links\n",
    "\n",
    "docs = extract_texts_from_url_list(hrefs)"
   ]
  },
  {
   "cell_type": "code",
   "execution_count": 58,
   "id": "eba080fa",
   "metadata": {},
   "outputs": [
    {
     "name": "stdout",
     "output_type": "stream",
     "text": [
      "link: https://frankfurt.de/service-und-rathaus/presse/texte-und-kampagnen/corona-geschichten/die-kfz-zulassungsstelle\n",
      "\n",
      "title: Die KFZ-Zulassungsstelle\n",
      "\n",
      "headline: „Wir mussten uns immer wieder neu erfinden!“\n",
      "\n",
      "subline: In der neuesten Frankfurter Corona-Geschichte berichtet Kai Günther, wie Corona die Arbeit der Kfz-Zulassungsstelle verändert hat.\n",
      "\n",
      "intro_text: \n",
      "\n",
      "question_text: Herr Günther, lassen Sie uns auf die vergangenen zwölf Monate\n",
      "zurückblicken. Wie haben Sie diese erlebt?\n",
      "\n",
      "answer_text: Am 17. März 2020 kam der Shutdown. Das\n",
      "hieß, wir hatten komplett geschlossen und lediglich einen Notbetrieb für\n",
      "Privatkunden aufrechterhalten. Wem etwa sein Kennzeichen gestohlen wurde oder\n",
      "Fahrzeugpapiere verloren hatte, konnte sich auch in dieser Zeit an uns wenden.\n",
      "Klar war auch, dass systemrelevante Organisationen wie Rettungsdienste oder\n",
      "Katastrophenschutz ihre Fahrzeuge trotz Lockdown zulassen müssen. Ab Mitte\n",
      "April hatten wir angefangen, über Terminvergabe per E-Mail oder Telefon in\n",
      "kleinen Schritten wieder zu öffnen. Wichtig war, nur eine gewisse Anzahl an\n",
      "Menschen im Servicebereich zu haben, um Ansteckungsgefahr für Kunden und\n",
      "Beschäftigte auszuschließen.\n",
      "\n",
      "interviewee: Kai Günther\n",
      "\n"
     ]
    }
   ],
   "source": [
    "# Show example doc\n",
    "\n",
    "print_doc(docs[1])"
   ]
  }
 ],
 "metadata": {
  "kernelspec": {
   "display_name": "navigating-stories",
   "language": "python",
   "name": "navigating-stories"
  },
  "language_info": {
   "codemirror_mode": {
    "name": "ipython",
    "version": 3
   },
   "file_extension": ".py",
   "mimetype": "text/x-python",
   "name": "python",
   "nbconvert_exporter": "python",
   "pygments_lexer": "ipython3",
   "version": "3.9.7"
  }
 },
 "nbformat": 4,
 "nbformat_minor": 5
}
